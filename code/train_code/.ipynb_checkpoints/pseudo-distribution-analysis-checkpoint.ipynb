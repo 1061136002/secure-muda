{
 "cells": [
  {
   "cell_type": "code",
   "execution_count": 1,
   "metadata": {},
   "outputs": [],
   "source": [
    "import numpy as np\n",
    "\n",
    "import sys\n",
    "import os\n",
    "\n",
    "# sys.path.append(\"./code/train_code/\")\n",
    "\n",
    "import config as config\n",
    "from config_populate import data_settings\n",
    "import exp_select as exp_select\n",
    "\n",
    "import importlib\n",
    "\n",
    "from trainer import MultiSourceTrainer"
   ]
  },
  {
   "cell_type": "code",
   "execution_count": 2,
   "metadata": {},
   "outputs": [],
   "source": [
    "def change_config(dataset, task, exp_id):\n",
    "    config.dataset_name = dataset\n",
    "    config.data_key = task\n",
    "    \n",
    "    config.settings['dataset_dir']                 = os.path.join('data', 'pretrained-features', config.dataset_name)\n",
    "    \n",
    "    config.settings['C']                           = data_settings[config.dataset_name][config.data_key]['C']\n",
    "    config.settings['C_dash']                      = data_settings[config.dataset_name][config.data_key]['C_dash']\n",
    "    config.settings['num_C_dash']                  = data_settings[config.dataset_name][config.data_key]['num_C_dash']\n",
    "\n",
    "    config.settings['num_C']                       = data_settings[config.dataset_name][config.data_key]['num_C']\n",
    "    config.settings['src_datasets']                = data_settings[config.dataset_name][config.data_key]['src_datasets']\n",
    "    config.settings['trgt_datasets']               = data_settings[config.dataset_name][config.data_key]['trgt_datasets']\n",
    "    \n",
    "    config.settings['log_interval']                = config.settings['expt_dict'][config.dataset_name][config.data_key]['val_after']\n",
    "    config.settings['start_iter']                  = 0\n",
    "    config.settings['max_iter']                    = config.settings['expt_dict'][config.dataset_name][config.data_key]['max_iter']\n",
    "    config.settings['enough_iter']                 = config.settings['expt_dict'][config.dataset_name][config.data_key]['enough_iter']\n",
    "    config.settings['val_after']                   = config.settings['expt_dict'][config.dataset_name][config.data_key]['val_after']\n",
    "    config.settings['batch_size']                  = config.settings['expt_dict'][config.dataset_name][config.data_key]['batch_size']\n",
    "    config.settings['adapt_batch_size']            = config.settings['expt_dict'][config.dataset_name][config.data_key]['adapt_batch_size']\n",
    "    config.settings['val_batch_size_factor']       = config.settings['expt_dict'][config.dataset_name][config.data_key]['val_batch_size_factor']\n",
    "    \n",
    "    exp_select.exp_id = exp_id\n",
    "    config.settings['exp_name']                    = config.gen_exp_name()"
   ]
  },
  {
   "cell_type": "code",
   "execution_count": 3,
   "metadata": {},
   "outputs": [],
   "source": [
    "thresh = [0, .2, .4, .6, .8, 1.01]"
   ]
  },
  {
   "cell_type": "code",
   "execution_count": 4,
   "metadata": {},
   "outputs": [
    {
     "name": "stdout",
     "output_type": "stream",
     "text": [
      "office-31\n",
      "AD_W\n",
      "office-31\n",
      "AD_W\n",
      "dict_keys(['AD_W', 'DW_A', 'AW_D'])\n",
      "expt_resnet50_office-31_AD_W_0\n",
      "Loading trainer for source domain amazon\n"
     ]
    },
    {
     "name": "stderr",
     "output_type": "stream",
     "text": [
      "webcam: 100%|██████████| 3/3 [00:00<00:00, 19.27it/s]\n"
     ]
    },
    {
     "name": "stdout",
     "output_type": "stream",
     "text": [
      "Source-only accuracy is 0.7153652392947103\n",
      "y__hat counts [29 21 25 10 15 17 39 29 34 23 27 35 27 70  4 18 28 22 14 41 25 22 19 33\n",
      " 11  9 34 27 20 36 30]\n",
      "y_true counts [28 21 28 12 16 31 40 18 21 19 27 27 30 19 30 43 30 27 28 32 16 20 30 27\n",
      " 40 11 25 30 24 23 21]\n",
      "Loading trainer for source domain dslr\n"
     ]
    },
    {
     "name": "stderr",
     "output_type": "stream",
     "text": [
      "webcam: 100%|██████████| 3/3 [00:00<00:00, 21.48it/s]\n"
     ]
    },
    {
     "name": "stdout",
     "output_type": "stream",
     "text": [
      "Source-only accuracy is 0.9622166246851386\n",
      "y__hat counts [28 21 28 12 16 28 39 18 21 19 27 27 31 19 31 44 29 27 24 33 16 16 29 20\n",
      " 40 10 26 32 36 23 24]\n",
      "y_true counts [28 21 28 12 16 31 40 18 21 19 27 27 30 19 30 43 30 27 28 32 16 20 30 27\n",
      " 40 11 25 30 24 23 21]\n",
      "DW_A\n",
      "office-31\n",
      "DW_A\n",
      "dict_keys(['AD_W', 'DW_A', 'AW_D'])\n",
      "expt_resnet50_office-31_DW_A_0\n",
      "Loading trainer for source domain dslr\n"
     ]
    },
    {
     "name": "stderr",
     "output_type": "stream",
     "text": [
      "amazon: 100%|██████████| 9/9 [00:00<00:00, 49.30it/s]\n"
     ]
    },
    {
     "name": "stdout",
     "output_type": "stream",
     "text": [
      "Source-only accuracy is 0.6214488636363636\n",
      "y__hat counts [ 89  79  96  65  33 105 100 121  21  71  87 105 149 109 360 105  95  78\n",
      "  31  71  51  84  86  63 170  43  53 196  28  48  24]\n",
      "y_true counts [ 91  82  72  82  36  94  91  97  97  81  99 100 100  98 100  99 100  94\n",
      "  96  95  93 100  98  98  90  75 100  99  99  96  64]\n",
      "Loading trainer for source domain webcam\n"
     ]
    },
    {
     "name": "stderr",
     "output_type": "stream",
     "text": [
      "amazon: 100%|██████████| 9/9 [00:00<00:00, 58.11it/s]\n"
     ]
    },
    {
     "name": "stdout",
     "output_type": "stream",
     "text": [
      "Source-only accuracy is 0.6455965909090909\n",
      "y__hat counts [ 63  80  96  78  29 139  83  90  30  56  91 104 124 100 167 137 178  90\n",
      " 121  81  52 100  96 134  83  57  49 172  24  88  24]\n",
      "y_true counts [ 91  82  72  82  36  94  91  97  97  81  99 100 100  98 100  99 100  94\n",
      "  96  95  93 100  98  98  90  75 100  99  99  96  64]\n",
      "AW_D\n",
      "office-31\n",
      "AW_D\n",
      "dict_keys(['AD_W', 'DW_A', 'AW_D'])\n",
      "expt_resnet50_office-31_AW_D_0\n",
      "Loading trainer for source domain amazon\n"
     ]
    },
    {
     "name": "stderr",
     "output_type": "stream",
     "text": [
      "dslr: 100%|██████████| 2/2 [00:00<00:00, 14.83it/s]\n"
     ]
    },
    {
     "name": "stdout",
     "output_type": "stream",
     "text": [
      "Source-only accuracy is 0.7847082494969819\n",
      "y__hat counts [11 21 21  6 17 12 14 17 17 16 13 14 20 38  9 13 16  8  7 14 16 15 27 29\n",
      "  6  5 24 33 12 12 14]\n",
      "y_true counts [11 21 24 12 16 12 13 14 15 15 13 10 24 16 31 22 12  8 10 10 13 15 23 18\n",
      " 10  7 18 26 21 22 15]\n",
      "Loading trainer for source domain webcam\n"
     ]
    },
    {
     "name": "stderr",
     "output_type": "stream",
     "text": [
      "dslr: 100%|██████████| 2/2 [00:00<00:00, 15.19it/s]\n"
     ]
    },
    {
     "name": "stdout",
     "output_type": "stream",
     "text": [
      "Source-only accuracy is 0.9919517102615694\n",
      "y__hat counts [11 21 24 12 16 12 13 14 15 15 13 10 24 16 31 22 12  8 10 10 13 15 23 21\n",
      " 10  7 18 26 17 23 15]\n",
      "y_true counts [11 21 24 12 16 12 13 14 15 15 13 10 24 16 31 22 12  8 10 10 13 15 23 18\n",
      " 10  7 18 26 21 22 15]\n",
      "image-clef\n",
      "PC_I\n",
      "image-clef\n",
      "PC_I\n",
      "dict_keys(['PC_I', 'IC_P', 'IP_C'])\n",
      "expt_resnet50_image-clef_PC_I_0\n",
      "Loading trainer for source domain caltech\n"
     ]
    },
    {
     "name": "stderr",
     "output_type": "stream",
     "text": [
      "imagenet: 100%|██████████| 2/2 [00:00<00:00, 14.66it/s]\n"
     ]
    },
    {
     "name": "stdout",
     "output_type": "stream",
     "text": [
      "Source-only accuracy is 0.8514190317195326\n",
      "y__hat counts [43 53 51 65 48 54 26 48 53 48 40 70]\n",
      "y_true counts [49 50 50 50 50 50 50 50 50 50 50 50]\n",
      "Loading trainer for source domain pascal\n"
     ]
    },
    {
     "name": "stderr",
     "output_type": "stream",
     "text": [
      "imagenet: 100%|██████████| 2/2 [00:00<00:00, 16.37it/s]\n"
     ]
    },
    {
     "name": "stdout",
     "output_type": "stream",
     "text": [
      "Source-only accuracy is 0.8747913188647746\n",
      "y__hat counts [47 39 49 51 50 51 47 48 50 49 56 62]\n",
      "y_true counts [49 50 50 50 50 50 50 50 50 50 50 50]\n",
      "IC_P\n",
      "image-clef\n",
      "IC_P\n",
      "dict_keys(['PC_I', 'IC_P', 'IP_C'])\n",
      "expt_resnet50_image-clef_IC_P_0\n",
      "Loading trainer for source domain caltech\n"
     ]
    },
    {
     "name": "stderr",
     "output_type": "stream",
     "text": [
      "pascal: 100%|██████████| 2/2 [00:00<00:00, 15.21it/s]\n"
     ]
    },
    {
     "name": "stdout",
     "output_type": "stream",
     "text": [
      "Source-only accuracy is 0.7061769616026711\n",
      "y__hat counts [ 46  66  34  65  14  64  21  56  61  37  34 101]\n",
      "y_true counts [49 50 50 50 50 50 50 50 50 50 50 50]\n",
      "Loading trainer for source domain imagenet\n"
     ]
    },
    {
     "name": "stderr",
     "output_type": "stream",
     "text": [
      "pascal: 100%|██████████| 2/2 [00:00<00:00, 15.04it/s]\n"
     ]
    },
    {
     "name": "stdout",
     "output_type": "stream",
     "text": [
      "Source-only accuracy is 0.7646076794657763\n",
      "y__hat counts [55 65 43 50 18 62 29 58 59 43 51 66]\n",
      "y_true counts [49 50 50 50 50 50 50 50 50 50 50 50]\n",
      "IP_C\n",
      "image-clef\n",
      "IP_C\n",
      "dict_keys(['PC_I', 'IC_P', 'IP_C'])\n",
      "expt_resnet50_image-clef_IP_C_0\n",
      "Loading trainer for source domain imagenet\n"
     ]
    },
    {
     "name": "stderr",
     "output_type": "stream",
     "text": [
      "caltech: 100%|██████████| 2/2 [00:00<00:00, 15.21it/s]\n"
     ]
    },
    {
     "name": "stdout",
     "output_type": "stream",
     "text": [
      "Source-only accuracy is 0.9232053422370617\n",
      "y__hat counts [55 54 52 42 48 48 55 55 42 56 53 39]\n",
      "y_true counts [49 50 50 50 50 50 50 50 50 50 50 50]\n",
      "Loading trainer for source domain pascal\n"
     ]
    },
    {
     "name": "stderr",
     "output_type": "stream",
     "text": [
      "caltech: 100%|██████████| 2/2 [00:00<00:00, 15.52it/s]\n"
     ]
    },
    {
     "name": "stdout",
     "output_type": "stream",
     "text": [
      "Source-only accuracy is 0.9065108514190318\n",
      "y__hat counts [51 50 48 41 57 59 48 50 49 53 53 40]\n",
      "y_true counts [49 50 50 50 50 50 50 50 50 50 50 50]\n",
      "office-caltech\n",
      "ACD_W\n",
      "office-caltech\n",
      "ACD_W\n",
      "dict_keys(['ACD_W', 'ADW_C', 'ACW_D', 'CDW_A'])\n",
      "expt_resnet50_office-caltech_ACD_W_0\n",
      "Loading trainer for source domain amazon\n"
     ]
    },
    {
     "name": "stderr",
     "output_type": "stream",
     "text": [
      "webcam: 100%|██████████| 2/2 [00:00<00:00, 16.17it/s]\n"
     ]
    },
    {
     "name": "stdout",
     "output_type": "stream",
     "text": [
      "Source-only accuracy is 0.8843537414965986\n",
      "y__hat counts [31 21 13 28 44 30 38 34 27 28]\n",
      "y_true counts [28 21 31 27 27 30 43 30 27 30]\n",
      "Loading trainer for source domain caltech\n"
     ]
    },
    {
     "name": "stderr",
     "output_type": "stream",
     "text": [
      "webcam: 100%|██████████| 2/2 [00:00<00:00, 15.94it/s]\n"
     ]
    },
    {
     "name": "stdout",
     "output_type": "stream",
     "text": [
      "Source-only accuracy is 0.9183673469387755\n",
      "y__hat counts [28 21 30 29 37 29 35 31 27 27]\n",
      "y_true counts [28 21 31 27 27 30 43 30 27 30]\n",
      "Loading trainer for source domain dslr\n"
     ]
    },
    {
     "name": "stderr",
     "output_type": "stream",
     "text": [
      "webcam: 100%|██████████| 2/2 [00:00<00:00, 15.86it/s]\n"
     ]
    },
    {
     "name": "stdout",
     "output_type": "stream",
     "text": [
      "Source-only accuracy is 0.9761904761904762\n",
      "y__hat counts [29 21 31 27 24 34 43 28 27 30]\n",
      "y_true counts [28 21 31 27 27 30 43 30 27 30]\n",
      "ADW_C\n",
      "office-caltech\n",
      "ADW_C\n",
      "dict_keys(['ACD_W', 'ADW_C', 'ACW_D', 'CDW_A'])\n",
      "expt_resnet50_office-caltech_ADW_C_0\n",
      "Loading trainer for source domain amazon\n"
     ]
    },
    {
     "name": "stderr",
     "output_type": "stream",
     "text": [
      "caltech: 100%|██████████| 8/8 [00:00<00:00, 59.26it/s]\n"
     ]
    },
    {
     "name": "stdout",
     "output_type": "stream",
     "text": [
      "Source-only accuracy is 0.8859180035650623\n",
      "y__hat counts [150 106 113 133  73  99 163 101  89  95]\n",
      "y_true counts [150 110 100 138  85 128 133  94  87  97]\n",
      "Loading trainer for source domain dslr\n"
     ]
    },
    {
     "name": "stderr",
     "output_type": "stream",
     "text": [
      "caltech: 100%|██████████| 8/8 [00:00<00:00, 57.55it/s]\n"
     ]
    },
    {
     "name": "stdout",
     "output_type": "stream",
     "text": [
      "Source-only accuracy is 0.8377896613190731\n",
      "y__hat counts [170 109 118 149  54 131 130  86  84  91]\n",
      "y_true counts [150 110 100 138  85 128 133  94  87  97]\n",
      "Loading trainer for source domain webcam\n"
     ]
    },
    {
     "name": "stderr",
     "output_type": "stream",
     "text": [
      "caltech: 100%|██████████| 8/8 [00:00<00:00, 60.03it/s]\n"
     ]
    },
    {
     "name": "stdout",
     "output_type": "stream",
     "text": [
      "Source-only accuracy is 0.8618538324420677\n",
      "y__hat counts [148 109 110 104  83 170 112 118  82  86]\n",
      "y_true counts [150 110 100 138  85 128 133  94  87  97]\n",
      "ACW_D\n",
      "office-caltech\n",
      "ACW_D\n",
      "dict_keys(['ACD_W', 'ADW_C', 'ACW_D', 'CDW_A'])\n",
      "expt_resnet50_office-caltech_ACW_D_0\n",
      "Loading trainer for source domain amazon\n"
     ]
    },
    {
     "name": "stderr",
     "output_type": "stream",
     "text": [
      "dslr: 100%|██████████| 1/1 [00:00<00:00,  8.18it/s]\n"
     ]
    },
    {
     "name": "stdout",
     "output_type": "stream",
     "text": [
      "Source-only accuracy is 0.9551282051282052\n",
      "y__hat counts [11 21 11 13 11 20 26 12  8 23]\n",
      "y_true counts [11 21 12 13 10 24 22 12  8 23]\n",
      "Loading trainer for source domain caltech\n"
     ]
    },
    {
     "name": "stderr",
     "output_type": "stream",
     "text": [
      "dslr: 100%|██████████| 1/1 [00:00<00:00,  7.48it/s]\n"
     ]
    },
    {
     "name": "stdout",
     "output_type": "stream",
     "text": [
      "Source-only accuracy is 0.9294871794871795\n",
      "y__hat counts [13 21 10 13 17 19 19 12  8 24]\n",
      "y_true counts [11 21 12 13 10 24 22 12  8 23]\n",
      "Loading trainer for source domain webcam\n"
     ]
    },
    {
     "name": "stderr",
     "output_type": "stream",
     "text": [
      "dslr: 100%|██████████| 1/1 [00:00<00:00,  7.18it/s]\n"
     ]
    },
    {
     "name": "stdout",
     "output_type": "stream",
     "text": [
      "Source-only accuracy is 1.0\n",
      "y__hat counts [11 21 12 13 10 24 22 12  8 23]\n",
      "y_true counts [11 21 12 13 10 24 22 12  8 23]\n",
      "CDW_A\n",
      "office-caltech\n",
      "CDW_A\n",
      "dict_keys(['ACD_W', 'ADW_C', 'ACW_D', 'CDW_A'])\n",
      "expt_resnet50_office-caltech_CDW_A_0\n",
      "Loading trainer for source domain caltech\n"
     ]
    },
    {
     "name": "stderr",
     "output_type": "stream",
     "text": [
      "amazon: 100%|██████████| 6/6 [00:00<00:00, 44.61it/s]\n"
     ]
    },
    {
     "name": "stdout",
     "output_type": "stream",
     "text": [
      "Source-only accuracy is 0.9519331243469175\n",
      "y__hat counts [ 91  80  96 108  94  96 106  95  90 101]\n",
      "y_true counts [ 91  82  94  99 100 100  99 100  94  98]\n",
      "Loading trainer for source domain dslr\n"
     ]
    },
    {
     "name": "stderr",
     "output_type": "stream",
     "text": [
      "amazon: 100%|██████████| 6/6 [00:00<00:00, 45.18it/s]\n"
     ]
    },
    {
     "name": "stdout",
     "output_type": "stream",
     "text": [
      "Source-only accuracy is 0.9007314524555904\n",
      "y__hat counts [ 93  87 121  95  66 121  90 102  89  93]\n",
      "y_true counts [ 91  82  94  99 100 100  99 100  94  98]\n",
      "Loading trainer for source domain webcam\n"
     ]
    },
    {
     "name": "stderr",
     "output_type": "stream",
     "text": [
      "amazon: 100%|██████████| 6/6 [00:00<00:00, 44.76it/s]\n"
     ]
    },
    {
     "name": "stdout",
     "output_type": "stream",
     "text": [
      "Source-only accuracy is 0.910135841170324\n",
      "y__hat counts [ 85  79 120  87  69 114 108 106  90  99]\n",
      "y_true counts [ 91  82  94  99 100 100  99 100  94  98]\n",
      "office-home\n",
      "ACP_R\n",
      "office-home\n",
      "ACP_R\n",
      "dict_keys(['ACP_R', 'ACR_P', 'APR_C', 'CPR_A'])\n",
      "expt_resnet50_office-home_ACP_R_0\n",
      "Loading trainer for source domain Art\n"
     ]
    },
    {
     "name": "stderr",
     "output_type": "stream",
     "text": [
      "Real World: 100%|██████████| 2/2 [00:00<00:00,  8.61it/s]\n"
     ]
    },
    {
     "name": "stdout",
     "output_type": "stream",
     "text": [
      "Source-only accuracy is 0.7603305785123967\n",
      "y__hat counts [ 79 104  90  88 101  75 101 108  80  97 110  52  69  78  64  65  40  40\n",
      "  92  58  58  82  82  62  21  59  72  63  57  59  90  66 123  29  93  28\n",
      "  62  69  50  55  35  55  68  58  44  71  48  75 100  41  77  60  49  68\n",
      "  92  95  43  68  25  45  58  81  20  66  43]\n",
      "y_true counts [85 99 64 83 99 78 80 73 68 99 96 65 64 76 73 62 51 43 81 60 58 85 75 57\n",
      " 36 60 52 60 72 75 83 78 67 23 71 46 60 58 68 64 30 68 65 59 67 52 53 66\n",
      " 75 41 77 51 66 77 88 63 81 54 53 59 82 85 67 81 49]\n",
      "Loading trainer for source domain Clipart\n"
     ]
    },
    {
     "name": "stderr",
     "output_type": "stream",
     "text": [
      "Real World: 100%|██████████| 2/2 [00:00<00:00,  9.56it/s]\n"
     ]
    },
    {
     "name": "stdout",
     "output_type": "stream",
     "text": [
      "Source-only accuracy is 0.6593204775022957\n",
      "y__hat counts [ 72  80  36  69 109  82  94  52  95  97  85  14  66  95  70  49  41  19\n",
      "  60  55  44  59 104  53  59  48  80  82  55 119  78  55  71   7  50  28\n",
      "  50  66  95  78  41  32  89 126  58  57  19  85  43  50  80  63 140  96\n",
      "  85  99  65  56  55 132  86  12  54  67  45]\n",
      "y_true counts [85 99 64 83 99 78 80 73 68 99 96 65 64 76 73 62 51 43 81 60 58 85 75 57\n",
      " 36 60 52 60 72 75 83 78 67 23 71 46 60 58 68 64 30 68 65 59 67 52 53 66\n",
      " 75 41 77 51 66 77 88 63 81 54 53 59 82 85 67 81 49]\n",
      "Loading trainer for source domain Product\n"
     ]
    },
    {
     "name": "stderr",
     "output_type": "stream",
     "text": [
      "Real World: 100%|██████████| 2/2 [00:00<00:00,  8.00it/s]\n"
     ]
    },
    {
     "name": "stdout",
     "output_type": "stream",
     "text": [
      "Source-only accuracy is 0.7392102846648301\n",
      "y__hat counts [ 83 103  43 104  96  54  69  83  91 118  82  44 105  55  91 102  33  37\n",
      "  85  35  92  89  87 101  42  55  54  62  62  88  89  63  61  30  34  49\n",
      "  60  61  57  58  37  58 119  56   9  52  64  59  73  39  84  45  63  76\n",
      "  89 104  88  54  49  45  69  36  71  63  47]\n",
      "y_true counts [85 99 64 83 99 78 80 73 68 99 96 65 64 76 73 62 51 43 81 60 58 85 75 57\n",
      " 36 60 52 60 72 75 83 78 67 23 71 46 60 58 68 64 30 68 65 59 67 52 53 66\n",
      " 75 41 77 51 66 77 88 63 81 54 53 59 82 85 67 81 49]\n",
      "ACR_P\n",
      "office-home\n",
      "ACR_P\n",
      "dict_keys(['ACP_R', 'ACR_P', 'APR_C', 'CPR_A'])\n",
      "expt_resnet50_office-home_ACR_P_0\n",
      "Loading trainer for source domain Art\n"
     ]
    },
    {
     "name": "stderr",
     "output_type": "stream",
     "text": [
      "Product: 100%|██████████| 2/2 [00:00<00:00,  6.95it/s]\n"
     ]
    },
    {
     "name": "stdout",
     "output_type": "stream",
     "text": [
      "Source-only accuracy is 0.6980621901757549\n",
      "y__hat counts [ 73 111 113  32  45  48  73 155  80  35  79  38  32 122  62  55  73  14\n",
      "  69  53  95  95  87 137  51  65  93  67  67  78  49  48 149  63 156  38\n",
      " 131  47  98  72  64  47  48  43  25 112  28  40  85  57  65  50  35  47\n",
      "  92  61  42  42   5  69  13  98   7 113 102]\n",
      "y_true counts [78 99 62 43 44 62 47 81 81 56 99 65 96 88 75 83 67 41 67 58 71 99 91 90\n",
      " 41 67 57 90 72 99 41 54 99 56 98 72 96 41 93 68 70 47 60 40 38 99 43 43\n",
      " 59 58 99 40 49 46 99 43 99 47 76 60 58 42 45 93 98]\n",
      "Loading trainer for source domain Clipart\n"
     ]
    },
    {
     "name": "stderr",
     "output_type": "stream",
     "text": [
      "Product: 100%|██████████| 2/2 [00:00<00:00,  8.82it/s]\n"
     ]
    },
    {
     "name": "stdout",
     "output_type": "stream",
     "text": [
      "Source-only accuracy is 0.64398377647589\n",
      "y__hat counts [ 63 100  59  29  51  76  55  66 138  31 107  16  90 110  63  42  80  12\n",
      "  50  50  73  26 108  87  47  60  67 123  72 141  29  30  73  10  92  48\n",
      "  89  49  96  85  72  27  92 114  79  75  12  69  52  60  80  62  95  68\n",
      "  93  80  63  45  88  81  87  15  62  95  79]\n",
      "y_true counts [78 99 62 43 44 62 47 81 81 56 99 65 96 88 75 83 67 41 67 58 71 99 91 90\n",
      " 41 67 57 90 72 99 41 54 99 56 98 72 96 41 93 68 70 47 60 40 38 99 43 43\n",
      " 59 58 99 40 49 46 99 43 99 47 76 60 58 42 45 93 98]\n",
      "Loading trainer for source domain Real World\n"
     ]
    },
    {
     "name": "stderr",
     "output_type": "stream",
     "text": [
      "Product: 100%|██████████| 2/2 [00:00<00:00,  9.74it/s]\n"
     ]
    },
    {
     "name": "stdout",
     "output_type": "stream",
     "text": [
      "Source-only accuracy is 0.7850383055430374\n",
      "y__hat counts [ 77 123  90  41  46  29  62 106  83  36 105  41  34  89  75  81  75  16\n",
      "  64  49  71  93  69 111  42  65  52  94 111 102  34  54  86  45 122  69\n",
      "  95  35  95  79  48  62  63  35  72 101  18  36  61  53  84  39  41  48\n",
      "  89  42 167  42  54  62  29  83  57 101 105]\n",
      "y_true counts [78 99 62 43 44 62 47 81 81 56 99 65 96 88 75 83 67 41 67 58 71 99 91 90\n",
      " 41 67 57 90 72 99 41 54 99 56 98 72 96 41 93 68 70 47 60 40 38 99 43 43\n",
      " 59 58 99 40 49 46 99 43 99 47 76 60 58 42 45 93 98]\n",
      "APR_C\n",
      "office-home\n",
      "APR_C\n",
      "dict_keys(['ACP_R', 'ACR_P', 'APR_C', 'CPR_A'])\n",
      "expt_resnet50_office-home_APR_C_0\n",
      "Loading trainer for source domain Art\n"
     ]
    },
    {
     "name": "stderr",
     "output_type": "stream",
     "text": [
      "Clipart: 100%|██████████| 2/2 [00:00<00:00,  9.59it/s]\n"
     ]
    },
    {
     "name": "stdout",
     "output_type": "stream",
     "text": [
      "Source-only accuracy is 0.49587534372135655\n",
      "y__hat counts [ 54  28  56  44  91  44 119 113  37  45  84  58  77  66  50  45  40  64\n",
      " 161  69  56  32  64 270  64  67 136  25  81  65  96  68 148  18 160  27\n",
      "  89  78  31  34  72  73  29  64  22  84  49  46  40  53 112  58  20  16\n",
      "  46  61  87  28  54  98  29 142  22  86  19]\n",
      "y_true counts [59 56 64 98 99 99 73 46 78 99 99 40 99 64 42 41 48 40 41 50 40 40 99 99\n",
      " 61 52 99 69 40 99 53 40 99 71 99 40 76 99 83 40 51 40 99 99 41 87 40 46\n",
      " 40 67 99 75 42 42 43 61 90 60 99 80 99 39 99 53 40]\n",
      "Loading trainer for source domain Real World\n"
     ]
    },
    {
     "name": "stderr",
     "output_type": "stream",
     "text": [
      "Clipart: 100%|██████████| 2/2 [00:00<00:00,  9.54it/s]\n"
     ]
    },
    {
     "name": "stdout",
     "output_type": "stream",
     "text": [
      "Source-only accuracy is 0.49450045829514205\n",
      "y__hat counts [ 60  22  24  37  78  56  79  68  57  42 138  18 116  30  40  70  37  22\n",
      "  88  55  57  68  38 699 101 130  75  52  49  55  67  95  48  78 121  28\n",
      "  82  69 100  33  27 148  47  36  69  73  39  22  21  51 101  25  29  20\n",
      "  21  12  70  22  41  70  19  70  66  45  38]\n",
      "y_true counts [59 56 64 98 99 99 73 46 78 99 99 40 99 64 42 41 48 40 41 50 40 40 99 99\n",
      " 61 52 99 69 40 99 53 40 99 71 99 40 76 99 83 40 51 40 99 99 41 87 40 46\n",
      " 40 67 99 75 42 42 43 61 90 60 99 80 99 39 99 53 40]\n",
      "Loading trainer for source domain Product\n"
     ]
    },
    {
     "name": "stderr",
     "output_type": "stream",
     "text": [
      "Clipart: 100%|██████████| 2/2 [00:00<00:00,  6.85it/s]\n"
     ]
    },
    {
     "name": "stdout",
     "output_type": "stream",
     "text": [
      "Source-only accuracy is 0.4342346471127406\n",
      "y__hat counts [ 58  25  23  20  65  67  48  71 111  52 102  46  78  18  46 176  24  51\n",
      " 332  38  60  48  60 272  95  77  66 109  27  52 109  41  97  31 131  29\n",
      "  82  77 188  14  53  89  71  36  19  38  24  28  31  51 138  40  87  16\n",
      "  23  21  70  50  45  61  21   5 116  74  41]\n",
      "y_true counts [59 56 64 98 99 99 73 46 78 99 99 40 99 64 42 41 48 40 41 50 40 40 99 99\n",
      " 61 52 99 69 40 99 53 40 99 71 99 40 76 99 83 40 51 40 99 99 41 87 40 46\n",
      " 40 67 99 75 42 42 43 61 90 60 99 80 99 39 99 53 40]\n",
      "CPR_A\n",
      "office-home\n",
      "CPR_A\n",
      "dict_keys(['ACP_R', 'ACR_P', 'APR_C', 'CPR_A'])\n",
      "expt_resnet50_office-home_CPR_A_0\n",
      "Loading trainer for source domain Real World\n"
     ]
    },
    {
     "name": "stderr",
     "output_type": "stream",
     "text": [
      "Art: 100%|██████████| 1/1 [00:00<00:00,  5.36it/s]\n"
     ]
    },
    {
     "name": "stdout",
     "output_type": "stream",
     "text": [
      "Source-only accuracy is 0.6417971970321517\n",
      "y__hat counts [ 65  32  22  54  74  71  46  30  24  80  51  72  28  54  40  21  16  14\n",
      "  26  46  23  71  80  35  33  42   7  70  44  21  65  53  38   1  21  23\n",
      "  14  48  30  22  15  47  17  19  29  10  35  35  26  14  11  27  36  38\n",
      "  38  21  16  49  36  13  38  61 137  25  26]\n",
      "y_true counts [73 41 27 40 75 99 40 33 20 76 69 25 44 40 40 23 15 18 21 45 22 46 90 20\n",
      " 46 40 40 79 46 18 72 49 51 20 42 32 18 49 21 20 19 19 20 26 19 18 24 47\n",
      " 49 15 20 30 42 41 46 40 20 46 40 16 44 43 20 21 16]\n",
      "Loading trainer for source domain Clipart\n"
     ]
    },
    {
     "name": "stderr",
     "output_type": "stream",
     "text": [
      "Art: 100%|██████████| 1/1 [00:00<00:00,  5.26it/s]\n"
     ]
    },
    {
     "name": "stdout",
     "output_type": "stream",
     "text": [
      "Source-only accuracy is 0.5309150865622424\n",
      "y__hat counts [ 62  23  26  54  91  66  36  19  33  86  51  12  37  51  41  43  22   9\n",
      "  15  29  21  27 111  33  35  39  27  39  59  35  56  37  33   3  18  23\n",
      "  15  47  22  15   9   4  47  38  33   9  14  54  23  24  17  27  95  73\n",
      "  29  38  37  49  51  44  51  19  99  20  21]\n",
      "y_true counts [73 41 27 40 75 99 40 33 20 76 69 25 44 40 40 23 15 18 21 45 22 46 90 20\n",
      " 46 40 40 79 46 18 72 49 51 20 42 32 18 49 21 20 19 19 20 26 19 18 24 47\n",
      " 49 15 20 30 42 41 46 40 20 46 40 16 44 43 20 21 16]\n",
      "Loading trainer for source domain Product\n"
     ]
    },
    {
     "name": "stderr",
     "output_type": "stream",
     "text": [
      "Art: 100%|██████████| 1/1 [00:00<00:00,  5.53it/s]\n"
     ]
    },
    {
     "name": "stdout",
     "output_type": "stream",
     "text": [
      "Source-only accuracy is 0.5255564715581204\n",
      "y__hat counts [ 63  90  12  38  57  66  25  28  36 103  55  22  79  28  77  70  14   5\n",
      "  34  12  37  65 124  62  39  23  11  54  35  23  75  22  15  11  10  24\n",
      "  20  52  32   9  10  36  52  30   5  11  60  31  27  13  36  27  35  22\n",
      "  32  37  30  52  35  11  22  14 100  24  17]\n",
      "y_true counts [73 41 27 40 75 99 40 33 20 76 69 25 44 40 40 23 15 18 21 45 22 46 90 20\n",
      " 46 40 40 79 46 18 72 49 51 20 42 32 18 49 21 20 19 19 20 26 19 18 24 47\n",
      " 49 15 20 30 42 41 46 40 20 46 40 16 44 43 20 21 16]\n"
     ]
    }
   ],
   "source": [
    "res_store = []\n",
    "\n",
    "for dataset in ['office-31', 'image-clef', 'office-caltech', 'office-home']:\n",
    "    tasks = config.settings['expt_dict'][dataset].keys()\n",
    "    \n",
    "    print(dataset)\n",
    "    \n",
    "    for task in tasks:\n",
    "        print(task)\n",
    "\n",
    "        change_config(dataset, task, 0)\n",
    "\n",
    "        print(config.dataset_name)\n",
    "        print(config.data_key)\n",
    "        print(config.settings['expt_dict'][dataset].keys())\n",
    "        print(config.settings['exp_name'])\n",
    "\n",
    "        for src_domain_idx in range(len(config.settings['expt_dict'][dataset]) - 1):\n",
    "            count = np.zeros(len(thresh) - 1)\n",
    "            correct = np.zeros(len(thresh) - 1)\n",
    "            \n",
    "            trainer_S = MultiSourceTrainer(src_domain_idx)\n",
    "            _, conf, all_labels_tar = trainer_S.get_target_pseudo_distribution(it_thresh='enough_iter')\n",
    "\n",
    "            vals = np.max(conf, axis=1)\n",
    "            pos = np.argmax(conf, axis=1)\n",
    "\n",
    "            for i in range(len(thresh) - 1):\n",
    "                ind = np.logical_and(thresh[i] <= vals, vals < thresh[i+1])\n",
    "                count[i] += np.sum(ind)\n",
    "                correct[i] += np.sum(pos[ind] == all_labels_tar[ind])\n",
    "\n",
    "            use_uni = 0\n",
    "            if np.sum(np.max(conf, axis=-1) > trainer_S.settings['confidence_thresh']) / conf.shape[0] < trainer_S.settings['confidence_ratio']:\n",
    "                use_uni = 1\n",
    "\n",
    "#             print(\"Overall acc = {}\".format(np.sum(correct) / np.sum(count)))\n",
    "\n",
    "            res = np.zeros(len(count))\n",
    "            for i in range(len(thresh) - 1):\n",
    "                if count[i] != 0:\n",
    "                    res[i] = correct[i] / count[i]\n",
    "                else:\n",
    "                    res[i] = 0\n",
    "\n",
    "            curr = [dataset, trainer_S.src_domain, trainer_S.trgt_domain]\n",
    "            curr.extend(res)\n",
    "            curr.append(np.sum(correct) / np.sum(count))\n",
    "            curr.append(np.sum(np.max(conf, axis=-1) > trainer_S.settings['confidence_thresh']) / conf.shape[0])\n",
    "            curr.append(use_uni)\n",
    "            res_store.append(curr[:])"
   ]
  },
  {
   "cell_type": "code",
   "execution_count": 5,
   "metadata": {},
   "outputs": [
    {
     "name": "stdout",
     "output_type": "stream",
     "text": [
      "office-31 &amazon &webcam &0.21 &0.34 &0.62 &0.72 &0.96 &0.72 &0.42 &1\\\\\n",
      "office-31 &dslr &webcam &0.43 &0.79 &0.89 &0.94 &0.99 &0.96 &0.72 &1\\\\\n",
      "office-31 &dslr &amazon &0.16 &0.43 &0.68 &0.84 &0.97 &0.62 &0.24 &1\\\\\n",
      "office-31 &webcam &amazon &0.16 &0.42 &0.59 &0.82 &0.97 &0.65 &0.32 &1\\\\\n",
      "office-31 &amazon &dslr &0.24 &0.34 &0.7 &0.88 &0.99 &0.78 &0.5 &1\\\\\n",
      "office-31 &webcam &dslr &0.0 &0.83 &0.94 &0.94 &1.0 &0.99 &0.89 &0\\\\\n",
      "image-clef &caltech &imagenet &0.0 &0.44 &0.63 &0.87 &0.99 &0.85 &0.53 &1\\\\\n",
      "image-clef &pascal &imagenet &0.4 &0.38 &0.77 &0.9 &0.99 &0.87 &0.57 &1\\\\\n",
      "image-clef &caltech &pascal &1.0 &0.4 &0.55 &0.75 &0.82 &0.71 &0.5 &1\\\\\n",
      "image-clef &imagenet &pascal &0.0 &0.39 &0.55 &0.69 &0.87 &0.76 &0.66 &1\\\\\n",
      "image-clef &imagenet &caltech &0.0 &0.32 &0.72 &0.86 &0.98 &0.92 &0.77 &1\\\\\n",
      "image-clef &pascal &caltech &0.5 &0.52 &0.79 &0.92 &0.99 &0.91 &0.57 &1\\\\\n",
      "office-caltech &amazon &webcam &0.0 &0.38 &0.71 &0.83 &0.94 &0.88 &0.73 &1\\\\\n",
      "office-caltech &caltech &webcam &0.0 &0.67 &0.52 &0.77 &0.99 &0.92 &0.8 &1\\\\\n",
      "office-caltech &dslr &webcam &0.0 &0.57 &0.8 &1.0 &1.0 &0.98 &0.78 &1\\\\\n",
      "office-caltech &amazon &caltech &0.0 &0.27 &0.62 &0.85 &0.98 &0.89 &0.73 &1\\\\\n",
      "office-caltech &dslr &caltech &0.1 &0.45 &0.73 &0.93 &1.0 &0.84 &0.43 &1\\\\\n",
      "office-caltech &webcam &caltech &0.0 &0.46 &0.7 &0.9 &0.98 &0.86 &0.5 &1\\\\\n",
      "office-caltech &amazon &dslr &0.0 &0.25 &0.8 &0.93 &1.0 &0.96 &0.78 &1\\\\\n",
      "office-caltech &caltech &dslr &0.0 &0.5 &0.62 &0.77 &0.98 &0.93 &0.84 &0\\\\\n",
      "office-caltech &webcam &dslr &0.0 &0.0 &0.0 &1.0 &1.0 &1.0 &0.94 &0\\\\\n",
      "office-caltech &caltech &amazon &0.0 &0.43 &0.5 &0.78 &0.98 &0.95 &0.92 &0\\\\\n",
      "office-caltech &dslr &amazon &0.33 &0.49 &0.76 &0.96 &0.99 &0.9 &0.54 &1\\\\\n",
      "office-caltech &webcam &amazon &1.0 &0.49 &0.66 &0.93 &0.99 &0.91 &0.63 &1\\\\\n",
      "office-home &Art &Real World &0.25 &0.51 &0.69 &0.8 &0.94 &0.76 &0.51 &1\\\\\n",
      "office-home &Clipart &Real World &0.27 &0.49 &0.66 &0.78 &0.93 &0.66 &0.32 &1\\\\\n",
      "office-home &Product &Real World &0.3 &0.49 &0.67 &0.8 &0.95 &0.74 &0.44 &1\\\\\n",
      "office-home &Art &Product &0.25 &0.51 &0.67 &0.81 &0.92 &0.7 &0.41 &1\\\\\n",
      "office-home &Clipart &Product &0.25 &0.48 &0.67 &0.78 &0.95 &0.64 &0.32 &1\\\\\n",
      "office-home &Real World &Product &0.32 &0.52 &0.68 &0.79 &0.96 &0.79 &0.51 &1\\\\\n",
      "office-home &Art &Clipart &0.19 &0.35 &0.55 &0.65 &0.86 &0.5 &0.26 &1\\\\\n",
      "office-home &Real World &Clipart &0.2 &0.34 &0.49 &0.69 &0.88 &0.49 &0.22 &1\\\\\n",
      "office-home &Product &Clipart &0.19 &0.33 &0.5 &0.67 &0.86 &0.43 &0.17 &1\\\\\n",
      "office-home &Real World &Art &0.26 &0.43 &0.65 &0.81 &0.95 &0.64 &0.31 &1\\\\\n",
      "office-home &Clipart &Art &0.22 &0.48 &0.65 &0.8 &0.93 &0.53 &0.19 &1\\\\\n",
      "office-home &Product &Art &0.21 &0.46 &0.6 &0.79 &0.92 &0.53 &0.19 &1\\\\\n"
     ]
    }
   ],
   "source": [
    "for el in res_store:\n",
    "    out = el[0]\n",
    "    for i in range(len(el) - 1):\n",
    "        try:\n",
    "            out += \" &{}\".format(el[i + 1].round(2))\n",
    "        except:\n",
    "            out += \" &{}\".format(el[i + 1])\n",
    "    out += \"\\\\\\\\\"\n",
    "    print(out)"
   ]
  },
  {
   "cell_type": "code",
   "execution_count": null,
   "metadata": {},
   "outputs": [],
   "source": []
  }
 ],
 "metadata": {
  "kernelspec": {
   "display_name": "Python 3",
   "language": "python",
   "name": "python3"
  },
  "language_info": {
   "codemirror_mode": {
    "name": "ipython",
    "version": 3
   },
   "file_extension": ".py",
   "mimetype": "text/x-python",
   "name": "python",
   "nbconvert_exporter": "python",
   "pygments_lexer": "ipython3",
   "version": "3.8.5"
  }
 },
 "nbformat": 4,
 "nbformat_minor": 4
}
