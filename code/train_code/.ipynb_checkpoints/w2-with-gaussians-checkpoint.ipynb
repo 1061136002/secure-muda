{
 "cells": [
  {
   "cell_type": "code",
   "execution_count": 1,
   "metadata": {},
   "outputs": [],
   "source": [
    "import numpy as np\n",
    "\n",
    "import sys\n",
    "import os\n",
    "\n",
    "# sys.path.append(\"./code/train_code/\")\n",
    "\n",
    "import config as config\n",
    "import metrics as metrics\n",
    "from config_populate import data_settings\n",
    "import exp_select as exp_select\n",
    "\n",
    "import importlib\n",
    "\n",
    "import gaussian_utils\n",
    "\n",
    "from trainer import MultiSourceTrainer\n",
    "\n",
    "import torch\n",
    "from torch.autograd import Variable\n",
    "\n",
    "from evaluate_model import get_target_accuracy"
   ]
  },
  {
   "cell_type": "code",
   "execution_count": 2,
   "metadata": {},
   "outputs": [],
   "source": [
    "def change_config(dataset, task, exp_id):\n",
    "    config.dataset_name = dataset\n",
    "    config.data_key = task\n",
    "    \n",
    "    config.settings['dataset_dir']                 = os.path.join('data', 'pretrained-features', config.dataset_name)\n",
    "    \n",
    "    config.settings['C']                           = data_settings[config.dataset_name][config.data_key]['C']\n",
    "    config.settings['C_dash']                      = data_settings[config.dataset_name][config.data_key]['C_dash']\n",
    "    config.settings['num_C_dash']                  = data_settings[config.dataset_name][config.data_key]['num_C_dash']\n",
    "\n",
    "    config.settings['num_C']                       = data_settings[config.dataset_name][config.data_key]['num_C']\n",
    "    config.settings['src_datasets']                = data_settings[config.dataset_name][config.data_key]['src_datasets']\n",
    "    config.settings['trgt_datasets']               = data_settings[config.dataset_name][config.data_key]['trgt_datasets']\n",
    "    \n",
    "    config.settings['log_interval']                = config.settings['expt_dict'][config.dataset_name][config.data_key]['val_after']\n",
    "    config.settings['start_iter']                  = 0\n",
    "    config.settings['max_iter']                    = config.settings['expt_dict'][config.dataset_name][config.data_key]['max_iter']\n",
    "    config.settings['enough_iter']                 = config.settings['expt_dict'][config.dataset_name][config.data_key]['enough_iter']\n",
    "    config.settings['val_after']                   = config.settings['expt_dict'][config.dataset_name][config.data_key]['val_after']\n",
    "    config.settings['batch_size']                  = config.settings['expt_dict'][config.dataset_name][config.data_key]['batch_size']\n",
    "    config.settings['adapt_batch_size']            = config.settings['expt_dict'][config.dataset_name][config.data_key]['adapt_batch_size']\n",
    "    config.settings['val_batch_size_factor']       = config.settings['expt_dict'][config.dataset_name][config.data_key]['val_batch_size_factor']\n",
    "    \n",
    "    exp_select.exp_id = exp_id\n",
    "    config.settings['exp_name']                    = config.gen_exp_name()"
   ]
  },
  {
   "cell_type": "code",
   "execution_count": 3,
   "metadata": {},
   "outputs": [],
   "source": [
    "# Learn the weights w minimizing the generalizability objective\n",
    "def learn_w_w2(it_thresh='max_iter', num_steps=100):\n",
    "    w2_dist = np.zeros(len(config.settings['src_datasets']))\n",
    "    \n",
    "    # The approximation is better if the batch size is larger. Let's see how large we can make it\n",
    "    multiplier = 5\n",
    "    for src_domain_idx in range(len(config.settings['src_datasets'])):\n",
    "        dom = config.settings['src_datasets'][src_domain_idx]\n",
    "        trainer = MultiSourceTrainer(src_domain_idx)\n",
    "        trainer.load_model_weights(it_thresh=it_thresh)\n",
    "        trainer.set_mode(trainer.settings['mode']['val'])\n",
    "        initial_batch_size = trainer.adapt_batch_size\n",
    "        \n",
    "        for curr_multiplier in range(1, 6):\n",
    "            print(\"Loading trainer for source domain {}\".format(config.settings['src_datasets'][src_domain_idx]))\n",
    "\n",
    "            # align the batch sizes\n",
    "            trainer.adapt_batch_size = initial_batch_size * curr_multiplier\n",
    "            trainer.batch_size = initial_batch_size * curr_multiplier\n",
    "\n",
    "            if trainer.batch_size > 800:\n",
    "                multiplier = min(multiplier, curr_multiplier - 1)\n",
    "                break\n",
    "\n",
    "            try:\n",
    "                trainer.initialize_target_adapt_dataloader()\n",
    "                _,X_tar,_,_ = trainer.adapt_target_dl_iter_train_list.next()\n",
    "                X_tar = Variable(X_tar).to(trainer.settings['device']).float()\n",
    "            except StopIteration:\n",
    "                print(\"Multiplier for {} is {}\".format(dom, curr_multiplier - 1))\n",
    "                multiplier = min(multiplier, curr_multiplier - 1)\n",
    "                break\n",
    "                \n",
    "    print('multiplier = {}'.format(multiplier))\n",
    "    print(\"\\n\\n\")\n",
    "    \n",
    "    for src_domain_idx in range(len(config.settings['src_datasets'])):\n",
    "        print(\"Loading trainer for source domain {}\".format(config.settings['src_datasets'][src_domain_idx]))\n",
    "\n",
    "        dom = config.settings['src_datasets'][src_domain_idx]\n",
    "        trainer = MultiSourceTrainer(src_domain_idx)\n",
    "        \n",
    "        # learn the gaussians\n",
    "        trainer.load_model_weights(it_thresh='max_iter')\n",
    "        gaussian_utils.learn_gaussians(trainer)\n",
    "        n_samples = np.ones(trainer.N_CLASSES, dtype=int) * trainer.settings[\"gaussian_samples_per_class\"] * 100\n",
    "        trainer.gaussian_z, trainer.gaussian_y = gaussian_utils.sample_from_gaussians(trainer.means, trainer.covs, n_samples)\n",
    "        \n",
    "        # If there are high confidence pseudo-labels for most of the samples, use those for adaptation\n",
    "        trainer.load_model_weights(it_thresh='enough_iter')\n",
    "        trainer.pseudo_target_dist, conf, _ = trainer.get_target_pseudo_distribution()\n",
    "        if np.sum(np.max(conf, axis=-1) > trainer.settings['confidence_thresh']) / conf.shape[0] < trainer.settings['confidence_ratio']:\n",
    "            trainer.pseudo_target_dist = np.ones(trainer.N_CLASSES, dtype=int)\n",
    "            \n",
    "        print(\"Dist=\")\n",
    "        print(trainer.pseudo_target_dist)\n",
    "        \n",
    "        trainer.load_model_weights(it_thresh=it_thresh)\n",
    "        trainer.set_mode(trainer.settings['mode']['val'])\n",
    "        \n",
    "        trainer.adapt_batch_size *= multiplier\n",
    "        trainer.batch_size = trainer.adapt_batch_size    # align the batch sizes\n",
    "\n",
    "        trainer.initialize_src_train_dataloader()\n",
    "        trainer.initialize_target_adapt_dataloader()\n",
    "        \n",
    "        # Get the mean W2 distance between encodings of the current domain and the target domain\n",
    "        # Get a source sample\n",
    "        w2_dist[src_domain_idx] = 0\n",
    "        for step in range(num_steps):\n",
    "            # Get a target sample\n",
    "            try:\n",
    "                _,X_tar,_,_ = trainer.adapt_target_dl_iter_train_list.next()\n",
    "                X_tar = Variable(X_tar).to(trainer.settings['device']).float()\n",
    "            except StopIteration:\n",
    "                trainer.initialize_target_adapt_dataloader()\n",
    "                _,X_tar,_,_ = trainer.adapt_target_dl_iter_train_list.next()\n",
    "                X_tar = Variable(X_tar).to(trainer.settings['device']).float()\n",
    "                \n",
    "            # Compute the number of gaussian samples to be used for the current batch\n",
    "            normalized_dist = trainer.pseudo_target_dist / np.sum(trainer.pseudo_target_dist)\n",
    "            num_samples = np.array(normalized_dist * trainer.adapt_batch_size, dtype=int)\n",
    "            while trainer.adapt_batch_size > np.sum(num_samples):\n",
    "                idx = np.random.choice(range(trainer.N_CLASSES), p = normalized_dist)\n",
    "                num_samples[idx] += 1\n",
    "\n",
    "            # Get gaussian samples for the current batch\n",
    "            gz = []\n",
    "            gy = []\n",
    "            for c in range(trainer.N_CLASSES):\n",
    "                ind = np.where(trainer.gaussian_y == c)[0]\n",
    "                ind = ind[np.random.choice(range(len(ind)), num_samples[c], replace=False)]\n",
    "                gz.append(trainer.gaussian_z[ind])\n",
    "                gy.append(trainer.gaussian_y[ind])\n",
    "            gz = np.vstack(gz)\n",
    "            gy = np.concatenate(gy)\n",
    "\n",
    "            gz = torch.as_tensor(gz).to(trainer.settings['device']).float()\n",
    "            gy = torch.as_tensor(gy).to(trainer.settings['device']).long()\n",
    "\n",
    "            with torch.no_grad():\n",
    "                f_tar = trainer.network.model['global']['Fs'](X_tar)\n",
    "                w2_dist[src_domain_idx] += metrics.sliced_wasserstein_distance(f_tar, gz, trainer.settings['num_projections'], 2, trainer.settings['device']).item()\n",
    "\n",
    "            if step % (num_steps // 10) == 0:\n",
    "                print(step, w2_dist, dom)\n",
    "        \n",
    "    w = 1 / w2_dist\n",
    "    w = w / np.sum(w)\n",
    "        \n",
    "    return w"
   ]
  },
  {
   "cell_type": "code",
   "execution_count": 4,
   "metadata": {
    "scrolled": true
   },
   "outputs": [
    {
     "name": "stdout",
     "output_type": "stream",
     "text": [
      "office-31\n",
      "AD_W\n",
      "Loading trainer for source domain amazon\n",
      "Loading trainer for source domain amazon\n",
      "Loading trainer for source domain amazon\n",
      "Loading trainer for source domain amazon\n",
      "Loading trainer for source domain amazon\n",
      "Loading trainer for source domain dslr\n",
      "Loading trainer for source domain dslr\n",
      "Loading trainer for source domain dslr\n",
      "Loading trainer for source domain dslr\n",
      "Loading trainer for source domain dslr\n",
      "multiplier = 5\n",
      "\n",
      "\n",
      "\n",
      "Loading trainer for source domain amazon\n"
     ]
    },
    {
     "name": "stderr",
     "output_type": "stream",
     "text": [
      "amazon: 100%|██████████| 176/176 [00:00<00:00, 351.06it/s]\n"
     ]
    },
    {
     "name": "stdout",
     "output_type": "stream",
     "text": [
      "Loading trainer for source domain amazon\n"
     ]
    },
    {
     "name": "stderr",
     "output_type": "stream",
     "text": [
      "webcam: 100%|██████████| 3/3 [00:00<00:00, 22.81it/s]\n"
     ]
    },
    {
     "name": "stdout",
     "output_type": "stream",
     "text": [
      "Source-only accuracy is 0.7153652392947103\n",
      "y__hat counts [29 21 25 10 15 17 39 29 34 23 27 35 27 70  4 18 28 22 14 41 25 22 19 33\n",
      " 11  9 34 27 20 36 30]\n",
      "y_true counts [28 21 28 12 16 31 40 18 21 19 27 27 30 19 30 43 30 27 28 32 16 20 30 27\n",
      " 40 11 25 30 24 23 21]\n",
      "Dist=\n",
      "[1 1 1 1 1 1 1 1 1 1 1 1 1 1 1 1 1 1 1 1 1 1 1 1 1 1 1 1 1 1 1]\n",
      "0 [0.01278117 0.        ] amazon\n",
      "10 [0.13624671 0.        ] amazon\n",
      "20 [0.26060625 0.        ] amazon\n",
      "30 [0.38634239 0.        ] amazon\n",
      "40 [0.50584159 0.        ] amazon\n",
      "50 [0.62625649 0.        ] amazon\n",
      "60 [0.75030066 0.        ] amazon\n",
      "70 [0.87250717 0.        ] amazon\n",
      "80 [0.99976666 0.        ] amazon\n",
      "90 [1.12409087 0.        ] amazon\n",
      "Loading trainer for source domain dslr\n"
     ]
    },
    {
     "name": "stderr",
     "output_type": "stream",
     "text": [
      "dslr: 100%|██████████| 31/31 [00:00<00:00, 188.81it/s]\n"
     ]
    },
    {
     "name": "stdout",
     "output_type": "stream",
     "text": [
      "Loading trainer for source domain dslr\n"
     ]
    },
    {
     "name": "stderr",
     "output_type": "stream",
     "text": [
      "webcam: 100%|██████████| 3/3 [00:00<00:00, 20.63it/s]\n"
     ]
    },
    {
     "name": "stdout",
     "output_type": "stream",
     "text": [
      "Source-only accuracy is 0.9622166246851386\n",
      "y__hat counts [28 21 28 12 16 28 39 18 21 19 27 27 31 19 31 44 29 27 24 33 16 16 29 20\n",
      " 40 10 26 32 36 23 24]\n",
      "y_true counts [28 21 28 12 16 31 40 18 21 19 27 27 30 19 30 43 30 27 28 32 16 20 30 27\n",
      " 40 11 25 30 24 23 21]\n",
      "Dist=\n",
      "[1 1 1 1 1 1 1 1 1 1 1 1 1 1 1 1 1 1 1 1 1 1 1 1 1 1 1 1 1 1 1]\n",
      "0 [1.23820789 0.01144893] dslr\n",
      "10 [1.23820789 0.14087405] dslr\n",
      "20 [1.23820789 0.26136305] dslr\n",
      "30 [1.23820789 0.39634243] dslr\n",
      "40 [1.23820789 0.51950099] dslr\n",
      "50 [1.23820789 0.64704904] dslr\n",
      "60 [1.23820789 0.77924161] dslr\n",
      "70 [1.23820789 0.90554736] dslr\n",
      "80 [1.23820789 1.03102981] dslr\n",
      "90 [1.23820789 1.1532045 ] dslr\n",
      "Loading trainer for source domain amazon\n"
     ]
    },
    {
     "name": "stderr",
     "output_type": "stream",
     "text": [
      "webcam: 100%|██████████| 3/3 [00:00<00:00, 21.52it/s]\n"
     ]
    },
    {
     "name": "stdout",
     "output_type": "stream",
     "text": [
      "Loading trainer for source domain dslr\n"
     ]
    },
    {
     "name": "stderr",
     "output_type": "stream",
     "text": [
      "webcam: 100%|██████████| 3/3 [00:00<00:00, 27.09it/s]\n"
     ]
    },
    {
     "name": "stdout",
     "output_type": "stream",
     "text": [
      "('office-31', 'AD_W', 0, 0.9357682619647355)\n",
      "Loading trainer for source domain amazon\n",
      "Loading trainer for source domain amazon\n",
      "Loading trainer for source domain amazon\n",
      "Loading trainer for source domain amazon\n",
      "Loading trainer for source domain amazon\n",
      "Loading trainer for source domain dslr\n",
      "Loading trainer for source domain dslr\n",
      "Loading trainer for source domain dslr\n",
      "Loading trainer for source domain dslr\n",
      "Loading trainer for source domain dslr\n",
      "multiplier = 5\n",
      "\n",
      "\n",
      "\n",
      "Loading trainer for source domain amazon\n"
     ]
    },
    {
     "name": "stderr",
     "output_type": "stream",
     "text": [
      "amazon: 100%|██████████| 176/176 [00:00<00:00, 345.36it/s]\n"
     ]
    },
    {
     "name": "stdout",
     "output_type": "stream",
     "text": [
      "Loading trainer for source domain amazon\n"
     ]
    },
    {
     "name": "stderr",
     "output_type": "stream",
     "text": [
      "webcam: 100%|██████████| 3/3 [00:00<00:00, 24.65it/s]\n"
     ]
    },
    {
     "name": "stdout",
     "output_type": "stream",
     "text": [
      "Source-only accuracy is 0.7216624685138538\n",
      "y__hat counts [26 21 25 13 15 21 40 28 28 24 26 31 28 73  4 16 29 21 16 37 18 24 25 35\n",
      " 12  5 38 35 20 30 30]\n",
      "y_true counts [28 21 28 12 16 31 40 18 21 19 27 27 30 19 30 43 30 27 28 32 16 20 30 27\n",
      " 40 11 25 30 24 23 21]\n",
      "Dist=\n",
      "[1 1 1 1 1 1 1 1 1 1 1 1 1 1 1 1 1 1 1 1 1 1 1 1 1 1 1 1 1 1 1]\n",
      "0 [0.01214156 0.        ] amazon\n",
      "10 [0.13208274 0.        ] amazon\n",
      "20 [0.25985696 0.        ] amazon\n",
      "30 [0.38439473 0.        ] amazon\n",
      "40 [0.50669577 0.        ] amazon\n",
      "50 [0.62698692 0.        ] amazon\n",
      "60 [0.752623 0.      ] amazon\n",
      "70 [0.87187288 0.        ] amazon\n",
      "80 [0.99227928 0.        ] amazon\n",
      "90 [1.1128618 0.       ] amazon\n",
      "Loading trainer for source domain dslr\n"
     ]
    },
    {
     "name": "stderr",
     "output_type": "stream",
     "text": [
      "dslr: 100%|██████████| 31/31 [00:00<00:00, 194.19it/s]\n"
     ]
    },
    {
     "name": "stdout",
     "output_type": "stream",
     "text": [
      "Loading trainer for source domain dslr\n"
     ]
    },
    {
     "name": "stderr",
     "output_type": "stream",
     "text": [
      "webcam: 100%|██████████| 3/3 [00:00<00:00, 21.09it/s]\n"
     ]
    },
    {
     "name": "stdout",
     "output_type": "stream",
     "text": [
      "Source-only accuracy is 0.9571788413098237\n",
      "y__hat counts [28 22 28 12 16 25 38 17 21 19 27 26 33 19 31 43 29 27 26 33 16 16 26 21\n",
      " 39 10 27 32 39 23 25]\n",
      "y_true counts [28 21 28 12 16 31 40 18 21 19 27 27 30 19 30 43 30 27 28 32 16 20 30 27\n",
      " 40 11 25 30 24 23 21]\n",
      "Dist=\n",
      "[1 1 1 1 1 1 1 1 1 1 1 1 1 1 1 1 1 1 1 1 1 1 1 1 1 1 1 1 1 1 1]\n",
      "0 [1.22467543 0.01226004] dslr\n",
      "10 [1.22467543 0.14352204] dslr\n",
      "20 [1.22467543 0.27463259] dslr\n",
      "30 [1.22467543 0.41008124] dslr\n",
      "40 [1.22467543 0.53460744] dslr\n",
      "50 [1.22467543 0.66366196] dslr\n",
      "60 [1.22467543 0.79672544] dslr\n",
      "70 [1.22467543 0.92471605] dslr\n",
      "80 [1.22467543 1.05504658] dslr\n",
      "90 [1.22467543 1.18696851] dslr\n",
      "Loading trainer for source domain amazon\n"
     ]
    },
    {
     "name": "stderr",
     "output_type": "stream",
     "text": [
      "webcam: 100%|██████████| 3/3 [00:00<00:00, 23.20it/s]\n"
     ]
    },
    {
     "name": "stdout",
     "output_type": "stream",
     "text": [
      "Loading trainer for source domain dslr\n"
     ]
    },
    {
     "name": "stderr",
     "output_type": "stream",
     "text": [
      "webcam: 100%|██████████| 3/3 [00:00<00:00, 24.95it/s]\n"
     ]
    },
    {
     "name": "stdout",
     "output_type": "stream",
     "text": [
      "('office-31', 'AD_W', 1, 0.9408060453400504)\n",
      "Loading trainer for source domain amazon\n",
      "Loading trainer for source domain amazon\n",
      "Loading trainer for source domain amazon\n",
      "Loading trainer for source domain amazon\n",
      "Loading trainer for source domain amazon\n",
      "Loading trainer for source domain dslr\n",
      "Loading trainer for source domain dslr\n",
      "Loading trainer for source domain dslr\n",
      "Loading trainer for source domain dslr\n",
      "Loading trainer for source domain dslr\n",
      "multiplier = 5\n",
      "\n",
      "\n",
      "\n",
      "Loading trainer for source domain amazon\n"
     ]
    },
    {
     "name": "stderr",
     "output_type": "stream",
     "text": [
      "amazon: 100%|██████████| 176/176 [00:00<00:00, 354.49it/s]\n"
     ]
    },
    {
     "name": "stdout",
     "output_type": "stream",
     "text": [
      "Loading trainer for source domain amazon\n"
     ]
    },
    {
     "name": "stderr",
     "output_type": "stream",
     "text": [
      "webcam: 100%|██████████| 3/3 [00:00<00:00, 22.08it/s]\n"
     ]
    },
    {
     "name": "stdout",
     "output_type": "stream",
     "text": [
      "Source-only accuracy is 0.7153652392947103\n",
      "y__hat counts [25 21 25 11 16 18 37 36 28 26 26 38 25 80  3 16 30 22 16 37 19 20 20 30\n",
      " 12  9 33 43 22 26 24]\n",
      "y_true counts [28 21 28 12 16 31 40 18 21 19 27 27 30 19 30 43 30 27 28 32 16 20 30 27\n",
      " 40 11 25 30 24 23 21]\n",
      "Dist=\n",
      "[1 1 1 1 1 1 1 1 1 1 1 1 1 1 1 1 1 1 1 1 1 1 1 1 1 1 1 1 1 1 1]\n",
      "0 [0.01324858 0.        ] amazon\n",
      "10 [0.13713298 0.        ] amazon\n",
      "20 [0.25734525 0.        ] amazon\n",
      "30 [0.3836137 0.       ] amazon\n",
      "40 [0.5004254 0.       ] amazon\n",
      "50 [0.62081125 0.        ] amazon\n",
      "60 [0.74449997 0.        ] amazon\n",
      "70 [0.87134225 0.        ] amazon\n",
      "80 [0.99805813 0.        ] amazon\n",
      "90 [1.12264491 0.        ] amazon\n",
      "Loading trainer for source domain dslr\n"
     ]
    },
    {
     "name": "stderr",
     "output_type": "stream",
     "text": [
      "dslr: 100%|██████████| 31/31 [00:00<00:00, 180.21it/s]\n"
     ]
    },
    {
     "name": "stdout",
     "output_type": "stream",
     "text": [
      "Loading trainer for source domain dslr\n"
     ]
    },
    {
     "name": "stderr",
     "output_type": "stream",
     "text": [
      "webcam: 100%|██████████| 3/3 [00:00<00:00, 19.12it/s]\n"
     ]
    },
    {
     "name": "stdout",
     "output_type": "stream",
     "text": [
      "Source-only accuracy is 0.9622166246851386\n",
      "y__hat counts [31 21 28 12 16 30 39 19 21 19 27 26 35 19 30 42 29 27 26 33 16 18 26 21\n",
      " 35  9 27 30 34 23 25]\n",
      "y_true counts [28 21 28 12 16 31 40 18 21 19 27 27 30 19 30 43 30 27 28 32 16 20 30 27\n",
      " 40 11 25 30 24 23 21]\n",
      "Dist=\n",
      "[1 1 1 1 1 1 1 1 1 1 1 1 1 1 1 1 1 1 1 1 1 1 1 1 1 1 1 1 1 1 1]\n",
      "0 [1.22943191 0.01090546] dslr\n",
      "10 [1.22943191 0.13721409] dslr\n",
      "20 [1.22943191 0.26646743] dslr\n",
      "30 [1.22943191 0.40023617] dslr\n",
      "40 [1.22943191 0.52829108] dslr\n",
      "50 [1.22943191 0.65498342] dslr\n",
      "60 [1.22943191 0.78719569] dslr\n",
      "70 [1.22943191 0.91459951] dslr\n",
      "80 [1.22943191 1.04348359] dslr\n",
      "90 [1.22943191 1.16975447] dslr\n",
      "Loading trainer for source domain amazon\n"
     ]
    },
    {
     "name": "stderr",
     "output_type": "stream",
     "text": [
      "webcam: 100%|██████████| 3/3 [00:00<00:00, 22.51it/s]\n"
     ]
    },
    {
     "name": "stdout",
     "output_type": "stream",
     "text": [
      "Loading trainer for source domain dslr\n"
     ]
    },
    {
     "name": "stderr",
     "output_type": "stream",
     "text": [
      "webcam: 100%|██████████| 3/3 [00:00<00:00, 24.48it/s]\n"
     ]
    },
    {
     "name": "stdout",
     "output_type": "stream",
     "text": [
      "('office-31', 'AD_W', 2, 0.9408060453400504)\n",
      "Loading trainer for source domain amazon\n",
      "Loading trainer for source domain amazon\n",
      "Loading trainer for source domain amazon\n",
      "Loading trainer for source domain amazon\n",
      "Loading trainer for source domain amazon\n",
      "Loading trainer for source domain dslr\n",
      "Loading trainer for source domain dslr\n",
      "Loading trainer for source domain dslr\n",
      "Loading trainer for source domain dslr\n",
      "Loading trainer for source domain dslr\n",
      "multiplier = 5\n",
      "\n",
      "\n",
      "\n",
      "Loading trainer for source domain amazon\n"
     ]
    },
    {
     "name": "stderr",
     "output_type": "stream",
     "text": [
      "amazon: 100%|██████████| 176/176 [00:00<00:00, 344.90it/s]\n"
     ]
    },
    {
     "name": "stdout",
     "output_type": "stream",
     "text": [
      "Loading trainer for source domain amazon\n"
     ]
    },
    {
     "name": "stderr",
     "output_type": "stream",
     "text": [
      "webcam: 100%|██████████| 3/3 [00:00<00:00, 22.66it/s]\n"
     ]
    },
    {
     "name": "stdout",
     "output_type": "stream",
     "text": [
      "Source-only accuracy is 0.7317380352644837\n",
      "y__hat counts [35 21 26 13 12 17 40 30 32 25 26 38 27 63  2 18 31 24 19 40 18 24 21 29\n",
      " 10  6 34 34 19 28 32]\n",
      "y_true counts [28 21 28 12 16 31 40 18 21 19 27 27 30 19 30 43 30 27 28 32 16 20 30 27\n",
      " 40 11 25 30 24 23 21]\n",
      "Dist=\n",
      "[1 1 1 1 1 1 1 1 1 1 1 1 1 1 1 1 1 1 1 1 1 1 1 1 1 1 1 1 1 1 1]\n",
      "0 [0.01279022 0.        ] amazon\n",
      "10 [0.14413774 0.        ] amazon\n",
      "20 [0.27628991 0.        ] amazon\n",
      "30 [0.40178724 0.        ] amazon\n",
      "40 [0.52494323 0.        ] amazon\n",
      "50 [0.65503974 0.        ] amazon\n",
      "60 [0.78566126 0.        ] amazon\n",
      "70 [0.91211698 0.        ] amazon\n",
      "80 [1.04918299 0.        ] amazon\n",
      "90 [1.17299689 0.        ] amazon\n",
      "Loading trainer for source domain dslr\n"
     ]
    },
    {
     "name": "stderr",
     "output_type": "stream",
     "text": [
      "dslr: 100%|██████████| 31/31 [00:00<00:00, 189.86it/s]\n"
     ]
    },
    {
     "name": "stdout",
     "output_type": "stream",
     "text": [
      "Loading trainer for source domain dslr\n"
     ]
    },
    {
     "name": "stderr",
     "output_type": "stream",
     "text": [
      "webcam: 100%|██████████| 3/3 [00:00<00:00, 17.48it/s]\n"
     ]
    },
    {
     "name": "stdout",
     "output_type": "stream",
     "text": [
      "Source-only accuracy is 0.9546599496221663\n",
      "y__hat counts [28 22 28 12 16 29 39 18 21 18 27 25 35 19 30 40 28 27 26 33 16 16 28 21\n",
      " 37 10 27 32 37 24 25]\n",
      "y_true counts [28 21 28 12 16 31 40 18 21 19 27 27 30 19 30 43 30 27 28 32 16 20 30 27\n",
      " 40 11 25 30 24 23 21]\n",
      "Dist=\n",
      "[1 1 1 1 1 1 1 1 1 1 1 1 1 1 1 1 1 1 1 1 1 1 1 1 1 1 1 1 1 1 1]\n",
      "0 [1.28847402 0.01212015] dslr\n",
      "10 [1.28847402 0.1417042 ] dslr\n",
      "20 [1.28847402 0.26093461] dslr\n",
      "30 [1.28847402 0.38897002] dslr\n",
      "40 [1.28847402 0.51936177] dslr\n",
      "50 [1.28847402 0.64064623] dslr\n",
      "60 [1.28847402 0.76852433] dslr\n",
      "70 [1.28847402 0.89894484] dslr\n",
      "80 [1.28847402 1.02780009] dslr\n",
      "90 [1.28847402 1.15407872] dslr\n",
      "Loading trainer for source domain amazon\n"
     ]
    },
    {
     "name": "stderr",
     "output_type": "stream",
     "text": [
      "webcam: 100%|██████████| 3/3 [00:00<00:00, 20.06it/s]\n"
     ]
    },
    {
     "name": "stdout",
     "output_type": "stream",
     "text": [
      "Loading trainer for source domain dslr\n"
     ]
    },
    {
     "name": "stderr",
     "output_type": "stream",
     "text": [
      "webcam: 100%|██████████| 3/3 [00:00<00:00, 25.56it/s]\n"
     ]
    },
    {
     "name": "stdout",
     "output_type": "stream",
     "text": [
      "('office-31', 'AD_W', 3, 0.9445843828715366)\n",
      "Loading trainer for source domain amazon\n",
      "Loading trainer for source domain amazon\n",
      "Loading trainer for source domain amazon\n",
      "Loading trainer for source domain amazon\n",
      "Loading trainer for source domain amazon\n",
      "Loading trainer for source domain dslr\n",
      "Loading trainer for source domain dslr\n",
      "Loading trainer for source domain dslr\n",
      "Loading trainer for source domain dslr\n",
      "Loading trainer for source domain dslr\n",
      "multiplier = 5\n",
      "\n",
      "\n",
      "\n",
      "Loading trainer for source domain amazon\n"
     ]
    },
    {
     "name": "stderr",
     "output_type": "stream",
     "text": [
      "amazon: 100%|██████████| 176/176 [00:00<00:00, 361.98it/s]\n"
     ]
    },
    {
     "name": "stdout",
     "output_type": "stream",
     "text": [
      "Loading trainer for source domain amazon\n"
     ]
    },
    {
     "name": "stderr",
     "output_type": "stream",
     "text": [
      "webcam: 100%|██████████| 3/3 [00:00<00:00, 23.07it/s]\n"
     ]
    },
    {
     "name": "stdout",
     "output_type": "stream",
     "text": [
      "Source-only accuracy is 0.7115869017632241\n",
      "y__hat counts [34 21 26 12  8 17 39 26 31 24 26 32 26 76  4 19 30 24 17 39 21 21 19 33\n",
      " 10  5 33 27 24 31 39]\n",
      "y_true counts [28 21 28 12 16 31 40 18 21 19 27 27 30 19 30 43 30 27 28 32 16 20 30 27\n",
      " 40 11 25 30 24 23 21]\n",
      "Dist=\n",
      "[1 1 1 1 1 1 1 1 1 1 1 1 1 1 1 1 1 1 1 1 1 1 1 1 1 1 1 1 1 1 1]\n",
      "0 [0.01412026 0.        ] amazon\n",
      "10 [0.1496011 0.       ] amazon\n",
      "20 [0.28331487 0.        ] amazon\n",
      "30 [0.40778078 0.        ] amazon\n",
      "40 [0.53905018 0.        ] amazon\n",
      "50 [0.66738104 0.        ] amazon\n",
      "60 [0.79817821 0.        ] amazon\n",
      "70 [0.92495562 0.        ] amazon\n",
      "80 [1.05675499 0.        ] amazon\n",
      "90 [1.1857276 0.       ] amazon\n",
      "Loading trainer for source domain dslr\n"
     ]
    },
    {
     "name": "stderr",
     "output_type": "stream",
     "text": [
      "dslr: 100%|██████████| 31/31 [00:00<00:00, 187.53it/s]\n"
     ]
    },
    {
     "name": "stdout",
     "output_type": "stream",
     "text": [
      "Loading trainer for source domain dslr\n"
     ]
    },
    {
     "name": "stderr",
     "output_type": "stream",
     "text": [
      "webcam: 100%|██████████| 3/3 [00:00<00:00, 20.43it/s]\n"
     ]
    },
    {
     "name": "stdout",
     "output_type": "stream",
     "text": [
      "Source-only accuracy is 0.9584382871536524\n",
      "y__hat counts [28 21 28 12 16 29 39 17 21 20 27 26 33 20 31 42 29 27 26 36 16 16 28 21\n",
      " 37  7 26 32 35 23 25]\n",
      "y_true counts [28 21 28 12 16 31 40 18 21 19 27 27 30 19 30 43 30 27 28 32 16 20 30 27\n",
      " 40 11 25 30 24 23 21]\n",
      "Dist=\n",
      "[1 1 1 1 1 1 1 1 1 1 1 1 1 1 1 1 1 1 1 1 1 1 1 1 1 1 1 1 1 1 1]\n",
      "0 [1.29941024 0.01318095] dslr\n",
      "10 [1.29941024 0.13156403] dslr\n",
      "20 [1.29941024 0.24971288] dslr\n",
      "30 [1.29941024 0.37330257] dslr\n",
      "40 [1.29941024 0.49304996] dslr\n",
      "50 [1.29941024 0.61064922] dslr\n",
      "60 [1.29941024 0.727379  ] dslr\n",
      "70 [1.29941024 0.85522716] dslr\n",
      "80 [1.29941024 0.96917991] dslr\n",
      "90 [1.29941024 1.09092672] dslr\n",
      "Loading trainer for source domain amazon\n"
     ]
    },
    {
     "name": "stderr",
     "output_type": "stream",
     "text": [
      "webcam: 100%|██████████| 3/3 [00:00<00:00, 19.45it/s]\n"
     ]
    },
    {
     "name": "stdout",
     "output_type": "stream",
     "text": [
      "Loading trainer for source domain dslr\n"
     ]
    },
    {
     "name": "stderr",
     "output_type": "stream",
     "text": [
      "webcam: 100%|██████████| 3/3 [00:00<00:00, 25.32it/s]\n"
     ]
    },
    {
     "name": "stdout",
     "output_type": "stream",
     "text": [
      "('office-31', 'AD_W', 4, 0.9534005037783375)\n",
      "DW_A\n",
      "Loading trainer for source domain dslr\n",
      "Loading trainer for source domain dslr\n",
      "Loading trainer for source domain dslr\n",
      "Loading trainer for source domain dslr\n",
      "Loading trainer for source domain dslr\n",
      "Loading trainer for source domain webcam\n",
      "Loading trainer for source domain webcam\n",
      "Loading trainer for source domain webcam\n",
      "Loading trainer for source domain webcam\n",
      "Loading trainer for source domain webcam\n",
      "multiplier = 5\n",
      "\n",
      "\n",
      "\n",
      "Loading trainer for source domain dslr\n"
     ]
    },
    {
     "name": "stderr",
     "output_type": "stream",
     "text": [
      "dslr: 100%|██████████| 31/31 [00:00<00:00, 190.95it/s]\n"
     ]
    },
    {
     "name": "stdout",
     "output_type": "stream",
     "text": [
      "Loading trainer for source domain dslr\n"
     ]
    },
    {
     "name": "stderr",
     "output_type": "stream",
     "text": [
      "amazon: 100%|██████████| 9/9 [00:00<00:00, 61.98it/s]\n"
     ]
    },
    {
     "name": "stdout",
     "output_type": "stream",
     "text": [
      "Source-only accuracy is 0.6214488636363636\n",
      "y__hat counts [ 89  79  96  65  33 105 100 121  21  71  87 105 149 109 360 105  95  78\n",
      "  31  71  51  84  86  63 170  43  53 196  28  48  24]\n",
      "y_true counts [ 91  82  72  82  36  94  91  97  97  81  99 100 100  98 100  99 100  94\n",
      "  96  95  93 100  98  98  90  75 100  99  99  96  64]\n",
      "Dist=\n",
      "[1 1 1 1 1 1 1 1 1 1 1 1 1 1 1 1 1 1 1 1 1 1 1 1 1 1 1 1 1 1 1]\n",
      "0 [0.0174296 0.       ] dslr\n",
      "10 [0.18830939 0.        ] dslr\n",
      "20 [0.35512803 0.        ] dslr\n",
      "30 [0.51926837 0.        ] dslr\n",
      "40 [0.69055748 0.        ] dslr\n",
      "50 [0.86756434 0.        ] dslr\n",
      "60 [1.03136478 0.        ] dslr\n",
      "70 [1.20507783 0.        ] dslr\n",
      "80 [1.37798404 0.        ] dslr\n",
      "90 [1.53964558 0.        ] dslr\n",
      "Loading trainer for source domain webcam\n"
     ]
    },
    {
     "name": "stderr",
     "output_type": "stream",
     "text": [
      "webcam: 100%|██████████| 49/49 [00:00<00:00, 234.20it/s]\n"
     ]
    },
    {
     "name": "stdout",
     "output_type": "stream",
     "text": [
      "Loading trainer for source domain webcam\n"
     ]
    },
    {
     "name": "stderr",
     "output_type": "stream",
     "text": [
      "amazon: 100%|██████████| 9/9 [00:00<00:00, 56.61it/s]\n"
     ]
    },
    {
     "name": "stdout",
     "output_type": "stream",
     "text": [
      "Source-only accuracy is 0.6455965909090909\n",
      "y__hat counts [ 63  80  96  78  29 139  83  90  30  56  91 104 124 100 167 137 178  90\n",
      " 121  81  52 100  96 134  83  57  49 172  24  88  24]\n",
      "y_true counts [ 91  82  72  82  36  94  91  97  97  81  99 100 100  98 100  99 100  94\n",
      "  96  95  93 100  98  98  90  75 100  99  99  96  64]\n",
      "Dist=\n",
      "[1 1 1 1 1 1 1 1 1 1 1 1 1 1 1 1 1 1 1 1 1 1 1 1 1 1 1 1 1 1 1]\n",
      "0 [1.69192263 0.01229343] webcam\n",
      "10 [1.69192263 0.17687473] webcam\n",
      "20 [1.69192263 0.34511669] webcam\n",
      "30 [1.69192263 0.50326417] webcam\n",
      "40 [1.69192263 0.68054355] webcam\n",
      "50 [1.69192263 0.84516002] webcam\n",
      "60 [1.69192263 1.00822107] webcam\n",
      "70 [1.69192263 1.17553314] webcam\n",
      "80 [1.69192263 1.33816633] webcam\n",
      "90 [1.69192263 1.49601939] webcam\n",
      "Loading trainer for source domain dslr\n"
     ]
    },
    {
     "name": "stderr",
     "output_type": "stream",
     "text": [
      "amazon: 100%|██████████| 9/9 [00:00<00:00, 53.97it/s]\n"
     ]
    },
    {
     "name": "stdout",
     "output_type": "stream",
     "text": [
      "Loading trainer for source domain webcam\n"
     ]
    },
    {
     "name": "stderr",
     "output_type": "stream",
     "text": [
      "amazon: 100%|██████████| 9/9 [00:00<00:00, 59.14it/s]\n"
     ]
    },
    {
     "name": "stdout",
     "output_type": "stream",
     "text": [
      "('office-31', 'DW_A', 0, 0.734375)\n",
      "Loading trainer for source domain dslr\n",
      "Loading trainer for source domain dslr\n",
      "Loading trainer for source domain dslr\n",
      "Loading trainer for source domain dslr\n",
      "Loading trainer for source domain dslr\n",
      "Loading trainer for source domain webcam\n",
      "Loading trainer for source domain webcam\n",
      "Loading trainer for source domain webcam\n",
      "Loading trainer for source domain webcam\n",
      "Loading trainer for source domain webcam\n",
      "multiplier = 5\n",
      "\n",
      "\n",
      "\n",
      "Loading trainer for source domain dslr\n"
     ]
    },
    {
     "name": "stderr",
     "output_type": "stream",
     "text": [
      "dslr: 100%|██████████| 31/31 [00:00<00:00, 190.57it/s]\n"
     ]
    },
    {
     "name": "stdout",
     "output_type": "stream",
     "text": [
      "Loading trainer for source domain dslr\n"
     ]
    },
    {
     "name": "stderr",
     "output_type": "stream",
     "text": [
      "amazon: 100%|██████████| 9/9 [00:00<00:00, 57.77it/s]\n"
     ]
    },
    {
     "name": "stdout",
     "output_type": "stream",
     "text": [
      "Source-only accuracy is 0.6168323863636364\n",
      "y__hat counts [107  91  89  65  58 102  89 127  11  84  84 138 107  87 214 143  92  54\n",
      "  38  85  49  81  96  69 159  43  56 249  72  56  21]\n",
      "y_true counts [ 91  82  72  82  36  94  91  97  97  81  99 100 100  98 100  99 100  94\n",
      "  96  95  93 100  98  98  90  75 100  99  99  96  64]\n",
      "Dist=\n",
      "[1 1 1 1 1 1 1 1 1 1 1 1 1 1 1 1 1 1 1 1 1 1 1 1 1 1 1 1 1 1 1]\n",
      "0 [0.01625593 0.        ] dslr\n",
      "10 [0.1927618 0.       ] dslr\n",
      "20 [0.36618232 0.        ] dslr\n",
      "30 [0.53290038 0.        ] dslr\n",
      "40 [0.69882483 0.        ] dslr\n",
      "50 [0.86632234 0.        ] dslr\n",
      "60 [1.03461576 0.        ] dslr\n",
      "70 [1.2060917 0.       ] dslr\n",
      "80 [1.37594162 0.        ] dslr\n",
      "90 [1.54957623 0.        ] dslr\n",
      "Loading trainer for source domain webcam\n"
     ]
    },
    {
     "name": "stderr",
     "output_type": "stream",
     "text": [
      "webcam: 100%|██████████| 49/49 [00:00<00:00, 240.58it/s]\n"
     ]
    },
    {
     "name": "stdout",
     "output_type": "stream",
     "text": [
      "Loading trainer for source domain webcam\n"
     ]
    },
    {
     "name": "stderr",
     "output_type": "stream",
     "text": [
      "amazon: 100%|██████████| 9/9 [00:00<00:00, 48.41it/s]\n"
     ]
    },
    {
     "name": "stdout",
     "output_type": "stream",
     "text": [
      "Source-only accuracy is 0.6413352272727273\n",
      "y__hat counts [ 68  90  81  95  45 123  88  98  24  60  89 117 127  71 164 124 141  83\n",
      "  90  78  49 103 103 118  77  65  67 258  16  80  24]\n",
      "y_true counts [ 91  82  72  82  36  94  91  97  97  81  99 100 100  98 100  99 100  94\n",
      "  96  95  93 100  98  98  90  75 100  99  99  96  64]\n",
      "Dist=\n",
      "[1 1 1 1 1 1 1 1 1 1 1 1 1 1 1 1 1 1 1 1 1 1 1 1 1 1 1 1 1 1 1]\n",
      "0 [1.69998855 0.01382476] webcam\n",
      "10 [1.69998855 0.17855487] webcam\n",
      "20 [1.69998855 0.33792329] webcam\n",
      "30 [1.69998855 0.49628523] webcam\n",
      "40 [1.69998855 0.65547643] webcam\n",
      "50 [1.69998855 0.81539408] webcam\n",
      "60 [1.69998855 0.97724641] webcam\n",
      "70 [1.69998855 1.13772103] webcam\n",
      "80 [1.69998855 1.29205769] webcam\n",
      "90 [1.69998855 1.4511504 ] webcam\n",
      "Loading trainer for source domain dslr\n"
     ]
    },
    {
     "name": "stderr",
     "output_type": "stream",
     "text": [
      "amazon: 100%|██████████| 9/9 [00:00<00:00, 56.64it/s]\n"
     ]
    },
    {
     "name": "stdout",
     "output_type": "stream",
     "text": [
      "Loading trainer for source domain webcam\n"
     ]
    },
    {
     "name": "stderr",
     "output_type": "stream",
     "text": [
      "amazon: 100%|██████████| 9/9 [00:00<00:00, 61.54it/s]\n"
     ]
    },
    {
     "name": "stdout",
     "output_type": "stream",
     "text": [
      "('office-31', 'DW_A', 1, 0.7361505681818182)\n",
      "Loading trainer for source domain dslr\n",
      "Loading trainer for source domain dslr\n",
      "Loading trainer for source domain dslr\n",
      "Loading trainer for source domain dslr\n",
      "Loading trainer for source domain dslr\n",
      "Loading trainer for source domain webcam\n",
      "Loading trainer for source domain webcam\n",
      "Loading trainer for source domain webcam\n",
      "Loading trainer for source domain webcam\n",
      "Loading trainer for source domain webcam\n",
      "multiplier = 5\n",
      "\n",
      "\n",
      "\n",
      "Loading trainer for source domain dslr\n"
     ]
    },
    {
     "name": "stderr",
     "output_type": "stream",
     "text": [
      "dslr: 100%|██████████| 31/31 [00:00<00:00, 185.76it/s]\n"
     ]
    },
    {
     "name": "stdout",
     "output_type": "stream",
     "text": [
      "Loading trainer for source domain dslr\n"
     ]
    },
    {
     "name": "stderr",
     "output_type": "stream",
     "text": [
      "amazon: 100%|██████████| 9/9 [00:00<00:00, 60.30it/s]\n"
     ]
    },
    {
     "name": "stdout",
     "output_type": "stream",
     "text": [
      "Source-only accuracy is 0.6264204545454546\n",
      "y__hat counts [ 91  84  90  88  53 113 108  76  14  91  86 120  92  99 202 135  99  68\n",
      "  49  88  58  73  92  63 209  32  58 231  63  70  21]\n",
      "y_true counts [ 91  82  72  82  36  94  91  97  97  81  99 100 100  98 100  99 100  94\n",
      "  96  95  93 100  98  98  90  75 100  99  99  96  64]\n",
      "Dist=\n",
      "[1 1 1 1 1 1 1 1 1 1 1 1 1 1 1 1 1 1 1 1 1 1 1 1 1 1 1 1 1 1 1]\n",
      "0 [0.01901242 0.        ] dslr\n",
      "10 [0.1810824 0.       ] dslr\n",
      "20 [0.33798841 0.        ] dslr\n",
      "30 [0.49476366 0.        ] dslr\n",
      "40 [0.66393111 0.        ] dslr\n",
      "50 [0.83249646 0.        ] dslr\n",
      "60 [0.98908298 0.        ] dslr\n",
      "70 [1.14574714 0.        ] dslr\n",
      "80 [1.30745087 0.        ] dslr\n",
      "90 [1.46674083 0.        ] dslr\n",
      "Loading trainer for source domain webcam\n"
     ]
    },
    {
     "name": "stderr",
     "output_type": "stream",
     "text": [
      "webcam: 100%|██████████| 49/49 [00:00<00:00, 229.46it/s]\n"
     ]
    },
    {
     "name": "stdout",
     "output_type": "stream",
     "text": [
      "Loading trainer for source domain webcam\n"
     ]
    },
    {
     "name": "stderr",
     "output_type": "stream",
     "text": [
      "amazon: 100%|██████████| 9/9 [00:00<00:00, 57.90it/s]\n"
     ]
    },
    {
     "name": "stdout",
     "output_type": "stream",
     "text": [
      "Source-only accuracy is 0.6491477272727273\n",
      "y__hat counts [ 71  86  86  88  32 141  79 102  24  62 111 125 122 135 149 129 151  79\n",
      " 116  68  53 100  99  82  79  62  54 208  13  87  23]\n",
      "y_true counts [ 91  82  72  82  36  94  91  97  97  81  99 100 100  98 100  99 100  94\n",
      "  96  95  93 100  98  98  90  75 100  99  99  96  64]\n",
      "Dist=\n",
      "[1 1 1 1 1 1 1 1 1 1 1 1 1 1 1 1 1 1 1 1 1 1 1 1 1 1 1 1 1 1 1]\n",
      "0 [1.62042022 0.01860781] webcam\n",
      "10 [1.62042022 0.18666786] webcam\n",
      "20 [1.62042022 0.34826015] webcam\n",
      "30 [1.62042022 0.50869607] webcam\n",
      "40 [1.62042022 0.67361144] webcam\n",
      "50 [1.62042022 0.83845492] webcam\n",
      "60 [1.62042022 1.00645728] webcam\n",
      "70 [1.62042022 1.17454348] webcam\n",
      "80 [1.62042022 1.33573288] webcam\n",
      "90 [1.62042022 1.4964114 ] webcam\n",
      "Loading trainer for source domain dslr\n"
     ]
    },
    {
     "name": "stderr",
     "output_type": "stream",
     "text": [
      "amazon: 100%|██████████| 9/9 [00:00<00:00, 55.53it/s]\n"
     ]
    },
    {
     "name": "stdout",
     "output_type": "stream",
     "text": [
      "Loading trainer for source domain webcam\n"
     ]
    },
    {
     "name": "stderr",
     "output_type": "stream",
     "text": [
      "amazon: 100%|██████████| 9/9 [00:00<00:00, 61.16it/s]\n"
     ]
    },
    {
     "name": "stdout",
     "output_type": "stream",
     "text": [
      "('office-31', 'DW_A', 2, 0.7269176136363636)\n",
      "Loading trainer for source domain dslr\n",
      "Loading trainer for source domain dslr\n",
      "Loading trainer for source domain dslr\n",
      "Loading trainer for source domain dslr\n",
      "Loading trainer for source domain dslr\n",
      "Loading trainer for source domain webcam\n",
      "Loading trainer for source domain webcam\n",
      "Loading trainer for source domain webcam\n",
      "Loading trainer for source domain webcam\n",
      "Loading trainer for source domain webcam\n",
      "multiplier = 5\n",
      "\n",
      "\n",
      "\n",
      "Loading trainer for source domain dslr\n"
     ]
    },
    {
     "name": "stderr",
     "output_type": "stream",
     "text": [
      "dslr: 100%|██████████| 31/31 [00:00<00:00, 197.56it/s]\n"
     ]
    },
    {
     "name": "stdout",
     "output_type": "stream",
     "text": [
      "Loading trainer for source domain dslr\n"
     ]
    },
    {
     "name": "stderr",
     "output_type": "stream",
     "text": [
      "amazon: 100%|██████████| 9/9 [00:00<00:00, 38.17it/s]\n"
     ]
    },
    {
     "name": "stdout",
     "output_type": "stream",
     "text": [
      "Source-only accuracy is 0.6221590909090909\n",
      "y__hat counts [ 89  83  79  76  43  95  94 105  16  71  96 121  94 126 419 118 104  67\n",
      "  55  67  47  84  75  53 114  49  54 210  33  48  31]\n",
      "y_true counts [ 91  82  72  82  36  94  91  97  97  81  99 100 100  98 100  99 100  94\n",
      "  96  95  93 100  98  98  90  75 100  99  99  96  64]\n",
      "Dist=\n",
      "[1 1 1 1 1 1 1 1 1 1 1 1 1 1 1 1 1 1 1 1 1 1 1 1 1 1 1 1 1 1 1]\n",
      "0 [0.01883771 0.        ] dslr\n",
      "10 [0.19791403 0.        ] dslr\n",
      "20 [0.37048135 0.        ] dslr\n",
      "30 [0.53620258 0.        ] dslr\n",
      "40 [0.7144196 0.       ] dslr\n",
      "50 [0.88109684 0.        ] dslr\n",
      "60 [1.04719812 0.        ] dslr\n",
      "70 [1.20453792 0.        ] dslr\n",
      "80 [1.37407051 0.        ] dslr\n",
      "90 [1.5465847 0.       ] dslr\n",
      "Loading trainer for source domain webcam\n"
     ]
    },
    {
     "name": "stderr",
     "output_type": "stream",
     "text": [
      "webcam: 100%|██████████| 49/49 [00:00<00:00, 242.24it/s]\n"
     ]
    },
    {
     "name": "stdout",
     "output_type": "stream",
     "text": [
      "Loading trainer for source domain webcam\n"
     ]
    },
    {
     "name": "stderr",
     "output_type": "stream",
     "text": [
      "amazon: 100%|██████████| 9/9 [00:00<00:00, 52.59it/s]\n"
     ]
    },
    {
     "name": "stdout",
     "output_type": "stream",
     "text": [
      "Source-only accuracy is 0.6416903409090909\n",
      "y__hat counts [ 71  85  82  80  46 195  85  81  29  60 101  95 152 120 124 128 165  86\n",
      "  96  75  41  97 102  97  87  63  61 206  11  67  28]\n",
      "y_true counts [ 91  82  72  82  36  94  91  97  97  81  99 100 100  98 100  99 100  94\n",
      "  96  95  93 100  98  98  90  75 100  99  99  96  64]\n",
      "Dist=\n",
      "[1 1 1 1 1 1 1 1 1 1 1 1 1 1 1 1 1 1 1 1 1 1 1 1 1 1 1 1 1 1 1]\n",
      "0 [1.69975491 0.01519346] webcam\n",
      "10 [1.69975491 0.17713885] webcam\n",
      "20 [1.69975491 0.33242993] webcam\n",
      "30 [1.69975491 0.49945711] webcam\n",
      "40 [1.69975491 0.66549981] webcam\n",
      "50 [1.69975491 0.8288524 ] webcam\n",
      "60 [1.69975491 0.991974  ] webcam\n",
      "70 [1.69975491 1.16001287] webcam\n",
      "80 [1.69975491 1.33099546] webcam\n",
      "90 [1.69975491 1.48406483] webcam\n",
      "Loading trainer for source domain dslr\n"
     ]
    },
    {
     "name": "stderr",
     "output_type": "stream",
     "text": [
      "amazon: 100%|██████████| 9/9 [00:00<00:00, 53.19it/s]\n"
     ]
    },
    {
     "name": "stdout",
     "output_type": "stream",
     "text": [
      "Loading trainer for source domain webcam\n"
     ]
    },
    {
     "name": "stderr",
     "output_type": "stream",
     "text": [
      "amazon: 100%|██████████| 9/9 [00:00<00:00, 62.36it/s]\n"
     ]
    },
    {
     "name": "stdout",
     "output_type": "stream",
     "text": [
      "('office-31', 'DW_A', 3, 0.7230113636363636)\n",
      "Loading trainer for source domain dslr\n",
      "Loading trainer for source domain dslr\n",
      "Loading trainer for source domain dslr\n",
      "Loading trainer for source domain dslr\n",
      "Loading trainer for source domain dslr\n",
      "Loading trainer for source domain webcam\n",
      "Loading trainer for source domain webcam\n",
      "Loading trainer for source domain webcam\n",
      "Loading trainer for source domain webcam\n",
      "Loading trainer for source domain webcam\n",
      "multiplier = 5\n",
      "\n",
      "\n",
      "\n",
      "Loading trainer for source domain dslr\n"
     ]
    },
    {
     "name": "stderr",
     "output_type": "stream",
     "text": [
      "dslr: 100%|██████████| 31/31 [00:00<00:00, 191.95it/s]\n"
     ]
    },
    {
     "name": "stdout",
     "output_type": "stream",
     "text": [
      "Loading trainer for source domain dslr\n"
     ]
    },
    {
     "name": "stderr",
     "output_type": "stream",
     "text": [
      "amazon: 100%|██████████| 9/9 [00:00<00:00, 63.48it/s]\n"
     ]
    },
    {
     "name": "stdout",
     "output_type": "stream",
     "text": [
      "Source-only accuracy is 0.609375\n",
      "y__hat counts [121  81  79  92  53 120 109  74  13  70 102 100 133  91 264 132  98  52\n",
      "  39  91  44  84  88  58 189  36  65 241  36  42  19]\n",
      "y_true counts [ 91  82  72  82  36  94  91  97  97  81  99 100 100  98 100  99 100  94\n",
      "  96  95  93 100  98  98  90  75 100  99  99  96  64]\n",
      "Dist=\n",
      "[1 1 1 1 1 1 1 1 1 1 1 1 1 1 1 1 1 1 1 1 1 1 1 1 1 1 1 1 1 1 1]\n",
      "0 [0.01919531 0.        ] dslr\n",
      "10 [0.18652747 0.        ] dslr\n",
      "20 [0.35593216 0.        ] dslr\n",
      "30 [0.52407263 0.        ] dslr\n",
      "40 [0.6939638 0.       ] dslr\n",
      "50 [0.86091793 0.        ] dslr\n",
      "60 [1.02366392 0.        ] dslr\n",
      "70 [1.18871354 0.        ] dslr\n",
      "80 [1.36023496 0.        ] dslr\n",
      "90 [1.53129138 0.        ] dslr\n",
      "Loading trainer for source domain webcam\n"
     ]
    },
    {
     "name": "stderr",
     "output_type": "stream",
     "text": [
      "webcam: 100%|██████████| 49/49 [00:00<00:00, 234.06it/s]\n"
     ]
    },
    {
     "name": "stdout",
     "output_type": "stream",
     "text": [
      "Loading trainer for source domain webcam\n"
     ]
    },
    {
     "name": "stderr",
     "output_type": "stream",
     "text": [
      "amazon: 100%|██████████| 9/9 [00:00<00:00, 51.27it/s]\n"
     ]
    },
    {
     "name": "stdout",
     "output_type": "stream",
     "text": [
      "Source-only accuracy is 0.6413352272727273\n",
      "y__hat counts [ 64  80  82  95  39 143  86 104  18  61  96 107 130  93 184 133 145  64\n",
      " 110  73  40  95 104  77  88  59  68 250  13  81  34]\n",
      "y_true counts [ 91  82  72  82  36  94  91  97  97  81  99 100 100  98 100  99 100  94\n",
      "  96  95  93 100  98  98  90  75 100  99  99  96  64]\n",
      "Dist=\n",
      "[1 1 1 1 1 1 1 1 1 1 1 1 1 1 1 1 1 1 1 1 1 1 1 1 1 1 1 1 1 1 1]\n",
      "0 [1.68264088 0.01225931] webcam\n",
      "10 [1.68264088 0.17668002] webcam\n",
      "20 [1.68264088 0.33157893] webcam\n",
      "30 [1.68264088 0.48786792] webcam\n",
      "40 [1.68264088 0.64564192] webcam\n",
      "50 [1.68264088 0.81148519] webcam\n",
      "60 [1.68264088 0.97180893] webcam\n",
      "70 [1.68264088 1.13736301] webcam\n",
      "80 [1.68264088 1.29249851] webcam\n",
      "90 [1.68264088 1.45220245] webcam\n",
      "Loading trainer for source domain dslr\n"
     ]
    },
    {
     "name": "stderr",
     "output_type": "stream",
     "text": [
      "amazon: 100%|██████████| 9/9 [00:00<00:00, 54.67it/s]\n"
     ]
    },
    {
     "name": "stdout",
     "output_type": "stream",
     "text": [
      "Loading trainer for source domain webcam\n"
     ]
    },
    {
     "name": "stderr",
     "output_type": "stream",
     "text": [
      "amazon: 100%|██████████| 9/9 [00:00<00:00, 60.48it/s]\n"
     ]
    },
    {
     "name": "stdout",
     "output_type": "stream",
     "text": [
      "('office-31', 'DW_A', 4, 0.7297585227272727)\n",
      "AW_D\n",
      "Loading trainer for source domain amazon\n",
      "Loading trainer for source domain amazon\n",
      "Loading trainer for source domain amazon\n",
      "Loading trainer for source domain amazon\n",
      "Loading trainer for source domain amazon\n",
      "Loading trainer for source domain webcam\n",
      "Loading trainer for source domain webcam\n",
      "Loading trainer for source domain webcam\n",
      "Loading trainer for source domain webcam\n",
      "Loading trainer for source domain webcam\n",
      "multiplier = 5\n",
      "\n",
      "\n",
      "\n",
      "Loading trainer for source domain amazon\n"
     ]
    },
    {
     "name": "stderr",
     "output_type": "stream",
     "text": [
      "amazon: 100%|██████████| 176/176 [00:00<00:00, 344.47it/s]\n"
     ]
    },
    {
     "name": "stdout",
     "output_type": "stream",
     "text": [
      "Loading trainer for source domain amazon\n"
     ]
    },
    {
     "name": "stderr",
     "output_type": "stream",
     "text": [
      "dslr: 100%|██████████| 2/2 [00:00<00:00, 15.71it/s]\n"
     ]
    },
    {
     "name": "stdout",
     "output_type": "stream",
     "text": [
      "Source-only accuracy is 0.7847082494969819\n",
      "y__hat counts [11 21 21  6 17 12 14 17 17 16 13 14 20 38  9 13 16  8  7 14 16 15 27 29\n",
      "  6  5 24 33 12 12 14]\n",
      "y_true counts [11 21 24 12 16 12 13 14 15 15 13 10 24 16 31 22 12  8 10 10 13 15 23 18\n",
      " 10  7 18 26 21 22 15]\n",
      "Dist=\n",
      "[1 1 1 1 1 1 1 1 1 1 1 1 1 1 1 1 1 1 1 1 1 1 1 1 1 1 1 1 1 1 1]\n",
      "0 [0.01152366 0.        ] amazon\n",
      "10 [0.12181974 0.        ] amazon\n",
      "20 [0.22938874 0.        ] amazon\n",
      "30 [0.34213963 0.        ] amazon\n",
      "40 [0.45893735 0.        ] amazon\n",
      "50 [0.56632368 0.        ] amazon\n",
      "60 [0.67138973 0.        ] amazon\n",
      "70 [0.78193817 0.        ] amazon\n",
      "80 [0.89153164 0.        ] amazon\n",
      "90 [0.99802647 0.        ] amazon\n",
      "Loading trainer for source domain webcam\n"
     ]
    },
    {
     "name": "stderr",
     "output_type": "stream",
     "text": [
      "webcam: 100%|██████████| 49/49 [00:00<00:00, 243.97it/s]\n"
     ]
    },
    {
     "name": "stdout",
     "output_type": "stream",
     "text": [
      "Loading trainer for source domain webcam\n"
     ]
    },
    {
     "name": "stderr",
     "output_type": "stream",
     "text": [
      "dslr: 100%|██████████| 2/2 [00:00<00:00, 12.66it/s]\n"
     ]
    },
    {
     "name": "stdout",
     "output_type": "stream",
     "text": [
      "Source-only accuracy is 0.9919517102615694\n",
      "y__hat counts [11 21 24 12 16 12 13 14 15 15 13 10 24 16 31 22 12  8 10 10 13 15 23 21\n",
      " 10  7 18 26 17 23 15]\n",
      "y_true counts [11 21 24 12 16 12 13 14 15 15 13 10 24 16 31 22 12  8 10 10 13 15 23 18\n",
      " 10  7 18 26 21 22 15]\n",
      "Dist=\n",
      "[11.42025   21.953812  24.977282  11.802907  16.133493  10.421293\n",
      " 13.059757  13.888265  14.784576  15.322502  12.7143545 11.366515\n",
      " 23.249876  17.312677  30.048197  22.995335  12.273169   8.380905\n",
      " 10.062346   9.976352  13.987424  15.626424  22.069641  21.071737\n",
      "  9.295043   7.3480973 17.109873  27.25885   14.065589  20.898817\n",
      " 16.12469  ]\n",
      "0 [1.09716253 0.01196564] webcam\n",
      "10 [1.09716253 0.11923578] webcam\n",
      "20 [1.09716253 0.22985809] webcam\n",
      "30 [1.09716253 0.34052602] webcam\n",
      "40 [1.09716253 0.44770356] webcam\n",
      "50 [1.09716253 0.55934722] webcam\n",
      "60 [1.09716253 0.67028446] webcam\n",
      "70 [1.09716253 0.78160149] webcam\n",
      "80 [1.09716253 0.88957582] webcam\n",
      "90 [1.09716253 1.00009864] webcam\n",
      "Loading trainer for source domain amazon\n"
     ]
    },
    {
     "name": "stderr",
     "output_type": "stream",
     "text": [
      "dslr: 100%|██████████| 2/2 [00:00<00:00, 15.93it/s]\n"
     ]
    },
    {
     "name": "stdout",
     "output_type": "stream",
     "text": [
      "Loading trainer for source domain webcam\n"
     ]
    },
    {
     "name": "stderr",
     "output_type": "stream",
     "text": [
      "dslr: 100%|██████████| 2/2 [00:00<00:00, 15.44it/s]\n"
     ]
    },
    {
     "name": "stdout",
     "output_type": "stream",
     "text": [
      "('office-31', 'AW_D', 0, 0.9698189134808853)\n",
      "Loading trainer for source domain amazon\n",
      "Loading trainer for source domain amazon\n",
      "Loading trainer for source domain amazon\n",
      "Loading trainer for source domain amazon\n",
      "Loading trainer for source domain amazon\n",
      "Loading trainer for source domain webcam\n",
      "Loading trainer for source domain webcam\n",
      "Loading trainer for source domain webcam\n",
      "Loading trainer for source domain webcam\n",
      "Loading trainer for source domain webcam\n",
      "multiplier = 5\n",
      "\n",
      "\n",
      "\n",
      "Loading trainer for source domain amazon\n"
     ]
    },
    {
     "name": "stderr",
     "output_type": "stream",
     "text": [
      "amazon: 100%|██████████| 176/176 [00:00<00:00, 358.17it/s]\n"
     ]
    },
    {
     "name": "stdout",
     "output_type": "stream",
     "text": [
      "Loading trainer for source domain amazon\n"
     ]
    },
    {
     "name": "stderr",
     "output_type": "stream",
     "text": [
      "dslr: 100%|██████████| 2/2 [00:00<00:00, 16.45it/s]\n"
     ]
    },
    {
     "name": "stdout",
     "output_type": "stream",
     "text": [
      "Source-only accuracy is 0.8088531187122736\n",
      "y__hat counts [11 21 23  8 17 11 13 13 15 14 13 14 18 40 12 12 15  8  9 11 12 19 27 27\n",
      "  5  6 21 37 15 16 14]\n",
      "y_true counts [11 21 24 12 16 12 13 14 15 15 13 10 24 16 31 22 12  8 10 10 13 15 23 18\n",
      " 10  7 18 26 21 22 15]\n",
      "Dist=\n",
      "[1 1 1 1 1 1 1 1 1 1 1 1 1 1 1 1 1 1 1 1 1 1 1 1 1 1 1 1 1 1 1]\n",
      "0 [0.00948122 0.        ] amazon\n",
      "10 [0.12228175 0.        ] amazon\n",
      "20 [0.23744319 0.        ] amazon\n",
      "30 [0.35243306 0.        ] amazon\n",
      "40 [0.46001515 0.        ] amazon\n",
      "50 [0.57266798 0.        ] amazon\n",
      "60 [0.6830702 0.       ] amazon\n",
      "70 [0.79512294 0.        ] amazon\n",
      "80 [0.90343957 0.        ] amazon\n",
      "90 [1.01372915 0.        ] amazon\n",
      "Loading trainer for source domain webcam\n"
     ]
    },
    {
     "name": "stderr",
     "output_type": "stream",
     "text": [
      "webcam: 100%|██████████| 49/49 [00:00<00:00, 240.85it/s]\n"
     ]
    },
    {
     "name": "stdout",
     "output_type": "stream",
     "text": [
      "Loading trainer for source domain webcam\n"
     ]
    },
    {
     "name": "stderr",
     "output_type": "stream",
     "text": [
      "dslr: 100%|██████████| 2/2 [00:00<00:00, 13.88it/s]\n"
     ]
    },
    {
     "name": "stdout",
     "output_type": "stream",
     "text": [
      "Source-only accuracy is 0.9919517102615694\n",
      "y__hat counts [11 21 24 12 16 12 13 14 15 15 13 10 24 17 31 22 12  8 10 10 13 15 22 21\n",
      " 10  7 18 26 18 22 15]\n",
      "y_true counts [11 21 24 12 16 12 13 14 15 15 13 10 24 16 31 22 12  8 10 10 13 15 23 18\n",
      " 10  7 18 26 21 22 15]\n",
      "Dist=\n",
      "[11.434498  21.884947  24.612774  12.421761  16.436445  10.337669\n",
      " 13.2249    14.079578  15.283951  14.533769  12.334443  11.503134\n",
      " 23.834955  17.277958  30.96849   22.949245  11.831883   8.605952\n",
      " 10.170856   9.942832  14.17625   16.114288  21.8397    23.275106\n",
      "  9.230409   7.4905877 17.419859  27.128962  13.75374   17.185074\n",
      " 15.716    ]\n",
      "0 [1.10832193 0.01005243] webcam\n",
      "10 [1.10832193 0.12303146] webcam\n",
      "20 [1.10832193 0.23097958] webcam\n",
      "30 [1.10832193 0.3408759 ] webcam\n",
      "40 [1.10832193 0.45310513] webcam\n",
      "50 [1.10832193 0.56157145] webcam\n",
      "60 [1.10832193 0.67295877] webcam\n",
      "70 [1.10832193 0.78502049] webcam\n",
      "80 [1.10832193 0.89248344] webcam\n",
      "90 [1.10832193 1.00004597] webcam\n",
      "Loading trainer for source domain amazon\n"
     ]
    },
    {
     "name": "stderr",
     "output_type": "stream",
     "text": [
      "dslr: 100%|██████████| 2/2 [00:00<00:00, 15.68it/s]\n"
     ]
    },
    {
     "name": "stdout",
     "output_type": "stream",
     "text": [
      "Loading trainer for source domain webcam\n"
     ]
    },
    {
     "name": "stderr",
     "output_type": "stream",
     "text": [
      "dslr: 100%|██████████| 2/2 [00:00<00:00, 16.35it/s]\n"
     ]
    },
    {
     "name": "stdout",
     "output_type": "stream",
     "text": [
      "('office-31', 'AW_D', 1, 0.9738430583501007)\n",
      "Loading trainer for source domain amazon\n",
      "Loading trainer for source domain amazon\n",
      "Loading trainer for source domain amazon\n",
      "Loading trainer for source domain amazon\n",
      "Loading trainer for source domain amazon\n",
      "Loading trainer for source domain webcam\n",
      "Loading trainer for source domain webcam\n",
      "Loading trainer for source domain webcam\n",
      "Loading trainer for source domain webcam\n",
      "Loading trainer for source domain webcam\n",
      "multiplier = 5\n",
      "\n",
      "\n",
      "\n",
      "Loading trainer for source domain amazon\n"
     ]
    },
    {
     "name": "stderr",
     "output_type": "stream",
     "text": [
      "amazon: 100%|██████████| 176/176 [00:00<00:00, 331.04it/s]\n"
     ]
    },
    {
     "name": "stdout",
     "output_type": "stream",
     "text": [
      "Loading trainer for source domain amazon\n"
     ]
    },
    {
     "name": "stderr",
     "output_type": "stream",
     "text": [
      "dslr: 100%|██████████| 2/2 [00:00<00:00, 15.07it/s]\n"
     ]
    },
    {
     "name": "stdout",
     "output_type": "stream",
     "text": [
      "Source-only accuracy is 0.772635814889336\n",
      "y__hat counts [11 21 22  8 16  7 14 17 14 14 13 17 22 42 10 14 15  6  6 10 17 23 30 26\n",
      "  5  6 19 29 12 12 19]\n",
      "y_true counts [11 21 24 12 16 12 13 14 15 15 13 10 24 16 31 22 12  8 10 10 13 15 23 18\n",
      " 10  7 18 26 21 22 15]\n",
      "Dist=\n",
      "[1 1 1 1 1 1 1 1 1 1 1 1 1 1 1 1 1 1 1 1 1 1 1 1 1 1 1 1 1 1 1]\n",
      "0 [0.01139974 0.        ] amazon\n",
      "10 [0.12809191 0.        ] amazon\n",
      "20 [0.23775745 0.        ] amazon\n",
      "30 [0.34756607 0.        ] amazon\n",
      "40 [0.45230387 0.        ] amazon\n",
      "50 [0.56358207 0.        ] amazon\n",
      "60 [0.67500929 0.        ] amazon\n",
      "70 [0.78376333 0.        ] amazon\n",
      "80 [0.89198579 0.        ] amazon\n",
      "90 [0.99872781 0.        ] amazon\n",
      "Loading trainer for source domain webcam\n"
     ]
    },
    {
     "name": "stderr",
     "output_type": "stream",
     "text": [
      "webcam: 100%|██████████| 49/49 [00:00<00:00, 239.83it/s]\n"
     ]
    },
    {
     "name": "stdout",
     "output_type": "stream",
     "text": [
      "Loading trainer for source domain webcam\n"
     ]
    },
    {
     "name": "stderr",
     "output_type": "stream",
     "text": [
      "dslr: 100%|██████████| 2/2 [00:00<00:00, 12.49it/s]\n"
     ]
    },
    {
     "name": "stdout",
     "output_type": "stream",
     "text": [
      "Source-only accuracy is 0.9879275653923542\n",
      "y__hat counts [11 21 24 12 16 12 13 16 15 15 13 10 24 16 31 20 12  8 10 10 13 15 23 22\n",
      " 10  7 17 26 18 22 15]\n",
      "y_true counts [11 21 24 12 16 12 13 14 15 15 13 10 24 16 31 22 12  8 10 10 13 15 23 18\n",
      " 10  7 18 26 21 22 15]\n",
      "Dist=\n",
      "[11.282998  22.291306  25.586899  11.893602  15.64821   10.415771\n",
      " 13.271     15.9712715 15.185874  14.023429  12.419103  12.413066\n",
      " 23.61336   17.254452  29.380823  21.222841  12.3925     8.176334\n",
      "  9.892262  10.694506  14.031321  16.473143  21.88164   23.773384\n",
      "  9.37479    7.876562  17.188522  25.677053  13.585731  18.034819\n",
      " 16.073427 ]\n",
      "0 [1.10072851 0.01067857] webcam\n",
      "10 [1.10072851 0.12670643] webcam\n",
      "20 [1.10072851 0.239124  ] webcam\n",
      "30 [1.10072851 0.35177105] webcam\n",
      "40 [1.10072851 0.46284419] webcam\n",
      "50 [1.10072851 0.57610214] webcam\n",
      "60 [1.10072851 0.69176305] webcam\n",
      "70 [1.10072851 0.8142207 ] webcam\n",
      "80 [1.10072851 0.93092358] webcam\n",
      "90 [1.10072851 1.03988736] webcam\n",
      "Loading trainer for source domain amazon\n"
     ]
    },
    {
     "name": "stderr",
     "output_type": "stream",
     "text": [
      "dslr: 100%|██████████| 2/2 [00:00<00:00, 15.67it/s]\n"
     ]
    },
    {
     "name": "stdout",
     "output_type": "stream",
     "text": [
      "Loading trainer for source domain webcam\n"
     ]
    },
    {
     "name": "stderr",
     "output_type": "stream",
     "text": [
      "dslr: 100%|██████████| 2/2 [00:00<00:00, 15.93it/s]\n"
     ]
    },
    {
     "name": "stdout",
     "output_type": "stream",
     "text": [
      "('office-31', 'AW_D', 2, 0.971830985915493)\n",
      "Loading trainer for source domain amazon\n",
      "Loading trainer for source domain amazon\n",
      "Loading trainer for source domain amazon\n",
      "Loading trainer for source domain amazon\n",
      "Loading trainer for source domain amazon\n",
      "Loading trainer for source domain webcam\n",
      "Loading trainer for source domain webcam\n",
      "Loading trainer for source domain webcam\n",
      "Loading trainer for source domain webcam\n",
      "Loading trainer for source domain webcam\n",
      "multiplier = 5\n",
      "\n",
      "\n",
      "\n",
      "Loading trainer for source domain amazon\n"
     ]
    },
    {
     "name": "stderr",
     "output_type": "stream",
     "text": [
      "amazon: 100%|██████████| 176/176 [00:00<00:00, 348.13it/s]\n"
     ]
    },
    {
     "name": "stdout",
     "output_type": "stream",
     "text": [
      "Loading trainer for source domain amazon\n"
     ]
    },
    {
     "name": "stderr",
     "output_type": "stream",
     "text": [
      "dslr: 100%|██████████| 2/2 [00:00<00:00, 15.64it/s]\n"
     ]
    },
    {
     "name": "stdout",
     "output_type": "stream",
     "text": [
      "Source-only accuracy is 0.7706237424547284\n",
      "y__hat counts [11 21 23  8 15  9 13 24 16 15 13 15 17 41 13 11 13  8  7 14 15 20 34 28\n",
      "  5  3 20 27 10 11 17]\n",
      "y_true counts [11 21 24 12 16 12 13 14 15 15 13 10 24 16 31 22 12  8 10 10 13 15 23 18\n",
      " 10  7 18 26 21 22 15]\n",
      "Dist=\n",
      "[1 1 1 1 1 1 1 1 1 1 1 1 1 1 1 1 1 1 1 1 1 1 1 1 1 1 1 1 1 1 1]\n",
      "0 [0.00989984 0.        ] amazon\n",
      "10 [0.11914653 0.        ] amazon\n",
      "20 [0.22910337 0.        ] amazon\n",
      "30 [0.34148831 0.        ] amazon\n",
      "40 [0.45154904 0.        ] amazon\n",
      "50 [0.56139102 0.        ] amazon\n",
      "60 [0.67202987 0.        ] amazon\n",
      "70 [0.78220904 0.        ] amazon\n",
      "80 [0.89303506 0.        ] amazon\n",
      "90 [1.00389452 0.        ] amazon\n",
      "Loading trainer for source domain webcam\n"
     ]
    },
    {
     "name": "stderr",
     "output_type": "stream",
     "text": [
      "webcam: 100%|██████████| 49/49 [00:00<00:00, 230.35it/s]\n"
     ]
    },
    {
     "name": "stdout",
     "output_type": "stream",
     "text": [
      "Loading trainer for source domain webcam\n"
     ]
    },
    {
     "name": "stderr",
     "output_type": "stream",
     "text": [
      "dslr: 100%|██████████| 2/2 [00:00<00:00, 15.29it/s]\n"
     ]
    },
    {
     "name": "stdout",
     "output_type": "stream",
     "text": [
      "Source-only accuracy is 0.9899396378269618\n",
      "y__hat counts [11 21 24 12 16 12 13 14 15 15 13 10 24 17 31 22 12  8 10 10 13 15 22 21\n",
      " 10  7 18 26 17 23 15]\n",
      "y_true counts [11 21 24 12 16 12 13 14 15 15 13 10 24 16 31 22 12  8 10 10 13 15 23 18\n",
      " 10  7 18 26 21 22 15]\n",
      "Dist=\n",
      "[11.575809 21.6832   25.59943  11.965166 15.616378 11.278192 13.288488\n",
      " 14.90301  15.770413 14.812851 12.977407 11.92418  23.206697 17.604324\n",
      " 29.45932  22.18116  12.392378  8.436971  9.977341 10.363678 13.779021\n",
      " 15.822996 21.975605 22.891958 10.122189  7.476714 16.993597 25.860771\n",
      " 13.13507  18.317705 15.607979]\n",
      "0 [1.10262527 0.01062204] webcam\n",
      "10 [1.10262527 0.12272859] webcam\n",
      "20 [1.10262527 0.22467309] webcam\n",
      "30 [1.10262527 0.33094747] webcam\n",
      "40 [1.10262527 0.44210572] webcam\n",
      "50 [1.10262527 0.54846689] webcam\n",
      "60 [1.10262527 0.65438376] webcam\n",
      "70 [1.10262527 0.76050137] webcam\n",
      "80 [1.10262527 0.86582122] webcam\n",
      "90 [1.10262527 0.97499042] webcam\n",
      "Loading trainer for source domain amazon\n"
     ]
    },
    {
     "name": "stderr",
     "output_type": "stream",
     "text": [
      "dslr: 100%|██████████| 2/2 [00:00<00:00, 17.36it/s]\n"
     ]
    },
    {
     "name": "stdout",
     "output_type": "stream",
     "text": [
      "Loading trainer for source domain webcam\n"
     ]
    },
    {
     "name": "stderr",
     "output_type": "stream",
     "text": [
      "dslr: 100%|██████████| 2/2 [00:00<00:00, 16.84it/s]\n"
     ]
    },
    {
     "name": "stdout",
     "output_type": "stream",
     "text": [
      "('office-31', 'AW_D', 3, 0.971830985915493)\n",
      "Loading trainer for source domain amazon\n",
      "Loading trainer for source domain amazon\n",
      "Loading trainer for source domain amazon\n",
      "Loading trainer for source domain amazon\n",
      "Loading trainer for source domain amazon\n",
      "Loading trainer for source domain webcam\n",
      "Loading trainer for source domain webcam\n",
      "Loading trainer for source domain webcam\n",
      "Loading trainer for source domain webcam\n",
      "Loading trainer for source domain webcam\n",
      "multiplier = 5\n",
      "\n",
      "\n",
      "\n",
      "Loading trainer for source domain amazon\n"
     ]
    },
    {
     "name": "stderr",
     "output_type": "stream",
     "text": [
      "amazon: 100%|██████████| 176/176 [00:00<00:00, 362.39it/s]\n"
     ]
    },
    {
     "name": "stdout",
     "output_type": "stream",
     "text": [
      "Loading trainer for source domain amazon\n"
     ]
    },
    {
     "name": "stderr",
     "output_type": "stream",
     "text": [
      "dslr: 100%|██████████| 2/2 [00:00<00:00, 16.56it/s]\n"
     ]
    },
    {
     "name": "stdout",
     "output_type": "stream",
     "text": [
      "Source-only accuracy is 0.7927565392354124\n",
      "y__hat counts [11 21 22  8 16 10 13 21 12 14 13 14 19 32 11 13 14  7  6 10 15 23 29 32\n",
      "  5  7 24 37 13 11 14]\n",
      "y_true counts [11 21 24 12 16 12 13 14 15 15 13 10 24 16 31 22 12  8 10 10 13 15 23 18\n",
      " 10  7 18 26 21 22 15]\n",
      "Dist=\n",
      "[1 1 1 1 1 1 1 1 1 1 1 1 1 1 1 1 1 1 1 1 1 1 1 1 1 1 1 1 1 1 1]\n",
      "0 [0.01066422 0.        ] amazon\n",
      "10 [0.11624018 0.        ] amazon\n",
      "20 [0.22791204 0.        ] amazon\n",
      "30 [0.33915786 0.        ] amazon\n",
      "40 [0.4511219 0.       ] amazon\n",
      "50 [0.56031346 0.        ] amazon\n",
      "60 [0.67182565 0.        ] amazon\n",
      "70 [0.78164157 0.        ] amazon\n",
      "80 [0.88880103 0.        ] amazon\n",
      "90 [1.00049423 0.        ] amazon\n",
      "Loading trainer for source domain webcam\n"
     ]
    },
    {
     "name": "stderr",
     "output_type": "stream",
     "text": [
      "webcam: 100%|██████████| 49/49 [00:00<00:00, 230.99it/s]\n"
     ]
    },
    {
     "name": "stdout",
     "output_type": "stream",
     "text": [
      "Loading trainer for source domain webcam\n"
     ]
    },
    {
     "name": "stderr",
     "output_type": "stream",
     "text": [
      "dslr: 100%|██████████| 2/2 [00:00<00:00, 13.83it/s]\n"
     ]
    },
    {
     "name": "stdout",
     "output_type": "stream",
     "text": [
      "Source-only accuracy is 0.9919517102615694\n",
      "y__hat counts [11 21 24 12 16 11 13 14 15 15 13 10 24 16 32 22 12  8 10 10 13 15 23 21\n",
      " 10  7 18 26 18 22 15]\n",
      "y_true counts [11 21 24 12 16 12 13 14 15 15 13 10 24 16 31 22 12  8 10 10 13 15 23 18\n",
      " 10  7 18 26 21 22 15]\n",
      "Dist=\n",
      "[11.558219  21.931612  25.029032  12.390539  15.961708   8.978692\n",
      " 13.347753  14.8750305 15.992192  14.589306  12.931312  12.0880785\n",
      " 23.791271  17.238228  29.95998   22.742878  12.134171   8.447056\n",
      "  9.764855   9.860364  13.844839  16.022205  22.057667  23.308159\n",
      "  9.851836   8.000765  17.128313  25.866247  13.435414  18.072956\n",
      " 15.799328 ]\n",
      "0 [1.09713028 0.01056993] webcam\n",
      "10 [1.09713028 0.1217238 ] webcam\n",
      "20 [1.09713028 0.23208327] webcam\n",
      "30 [1.09713028 0.33703359] webcam\n",
      "40 [1.09713028 0.44442242] webcam\n",
      "50 [1.09713028 0.56102142] webcam\n",
      "60 [1.09713028 0.67209351] webcam\n",
      "70 [1.09713028 0.77929916] webcam\n",
      "80 [1.09713028 0.88650043] webcam\n",
      "90 [1.09713028 0.99751585] webcam\n",
      "Loading trainer for source domain amazon\n"
     ]
    },
    {
     "name": "stderr",
     "output_type": "stream",
     "text": [
      "dslr: 100%|██████████| 2/2 [00:00<00:00, 16.31it/s]\n"
     ]
    },
    {
     "name": "stdout",
     "output_type": "stream",
     "text": [
      "Loading trainer for source domain webcam\n"
     ]
    },
    {
     "name": "stderr",
     "output_type": "stream",
     "text": [
      "dslr: 100%|██████████| 2/2 [00:00<00:00, 17.09it/s]\n"
     ]
    },
    {
     "name": "stdout",
     "output_type": "stream",
     "text": [
      "('office-31', 'AW_D', 4, 0.9879275653923542)\n",
      "image-clef\n",
      "PC_I\n",
      "Loading trainer for source domain caltech\n",
      "Loading trainer for source domain caltech\n",
      "Loading trainer for source domain caltech\n",
      "Loading trainer for source domain caltech\n",
      "Loading trainer for source domain caltech\n",
      "Loading trainer for source domain pascal\n",
      "Loading trainer for source domain pascal\n",
      "Loading trainer for source domain pascal\n",
      "Loading trainer for source domain pascal\n",
      "Loading trainer for source domain pascal\n",
      "multiplier = 5\n",
      "\n",
      "\n",
      "\n",
      "Loading trainer for source domain caltech\n"
     ]
    },
    {
     "name": "stderr",
     "output_type": "stream",
     "text": [
      "caltech: 100%|██████████| 37/37 [00:00<00:00, 206.16it/s]\n"
     ]
    },
    {
     "name": "stdout",
     "output_type": "stream",
     "text": [
      "Loading trainer for source domain caltech\n"
     ]
    },
    {
     "name": "stderr",
     "output_type": "stream",
     "text": [
      "imagenet: 100%|██████████| 2/2 [00:00<00:00, 15.54it/s]\n"
     ]
    },
    {
     "name": "stdout",
     "output_type": "stream",
     "text": [
      "Source-only accuracy is 0.8514190317195326\n",
      "y__hat counts [43 53 51 65 48 54 26 48 53 48 40 70]\n",
      "y_true counts [49 50 50 50 50 50 50 50 50 50 50 50]\n",
      "Dist=\n",
      "[1 1 1 1 1 1 1 1 1 1 1 1]\n",
      "0 [0.03212889 0.        ] caltech\n",
      "10 [0.28410188 0.        ] caltech\n",
      "20 [0.5302405 0.       ] caltech\n",
      "30 [0.78077154 0.        ] caltech\n",
      "40 [1.02228498 0.        ] caltech\n",
      "50 [1.27441629 0.        ] caltech\n",
      "60 [1.53026966 0.        ] caltech\n",
      "70 [1.7940169 0.       ] caltech\n",
      "80 [2.03915124 0.        ] caltech\n",
      "90 [2.29352316 0.        ] caltech\n",
      "Loading trainer for source domain pascal\n"
     ]
    },
    {
     "name": "stderr",
     "output_type": "stream",
     "text": [
      "pascal: 100%|██████████| 37/37 [00:00<00:00, 203.12it/s]\n"
     ]
    },
    {
     "name": "stdout",
     "output_type": "stream",
     "text": [
      "Loading trainer for source domain pascal\n"
     ]
    },
    {
     "name": "stderr",
     "output_type": "stream",
     "text": [
      "imagenet: 100%|██████████| 2/2 [00:00<00:00, 13.32it/s]\n"
     ]
    },
    {
     "name": "stdout",
     "output_type": "stream",
     "text": [
      "Source-only accuracy is 0.8747913188647746\n",
      "y__hat counts [47 39 49 51 50 51 47 48 50 49 56 62]\n",
      "y_true counts [49 50 50 50 50 50 50 50 50 50 50 50]\n",
      "Dist=\n",
      "[1 1 1 1 1 1 1 1 1 1 1 1]\n",
      "0 [2.52839126 0.02255915] pascal\n",
      "10 [2.52839126 0.27523919] pascal\n",
      "20 [2.52839126 0.52665237] pascal\n",
      "30 [2.52839126 0.75448534] pascal\n",
      "40 [2.52839126 0.9879457 ] pascal\n",
      "50 [2.52839126 1.23782572] pascal\n",
      "60 [2.52839126 1.50027039] pascal\n",
      "70 [2.52839126 1.75567508] pascal\n",
      "80 [2.52839126 1.98000758] pascal\n",
      "90 [2.52839126 2.23569532] pascal\n",
      "Loading trainer for source domain caltech\n"
     ]
    },
    {
     "name": "stderr",
     "output_type": "stream",
     "text": [
      "imagenet: 100%|██████████| 2/2 [00:00<00:00, 16.19it/s]\n"
     ]
    },
    {
     "name": "stdout",
     "output_type": "stream",
     "text": [
      "Loading trainer for source domain pascal\n"
     ]
    },
    {
     "name": "stderr",
     "output_type": "stream",
     "text": [
      "imagenet: 100%|██████████| 2/2 [00:00<00:00, 15.36it/s]\n"
     ]
    },
    {
     "name": "stdout",
     "output_type": "stream",
     "text": [
      "('image-clef', 'PC_I', 0, 0.9081803005008348)\n",
      "Loading trainer for source domain caltech\n",
      "Loading trainer for source domain caltech\n",
      "Loading trainer for source domain caltech\n",
      "Loading trainer for source domain caltech\n",
      "Loading trainer for source domain caltech\n",
      "Loading trainer for source domain pascal\n",
      "Loading trainer for source domain pascal\n",
      "Loading trainer for source domain pascal\n",
      "Loading trainer for source domain pascal\n",
      "Loading trainer for source domain pascal\n",
      "multiplier = 5\n",
      "\n",
      "\n",
      "\n",
      "Loading trainer for source domain caltech\n"
     ]
    },
    {
     "name": "stderr",
     "output_type": "stream",
     "text": [
      "caltech: 100%|██████████| 37/37 [00:00<00:00, 204.75it/s]\n"
     ]
    },
    {
     "name": "stdout",
     "output_type": "stream",
     "text": [
      "Loading trainer for source domain caltech\n"
     ]
    },
    {
     "name": "stderr",
     "output_type": "stream",
     "text": [
      "imagenet: 100%|██████████| 2/2 [00:00<00:00, 16.54it/s]\n"
     ]
    },
    {
     "name": "stdout",
     "output_type": "stream",
     "text": [
      "Source-only accuracy is 0.8347245409015025\n",
      "y__hat counts [40 53 50 64 47 55 29 48 54 49 37 73]\n",
      "y_true counts [49 50 50 50 50 50 50 50 50 50 50 50]\n",
      "Dist=\n",
      "[1 1 1 1 1 1 1 1 1 1 1 1]\n",
      "0 [0.02355384 0.        ] caltech\n",
      "10 [0.28698999 0.        ] caltech\n",
      "20 [0.53412771 0.        ] caltech\n",
      "30 [0.77934761 0.        ] caltech\n",
      "40 [1.04463238 0.        ] caltech\n",
      "50 [1.32648995 0.        ] caltech\n",
      "60 [1.57018009 0.        ] caltech\n",
      "70 [1.82771568 0.        ] caltech\n",
      "80 [2.08800003 0.        ] caltech\n",
      "90 [2.34473552 0.        ] caltech\n",
      "Loading trainer for source domain pascal\n"
     ]
    },
    {
     "name": "stderr",
     "output_type": "stream",
     "text": [
      "pascal: 100%|██████████| 37/37 [00:00<00:00, 201.44it/s]\n"
     ]
    },
    {
     "name": "stdout",
     "output_type": "stream",
     "text": [
      "Loading trainer for source domain pascal\n"
     ]
    },
    {
     "name": "stderr",
     "output_type": "stream",
     "text": [
      "imagenet: 100%|██████████| 2/2 [00:00<00:00, 13.03it/s]\n"
     ]
    },
    {
     "name": "stdout",
     "output_type": "stream",
     "text": [
      "Source-only accuracy is 0.8564273789649416\n",
      "y__hat counts [47 36 47 49 67 50 49 50 50 50 51 53]\n",
      "y_true counts [49 50 50 50 50 50 50 50 50 50 50 50]\n",
      "Dist=\n",
      "[1 1 1 1 1 1 1 1 1 1 1 1]\n",
      "0 [2.5793773  0.02032899] pascal\n",
      "10 [2.5793773  0.25787835] pascal\n",
      "20 [2.5793773  0.49567271] pascal\n",
      "30 [2.5793773  0.73248906] pascal\n",
      "40 [2.5793773  0.96689391] pascal\n",
      "50 [2.5793773  1.19681388] pascal\n",
      "60 [2.5793773  1.44078967] pascal\n",
      "70 [2.5793773  1.69277998] pascal\n",
      "80 [2.5793773  1.95865629] pascal\n",
      "90 [2.5793773  2.19846084] pascal\n",
      "Loading trainer for source domain caltech\n"
     ]
    },
    {
     "name": "stderr",
     "output_type": "stream",
     "text": [
      "imagenet: 100%|██████████| 2/2 [00:00<00:00, 16.08it/s]\n"
     ]
    },
    {
     "name": "stdout",
     "output_type": "stream",
     "text": [
      "Loading trainer for source domain pascal\n"
     ]
    },
    {
     "name": "stderr",
     "output_type": "stream",
     "text": [
      "imagenet: 100%|██████████| 2/2 [00:00<00:00, 16.06it/s]\n"
     ]
    },
    {
     "name": "stdout",
     "output_type": "stream",
     "text": [
      "('image-clef', 'PC_I', 1, 0.9065108514190318)\n",
      "Loading trainer for source domain caltech\n",
      "Loading trainer for source domain caltech\n",
      "Loading trainer for source domain caltech\n",
      "Loading trainer for source domain caltech\n",
      "Loading trainer for source domain caltech\n",
      "Loading trainer for source domain pascal\n",
      "Loading trainer for source domain pascal\n",
      "Loading trainer for source domain pascal\n",
      "Loading trainer for source domain pascal\n",
      "Loading trainer for source domain pascal\n",
      "multiplier = 5\n",
      "\n",
      "\n",
      "\n",
      "Loading trainer for source domain caltech\n"
     ]
    },
    {
     "name": "stderr",
     "output_type": "stream",
     "text": [
      "caltech: 100%|██████████| 37/37 [00:00<00:00, 199.55it/s]\n"
     ]
    },
    {
     "name": "stdout",
     "output_type": "stream",
     "text": [
      "Loading trainer for source domain caltech\n"
     ]
    },
    {
     "name": "stderr",
     "output_type": "stream",
     "text": [
      "imagenet: 100%|██████████| 2/2 [00:00<00:00, 14.62it/s]\n"
     ]
    },
    {
     "name": "stdout",
     "output_type": "stream",
     "text": [
      "Source-only accuracy is 0.8530884808013356\n",
      "y__hat counts [44 49 50 66 50 50 30 48 54 46 37 75]\n",
      "y_true counts [49 50 50 50 50 50 50 50 50 50 50 50]\n",
      "Dist=\n",
      "[1 1 1 1 1 1 1 1 1 1 1 1]\n",
      "0 [0.02094034 0.        ] caltech\n",
      "10 [0.28496435 0.        ] caltech\n",
      "20 [0.55788328 0.        ] caltech\n",
      "30 [0.81457401 0.        ] caltech\n",
      "40 [1.06098143 0.        ] caltech\n",
      "50 [1.30879334 0.        ] caltech\n",
      "60 [1.56765517 0.        ] caltech\n",
      "70 [1.82316122 0.        ] caltech\n",
      "80 [2.06825808 0.        ] caltech\n",
      "90 [2.31876318 0.        ] caltech\n",
      "Loading trainer for source domain pascal\n"
     ]
    },
    {
     "name": "stderr",
     "output_type": "stream",
     "text": [
      "pascal: 100%|██████████| 37/37 [00:00<00:00, 188.10it/s]\n"
     ]
    },
    {
     "name": "stdout",
     "output_type": "stream",
     "text": [
      "Loading trainer for source domain pascal\n"
     ]
    },
    {
     "name": "stderr",
     "output_type": "stream",
     "text": [
      "imagenet: 100%|██████████| 2/2 [00:00<00:00, 13.75it/s]\n"
     ]
    },
    {
     "name": "stdout",
     "output_type": "stream",
     "text": [
      "Source-only accuracy is 0.8664440734557596\n",
      "y__hat counts [43 39 45 51 61 51 52 51 50 50 54 52]\n",
      "y_true counts [49 50 50 50 50 50 50 50 50 50 50 50]\n",
      "Dist=\n",
      "[1 1 1 1 1 1 1 1 1 1 1 1]\n",
      "0 [2.53779205 0.02136869] pascal\n",
      "10 [2.53779205 0.24887946] pascal\n",
      "20 [2.53779205 0.49467171] pascal\n",
      "30 [2.53779205 0.73589218] pascal\n",
      "40 [2.53779205 0.99056328] pascal\n",
      "50 [2.53779205 1.2433224 ] pascal\n",
      "60 [2.53779205 1.49256243] pascal\n",
      "70 [2.53779205 1.73041092] pascal\n",
      "80 [2.53779205 1.98653441] pascal\n",
      "90 [2.53779205 2.23569445] pascal\n",
      "Loading trainer for source domain caltech\n"
     ]
    },
    {
     "name": "stderr",
     "output_type": "stream",
     "text": [
      "imagenet: 100%|██████████| 2/2 [00:00<00:00, 15.66it/s]\n"
     ]
    },
    {
     "name": "stdout",
     "output_type": "stream",
     "text": [
      "Loading trainer for source domain pascal\n"
     ]
    },
    {
     "name": "stderr",
     "output_type": "stream",
     "text": [
      "imagenet: 100%|██████████| 2/2 [00:00<00:00, 15.45it/s]\n"
     ]
    },
    {
     "name": "stdout",
     "output_type": "stream",
     "text": [
      "('image-clef', 'PC_I', 2, 0.9198664440734557)\n",
      "Loading trainer for source domain caltech\n",
      "Loading trainer for source domain caltech\n",
      "Loading trainer for source domain caltech\n",
      "Loading trainer for source domain caltech\n",
      "Loading trainer for source domain caltech\n",
      "Loading trainer for source domain pascal\n",
      "Loading trainer for source domain pascal\n",
      "Loading trainer for source domain pascal\n",
      "Loading trainer for source domain pascal\n",
      "Loading trainer for source domain pascal\n",
      "multiplier = 5\n",
      "\n",
      "\n",
      "\n",
      "Loading trainer for source domain caltech\n"
     ]
    },
    {
     "name": "stderr",
     "output_type": "stream",
     "text": [
      "caltech: 100%|██████████| 37/37 [00:00<00:00, 208.00it/s]\n"
     ]
    },
    {
     "name": "stdout",
     "output_type": "stream",
     "text": [
      "Loading trainer for source domain caltech\n"
     ]
    },
    {
     "name": "stderr",
     "output_type": "stream",
     "text": [
      "imagenet: 100%|██████████| 2/2 [00:00<00:00, 16.17it/s]\n"
     ]
    },
    {
     "name": "stdout",
     "output_type": "stream",
     "text": [
      "Source-only accuracy is 0.8447412353923205\n",
      "y__hat counts [42 53 50 74 48 51 28 50 54 45 37 67]\n",
      "y_true counts [49 50 50 50 50 50 50 50 50 50 50 50]\n",
      "Dist=\n",
      "[1 1 1 1 1 1 1 1 1 1 1 1]\n",
      "0 [0.03041035 0.        ] caltech\n",
      "10 [0.26577098 0.        ] caltech\n",
      "20 [0.5455649 0.       ] caltech\n",
      "30 [0.79986869 0.        ] caltech\n",
      "40 [1.04332392 0.        ] caltech\n",
      "50 [1.28286855 0.        ] caltech\n",
      "60 [1.52722809 0.        ] caltech\n",
      "70 [1.77107721 0.        ] caltech\n",
      "80 [2.01046066 0.        ] caltech\n",
      "90 [2.25109495 0.        ] caltech\n",
      "Loading trainer for source domain pascal\n"
     ]
    },
    {
     "name": "stderr",
     "output_type": "stream",
     "text": [
      "pascal: 100%|██████████| 37/37 [00:00<00:00, 202.83it/s]\n"
     ]
    },
    {
     "name": "stdout",
     "output_type": "stream",
     "text": [
      "Loading trainer for source domain pascal\n"
     ]
    },
    {
     "name": "stderr",
     "output_type": "stream",
     "text": [
      "imagenet: 100%|██████████| 2/2 [00:00<00:00, 12.48it/s]\n"
     ]
    },
    {
     "name": "stdout",
     "output_type": "stream",
     "text": [
      "Source-only accuracy is 0.8714524207011686\n",
      "y__hat counts [47 40 48 52 56 50 48 53 47 50 58 50]\n",
      "y_true counts [49 50 50 50 50 50 50 50 50 50 50 50]\n",
      "Dist=\n",
      "[1 1 1 1 1 1 1 1 1 1 1 1]\n",
      "0 [2.4831049  0.02013195] pascal\n",
      "10 [2.4831049  0.26897166] pascal\n",
      "20 [2.4831049 0.5069831] pascal\n",
      "30 [2.4831049  0.75475813] pascal\n",
      "40 [2.4831049 1.0053763] pascal\n",
      "50 [2.4831049  1.26435122] pascal\n",
      "60 [2.4831049  1.51675596] pascal\n",
      "70 [2.4831049  1.76502838] pascal\n",
      "80 [2.4831049  2.00798243] pascal\n",
      "90 [2.4831049 2.2475144] pascal\n",
      "Loading trainer for source domain caltech\n"
     ]
    },
    {
     "name": "stderr",
     "output_type": "stream",
     "text": [
      "imagenet: 100%|██████████| 2/2 [00:00<00:00, 16.24it/s]\n"
     ]
    },
    {
     "name": "stdout",
     "output_type": "stream",
     "text": [
      "Loading trainer for source domain pascal\n"
     ]
    },
    {
     "name": "stderr",
     "output_type": "stream",
     "text": [
      "imagenet: 100%|██████████| 2/2 [00:00<00:00, 15.27it/s]\n"
     ]
    },
    {
     "name": "stdout",
     "output_type": "stream",
     "text": [
      "('image-clef', 'PC_I', 3, 0.9198664440734557)\n",
      "Loading trainer for source domain caltech\n",
      "Loading trainer for source domain caltech\n",
      "Loading trainer for source domain caltech\n",
      "Loading trainer for source domain caltech\n",
      "Loading trainer for source domain caltech\n",
      "Loading trainer for source domain pascal\n",
      "Loading trainer for source domain pascal\n",
      "Loading trainer for source domain pascal\n",
      "Loading trainer for source domain pascal\n",
      "Loading trainer for source domain pascal\n",
      "multiplier = 5\n",
      "\n",
      "\n",
      "\n",
      "Loading trainer for source domain caltech\n"
     ]
    },
    {
     "name": "stderr",
     "output_type": "stream",
     "text": [
      "caltech: 100%|██████████| 37/37 [00:00<00:00, 201.22it/s]\n"
     ]
    },
    {
     "name": "stdout",
     "output_type": "stream",
     "text": [
      "Loading trainer for source domain caltech\n"
     ]
    },
    {
     "name": "stderr",
     "output_type": "stream",
     "text": [
      "imagenet: 100%|██████████| 2/2 [00:00<00:00, 16.71it/s]\n"
     ]
    },
    {
     "name": "stdout",
     "output_type": "stream",
     "text": [
      "Source-only accuracy is 0.8430717863105175\n",
      "y__hat counts [41 51 48 64 50 51 26 47 58 45 43 75]\n",
      "y_true counts [49 50 50 50 50 50 50 50 50 50 50 50]\n",
      "Dist=\n",
      "[1 1 1 1 1 1 1 1 1 1 1 1]\n",
      "0 [0.02577629 0.        ] caltech\n",
      "10 [0.30909478 0.        ] caltech\n",
      "20 [0.57267735 0.        ] caltech\n",
      "30 [0.84631604 0.        ] caltech\n",
      "40 [1.11370085 0.        ] caltech\n",
      "50 [1.38186472 0.        ] caltech\n",
      "60 [1.63014051 0.        ] caltech\n",
      "70 [1.90064916 0.        ] caltech\n",
      "80 [2.17986357 0.        ] caltech\n",
      "90 [2.4443997 0.       ] caltech\n",
      "Loading trainer for source domain pascal\n"
     ]
    },
    {
     "name": "stderr",
     "output_type": "stream",
     "text": [
      "pascal: 100%|██████████| 37/37 [00:00<00:00, 199.66it/s]\n"
     ]
    },
    {
     "name": "stdout",
     "output_type": "stream",
     "text": [
      "Loading trainer for source domain pascal\n"
     ]
    },
    {
     "name": "stderr",
     "output_type": "stream",
     "text": [
      "imagenet: 100%|██████████| 2/2 [00:00<00:00, 13.27it/s]\n"
     ]
    },
    {
     "name": "stdout",
     "output_type": "stream",
     "text": [
      "Source-only accuracy is 0.8597662771285476\n",
      "y__hat counts [47 38 49 49 56 51 52 51 49 49 57 51]\n",
      "y_true counts [49 50 50 50 50 50 50 50 50 50 50 50]\n",
      "Dist=\n",
      "[1 1 1 1 1 1 1 1 1 1 1 1]\n",
      "0 [2.67490427 0.02729215] pascal\n",
      "10 [2.67490427 0.26681404] pascal\n",
      "20 [2.67490427 0.51169973] pascal\n",
      "30 [2.67490427 0.7528662 ] pascal\n",
      "40 [2.67490427 1.02058097] pascal\n",
      "50 [2.67490427 1.27288219] pascal\n",
      "60 [2.67490427 1.53162495] pascal\n",
      "70 [2.67490427 1.77802763] pascal\n",
      "80 [2.67490427 2.01648773] pascal\n",
      "90 [2.67490427 2.26698257] pascal\n",
      "Loading trainer for source domain caltech\n"
     ]
    },
    {
     "name": "stderr",
     "output_type": "stream",
     "text": [
      "imagenet: 100%|██████████| 2/2 [00:00<00:00, 14.85it/s]\n"
     ]
    },
    {
     "name": "stdout",
     "output_type": "stream",
     "text": [
      "Loading trainer for source domain pascal\n"
     ]
    },
    {
     "name": "stderr",
     "output_type": "stream",
     "text": [
      "imagenet: 100%|██████████| 2/2 [00:00<00:00, 16.54it/s]\n"
     ]
    },
    {
     "name": "stdout",
     "output_type": "stream",
     "text": [
      "('image-clef', 'PC_I', 4, 0.9048414023372288)\n",
      "IC_P\n",
      "Loading trainer for source domain caltech\n",
      "Loading trainer for source domain caltech\n",
      "Loading trainer for source domain caltech\n",
      "Loading trainer for source domain caltech\n",
      "Loading trainer for source domain caltech\n",
      "Loading trainer for source domain imagenet\n",
      "Loading trainer for source domain imagenet\n",
      "Loading trainer for source domain imagenet\n",
      "Loading trainer for source domain imagenet\n",
      "Loading trainer for source domain imagenet\n",
      "multiplier = 5\n",
      "\n",
      "\n",
      "\n",
      "Loading trainer for source domain caltech\n"
     ]
    },
    {
     "name": "stderr",
     "output_type": "stream",
     "text": [
      "caltech: 100%|██████████| 37/37 [00:00<00:00, 218.50it/s]\n"
     ]
    },
    {
     "name": "stdout",
     "output_type": "stream",
     "text": [
      "Loading trainer for source domain caltech\n"
     ]
    },
    {
     "name": "stderr",
     "output_type": "stream",
     "text": [
      "pascal: 100%|██████████| 2/2 [00:00<00:00, 15.88it/s]\n"
     ]
    },
    {
     "name": "stdout",
     "output_type": "stream",
     "text": [
      "Source-only accuracy is 0.7061769616026711\n",
      "y__hat counts [ 46  66  34  65  14  64  21  56  61  37  34 101]\n",
      "y_true counts [49 50 50 50 50 50 50 50 50 50 50 50]\n",
      "Dist=\n",
      "[1 1 1 1 1 1 1 1 1 1 1 1]\n",
      "0 [0.02545304 0.        ] caltech\n",
      "10 [0.30184802 0.        ] caltech\n",
      "20 [0.55737743 0.        ] caltech\n",
      "30 [0.83986316 0.        ] caltech\n",
      "40 [1.12050627 0.        ] caltech\n",
      "50 [1.4016541 0.       ] caltech\n",
      "60 [1.67995923 0.        ] caltech\n",
      "70 [1.96314788 0.        ] caltech\n",
      "80 [2.2335108 0.       ] caltech\n",
      "90 [2.505401 0.      ] caltech\n",
      "Loading trainer for source domain imagenet\n"
     ]
    },
    {
     "name": "stderr",
     "output_type": "stream",
     "text": [
      "imagenet: 100%|██████████| 37/37 [00:00<00:00, 213.84it/s]\n"
     ]
    },
    {
     "name": "stdout",
     "output_type": "stream",
     "text": [
      "Loading trainer for source domain imagenet\n"
     ]
    },
    {
     "name": "stderr",
     "output_type": "stream",
     "text": [
      "pascal: 100%|██████████| 2/2 [00:00<00:00, 13.10it/s]\n"
     ]
    },
    {
     "name": "stdout",
     "output_type": "stream",
     "text": [
      "Source-only accuracy is 0.7646076794657763\n",
      "y__hat counts [55 65 43 50 18 62 29 58 59 43 51 66]\n",
      "y_true counts [49 50 50 50 50 50 50 50 50 50 50 50]\n",
      "Dist=\n",
      "[1 1 1 1 1 1 1 1 1 1 1 1]\n",
      "0 [2.74757413 0.02383728] imagenet\n",
      "10 [2.74757413 0.29861505] imagenet\n",
      "20 [2.74757413 0.54601226] imagenet\n",
      "30 [2.74757413 0.79701207] imagenet\n",
      "40 [2.74757413 1.05884237] imagenet\n",
      "50 [2.74757413 1.30422277] imagenet\n",
      "60 [2.74757413 1.5634661 ] imagenet\n",
      "70 [2.74757413 1.8155292 ] imagenet\n",
      "80 [2.74757413 2.08452537] imagenet\n",
      "90 [2.74757413 2.34976315] imagenet\n",
      "Loading trainer for source domain caltech\n"
     ]
    },
    {
     "name": "stderr",
     "output_type": "stream",
     "text": [
      "pascal: 100%|██████████| 2/2 [00:00<00:00, 16.21it/s]\n"
     ]
    },
    {
     "name": "stdout",
     "output_type": "stream",
     "text": [
      "Loading trainer for source domain imagenet\n"
     ]
    },
    {
     "name": "stderr",
     "output_type": "stream",
     "text": [
      "pascal: 100%|██████████| 2/2 [00:00<00:00, 16.28it/s]\n"
     ]
    },
    {
     "name": "stdout",
     "output_type": "stream",
     "text": [
      "('image-clef', 'IC_P', 0, 0.7846410684474123)\n",
      "Loading trainer for source domain caltech\n",
      "Loading trainer for source domain caltech\n",
      "Loading trainer for source domain caltech\n",
      "Loading trainer for source domain caltech\n",
      "Loading trainer for source domain caltech\n",
      "Loading trainer for source domain imagenet\n",
      "Loading trainer for source domain imagenet\n",
      "Loading trainer for source domain imagenet\n",
      "Loading trainer for source domain imagenet\n",
      "Loading trainer for source domain imagenet\n",
      "multiplier = 5\n",
      "\n",
      "\n",
      "\n",
      "Loading trainer for source domain caltech\n"
     ]
    },
    {
     "name": "stderr",
     "output_type": "stream",
     "text": [
      "caltech: 100%|██████████| 37/37 [00:00<00:00, 211.46it/s]\n"
     ]
    },
    {
     "name": "stdout",
     "output_type": "stream",
     "text": [
      "Loading trainer for source domain caltech\n"
     ]
    },
    {
     "name": "stderr",
     "output_type": "stream",
     "text": [
      "pascal: 100%|██████████| 2/2 [00:00<00:00, 16.33it/s]\n"
     ]
    },
    {
     "name": "stdout",
     "output_type": "stream",
     "text": [
      "Source-only accuracy is 0.7045075125208681\n",
      "y__hat counts [ 48  61  32  73  17  58  25  57  59  35  33 101]\n",
      "y_true counts [49 50 50 50 50 50 50 50 50 50 50 50]\n",
      "Dist=\n",
      "[1 1 1 1 1 1 1 1 1 1 1 1]\n",
      "0 [0.02714208 0.        ] caltech\n",
      "10 [0.30949927 0.        ] caltech\n",
      "20 [0.57967664 0.        ] caltech\n",
      "30 [0.84215919 0.        ] caltech\n",
      "40 [1.10192788 0.        ] caltech\n",
      "50 [1.37604174 0.        ] caltech\n",
      "60 [1.65753362 0.        ] caltech\n",
      "70 [1.92072902 0.        ] caltech\n",
      "80 [2.17495717 0.        ] caltech\n",
      "90 [2.47363406 0.        ] caltech\n",
      "Loading trainer for source domain imagenet\n"
     ]
    },
    {
     "name": "stderr",
     "output_type": "stream",
     "text": [
      "imagenet: 100%|██████████| 37/37 [00:00<00:00, 202.27it/s]\n"
     ]
    },
    {
     "name": "stdout",
     "output_type": "stream",
     "text": [
      "Loading trainer for source domain imagenet\n"
     ]
    },
    {
     "name": "stderr",
     "output_type": "stream",
     "text": [
      "pascal: 100%|██████████| 2/2 [00:00<00:00, 14.31it/s]\n"
     ]
    },
    {
     "name": "stdout",
     "output_type": "stream",
     "text": [
      "Source-only accuracy is 0.7712854757929883\n",
      "y__hat counts [57 64 42 51 16 63 31 63 60 45 49 58]\n",
      "y_true counts [49 50 50 50 50 50 50 50 50 50 50 50]\n",
      "Dist=\n",
      "[1 1 1 1 1 1 1 1 1 1 1 1]\n",
      "0 [2.71576413 0.02166742] imagenet\n",
      "10 [2.71576413 0.26239661] imagenet\n",
      "20 [2.71576413 0.51145832] imagenet\n",
      "30 [2.71576413 0.76746163] imagenet\n",
      "40 [2.71576413 1.01670964] imagenet\n",
      "50 [2.71576413 1.26292279] imagenet\n",
      "60 [2.71576413 1.5068784 ] imagenet\n",
      "70 [2.71576413 1.74681099] imagenet\n",
      "80 [2.71576413 1.97750113] imagenet\n",
      "90 [2.71576413 2.21105103] imagenet\n",
      "Loading trainer for source domain caltech\n"
     ]
    },
    {
     "name": "stderr",
     "output_type": "stream",
     "text": [
      "pascal: 100%|██████████| 2/2 [00:00<00:00, 16.50it/s]\n"
     ]
    },
    {
     "name": "stdout",
     "output_type": "stream",
     "text": [
      "Loading trainer for source domain imagenet\n"
     ]
    },
    {
     "name": "stderr",
     "output_type": "stream",
     "text": [
      "pascal: 100%|██████████| 2/2 [00:00<00:00, 16.11it/s]\n"
     ]
    },
    {
     "name": "stdout",
     "output_type": "stream",
     "text": [
      "('image-clef', 'IC_P', 1, 0.7863105175292153)\n",
      "Loading trainer for source domain caltech\n",
      "Loading trainer for source domain caltech\n",
      "Loading trainer for source domain caltech\n",
      "Loading trainer for source domain caltech\n",
      "Loading trainer for source domain caltech\n",
      "Loading trainer for source domain imagenet\n",
      "Loading trainer for source domain imagenet\n",
      "Loading trainer for source domain imagenet\n",
      "Loading trainer for source domain imagenet\n",
      "Loading trainer for source domain imagenet\n",
      "multiplier = 5\n",
      "\n",
      "\n",
      "\n",
      "Loading trainer for source domain caltech\n"
     ]
    },
    {
     "name": "stderr",
     "output_type": "stream",
     "text": [
      "caltech: 100%|██████████| 37/37 [00:00<00:00, 204.74it/s]\n"
     ]
    },
    {
     "name": "stdout",
     "output_type": "stream",
     "text": [
      "Loading trainer for source domain caltech\n"
     ]
    },
    {
     "name": "stderr",
     "output_type": "stream",
     "text": [
      "pascal: 100%|██████████| 2/2 [00:00<00:00, 16.62it/s]\n"
     ]
    },
    {
     "name": "stdout",
     "output_type": "stream",
     "text": [
      "Source-only accuracy is 0.6961602671118531\n",
      "y__hat counts [43 64 35 73 21 60 26 52 60 36 31 98]\n",
      "y_true counts [49 50 50 50 50 50 50 50 50 50 50 50]\n",
      "Dist=\n",
      "[1 1 1 1 1 1 1 1 1 1 1 1]\n",
      "0 [0.02742604 0.        ] caltech\n",
      "10 [0.31932208 0.        ] caltech\n",
      "20 [0.62459609 0.        ] caltech\n",
      "30 [0.90946859 0.        ] caltech\n",
      "40 [1.18913696 0.        ] caltech\n",
      "50 [1.44882402 0.        ] caltech\n",
      "60 [1.72256695 0.        ] caltech\n",
      "70 [2.01311217 0.        ] caltech\n",
      "80 [2.29869764 0.        ] caltech\n",
      "90 [2.58425735 0.        ] caltech\n",
      "Loading trainer for source domain imagenet\n"
     ]
    },
    {
     "name": "stderr",
     "output_type": "stream",
     "text": [
      "imagenet: 100%|██████████| 37/37 [00:00<00:00, 204.66it/s]\n"
     ]
    },
    {
     "name": "stdout",
     "output_type": "stream",
     "text": [
      "Loading trainer for source domain imagenet\n"
     ]
    },
    {
     "name": "stderr",
     "output_type": "stream",
     "text": [
      "pascal: 100%|██████████| 2/2 [00:00<00:00, 13.00it/s]\n"
     ]
    },
    {
     "name": "stdout",
     "output_type": "stream",
     "text": [
      "Source-only accuracy is 0.7729549248747913\n",
      "y__hat counts [54 61 44 56 19 61 31 60 59 37 54 63]\n",
      "y_true counts [49 50 50 50 50 50 50 50 50 50 50 50]\n",
      "Dist=\n",
      "[1 1 1 1 1 1 1 1 1 1 1 1]\n",
      "0 [2.83298323 0.01823181] imagenet\n",
      "10 [2.83298323 0.27177363] imagenet\n",
      "20 [2.83298323 0.5279507 ] imagenet\n",
      "30 [2.83298323 0.77248444] imagenet\n",
      "40 [2.83298323 1.01522797] imagenet\n",
      "50 [2.83298323 1.28721615] imagenet\n",
      "60 [2.83298323 1.51657827] imagenet\n",
      "70 [2.83298323 1.77843999] imagenet\n",
      "80 [2.83298323 2.00240861] imagenet\n",
      "90 [2.83298323 2.24530619] imagenet\n",
      "Loading trainer for source domain caltech\n"
     ]
    },
    {
     "name": "stderr",
     "output_type": "stream",
     "text": [
      "pascal: 100%|██████████| 2/2 [00:00<00:00, 15.50it/s]\n"
     ]
    },
    {
     "name": "stdout",
     "output_type": "stream",
     "text": [
      "Loading trainer for source domain imagenet\n"
     ]
    },
    {
     "name": "stderr",
     "output_type": "stream",
     "text": [
      "pascal: 100%|██████████| 2/2 [00:00<00:00, 10.17it/s]\n"
     ]
    },
    {
     "name": "stdout",
     "output_type": "stream",
     "text": [
      "('image-clef', 'IC_P', 2, 0.7963272120200334)\n",
      "Loading trainer for source domain caltech\n",
      "Loading trainer for source domain caltech\n",
      "Loading trainer for source domain caltech\n",
      "Loading trainer for source domain caltech\n",
      "Loading trainer for source domain caltech\n",
      "Loading trainer for source domain imagenet\n",
      "Loading trainer for source domain imagenet\n",
      "Loading trainer for source domain imagenet\n",
      "Loading trainer for source domain imagenet\n",
      "Loading trainer for source domain imagenet\n",
      "multiplier = 5\n",
      "\n",
      "\n",
      "\n",
      "Loading trainer for source domain caltech\n"
     ]
    },
    {
     "name": "stderr",
     "output_type": "stream",
     "text": [
      "caltech: 100%|██████████| 37/37 [00:00<00:00, 197.96it/s]\n"
     ]
    },
    {
     "name": "stdout",
     "output_type": "stream",
     "text": [
      "Loading trainer for source domain caltech\n"
     ]
    },
    {
     "name": "stderr",
     "output_type": "stream",
     "text": [
      "pascal: 100%|██████████| 2/2 [00:00<00:00, 16.31it/s]\n"
     ]
    },
    {
     "name": "stdout",
     "output_type": "stream",
     "text": [
      "Source-only accuracy is 0.7028380634390651\n",
      "y__hat counts [45 71 32 71 21 62 23 60 64 34 27 89]\n",
      "y_true counts [49 50 50 50 50 50 50 50 50 50 50 50]\n",
      "Dist=\n",
      "[1 1 1 1 1 1 1 1 1 1 1 1]\n",
      "0 [0.02596014 0.        ] caltech\n",
      "10 [0.30237129 0.        ] caltech\n",
      "20 [0.57405329 0.        ] caltech\n",
      "30 [0.85503643 0.        ] caltech\n",
      "40 [1.1339152 0.       ] caltech\n",
      "50 [1.42446063 0.        ] caltech\n",
      "60 [1.70717101 0.        ] caltech\n",
      "70 [2.01229263 0.        ] caltech\n",
      "80 [2.29279189 0.        ] caltech\n",
      "90 [2.57915778 0.        ] caltech\n",
      "Loading trainer for source domain imagenet\n"
     ]
    },
    {
     "name": "stderr",
     "output_type": "stream",
     "text": [
      "imagenet: 100%|██████████| 37/37 [00:00<00:00, 208.38it/s]\n"
     ]
    },
    {
     "name": "stdout",
     "output_type": "stream",
     "text": [
      "Loading trainer for source domain imagenet\n"
     ]
    },
    {
     "name": "stderr",
     "output_type": "stream",
     "text": [
      "pascal: 100%|██████████| 2/2 [00:00<00:00, 14.08it/s]\n"
     ]
    },
    {
     "name": "stdout",
     "output_type": "stream",
     "text": [
      "Source-only accuracy is 0.7746243739565943\n",
      "y__hat counts [53 65 44 51 17 62 31 64 58 45 51 58]\n",
      "y_true counts [49 50 50 50 50 50 50 50 50 50 50 50]\n",
      "Dist=\n",
      "[1 1 1 1 1 1 1 1 1 1 1 1]\n",
      "0 [2.8158976  0.02862658] imagenet\n",
      "10 [2.8158976  0.28523404] imagenet\n",
      "20 [2.8158976  0.54370134] imagenet\n",
      "30 [2.8158976  0.79712683] imagenet\n",
      "40 [2.8158976  1.04749653] imagenet\n",
      "50 [2.8158976  1.29698069] imagenet\n",
      "60 [2.8158976  1.54115212] imagenet\n",
      "70 [2.8158976  1.76822273] imagenet\n",
      "80 [2.8158976  2.00977988] imagenet\n",
      "90 [2.8158976  2.26160196] imagenet\n",
      "Loading trainer for source domain caltech\n"
     ]
    },
    {
     "name": "stderr",
     "output_type": "stream",
     "text": [
      "pascal: 100%|██████████| 2/2 [00:00<00:00, 15.47it/s]\n"
     ]
    },
    {
     "name": "stdout",
     "output_type": "stream",
     "text": [
      "Loading trainer for source domain imagenet\n"
     ]
    },
    {
     "name": "stderr",
     "output_type": "stream",
     "text": [
      "pascal: 100%|██████████| 2/2 [00:00<00:00, 15.24it/s]\n"
     ]
    },
    {
     "name": "stdout",
     "output_type": "stream",
     "text": [
      "('image-clef', 'IC_P', 3, 0.7913188647746243)\n",
      "Loading trainer for source domain caltech\n",
      "Loading trainer for source domain caltech\n",
      "Loading trainer for source domain caltech\n",
      "Loading trainer for source domain caltech\n",
      "Loading trainer for source domain caltech\n",
      "Loading trainer for source domain imagenet\n",
      "Loading trainer for source domain imagenet\n",
      "Loading trainer for source domain imagenet\n",
      "Loading trainer for source domain imagenet\n",
      "Loading trainer for source domain imagenet\n",
      "multiplier = 5\n",
      "\n",
      "\n",
      "\n",
      "Loading trainer for source domain caltech\n"
     ]
    },
    {
     "name": "stderr",
     "output_type": "stream",
     "text": [
      "caltech: 100%|██████████| 37/37 [00:00<00:00, 203.00it/s]\n"
     ]
    },
    {
     "name": "stdout",
     "output_type": "stream",
     "text": [
      "Loading trainer for source domain caltech\n"
     ]
    },
    {
     "name": "stderr",
     "output_type": "stream",
     "text": [
      "pascal: 100%|██████████| 2/2 [00:00<00:00, 16.91it/s]\n"
     ]
    },
    {
     "name": "stdout",
     "output_type": "stream",
     "text": [
      "Source-only accuracy is 0.7028380634390651\n",
      "y__hat counts [42 58 34 76 25 63 20 57 61 39 35 89]\n",
      "y_true counts [49 50 50 50 50 50 50 50 50 50 50 50]\n",
      "Dist=\n",
      "[1 1 1 1 1 1 1 1 1 1 1 1]\n",
      "0 [0.0349835 0.       ] caltech\n",
      "10 [0.3072034 0.       ] caltech\n",
      "20 [0.6013118 0.       ] caltech\n",
      "30 [0.87035323 0.        ] caltech\n",
      "40 [1.15721123 0.        ] caltech\n",
      "50 [1.43674189 0.        ] caltech\n",
      "60 [1.72527471 0.        ] caltech\n",
      "70 [2.01089284 0.        ] caltech\n",
      "80 [2.29936297 0.        ] caltech\n",
      "90 [2.58842908 0.        ] caltech\n",
      "Loading trainer for source domain imagenet\n"
     ]
    },
    {
     "name": "stderr",
     "output_type": "stream",
     "text": [
      "imagenet: 100%|██████████| 37/37 [00:00<00:00, 208.05it/s]\n"
     ]
    },
    {
     "name": "stdout",
     "output_type": "stream",
     "text": [
      "Loading trainer for source domain imagenet\n"
     ]
    },
    {
     "name": "stderr",
     "output_type": "stream",
     "text": [
      "pascal: 100%|██████████| 2/2 [00:00<00:00, 14.76it/s]\n"
     ]
    },
    {
     "name": "stdout",
     "output_type": "stream",
     "text": [
      "Source-only accuracy is 0.7662771285475793\n",
      "y__hat counts [58 65 42 49 20 63 30 60 59 41 48 64]\n",
      "y_true counts [49 50 50 50 50 50 50 50 50 50 50 50]\n",
      "Dist=\n",
      "[1 1 1 1 1 1 1 1 1 1 1 1]\n",
      "0 [2.81587757 0.022877  ] imagenet\n",
      "10 [2.81587757 0.25896503] imagenet\n",
      "20 [2.81587757 0.51182978] imagenet\n",
      "30 [2.81587757 0.75545141] imagenet\n",
      "40 [2.81587757 0.98769122] imagenet\n",
      "50 [2.81587757 1.2243657 ] imagenet\n",
      "60 [2.81587757 1.46847718] imagenet\n",
      "70 [2.81587757 1.70570369] imagenet\n",
      "80 [2.81587757 1.95184602] imagenet\n",
      "90 [2.81587757 2.19211878] imagenet\n",
      "Loading trainer for source domain caltech\n"
     ]
    },
    {
     "name": "stderr",
     "output_type": "stream",
     "text": [
      "pascal: 100%|██████████| 2/2 [00:00<00:00, 17.03it/s]\n"
     ]
    },
    {
     "name": "stdout",
     "output_type": "stream",
     "text": [
      "Loading trainer for source domain imagenet\n"
     ]
    },
    {
     "name": "stderr",
     "output_type": "stream",
     "text": [
      "pascal: 100%|██████████| 2/2 [00:00<00:00, 16.85it/s]\n"
     ]
    },
    {
     "name": "stdout",
     "output_type": "stream",
     "text": [
      "('image-clef', 'IC_P', 4, 0.7896494156928213)\n",
      "IP_C\n",
      "Loading trainer for source domain imagenet\n",
      "Loading trainer for source domain imagenet\n",
      "Loading trainer for source domain imagenet\n",
      "Loading trainer for source domain imagenet\n",
      "Loading trainer for source domain imagenet\n",
      "Loading trainer for source domain pascal\n",
      "Loading trainer for source domain pascal\n",
      "Loading trainer for source domain pascal\n",
      "Loading trainer for source domain pascal\n",
      "Loading trainer for source domain pascal\n",
      "multiplier = 5\n",
      "\n",
      "\n",
      "\n",
      "Loading trainer for source domain imagenet\n"
     ]
    },
    {
     "name": "stderr",
     "output_type": "stream",
     "text": [
      "imagenet: 100%|██████████| 37/37 [00:00<00:00, 199.25it/s]\n"
     ]
    },
    {
     "name": "stdout",
     "output_type": "stream",
     "text": [
      "Loading trainer for source domain imagenet\n"
     ]
    },
    {
     "name": "stderr",
     "output_type": "stream",
     "text": [
      "caltech: 100%|██████████| 2/2 [00:00<00:00, 14.76it/s]\n"
     ]
    },
    {
     "name": "stdout",
     "output_type": "stream",
     "text": [
      "Source-only accuracy is 0.9232053422370617\n",
      "y__hat counts [55 54 52 42 48 48 55 55 42 56 53 39]\n",
      "y_true counts [49 50 50 50 50 50 50 50 50 50 50 50]\n",
      "Dist=\n",
      "[1 1 1 1 1 1 1 1 1 1 1 1]\n",
      "0 [0.02324046 0.        ] imagenet\n",
      "10 [0.26531831 0.        ] imagenet\n",
      "20 [0.48720204 0.        ] imagenet\n",
      "30 [0.73341119 0.        ] imagenet\n",
      "40 [0.96875726 0.        ] imagenet\n",
      "50 [1.198496 0.      ] imagenet\n",
      "60 [1.45521903 0.        ] imagenet\n",
      "70 [1.67720748 0.        ] imagenet\n",
      "80 [1.91591477 0.        ] imagenet\n",
      "90 [2.1658717 0.       ] imagenet\n",
      "Loading trainer for source domain pascal\n"
     ]
    },
    {
     "name": "stderr",
     "output_type": "stream",
     "text": [
      "pascal: 100%|██████████| 37/37 [00:00<00:00, 206.50it/s]\n"
     ]
    },
    {
     "name": "stdout",
     "output_type": "stream",
     "text": [
      "Loading trainer for source domain pascal\n"
     ]
    },
    {
     "name": "stderr",
     "output_type": "stream",
     "text": [
      "caltech: 100%|██████████| 2/2 [00:00<00:00, 13.03it/s]\n"
     ]
    },
    {
     "name": "stdout",
     "output_type": "stream",
     "text": [
      "Source-only accuracy is 0.9065108514190318\n",
      "y__hat counts [51 50 48 41 57 59 48 50 49 53 53 40]\n",
      "y_true counts [49 50 50 50 50 50 50 50 50 50 50 50]\n",
      "Dist=\n",
      "[1 1 1 1 1 1 1 1 1 1 1 1]\n",
      "0 [2.3724691  0.02554318] pascal\n",
      "10 [2.3724691  0.29960012] pascal\n",
      "20 [2.3724691  0.58719003] pascal\n",
      "30 [2.3724691  0.85436346] pascal\n",
      "40 [2.3724691  1.12004158] pascal\n",
      "50 [2.3724691  1.39552061] pascal\n",
      "60 [2.3724691  1.65180338] pascal\n",
      "70 [2.3724691  1.92503975] pascal\n",
      "80 [2.3724691  2.20087312] pascal\n",
      "90 [2.3724691  2.46818773] pascal\n",
      "Loading trainer for source domain imagenet\n"
     ]
    },
    {
     "name": "stderr",
     "output_type": "stream",
     "text": [
      "caltech: 100%|██████████| 2/2 [00:00<00:00, 16.74it/s]\n"
     ]
    },
    {
     "name": "stdout",
     "output_type": "stream",
     "text": [
      "Loading trainer for source domain pascal\n"
     ]
    },
    {
     "name": "stderr",
     "output_type": "stream",
     "text": [
      "caltech: 100%|██████████| 2/2 [00:00<00:00, 15.69it/s]\n"
     ]
    },
    {
     "name": "stdout",
     "output_type": "stream",
     "text": [
      "('image-clef', 'IP_C', 0, 0.9616026711185309)\n",
      "Loading trainer for source domain imagenet\n",
      "Loading trainer for source domain imagenet\n",
      "Loading trainer for source domain imagenet\n",
      "Loading trainer for source domain imagenet\n",
      "Loading trainer for source domain imagenet\n",
      "Loading trainer for source domain pascal\n",
      "Loading trainer for source domain pascal\n",
      "Loading trainer for source domain pascal\n",
      "Loading trainer for source domain pascal\n",
      "Loading trainer for source domain pascal\n",
      "multiplier = 5\n",
      "\n",
      "\n",
      "\n",
      "Loading trainer for source domain imagenet\n"
     ]
    },
    {
     "name": "stderr",
     "output_type": "stream",
     "text": [
      "imagenet: 100%|██████████| 37/37 [00:00<00:00, 195.93it/s]\n"
     ]
    },
    {
     "name": "stdout",
     "output_type": "stream",
     "text": [
      "Loading trainer for source domain imagenet\n"
     ]
    },
    {
     "name": "stderr",
     "output_type": "stream",
     "text": [
      "caltech: 100%|██████████| 2/2 [00:00<00:00, 15.25it/s]\n"
     ]
    },
    {
     "name": "stdout",
     "output_type": "stream",
     "text": [
      "Source-only accuracy is 0.9282136894824707\n",
      "y__hat counts [52 52 51 45 48 49 55 55 45 57 52 38]\n",
      "y_true counts [49 50 50 50 50 50 50 50 50 50 50 50]\n",
      "Dist=\n",
      "[1 1 1 1 1 1 1 1 1 1 1 1]\n",
      "0 [0.02418071 0.        ] imagenet\n",
      "10 [0.29677744 0.        ] imagenet\n",
      "20 [0.5355181 0.       ] imagenet\n",
      "30 [0.77907175 0.        ] imagenet\n",
      "40 [1.01246253 0.        ] imagenet\n",
      "50 [1.27161673 0.        ] imagenet\n",
      "60 [1.52217827 0.        ] imagenet\n",
      "70 [1.77162832 0.        ] imagenet\n",
      "80 [2.0301948 0.       ] imagenet\n",
      "90 [2.29059412 0.        ] imagenet\n",
      "Loading trainer for source domain pascal\n"
     ]
    },
    {
     "name": "stderr",
     "output_type": "stream",
     "text": [
      "pascal: 100%|██████████| 37/37 [00:00<00:00, 200.37it/s]\n"
     ]
    },
    {
     "name": "stdout",
     "output_type": "stream",
     "text": [
      "Loading trainer for source domain pascal\n"
     ]
    },
    {
     "name": "stderr",
     "output_type": "stream",
     "text": [
      "caltech: 100%|██████████| 2/2 [00:00<00:00, 14.05it/s]\n"
     ]
    },
    {
     "name": "stdout",
     "output_type": "stream",
     "text": [
      "Source-only accuracy is 0.8998330550918197\n",
      "y__hat counts [51 50 53 44 59 55 50 52 41 51 55 38]\n",
      "y_true counts [49 50 50 50 50 50 50 50 50 50 50 50]\n",
      "Dist=\n",
      "[1 1 1 1 1 1 1 1 1 1 1 1]\n",
      "0 [2.53880224 0.02785523] pascal\n",
      "10 [2.53880224 0.31740685] pascal\n",
      "20 [2.53880224 0.59427396] pascal\n",
      "30 [2.53880224 0.86127023] pascal\n",
      "40 [2.53880224 1.11637003] pascal\n",
      "50 [2.53880224 1.37438963] pascal\n",
      "60 [2.53880224 1.63920784] pascal\n",
      "70 [2.53880224 1.90500746] pascal\n",
      "80 [2.53880224 2.18207171] pascal\n",
      "90 [2.53880224 2.45199697] pascal\n",
      "Loading trainer for source domain imagenet\n"
     ]
    },
    {
     "name": "stderr",
     "output_type": "stream",
     "text": [
      "caltech: 100%|██████████| 2/2 [00:00<00:00, 16.36it/s]\n"
     ]
    },
    {
     "name": "stdout",
     "output_type": "stream",
     "text": [
      "Loading trainer for source domain pascal\n"
     ]
    },
    {
     "name": "stderr",
     "output_type": "stream",
     "text": [
      "caltech: 100%|██████████| 2/2 [00:00<00:00, 15.89it/s]\n"
     ]
    },
    {
     "name": "stdout",
     "output_type": "stream",
     "text": [
      "('image-clef', 'IP_C', 1, 0.9515859766277128)\n",
      "Loading trainer for source domain imagenet\n",
      "Loading trainer for source domain imagenet\n",
      "Loading trainer for source domain imagenet\n",
      "Loading trainer for source domain imagenet\n",
      "Loading trainer for source domain imagenet\n",
      "Loading trainer for source domain pascal\n",
      "Loading trainer for source domain pascal\n",
      "Loading trainer for source domain pascal\n",
      "Loading trainer for source domain pascal\n",
      "Loading trainer for source domain pascal\n",
      "multiplier = 5\n",
      "\n",
      "\n",
      "\n",
      "Loading trainer for source domain imagenet\n"
     ]
    },
    {
     "name": "stderr",
     "output_type": "stream",
     "text": [
      "imagenet: 100%|██████████| 37/37 [00:00<00:00, 200.32it/s]\n"
     ]
    },
    {
     "name": "stdout",
     "output_type": "stream",
     "text": [
      "Loading trainer for source domain imagenet\n"
     ]
    },
    {
     "name": "stderr",
     "output_type": "stream",
     "text": [
      "caltech: 100%|██████████| 2/2 [00:00<00:00, 15.10it/s]\n"
     ]
    },
    {
     "name": "stdout",
     "output_type": "stream",
     "text": [
      "Source-only accuracy is 0.9348914858096828\n",
      "y__hat counts [55 54 51 43 47 49 54 53 45 56 51 41]\n",
      "y_true counts [49 50 50 50 50 50 50 50 50 50 50 50]\n",
      "Dist=\n",
      "[1 1 1 1 1 1 1 1 1 1 1 1]\n",
      "0 [0.02543849 0.        ] imagenet\n",
      "10 [0.25475806 0.        ] imagenet\n",
      "20 [0.4770347 0.       ] imagenet\n",
      "30 [0.71523048 0.        ] imagenet\n",
      "40 [0.94227653 0.        ] imagenet\n",
      "50 [1.1858262 0.       ] imagenet\n",
      "60 [1.43212778 0.        ] imagenet\n",
      "70 [1.67885855 0.        ] imagenet\n",
      "80 [1.92673847 0.        ] imagenet\n",
      "90 [2.16400954 0.        ] imagenet\n",
      "Loading trainer for source domain pascal\n"
     ]
    },
    {
     "name": "stderr",
     "output_type": "stream",
     "text": [
      "pascal: 100%|██████████| 37/37 [00:00<00:00, 208.45it/s]\n"
     ]
    },
    {
     "name": "stdout",
     "output_type": "stream",
     "text": [
      "Loading trainer for source domain pascal\n"
     ]
    },
    {
     "name": "stderr",
     "output_type": "stream",
     "text": [
      "caltech: 100%|██████████| 2/2 [00:00<00:00, 12.54it/s]\n"
     ]
    },
    {
     "name": "stdout",
     "output_type": "stream",
     "text": [
      "Source-only accuracy is 0.8981636060100167\n",
      "y__hat counts [52 49 47 42 61 57 49 53 42 51 53 43]\n",
      "y_true counts [49 50 50 50 50 50 50 50 50 50 50 50]\n",
      "Dist=\n",
      "[1 1 1 1 1 1 1 1 1 1 1 1]\n",
      "0 [2.38841797 0.02409352] pascal\n",
      "10 [2.38841797 0.28615342] pascal\n",
      "20 [2.38841797 0.56681236] pascal\n",
      "30 [2.38841797 0.83751953] pascal\n",
      "40 [2.38841797 1.10540186] pascal\n",
      "50 [2.38841797 1.36278196] pascal\n",
      "60 [2.38841797 1.63464081] pascal\n",
      "70 [2.38841797 1.90656526] pascal\n",
      "80 [2.38841797 2.18355254] pascal\n",
      "90 [2.38841797 2.453709  ] pascal\n",
      "Loading trainer for source domain imagenet\n"
     ]
    },
    {
     "name": "stderr",
     "output_type": "stream",
     "text": [
      "caltech: 100%|██████████| 2/2 [00:00<00:00, 14.50it/s]\n"
     ]
    },
    {
     "name": "stdout",
     "output_type": "stream",
     "text": [
      "Loading trainer for source domain pascal\n"
     ]
    },
    {
     "name": "stderr",
     "output_type": "stream",
     "text": [
      "caltech: 100%|██████████| 2/2 [00:00<00:00,  9.96it/s]\n"
     ]
    },
    {
     "name": "stdout",
     "output_type": "stream",
     "text": [
      "('image-clef', 'IP_C', 2, 0.9415692821368948)\n",
      "Loading trainer for source domain imagenet\n",
      "Loading trainer for source domain imagenet\n",
      "Loading trainer for source domain imagenet\n",
      "Loading trainer for source domain imagenet\n",
      "Loading trainer for source domain imagenet\n",
      "Loading trainer for source domain pascal\n",
      "Loading trainer for source domain pascal\n",
      "Loading trainer for source domain pascal\n",
      "Loading trainer for source domain pascal\n",
      "Loading trainer for source domain pascal\n",
      "multiplier = 5\n",
      "\n",
      "\n",
      "\n",
      "Loading trainer for source domain imagenet\n"
     ]
    },
    {
     "name": "stderr",
     "output_type": "stream",
     "text": [
      "imagenet: 100%|██████████| 37/37 [00:00<00:00, 209.17it/s]\n"
     ]
    },
    {
     "name": "stdout",
     "output_type": "stream",
     "text": [
      "Loading trainer for source domain imagenet\n"
     ]
    },
    {
     "name": "stderr",
     "output_type": "stream",
     "text": [
      "caltech: 100%|██████████| 2/2 [00:00<00:00, 16.56it/s]\n"
     ]
    },
    {
     "name": "stdout",
     "output_type": "stream",
     "text": [
      "Source-only accuracy is 0.9282136894824707\n",
      "y__hat counts [54 55 50 41 48 47 56 53 43 57 55 40]\n",
      "y_true counts [49 50 50 50 50 50 50 50 50 50 50 50]\n",
      "Dist=\n",
      "[1 1 1 1 1 1 1 1 1 1 1 1]\n",
      "0 [0.02398473 0.        ] imagenet\n",
      "10 [0.25392086 0.        ] imagenet\n",
      "20 [0.51900826 0.        ] imagenet\n",
      "30 [0.76489443 0.        ] imagenet\n",
      "40 [1.0065003 0.       ] imagenet\n",
      "50 [1.24823553 0.        ] imagenet\n",
      "60 [1.50920567 0.        ] imagenet\n",
      "70 [1.74789269 0.        ] imagenet\n",
      "80 [1.99826206 0.        ] imagenet\n",
      "90 [2.24246212 0.        ] imagenet\n",
      "Loading trainer for source domain pascal\n"
     ]
    },
    {
     "name": "stderr",
     "output_type": "stream",
     "text": [
      "pascal: 100%|██████████| 37/37 [00:00<00:00, 204.36it/s]\n"
     ]
    },
    {
     "name": "stdout",
     "output_type": "stream",
     "text": [
      "Loading trainer for source domain pascal\n"
     ]
    },
    {
     "name": "stderr",
     "output_type": "stream",
     "text": [
      "caltech: 100%|██████████| 2/2 [00:00<00:00, 13.14it/s]\n"
     ]
    },
    {
     "name": "stdout",
     "output_type": "stream",
     "text": [
      "Source-only accuracy is 0.9165275459098498\n",
      "y__hat counts [51 49 49 45 57 49 55 52 47 53 53 39]\n",
      "y_true counts [49 50 50 50 50 50 50 50 50 50 50 50]\n",
      "Dist=\n",
      "[1 1 1 1 1 1 1 1 1 1 1 1]\n",
      "0 [2.46205492 0.02747796] pascal\n",
      "10 [2.46205492 0.30961327] pascal\n",
      "20 [2.46205492 0.56293232] pascal\n",
      "30 [2.46205492 0.81283305] pascal\n",
      "40 [2.46205492 1.07825831] pascal\n",
      "50 [2.46205492 1.32221341] pascal\n",
      "60 [2.46205492 1.57990801] pascal\n",
      "70 [2.46205492 1.83768514] pascal\n",
      "80 [2.46205492 2.10790101] pascal\n",
      "90 [2.46205492 2.36659282] pascal\n",
      "Loading trainer for source domain imagenet\n"
     ]
    },
    {
     "name": "stderr",
     "output_type": "stream",
     "text": [
      "caltech: 100%|██████████| 2/2 [00:00<00:00, 15.74it/s]\n"
     ]
    },
    {
     "name": "stdout",
     "output_type": "stream",
     "text": [
      "Loading trainer for source domain pascal\n"
     ]
    },
    {
     "name": "stderr",
     "output_type": "stream",
     "text": [
      "caltech: 100%|██████████| 2/2 [00:00<00:00, 16.29it/s]\n"
     ]
    },
    {
     "name": "stdout",
     "output_type": "stream",
     "text": [
      "('image-clef', 'IP_C', 3, 0.9549248747913188)\n",
      "Loading trainer for source domain imagenet\n",
      "Loading trainer for source domain imagenet\n",
      "Loading trainer for source domain imagenet\n",
      "Loading trainer for source domain imagenet\n",
      "Loading trainer for source domain imagenet\n",
      "Loading trainer for source domain pascal\n",
      "Loading trainer for source domain pascal\n",
      "Loading trainer for source domain pascal\n",
      "Loading trainer for source domain pascal\n",
      "Loading trainer for source domain pascal\n",
      "multiplier = 5\n",
      "\n",
      "\n",
      "\n",
      "Loading trainer for source domain imagenet\n"
     ]
    },
    {
     "name": "stderr",
     "output_type": "stream",
     "text": [
      "imagenet: 100%|██████████| 37/37 [00:00<00:00, 201.31it/s]\n"
     ]
    },
    {
     "name": "stdout",
     "output_type": "stream",
     "text": [
      "Loading trainer for source domain imagenet\n"
     ]
    },
    {
     "name": "stderr",
     "output_type": "stream",
     "text": [
      "caltech: 100%|██████████| 2/2 [00:00<00:00, 15.26it/s]\n"
     ]
    },
    {
     "name": "stdout",
     "output_type": "stream",
     "text": [
      "Source-only accuracy is 0.9282136894824707\n",
      "y__hat counts [55 53 53 43 49 49 54 55 43 56 51 38]\n",
      "y_true counts [49 50 50 50 50 50 50 50 50 50 50 50]\n",
      "Dist=\n",
      "[1 1 1 1 1 1 1 1 1 1 1 1]\n",
      "0 [0.02472635 0.        ] imagenet\n",
      "10 [0.29233909 0.        ] imagenet\n",
      "20 [0.53152124 0.        ] imagenet\n",
      "30 [0.7791453 0.       ] imagenet\n",
      "40 [1.04782919 0.        ] imagenet\n",
      "50 [1.30779911 0.        ] imagenet\n",
      "60 [1.54319582 0.        ] imagenet\n",
      "70 [1.78762259 0.        ] imagenet\n",
      "80 [2.03684199 0.        ] imagenet\n",
      "90 [2.29592085 0.        ] imagenet\n",
      "Loading trainer for source domain pascal\n"
     ]
    },
    {
     "name": "stderr",
     "output_type": "stream",
     "text": [
      "pascal: 100%|██████████| 37/37 [00:00<00:00, 212.68it/s]\n"
     ]
    },
    {
     "name": "stdout",
     "output_type": "stream",
     "text": [
      "Loading trainer for source domain pascal\n"
     ]
    },
    {
     "name": "stderr",
     "output_type": "stream",
     "text": [
      "caltech: 100%|██████████| 2/2 [00:00<00:00, 12.82it/s]\n"
     ]
    },
    {
     "name": "stdout",
     "output_type": "stream",
     "text": [
      "Source-only accuracy is 0.8964941569282137\n",
      "y__hat counts [52 53 52 41 58 50 55 50 40 54 53 41]\n",
      "y_true counts [49 50 50 50 50 50 50 50 50 50 50 50]\n",
      "Dist=\n",
      "[1 1 1 1 1 1 1 1 1 1 1 1]\n",
      "0 [2.52250988 0.03097572] pascal\n",
      "10 [2.52250988 0.29366841] pascal\n",
      "20 [2.52250988 0.57384424] pascal\n",
      "30 [2.52250988 0.84481393] pascal\n",
      "40 [2.52250988 1.12336363] pascal\n",
      "50 [2.52250988 1.39516446] pascal\n",
      "60 [2.52250988 1.68241729] pascal\n",
      "70 [2.52250988 1.93652288] pascal\n",
      "80 [2.52250988 2.1983154 ] pascal\n",
      "90 [2.52250988 2.4537127 ] pascal\n",
      "Loading trainer for source domain imagenet\n"
     ]
    },
    {
     "name": "stderr",
     "output_type": "stream",
     "text": [
      "caltech: 100%|██████████| 2/2 [00:00<00:00, 15.93it/s]\n"
     ]
    },
    {
     "name": "stdout",
     "output_type": "stream",
     "text": [
      "Loading trainer for source domain pascal\n"
     ]
    },
    {
     "name": "stderr",
     "output_type": "stream",
     "text": [
      "caltech: 100%|██████████| 2/2 [00:00<00:00, 16.61it/s]\n"
     ]
    },
    {
     "name": "stdout",
     "output_type": "stream",
     "text": [
      "('image-clef', 'IP_C', 4, 0.9482470784641068)\n",
      "office-caltech\n",
      "ACD_W\n",
      "Loading trainer for source domain amazon\n",
      "Loading trainer for source domain amazon\n",
      "Loading trainer for source domain amazon\n",
      "Loading trainer for source domain amazon\n",
      "Loading trainer for source domain amazon\n",
      "Loading trainer for source domain caltech\n",
      "Loading trainer for source domain caltech\n",
      "Loading trainer for source domain caltech\n",
      "Loading trainer for source domain caltech\n",
      "Loading trainer for source domain caltech\n",
      "Loading trainer for source domain dslr\n",
      "Loading trainer for source domain dslr\n",
      "Loading trainer for source domain dslr\n",
      "Loading trainer for source domain dslr\n",
      "Loading trainer for source domain dslr\n",
      "multiplier = 5\n",
      "\n",
      "\n",
      "\n",
      "Loading trainer for source domain amazon\n"
     ]
    },
    {
     "name": "stderr",
     "output_type": "stream",
     "text": [
      "amazon: 100%|██████████| 59/59 [00:00<00:00, 255.56it/s]\n"
     ]
    },
    {
     "name": "stdout",
     "output_type": "stream",
     "text": [
      "Loading trainer for source domain amazon\n"
     ]
    },
    {
     "name": "stderr",
     "output_type": "stream",
     "text": [
      "webcam: 100%|██████████| 2/2 [00:00<00:00, 14.61it/s]\n"
     ]
    },
    {
     "name": "stdout",
     "output_type": "stream",
     "text": [
      "Source-only accuracy is 0.8843537414965986\n",
      "y__hat counts [31 21 13 28 44 30 38 34 27 28]\n",
      "y_true counts [28 21 31 27 27 30 43 30 27 30]\n",
      "Dist=\n",
      "[1 1 1 1 1 1 1 1 1 1]\n",
      "0 [0.01406333 0.         0.        ] amazon\n",
      "10 [0.12962368 0.         0.        ] amazon\n",
      "20 [0.25159739 0.         0.        ] amazon\n",
      "30 [0.36997143 0.         0.        ] amazon\n",
      "40 [0.49072403 0.         0.        ] amazon\n",
      "50 [0.60672558 0.         0.        ] amazon\n",
      "60 [0.7240284 0.        0.       ] amazon\n",
      "70 [0.84243962 0.         0.        ] amazon\n",
      "80 [0.95879872 0.         0.        ] amazon\n",
      "90 [1.07839442 0.         0.        ] amazon\n",
      "Loading trainer for source domain caltech\n"
     ]
    },
    {
     "name": "stderr",
     "output_type": "stream",
     "text": [
      "caltech: 100%|██████████| 70/70 [00:00<00:00, 269.48it/s]\n"
     ]
    },
    {
     "name": "stdout",
     "output_type": "stream",
     "text": [
      "Loading trainer for source domain caltech\n"
     ]
    },
    {
     "name": "stderr",
     "output_type": "stream",
     "text": [
      "webcam: 100%|██████████| 2/2 [00:00<00:00,  8.64it/s]\n"
     ]
    },
    {
     "name": "stdout",
     "output_type": "stream",
     "text": [
      "Source-only accuracy is 0.9183673469387755\n",
      "y__hat counts [28 21 30 29 37 29 35 31 27 27]\n",
      "y_true counts [28 21 31 27 27 30 43 30 27 30]\n",
      "Dist=\n",
      "[1 1 1 1 1 1 1 1 1 1]\n",
      "0 [1.18589224 0.012624   0.        ] caltech\n",
      "10 [1.18589224 0.14061937 0.        ] caltech\n",
      "20 [1.18589224 0.26453049 0.        ] caltech\n",
      "30 [1.18589224 0.39388668 0.        ] caltech\n",
      "40 [1.18589224 0.5268672  0.        ] caltech\n",
      "50 [1.18589224 0.65383609 0.        ] caltech\n",
      "60 [1.18589224 0.7832863  0.        ] caltech\n",
      "70 [1.18589224 0.90779931 0.        ] caltech\n",
      "80 [1.18589224 1.03470226 0.        ] caltech\n",
      "90 [1.18589224 1.16681919 0.        ] caltech\n",
      "Loading trainer for source domain dslr\n"
     ]
    },
    {
     "name": "stderr",
     "output_type": "stream",
     "text": [
      "dslr: 100%|██████████| 9/9 [00:00<00:00, 82.41it/s]\n"
     ]
    },
    {
     "name": "stdout",
     "output_type": "stream",
     "text": [
      "Loading trainer for source domain dslr\n"
     ]
    },
    {
     "name": "stderr",
     "output_type": "stream",
     "text": [
      "webcam: 100%|██████████| 2/2 [00:00<00:00, 14.32it/s]\n"
     ]
    },
    {
     "name": "stdout",
     "output_type": "stream",
     "text": [
      "Source-only accuracy is 0.9761904761904762\n",
      "y__hat counts [29 21 31 27 24 34 43 28 27 30]\n",
      "y_true counts [28 21 31 27 27 30 43 30 27 30]\n",
      "Dist=\n",
      "[1 1 1 1 1 1 1 1 1 1]\n",
      "0 [1.18589224 1.2797929  0.02775781] dslr\n",
      "10 [1.18589224 1.2797929  0.2524638 ] dslr\n",
      "20 [1.18589224 1.2797929  0.47644112] dslr\n",
      "30 [1.18589224 1.2797929  0.70863955] dslr\n",
      "40 [1.18589224 1.2797929  0.93650347] dslr\n",
      "50 [1.18589224 1.2797929  1.15974384] dslr\n",
      "60 [1.18589224 1.2797929  1.39872736] dslr\n",
      "70 [1.18589224 1.2797929  1.62907001] dslr\n",
      "80 [1.18589224 1.2797929  1.85997879] dslr\n",
      "90 [1.18589224 1.2797929  2.09483237] dslr\n",
      "Loading trainer for source domain amazon\n"
     ]
    },
    {
     "name": "stderr",
     "output_type": "stream",
     "text": [
      "webcam: 100%|██████████| 2/2 [00:00<00:00, 16.86it/s]\n"
     ]
    },
    {
     "name": "stdout",
     "output_type": "stream",
     "text": [
      "Loading trainer for source domain caltech\n"
     ]
    },
    {
     "name": "stderr",
     "output_type": "stream",
     "text": [
      "webcam: 100%|██████████| 2/2 [00:00<00:00, 16.42it/s]\n"
     ]
    },
    {
     "name": "stdout",
     "output_type": "stream",
     "text": [
      "Loading trainer for source domain dslr\n"
     ]
    },
    {
     "name": "stderr",
     "output_type": "stream",
     "text": [
      "webcam: 100%|██████████| 2/2 [00:00<00:00, 18.03it/s]\n"
     ]
    },
    {
     "name": "stdout",
     "output_type": "stream",
     "text": [
      "('office-caltech', 'ACD_W', 0, 0.9795918367346939)\n",
      "Loading trainer for source domain amazon\n",
      "Loading trainer for source domain amazon\n",
      "Loading trainer for source domain amazon\n",
      "Loading trainer for source domain amazon\n",
      "Loading trainer for source domain amazon\n",
      "Loading trainer for source domain caltech\n",
      "Loading trainer for source domain caltech\n",
      "Loading trainer for source domain caltech\n",
      "Loading trainer for source domain caltech\n",
      "Loading trainer for source domain caltech\n",
      "Loading trainer for source domain dslr\n",
      "Loading trainer for source domain dslr\n",
      "Loading trainer for source domain dslr\n",
      "Loading trainer for source domain dslr\n",
      "Loading trainer for source domain dslr\n",
      "multiplier = 5\n",
      "\n",
      "\n",
      "\n",
      "Loading trainer for source domain amazon\n"
     ]
    },
    {
     "name": "stderr",
     "output_type": "stream",
     "text": [
      "amazon: 100%|██████████| 59/59 [00:00<00:00, 254.39it/s]\n"
     ]
    },
    {
     "name": "stdout",
     "output_type": "stream",
     "text": [
      "Loading trainer for source domain amazon\n"
     ]
    },
    {
     "name": "stderr",
     "output_type": "stream",
     "text": [
      "webcam: 100%|██████████| 2/2 [00:00<00:00, 16.00it/s]\n"
     ]
    },
    {
     "name": "stdout",
     "output_type": "stream",
     "text": [
      "Source-only accuracy is 0.8945578231292517\n",
      "y__hat counts [28 21 15 26 40 31 39 38 27 29]\n",
      "y_true counts [28 21 31 27 27 30 43 30 27 30]\n",
      "Dist=\n",
      "[1 1 1 1 1 1 1 1 1 1]\n",
      "0 [0.01135955 0.         0.        ] amazon\n",
      "10 [0.12688249 0.         0.        ] amazon\n",
      "20 [0.23959341 0.         0.        ] amazon\n",
      "30 [0.35492011 0.         0.        ] amazon\n",
      "40 [0.47037779 0.         0.        ] amazon\n",
      "50 [0.58228492 0.         0.        ] amazon\n",
      "60 [0.70388427 0.         0.        ] amazon\n",
      "70 [0.82508438 0.         0.        ] amazon\n",
      "80 [0.93526801 0.         0.        ] amazon\n",
      "90 [1.05482134 0.         0.        ] amazon\n",
      "Loading trainer for source domain caltech\n"
     ]
    },
    {
     "name": "stderr",
     "output_type": "stream",
     "text": [
      "caltech: 100%|██████████| 70/70 [00:00<00:00, 213.32it/s]\n"
     ]
    },
    {
     "name": "stdout",
     "output_type": "stream",
     "text": [
      "Loading trainer for source domain caltech\n"
     ]
    },
    {
     "name": "stderr",
     "output_type": "stream",
     "text": [
      "webcam: 100%|██████████| 2/2 [00:00<00:00, 13.94it/s]\n"
     ]
    },
    {
     "name": "stdout",
     "output_type": "stream",
     "text": [
      "Source-only accuracy is 0.9217687074829932\n",
      "y__hat counts [27 21 29 31 35 30 32 32 27 30]\n",
      "y_true counts [28 21 31 27 27 30 43 30 27 30]\n",
      "Dist=\n",
      "[1 1 1 1 1 1 1 1 1 1]\n",
      "0 [1.1540252  0.01364758 0.        ] caltech\n",
      "10 [1.1540252  0.14733876 0.        ] caltech\n",
      "20 [1.1540252 0.2765665 0.       ] caltech\n",
      "30 [1.1540252  0.40655423 0.        ] caltech\n",
      "40 [1.1540252  0.54396043 0.        ] caltech\n",
      "50 [1.1540252  0.67851757 0.        ] caltech\n",
      "60 [1.1540252  0.80247584 0.        ] caltech\n",
      "70 [1.1540252  0.93565809 0.        ] caltech\n",
      "80 [1.1540252 1.0670433 0.       ] caltech\n",
      "90 [1.1540252  1.19999413 0.        ] caltech\n",
      "Loading trainer for source domain dslr\n"
     ]
    },
    {
     "name": "stderr",
     "output_type": "stream",
     "text": [
      "dslr: 100%|██████████| 9/9 [00:00<00:00, 75.44it/s]\n"
     ]
    },
    {
     "name": "stdout",
     "output_type": "stream",
     "text": [
      "Loading trainer for source domain dslr\n"
     ]
    },
    {
     "name": "stderr",
     "output_type": "stream",
     "text": [
      "webcam: 100%|██████████| 2/2 [00:00<00:00, 13.78it/s]\n"
     ]
    },
    {
     "name": "stdout",
     "output_type": "stream",
     "text": [
      "Source-only accuracy is 0.9625850340136054\n",
      "y__hat counts [28 21 31 27 22 36 42 29 27 31]\n",
      "y_true counts [28 21 31 27 27 30 43 30 27 30]\n",
      "Dist=\n",
      "[1 1 1 1 1 1 1 1 1 1]\n",
      "0 [1.1540252  1.31498924 0.01906239] dslr\n",
      "10 [1.1540252  1.31498924 0.22697882] dslr\n",
      "20 [1.1540252  1.31498924 0.42851548] dslr\n",
      "30 [1.1540252  1.31498924 0.62971312] dslr\n",
      "40 [1.1540252  1.31498924 0.82443531] dslr\n",
      "50 [1.1540252  1.31498924 1.02431536] dslr\n",
      "60 [1.1540252  1.31498924 1.23110265] dslr\n",
      "70 [1.1540252  1.31498924 1.43333094] dslr\n",
      "80 [1.1540252  1.31498924 1.63643528] dslr\n",
      "90 [1.1540252  1.31498924 1.83822327] dslr\n",
      "Loading trainer for source domain amazon\n"
     ]
    },
    {
     "name": "stderr",
     "output_type": "stream",
     "text": [
      "webcam: 100%|██████████| 2/2 [00:00<00:00, 16.76it/s]\n"
     ]
    },
    {
     "name": "stdout",
     "output_type": "stream",
     "text": [
      "Loading trainer for source domain caltech\n"
     ]
    },
    {
     "name": "stderr",
     "output_type": "stream",
     "text": [
      "webcam: 100%|██████████| 2/2 [00:00<00:00, 17.25it/s]\n"
     ]
    },
    {
     "name": "stdout",
     "output_type": "stream",
     "text": [
      "Loading trainer for source domain dslr\n"
     ]
    },
    {
     "name": "stderr",
     "output_type": "stream",
     "text": [
      "webcam: 100%|██████████| 2/2 [00:00<00:00, 17.09it/s]\n"
     ]
    },
    {
     "name": "stdout",
     "output_type": "stream",
     "text": [
      "('office-caltech', 'ACD_W', 1, 0.9829931972789115)\n",
      "Loading trainer for source domain amazon\n",
      "Loading trainer for source domain amazon\n",
      "Loading trainer for source domain amazon\n",
      "Loading trainer for source domain amazon\n",
      "Loading trainer for source domain amazon\n",
      "Loading trainer for source domain caltech\n",
      "Loading trainer for source domain caltech\n",
      "Loading trainer for source domain caltech\n",
      "Loading trainer for source domain caltech\n",
      "Loading trainer for source domain caltech\n",
      "Loading trainer for source domain dslr\n",
      "Loading trainer for source domain dslr\n",
      "Loading trainer for source domain dslr\n",
      "Loading trainer for source domain dslr\n",
      "Loading trainer for source domain dslr\n",
      "multiplier = 5\n",
      "\n",
      "\n",
      "\n",
      "Loading trainer for source domain amazon\n"
     ]
    },
    {
     "name": "stderr",
     "output_type": "stream",
     "text": [
      "amazon: 100%|██████████| 59/59 [00:00<00:00, 257.00it/s]\n"
     ]
    },
    {
     "name": "stdout",
     "output_type": "stream",
     "text": [
      "Loading trainer for source domain amazon\n"
     ]
    },
    {
     "name": "stderr",
     "output_type": "stream",
     "text": [
      "webcam: 100%|██████████| 2/2 [00:00<00:00, 12.95it/s]\n"
     ]
    },
    {
     "name": "stdout",
     "output_type": "stream",
     "text": [
      "Source-only accuracy is 0.8809523809523809\n",
      "y__hat counts [30 21 13 28 42 29 39 36 27 29]\n",
      "y_true counts [28 21 31 27 27 30 43 30 27 30]\n",
      "Dist=\n",
      "[1 1 1 1 1 1 1 1 1 1]\n",
      "0 [0.01063417 0.         0.        ] amazon\n",
      "10 [0.1215651 0.        0.       ] amazon\n",
      "20 [0.23629542 0.         0.        ] amazon\n",
      "30 [0.35076038 0.         0.        ] amazon\n",
      "40 [0.46264792 0.         0.        ] amazon\n",
      "50 [0.5784338 0.        0.       ] amazon\n",
      "60 [0.69611856 0.         0.        ] amazon\n",
      "70 [0.81463966 0.         0.        ] amazon\n",
      "80 [0.92688235 0.         0.        ] amazon\n",
      "90 [1.03966379 0.         0.        ] amazon\n",
      "Loading trainer for source domain caltech\n"
     ]
    },
    {
     "name": "stderr",
     "output_type": "stream",
     "text": [
      "caltech: 100%|██████████| 70/70 [00:00<00:00, 273.00it/s]\n"
     ]
    },
    {
     "name": "stdout",
     "output_type": "stream",
     "text": [
      "Loading trainer for source domain caltech\n"
     ]
    },
    {
     "name": "stderr",
     "output_type": "stream",
     "text": [
      "webcam: 100%|██████████| 2/2 [00:00<00:00, 12.93it/s]\n"
     ]
    },
    {
     "name": "stdout",
     "output_type": "stream",
     "text": [
      "Source-only accuracy is 0.9183673469387755\n",
      "y__hat counts [30 21 27 29 38 26 34 32 27 30]\n",
      "y_true counts [28 21 31 27 27 30 43 30 27 30]\n",
      "Dist=\n",
      "[28.516563 22.093052 26.619936 30.165926 37.409943 26.639254 31.772253\n",
      " 35.905445 25.766098 29.111551]\n",
      "0 [1.14323452 0.01204139 0.        ] caltech\n",
      "10 [1.14323452 0.15595065 0.        ] caltech\n",
      "20 [1.14323452 0.29641327 0.        ] caltech\n",
      "30 [1.14323452 0.44486413 0.        ] caltech\n",
      "40 [1.14323452 0.6002184  0.        ] caltech\n",
      "50 [1.14323452 0.74244372 0.        ] caltech\n",
      "60 [1.14323452 0.89644262 0.        ] caltech\n",
      "70 [1.14323452 1.04490418 0.        ] caltech\n",
      "80 [1.14323452 1.2053477  0.        ] caltech\n",
      "90 [1.14323452 1.35079757 0.        ] caltech\n",
      "Loading trainer for source domain dslr\n"
     ]
    },
    {
     "name": "stderr",
     "output_type": "stream",
     "text": [
      "dslr: 100%|██████████| 9/9 [00:00<00:00, 85.84it/s]\n"
     ]
    },
    {
     "name": "stdout",
     "output_type": "stream",
     "text": [
      "Loading trainer for source domain dslr\n"
     ]
    },
    {
     "name": "stderr",
     "output_type": "stream",
     "text": [
      "webcam: 100%|██████████| 2/2 [00:00<00:00, 13.62it/s]\n"
     ]
    },
    {
     "name": "stdout",
     "output_type": "stream",
     "text": [
      "Source-only accuracy is 0.95578231292517\n",
      "y__hat counts [30 21 30 27 23 39 41 29 27 27]\n",
      "y_true counts [28 21 31 27 27 30 43 30 27 30]\n",
      "Dist=\n",
      "[1 1 1 1 1 1 1 1 1 1]\n",
      "0 [1.14323452 1.48961487 0.02328751] dslr\n",
      "10 [1.14323452 1.48961487 0.24718962] dslr\n",
      "20 [1.14323452 1.48961487 0.47191964] dslr\n",
      "30 [1.14323452 1.48961487 0.68112658] dslr\n",
      "40 [1.14323452 1.48961487 0.90167947] dslr\n",
      "50 [1.14323452 1.48961487 1.1212371 ] dslr\n",
      "60 [1.14323452 1.48961487 1.34747479] dslr\n",
      "70 [1.14323452 1.48961487 1.56545697] dslr\n",
      "80 [1.14323452 1.48961487 1.77438935] dslr\n",
      "90 [1.14323452 1.48961487 2.01122584] dslr\n",
      "Loading trainer for source domain amazon\n"
     ]
    },
    {
     "name": "stderr",
     "output_type": "stream",
     "text": [
      "webcam: 100%|██████████| 2/2 [00:00<00:00, 16.33it/s]\n"
     ]
    },
    {
     "name": "stdout",
     "output_type": "stream",
     "text": [
      "Loading trainer for source domain caltech\n"
     ]
    },
    {
     "name": "stderr",
     "output_type": "stream",
     "text": [
      "webcam: 100%|██████████| 2/2 [00:00<00:00, 16.71it/s]\n"
     ]
    },
    {
     "name": "stdout",
     "output_type": "stream",
     "text": [
      "Loading trainer for source domain dslr\n"
     ]
    },
    {
     "name": "stderr",
     "output_type": "stream",
     "text": [
      "webcam: 100%|██████████| 2/2 [00:00<00:00, 17.03it/s]\n"
     ]
    },
    {
     "name": "stdout",
     "output_type": "stream",
     "text": [
      "('office-caltech', 'ACD_W', 2, 0.9659863945578231)\n",
      "Loading trainer for source domain amazon\n",
      "Loading trainer for source domain amazon\n",
      "Loading trainer for source domain amazon\n",
      "Loading trainer for source domain amazon\n",
      "Loading trainer for source domain amazon\n",
      "Loading trainer for source domain caltech\n",
      "Loading trainer for source domain caltech\n",
      "Loading trainer for source domain caltech\n",
      "Loading trainer for source domain caltech\n",
      "Loading trainer for source domain caltech\n",
      "Loading trainer for source domain dslr\n",
      "Loading trainer for source domain dslr\n",
      "Loading trainer for source domain dslr\n",
      "Loading trainer for source domain dslr\n",
      "Loading trainer for source domain dslr\n",
      "multiplier = 5\n",
      "\n",
      "\n",
      "\n",
      "Loading trainer for source domain amazon\n"
     ]
    },
    {
     "name": "stderr",
     "output_type": "stream",
     "text": [
      "amazon: 100%|██████████| 59/59 [00:00<00:00, 191.65it/s]\n"
     ]
    },
    {
     "name": "stdout",
     "output_type": "stream",
     "text": [
      "Loading trainer for source domain amazon\n"
     ]
    },
    {
     "name": "stderr",
     "output_type": "stream",
     "text": [
      "webcam: 100%|██████████| 2/2 [00:00<00:00, 14.17it/s]\n"
     ]
    },
    {
     "name": "stdout",
     "output_type": "stream",
     "text": [
      "Source-only accuracy is 0.8775510204081632\n",
      "y__hat counts [27 21 14 28 42 36 35 34 27 30]\n",
      "y_true counts [28 21 31 27 27 30 43 30 27 30]\n",
      "Dist=\n",
      "[1 1 1 1 1 1 1 1 1 1]\n",
      "0 [0.00996836 0.         0.        ] amazon\n",
      "10 [0.12756805 0.         0.        ] amazon\n",
      "20 [0.24986896 0.         0.        ] amazon\n",
      "30 [0.37238075 0.         0.        ] amazon\n",
      "40 [0.49128884 0.         0.        ] amazon\n",
      "50 [0.60938692 0.         0.        ] amazon\n",
      "60 [0.7326956 0.        0.       ] amazon\n",
      "70 [0.85485665 0.         0.        ] amazon\n",
      "80 [0.97260706 0.         0.        ] amazon\n",
      "90 [1.09477504 0.         0.        ] amazon\n",
      "Loading trainer for source domain caltech\n"
     ]
    },
    {
     "name": "stderr",
     "output_type": "stream",
     "text": [
      "caltech: 100%|██████████| 70/70 [00:00<00:00, 272.31it/s]\n"
     ]
    },
    {
     "name": "stdout",
     "output_type": "stream",
     "text": [
      "Loading trainer for source domain caltech\n"
     ]
    },
    {
     "name": "stderr",
     "output_type": "stream",
     "text": [
      "webcam: 100%|██████████| 2/2 [00:00<00:00, 14.18it/s]\n"
     ]
    },
    {
     "name": "stdout",
     "output_type": "stream",
     "text": [
      "Source-only accuracy is 0.9251700680272109\n",
      "y__hat counts [26 21 30 30 33 33 34 33 27 27]\n",
      "y_true counts [28 21 31 27 27 30 43 30 27 30]\n",
      "Dist=\n",
      "[1 1 1 1 1 1 1 1 1 1]\n",
      "0 [1.20237657 0.0149366  0.        ] caltech\n",
      "10 [1.20237657 0.14824283 0.        ] caltech\n",
      "20 [1.20237657 0.27682233 0.        ] caltech\n",
      "30 [1.20237657 0.40168832 0.        ] caltech\n",
      "40 [1.20237657 0.53664102 0.        ] caltech\n",
      "50 [1.20237657 0.67079753 0.        ] caltech\n",
      "60 [1.20237657 0.80319266 0.        ] caltech\n",
      "70 [1.20237657 0.93859525 0.        ] caltech\n",
      "80 [1.20237657 1.07451144 0.        ] caltech\n",
      "90 [1.20237657 1.20600867 0.        ] caltech\n",
      "Loading trainer for source domain dslr\n"
     ]
    },
    {
     "name": "stderr",
     "output_type": "stream",
     "text": [
      "dslr: 100%|██████████| 9/9 [00:00<00:00, 75.18it/s]\n"
     ]
    },
    {
     "name": "stdout",
     "output_type": "stream",
     "text": [
      "Loading trainer for source domain dslr\n"
     ]
    },
    {
     "name": "stderr",
     "output_type": "stream",
     "text": [
      "webcam: 100%|██████████| 2/2 [00:00<00:00, 15.12it/s]\n"
     ]
    },
    {
     "name": "stdout",
     "output_type": "stream",
     "text": [
      "Source-only accuracy is 0.9625850340136054\n",
      "y__hat counts [28 21 29 27 22 39 41 30 27 30]\n",
      "y_true counts [28 21 31 27 27 30 43 30 27 30]\n",
      "Dist=\n",
      "[1 1 1 1 1 1 1 1 1 1]\n",
      "0 [1.20237657 1.32836999 0.02455555] dslr\n",
      "10 [1.20237657 1.32836999 0.23508379] dslr\n",
      "20 [1.20237657 1.32836999 0.43594715] dslr\n",
      "30 [1.20237657 1.32836999 0.65037276] dslr\n",
      "40 [1.20237657 1.32836999 0.85243088] dslr\n",
      "50 [1.20237657 1.32836999 1.06369118] dslr\n",
      "60 [1.20237657 1.32836999 1.26963871] dslr\n",
      "70 [1.20237657 1.32836999 1.4713238 ] dslr\n",
      "80 [1.20237657 1.32836999 1.68158939] dslr\n",
      "90 [1.20237657 1.32836999 1.88178888] dslr\n",
      "Loading trainer for source domain amazon\n"
     ]
    },
    {
     "name": "stderr",
     "output_type": "stream",
     "text": [
      "webcam: 100%|██████████| 2/2 [00:00<00:00, 17.41it/s]\n"
     ]
    },
    {
     "name": "stdout",
     "output_type": "stream",
     "text": [
      "Loading trainer for source domain caltech\n"
     ]
    },
    {
     "name": "stderr",
     "output_type": "stream",
     "text": [
      "webcam: 100%|██████████| 2/2 [00:00<00:00, 16.44it/s]\n"
     ]
    },
    {
     "name": "stdout",
     "output_type": "stream",
     "text": [
      "Loading trainer for source domain dslr\n"
     ]
    },
    {
     "name": "stderr",
     "output_type": "stream",
     "text": [
      "webcam: 100%|██████████| 2/2 [00:00<00:00, 17.45it/s]\n"
     ]
    },
    {
     "name": "stdout",
     "output_type": "stream",
     "text": [
      "('office-caltech', 'ACD_W', 3, 0.9761904761904762)\n",
      "Loading trainer for source domain amazon\n",
      "Loading trainer for source domain amazon\n",
      "Loading trainer for source domain amazon\n",
      "Loading trainer for source domain amazon\n",
      "Loading trainer for source domain amazon\n",
      "Loading trainer for source domain caltech\n",
      "Loading trainer for source domain caltech\n",
      "Loading trainer for source domain caltech\n",
      "Loading trainer for source domain caltech\n",
      "Loading trainer for source domain caltech\n",
      "Loading trainer for source domain dslr\n",
      "Loading trainer for source domain dslr\n",
      "Loading trainer for source domain dslr\n",
      "Loading trainer for source domain dslr\n",
      "Loading trainer for source domain dslr\n",
      "multiplier = 5\n",
      "\n",
      "\n",
      "\n",
      "Loading trainer for source domain amazon\n"
     ]
    },
    {
     "name": "stderr",
     "output_type": "stream",
     "text": [
      "amazon: 100%|██████████| 59/59 [00:00<00:00, 258.72it/s]\n"
     ]
    },
    {
     "name": "stdout",
     "output_type": "stream",
     "text": [
      "Loading trainer for source domain amazon\n"
     ]
    },
    {
     "name": "stderr",
     "output_type": "stream",
     "text": [
      "webcam: 100%|██████████| 2/2 [00:00<00:00, 15.50it/s]\n"
     ]
    },
    {
     "name": "stdout",
     "output_type": "stream",
     "text": [
      "Source-only accuracy is 0.8945578231292517\n",
      "y__hat counts [29 21 13 28 46 30 42 30 27 28]\n",
      "y_true counts [28 21 31 27 27 30 43 30 27 30]\n",
      "Dist=\n",
      "[1 1 1 1 1 1 1 1 1 1]\n",
      "0 [0.01046114 0.         0.        ] amazon\n",
      "10 [0.12377304 0.         0.        ] amazon\n",
      "20 [0.24040083 0.         0.        ] amazon\n",
      "30 [0.36157835 0.         0.        ] amazon\n",
      "40 [0.48123186 0.         0.        ] amazon\n",
      "50 [0.59759138 0.         0.        ] amazon\n",
      "60 [0.71467744 0.         0.        ] amazon\n",
      "70 [0.82576917 0.         0.        ] amazon\n",
      "80 [0.93797305 0.         0.        ] amazon\n",
      "90 [1.05333769 0.         0.        ] amazon\n",
      "Loading trainer for source domain caltech\n"
     ]
    },
    {
     "name": "stderr",
     "output_type": "stream",
     "text": [
      "caltech: 100%|██████████| 70/70 [00:00<00:00, 261.17it/s]\n"
     ]
    },
    {
     "name": "stdout",
     "output_type": "stream",
     "text": [
      "Loading trainer for source domain caltech\n"
     ]
    },
    {
     "name": "stderr",
     "output_type": "stream",
     "text": [
      "webcam: 100%|██████████| 2/2 [00:00<00:00, 15.35it/s]\n"
     ]
    },
    {
     "name": "stdout",
     "output_type": "stream",
     "text": [
      "Source-only accuracy is 0.9217687074829932\n",
      "y__hat counts [29 21 30 29 36 25 33 33 27 31]\n",
      "y_true counts [28 21 31 27 27 30 43 30 27 30]\n",
      "Dist=\n",
      "[1 1 1 1 1 1 1 1 1 1]\n",
      "0 [1.1574003  0.01261836 0.        ] caltech\n",
      "10 [1.1574003  0.14315405 0.        ] caltech\n",
      "20 [1.1574003 0.2658664 0.       ] caltech\n",
      "30 [1.1574003  0.39333039 0.        ] caltech\n",
      "40 [1.1574003  0.51623914 0.        ] caltech\n",
      "50 [1.1574003 0.6496408 0.       ] caltech\n",
      "60 [1.1574003  0.76709239 0.        ] caltech\n",
      "70 [1.1574003  0.88903306 0.        ] caltech\n",
      "80 [1.1574003  1.00930131 0.        ] caltech\n",
      "90 [1.1574003  1.13894269 0.        ] caltech\n",
      "Loading trainer for source domain dslr\n"
     ]
    },
    {
     "name": "stderr",
     "output_type": "stream",
     "text": [
      "dslr: 100%|██████████| 9/9 [00:00<00:00, 70.33it/s]\n"
     ]
    },
    {
     "name": "stdout",
     "output_type": "stream",
     "text": [
      "Loading trainer for source domain dslr\n"
     ]
    },
    {
     "name": "stderr",
     "output_type": "stream",
     "text": [
      "webcam: 100%|██████████| 2/2 [00:00<00:00, 11.81it/s]\n"
     ]
    },
    {
     "name": "stdout",
     "output_type": "stream",
     "text": [
      "Source-only accuracy is 0.9863945578231292\n",
      "y__hat counts [29 21 30 27 26 31 43 29 27 31]\n",
      "y_true counts [28 21 31 27 27 30 43 30 27 30]\n",
      "Dist=\n",
      "[1 1 1 1 1 1 1 1 1 1]\n",
      "0 [1.1574003  1.25265126 0.01922934] dslr\n",
      "10 [1.1574003  1.25265126 0.23820265] dslr\n",
      "20 [1.1574003  1.25265126 0.46491426] dslr\n",
      "30 [1.1574003  1.25265126 0.69414489] dslr\n",
      "40 [1.1574003  1.25265126 0.91627885] dslr\n",
      "50 [1.1574003  1.25265126 1.12584636] dslr\n",
      "60 [1.1574003  1.25265126 1.3457998 ] dslr\n",
      "70 [1.1574003  1.25265126 1.56236678] dslr\n",
      "80 [1.1574003  1.25265126 1.77460988] dslr\n",
      "90 [1.1574003  1.25265126 2.00002196] dslr\n",
      "Loading trainer for source domain amazon\n"
     ]
    },
    {
     "name": "stderr",
     "output_type": "stream",
     "text": [
      "webcam: 100%|██████████| 2/2 [00:00<00:00, 15.18it/s]\n"
     ]
    },
    {
     "name": "stdout",
     "output_type": "stream",
     "text": [
      "Loading trainer for source domain caltech\n"
     ]
    },
    {
     "name": "stderr",
     "output_type": "stream",
     "text": [
      "webcam: 100%|██████████| 2/2 [00:00<00:00, 16.70it/s]\n"
     ]
    },
    {
     "name": "stdout",
     "output_type": "stream",
     "text": [
      "Loading trainer for source domain dslr\n"
     ]
    },
    {
     "name": "stderr",
     "output_type": "stream",
     "text": [
      "webcam: 100%|██████████| 2/2 [00:00<00:00, 16.62it/s]\n"
     ]
    },
    {
     "name": "stdout",
     "output_type": "stream",
     "text": [
      "('office-caltech', 'ACD_W', 4, 0.9897959183673469)\n",
      "ADW_C\n",
      "Loading trainer for source domain amazon\n",
      "Loading trainer for source domain amazon\n",
      "Loading trainer for source domain amazon\n",
      "Loading trainer for source domain amazon\n",
      "Loading trainer for source domain amazon\n",
      "Loading trainer for source domain dslr\n",
      "Loading trainer for source domain dslr\n",
      "Loading trainer for source domain dslr\n",
      "Loading trainer for source domain dslr\n",
      "Loading trainer for source domain dslr\n",
      "Loading trainer for source domain webcam\n",
      "Loading trainer for source domain webcam\n",
      "Loading trainer for source domain webcam\n",
      "Loading trainer for source domain webcam\n",
      "Loading trainer for source domain webcam\n",
      "multiplier = 5\n",
      "\n",
      "\n",
      "\n",
      "Loading trainer for source domain amazon\n"
     ]
    },
    {
     "name": "stderr",
     "output_type": "stream",
     "text": [
      "amazon: 100%|██████████| 59/59 [00:00<00:00, 249.05it/s]\n"
     ]
    },
    {
     "name": "stdout",
     "output_type": "stream",
     "text": [
      "Loading trainer for source domain amazon\n"
     ]
    },
    {
     "name": "stderr",
     "output_type": "stream",
     "text": [
      "caltech: 100%|██████████| 8/8 [00:00<00:00, 50.10it/s]\n"
     ]
    },
    {
     "name": "stdout",
     "output_type": "stream",
     "text": [
      "Source-only accuracy is 0.8859180035650623\n",
      "y__hat counts [150 106 113 133  73  99 163 101  89  95]\n",
      "y_true counts [150 110 100 138  85 128 133  94  87  97]\n",
      "Dist=\n",
      "[1 1 1 1 1 1 1 1 1 1]\n",
      "0 [0.01114266 0.         0.        ] amazon\n",
      "10 [0.15073132 0.         0.        ] amazon\n",
      "20 [0.2909504 0.        0.       ] amazon\n",
      "30 [0.42428153 0.         0.        ] amazon\n",
      "40 [0.56625694 0.         0.        ] amazon\n",
      "50 [0.69268853 0.         0.        ] amazon\n",
      "60 [0.82396378 0.         0.        ] amazon\n",
      "70 [0.95229557 0.         0.        ] amazon\n",
      "80 [1.08238904 0.         0.        ] amazon\n",
      "90 [1.21170368 0.         0.        ] amazon\n",
      "Loading trainer for source domain dslr\n"
     ]
    },
    {
     "name": "stderr",
     "output_type": "stream",
     "text": [
      "dslr: 100%|██████████| 9/9 [00:00<00:00, 75.23it/s]\n"
     ]
    },
    {
     "name": "stdout",
     "output_type": "stream",
     "text": [
      "Loading trainer for source domain dslr\n"
     ]
    },
    {
     "name": "stderr",
     "output_type": "stream",
     "text": [
      "caltech: 100%|██████████| 8/8 [00:00<00:00, 48.63it/s]\n"
     ]
    },
    {
     "name": "stdout",
     "output_type": "stream",
     "text": [
      "Source-only accuracy is 0.8377896613190731\n",
      "y__hat counts [170 109 118 149  54 131 130  86  84  91]\n",
      "y_true counts [150 110 100 138  85 128 133  94  87  97]\n",
      "Dist=\n",
      "[1 1 1 1 1 1 1 1 1 1]\n",
      "0 [1.32493353 0.03090576 0.        ] dslr\n",
      "10 [1.32493353 0.31441005 0.        ] dslr\n",
      "20 [1.32493353 0.60098653 0.        ] dslr\n",
      "30 [1.32493353 0.90922667 0.        ] dslr\n",
      "40 [1.32493353 1.18887174 0.        ] dslr\n",
      "50 [1.32493353 1.47135536 0.        ] dslr\n",
      "60 [1.32493353 1.74986719 0.        ] dslr\n",
      "70 [1.32493353 2.0316685  0.        ] dslr\n",
      "80 [1.32493353 2.31666454 0.        ] dslr\n",
      "90 [1.32493353 2.61439418 0.        ] dslr\n",
      "Loading trainer for source domain webcam\n"
     ]
    },
    {
     "name": "stderr",
     "output_type": "stream",
     "text": [
      "webcam: 100%|██████████| 18/18 [00:00<00:00, 127.14it/s]\n"
     ]
    },
    {
     "name": "stdout",
     "output_type": "stream",
     "text": [
      "Loading trainer for source domain webcam\n"
     ]
    },
    {
     "name": "stderr",
     "output_type": "stream",
     "text": [
      "caltech: 100%|██████████| 8/8 [00:00<00:00, 48.92it/s]\n"
     ]
    },
    {
     "name": "stdout",
     "output_type": "stream",
     "text": [
      "Source-only accuracy is 0.8618538324420677\n",
      "y__hat counts [148 109 110 104  83 170 112 118  82  86]\n",
      "y_true counts [150 110 100 138  85 128 133  94  87  97]\n",
      "Dist=\n",
      "[1 1 1 1 1 1 1 1 1 1]\n",
      "0 [1.32493353 2.87913722 0.01802902] webcam\n",
      "10 [1.32493353 2.87913722 0.18946856] webcam\n",
      "20 [1.32493353 2.87913722 0.35983706] webcam\n",
      "30 [1.32493353 2.87913722 0.52911586] webcam\n",
      "40 [1.32493353 2.87913722 0.71463877] webcam\n",
      "50 [1.32493353 2.87913722 0.89261134] webcam\n",
      "60 [1.32493353 2.87913722 1.0634306 ] webcam\n",
      "70 [1.32493353 2.87913722 1.24654743] webcam\n",
      "80 [1.32493353 2.87913722 1.41392698] webcam\n",
      "90 [1.32493353 2.87913722 1.58970571] webcam\n",
      "Loading trainer for source domain amazon\n"
     ]
    },
    {
     "name": "stderr",
     "output_type": "stream",
     "text": [
      "caltech: 100%|██████████| 8/8 [00:00<00:00, 51.73it/s]\n"
     ]
    },
    {
     "name": "stdout",
     "output_type": "stream",
     "text": [
      "Loading trainer for source domain dslr\n"
     ]
    },
    {
     "name": "stderr",
     "output_type": "stream",
     "text": [
      "caltech: 100%|██████████| 8/8 [00:00<00:00, 57.76it/s]\n"
     ]
    },
    {
     "name": "stdout",
     "output_type": "stream",
     "text": [
      "Loading trainer for source domain webcam\n"
     ]
    },
    {
     "name": "stderr",
     "output_type": "stream",
     "text": [
      "caltech: 100%|██████████| 8/8 [00:00<00:00, 59.03it/s]\n"
     ]
    },
    {
     "name": "stdout",
     "output_type": "stream",
     "text": [
      "('office-caltech', 'ADW_C', 0, 0.9117647058823529)\n",
      "Loading trainer for source domain amazon\n",
      "Loading trainer for source domain amazon\n",
      "Loading trainer for source domain amazon\n",
      "Loading trainer for source domain amazon\n",
      "Loading trainer for source domain amazon\n",
      "Loading trainer for source domain dslr\n",
      "Loading trainer for source domain dslr\n",
      "Loading trainer for source domain dslr\n",
      "Loading trainer for source domain dslr\n",
      "Loading trainer for source domain dslr\n",
      "Loading trainer for source domain webcam\n",
      "Loading trainer for source domain webcam\n",
      "Loading trainer for source domain webcam\n",
      "Loading trainer for source domain webcam\n",
      "Loading trainer for source domain webcam\n",
      "multiplier = 5\n",
      "\n",
      "\n",
      "\n",
      "Loading trainer for source domain amazon\n"
     ]
    },
    {
     "name": "stderr",
     "output_type": "stream",
     "text": [
      "amazon: 100%|██████████| 59/59 [00:00<00:00, 240.06it/s]\n"
     ]
    },
    {
     "name": "stdout",
     "output_type": "stream",
     "text": [
      "Loading trainer for source domain amazon\n"
     ]
    },
    {
     "name": "stderr",
     "output_type": "stream",
     "text": [
      "caltech: 100%|██████████| 8/8 [00:00<00:00, 50.40it/s]\n"
     ]
    },
    {
     "name": "stdout",
     "output_type": "stream",
     "text": [
      "Source-only accuracy is 0.8770053475935828\n",
      "y__hat counts [157  95 101 137  68 111 164  99  94  96]\n",
      "y_true counts [150 110 100 138  85 128 133  94  87  97]\n",
      "Dist=\n",
      "[1 1 1 1 1 1 1 1 1 1]\n",
      "0 [0.0098939 0.        0.       ] amazon\n",
      "10 [0.14087755 0.         0.        ] amazon\n",
      "20 [0.26726184 0.         0.        ] amazon\n",
      "30 [0.39463654 0.         0.        ] amazon\n",
      "40 [0.53174861 0.         0.        ] amazon\n",
      "50 [0.65295295 0.         0.        ] amazon\n",
      "60 [0.79289343 0.         0.        ] amazon\n",
      "70 [0.92158907 0.         0.        ] amazon\n",
      "80 [1.04707968 0.         0.        ] amazon\n",
      "90 [1.17278977 0.         0.        ] amazon\n",
      "Loading trainer for source domain dslr\n"
     ]
    },
    {
     "name": "stderr",
     "output_type": "stream",
     "text": [
      "dslr: 100%|██████████| 9/9 [00:00<00:00, 79.14it/s]\n"
     ]
    },
    {
     "name": "stdout",
     "output_type": "stream",
     "text": [
      "Loading trainer for source domain dslr\n"
     ]
    },
    {
     "name": "stderr",
     "output_type": "stream",
     "text": [
      "caltech: 100%|██████████| 8/8 [00:00<00:00, 53.29it/s]\n"
     ]
    },
    {
     "name": "stdout",
     "output_type": "stream",
     "text": [
      "Source-only accuracy is 0.8163992869875223\n",
      "y__hat counts [154 107 122 121  78 105 113 125  87 110]\n",
      "y_true counts [150 110 100 138  85 128 133  94  87  97]\n",
      "Dist=\n",
      "[1 1 1 1 1 1 1 1 1 1]\n",
      "0 [1.29371598 0.02764665 0.        ] dslr\n",
      "10 [1.29371598 0.25711954 0.        ] dslr\n",
      "20 [1.29371598 0.48857369 0.        ] dslr\n",
      "30 [1.29371598 0.69829191 0.        ] dslr\n",
      "40 [1.29371598 0.935334   0.        ] dslr\n",
      "50 [1.29371598 1.14028485 0.        ] dslr\n",
      "60 [1.29371598 1.35757579 0.        ] dslr\n",
      "70 [1.29371598 1.60224825 0.        ] dslr\n",
      "80 [1.29371598 1.80699879 0.        ] dslr\n",
      "90 [1.29371598 2.04040507 0.        ] dslr\n",
      "Loading trainer for source domain webcam\n"
     ]
    },
    {
     "name": "stderr",
     "output_type": "stream",
     "text": [
      "webcam: 100%|██████████| 18/18 [00:00<00:00, 130.90it/s]\n"
     ]
    },
    {
     "name": "stdout",
     "output_type": "stream",
     "text": [
      "Loading trainer for source domain webcam\n"
     ]
    },
    {
     "name": "stderr",
     "output_type": "stream",
     "text": [
      "caltech: 100%|██████████| 8/8 [00:00<00:00, 48.03it/s]\n"
     ]
    },
    {
     "name": "stdout",
     "output_type": "stream",
     "text": [
      "Source-only accuracy is 0.85650623885918\n",
      "y__hat counts [139 106  97 112  79 181 110 116  86  96]\n",
      "y_true counts [150 110 100 138  85 128 133  94  87  97]\n",
      "Dist=\n",
      "[1 1 1 1 1 1 1 1 1 1]\n",
      "0 [1.29371598 2.25314675 0.01780713] webcam\n",
      "10 [1.29371598 2.25314675 0.17618181] webcam\n",
      "20 [1.29371598 2.25314675 0.33715755] webcam\n",
      "30 [1.29371598 2.25314675 0.50249053] webcam\n",
      "40 [1.29371598 2.25314675 0.66850455] webcam\n",
      "50 [1.29371598 2.25314675 0.8373234 ] webcam\n",
      "60 [1.29371598 2.25314675 1.00758728] webcam\n",
      "70 [1.29371598 2.25314675 1.17490968] webcam\n",
      "80 [1.29371598 2.25314675 1.32105121] webcam\n",
      "90 [1.29371598 2.25314675 1.48992677] webcam\n",
      "Loading trainer for source domain amazon\n"
     ]
    },
    {
     "name": "stderr",
     "output_type": "stream",
     "text": [
      "caltech: 100%|██████████| 8/8 [00:00<00:00, 48.95it/s]\n"
     ]
    },
    {
     "name": "stdout",
     "output_type": "stream",
     "text": [
      "Loading trainer for source domain dslr\n"
     ]
    },
    {
     "name": "stderr",
     "output_type": "stream",
     "text": [
      "caltech: 100%|██████████| 8/8 [00:00<00:00, 58.93it/s]\n"
     ]
    },
    {
     "name": "stdout",
     "output_type": "stream",
     "text": [
      "Loading trainer for source domain webcam\n"
     ]
    },
    {
     "name": "stderr",
     "output_type": "stream",
     "text": [
      "caltech: 100%|██████████| 8/8 [00:00<00:00, 56.46it/s]\n"
     ]
    },
    {
     "name": "stdout",
     "output_type": "stream",
     "text": [
      "('office-caltech', 'ADW_C', 1, 0.9126559714795008)\n",
      "Loading trainer for source domain amazon\n",
      "Loading trainer for source domain amazon\n",
      "Loading trainer for source domain amazon\n",
      "Loading trainer for source domain amazon\n",
      "Loading trainer for source domain amazon\n",
      "Loading trainer for source domain dslr\n",
      "Loading trainer for source domain dslr\n",
      "Loading trainer for source domain dslr\n",
      "Loading trainer for source domain dslr\n",
      "Loading trainer for source domain dslr\n",
      "Loading trainer for source domain webcam\n",
      "Loading trainer for source domain webcam\n",
      "Loading trainer for source domain webcam\n",
      "Loading trainer for source domain webcam\n",
      "Loading trainer for source domain webcam\n",
      "multiplier = 5\n",
      "\n",
      "\n",
      "\n",
      "Loading trainer for source domain amazon\n"
     ]
    },
    {
     "name": "stderr",
     "output_type": "stream",
     "text": [
      "amazon: 100%|██████████| 59/59 [00:00<00:00, 257.71it/s]\n"
     ]
    },
    {
     "name": "stdout",
     "output_type": "stream",
     "text": [
      "Loading trainer for source domain amazon\n"
     ]
    },
    {
     "name": "stderr",
     "output_type": "stream",
     "text": [
      "caltech: 100%|██████████| 8/8 [00:00<00:00, 47.82it/s]\n"
     ]
    },
    {
     "name": "stdout",
     "output_type": "stream",
     "text": [
      "Source-only accuracy is 0.8707664884135472\n",
      "y__hat counts [146  98 111 137  66 100 179 101  90  94]\n",
      "y_true counts [150 110 100 138  85 128 133  94  87  97]\n",
      "Dist=\n",
      "[1 1 1 1 1 1 1 1 1 1]\n",
      "0 [0.01825867 0.         0.        ] amazon\n",
      "10 [0.13862152 0.         0.        ] amazon\n",
      "20 [0.27234062 0.         0.        ] amazon\n",
      "30 [0.40563957 0.         0.        ] amazon\n",
      "40 [0.53968488 0.         0.        ] amazon\n",
      "50 [0.66580086 0.         0.        ] amazon\n",
      "60 [0.80016921 0.         0.        ] amazon\n",
      "70 [0.93550205 0.         0.        ] amazon\n",
      "80 [1.06670278 0.         0.        ] amazon\n",
      "90 [1.19742572 0.         0.        ] amazon\n",
      "Loading trainer for source domain dslr\n"
     ]
    },
    {
     "name": "stderr",
     "output_type": "stream",
     "text": [
      "dslr: 100%|██████████| 9/9 [00:00<00:00, 85.19it/s]\n"
     ]
    },
    {
     "name": "stdout",
     "output_type": "stream",
     "text": [
      "Loading trainer for source domain dslr\n"
     ]
    },
    {
     "name": "stderr",
     "output_type": "stream",
     "text": [
      "caltech: 100%|██████████| 8/8 [00:00<00:00, 49.40it/s]\n"
     ]
    },
    {
     "name": "stdout",
     "output_type": "stream",
     "text": [
      "Source-only accuracy is 0.839572192513369\n",
      "y__hat counts [155 108 115 142  64 138 118  91  85 106]\n",
      "y_true counts [150 110 100 138  85 128 133  94  87  97]\n",
      "Dist=\n",
      "[1 1 1 1 1 1 1 1 1 1]\n",
      "0 [1.31301164 0.03413257 0.        ] dslr\n",
      "10 [1.31301164 0.33358345 0.        ] dslr\n",
      "20 [1.31301164 0.6313136  0.        ] dslr\n",
      "30 [1.31301164 0.92336509 0.        ] dslr\n",
      "40 [1.31301164 1.24414904 0.        ] dslr\n",
      "50 [1.31301164 1.52940778 0.        ] dslr\n",
      "60 [1.31301164 1.83010108 0.        ] dslr\n",
      "70 [1.31301164 2.14383608 0.        ] dslr\n",
      "80 [1.31301164 2.44560749 0.        ] dslr\n",
      "90 [1.31301164 2.7525158  0.        ] dslr\n",
      "Loading trainer for source domain webcam\n"
     ]
    },
    {
     "name": "stderr",
     "output_type": "stream",
     "text": [
      "webcam: 100%|██████████| 18/18 [00:00<00:00, 130.94it/s]\n"
     ]
    },
    {
     "name": "stdout",
     "output_type": "stream",
     "text": [
      "Loading trainer for source domain webcam\n"
     ]
    },
    {
     "name": "stderr",
     "output_type": "stream",
     "text": [
      "caltech: 100%|██████████| 8/8 [00:00<00:00, 53.00it/s]\n"
     ]
    },
    {
     "name": "stdout",
     "output_type": "stream",
     "text": [
      "Source-only accuracy is 0.8413547237076648\n",
      "y__hat counts [135 106 111  99  69 180 105 142  83  92]\n",
      "y_true counts [150 110 100 138  85 128 133  94  87  97]\n",
      "Dist=\n",
      "[1 1 1 1 1 1 1 1 1 1]\n",
      "0 [1.31301164 3.04128484 0.01373046] webcam\n",
      "10 [1.31301164 3.04128484 0.17722658] webcam\n",
      "20 [1.31301164 3.04128484 0.34979137] webcam\n",
      "30 [1.31301164 3.04128484 0.51515656] webcam\n",
      "40 [1.31301164 3.04128484 0.68933897] webcam\n",
      "50 [1.31301164 3.04128484 0.86471325] webcam\n",
      "60 [1.31301164 3.04128484 1.03489331] webcam\n",
      "70 [1.31301164 3.04128484 1.20254158] webcam\n",
      "80 [1.31301164 3.04128484 1.37523959] webcam\n",
      "90 [1.31301164 3.04128484 1.55733298] webcam\n",
      "Loading trainer for source domain amazon\n"
     ]
    },
    {
     "name": "stderr",
     "output_type": "stream",
     "text": [
      "caltech: 100%|██████████| 8/8 [00:00<00:00, 52.78it/s]\n"
     ]
    },
    {
     "name": "stdout",
     "output_type": "stream",
     "text": [
      "Loading trainer for source domain dslr\n"
     ]
    },
    {
     "name": "stderr",
     "output_type": "stream",
     "text": [
      "caltech: 100%|██████████| 8/8 [00:00<00:00, 55.56it/s]\n"
     ]
    },
    {
     "name": "stdout",
     "output_type": "stream",
     "text": [
      "Loading trainer for source domain webcam\n"
     ]
    },
    {
     "name": "stderr",
     "output_type": "stream",
     "text": [
      "caltech: 100%|██████████| 8/8 [00:00<00:00, 56.24it/s]\n"
     ]
    },
    {
     "name": "stdout",
     "output_type": "stream",
     "text": [
      "('office-caltech', 'ADW_C', 2, 0.9099821746880571)\n",
      "Loading trainer for source domain amazon\n",
      "Loading trainer for source domain amazon\n",
      "Loading trainer for source domain amazon\n",
      "Loading trainer for source domain amazon\n",
      "Loading trainer for source domain amazon\n",
      "Loading trainer for source domain dslr\n",
      "Loading trainer for source domain dslr\n",
      "Loading trainer for source domain dslr\n",
      "Loading trainer for source domain dslr\n",
      "Loading trainer for source domain dslr\n",
      "Loading trainer for source domain webcam\n",
      "Loading trainer for source domain webcam\n",
      "Loading trainer for source domain webcam\n",
      "Loading trainer for source domain webcam\n",
      "Loading trainer for source domain webcam\n",
      "multiplier = 5\n",
      "\n",
      "\n",
      "\n",
      "Loading trainer for source domain amazon\n"
     ]
    },
    {
     "name": "stderr",
     "output_type": "stream",
     "text": [
      "amazon: 100%|██████████| 59/59 [00:00<00:00, 263.03it/s]\n"
     ]
    },
    {
     "name": "stdout",
     "output_type": "stream",
     "text": [
      "Loading trainer for source domain amazon\n"
     ]
    },
    {
     "name": "stderr",
     "output_type": "stream",
     "text": [
      "caltech: 100%|██████████| 8/8 [00:00<00:00, 55.07it/s]\n"
     ]
    },
    {
     "name": "stdout",
     "output_type": "stream",
     "text": [
      "Source-only accuracy is 0.8823529411764706\n",
      "y__hat counts [154 101  99 134  70 109 169 102  89  95]\n",
      "y_true counts [150 110 100 138  85 128 133  94  87  97]\n",
      "Dist=\n",
      "[1 1 1 1 1 1 1 1 1 1]\n",
      "0 [0.00958782 0.         0.        ] amazon\n",
      "10 [0.13905135 0.         0.        ] amazon\n",
      "20 [0.27355347 0.         0.        ] amazon\n",
      "30 [0.40415677 0.         0.        ] amazon\n",
      "40 [0.53453074 0.         0.        ] amazon\n",
      "50 [0.65565326 0.         0.        ] amazon\n",
      "60 [0.79295912 0.         0.        ] amazon\n",
      "70 [0.9175096 0.        0.       ] amazon\n",
      "80 [1.04512463 0.         0.        ] amazon\n",
      "90 [1.18397384 0.         0.        ] amazon\n",
      "Loading trainer for source domain dslr\n"
     ]
    },
    {
     "name": "stderr",
     "output_type": "stream",
     "text": [
      "dslr: 100%|██████████| 9/9 [00:00<00:00, 81.13it/s]\n"
     ]
    },
    {
     "name": "stdout",
     "output_type": "stream",
     "text": [
      "Loading trainer for source domain dslr\n"
     ]
    },
    {
     "name": "stderr",
     "output_type": "stream",
     "text": [
      "caltech: 100%|██████████| 8/8 [00:00<00:00, 47.65it/s]\n"
     ]
    },
    {
     "name": "stdout",
     "output_type": "stream",
     "text": [
      "Source-only accuracy is 0.8493761140819964\n",
      "y__hat counts [187 108 104 130  44 132 141  90  88  98]\n",
      "y_true counts [150 110 100 138  85 128 133  94  87  97]\n",
      "Dist=\n",
      "[1 1 1 1 1 1 1 1 1 1]\n",
      "0 [1.30589482 0.02666987 0.        ] dslr\n",
      "10 [1.30589482 0.25775936 0.        ] dslr\n",
      "20 [1.30589482 0.49861924 0.        ] dslr\n",
      "30 [1.30589482 0.73985983 0.        ] dslr\n",
      "40 [1.30589482 0.97712974 0.        ] dslr\n",
      "50 [1.30589482 1.22586148 0.        ] dslr\n",
      "60 [1.30589482 1.4660881  0.        ] dslr\n",
      "70 [1.30589482 1.70896799 0.        ] dslr\n",
      "80 [1.30589482 1.93839551 0.        ] dslr\n",
      "90 [1.30589482 2.19295074 0.        ] dslr\n",
      "Loading trainer for source domain webcam\n"
     ]
    },
    {
     "name": "stderr",
     "output_type": "stream",
     "text": [
      "webcam: 100%|██████████| 18/18 [00:00<00:00, 122.96it/s]\n"
     ]
    },
    {
     "name": "stdout",
     "output_type": "stream",
     "text": [
      "Loading trainer for source domain webcam\n"
     ]
    },
    {
     "name": "stderr",
     "output_type": "stream",
     "text": [
      "caltech: 100%|██████████| 8/8 [00:00<00:00, 59.54it/s]\n"
     ]
    },
    {
     "name": "stdout",
     "output_type": "stream",
     "text": [
      "Source-only accuracy is 0.8627450980392157\n",
      "y__hat counts [148 108 105 110  78 167 102 116  84 104]\n",
      "y_true counts [150 110 100 138  85 128 133  94  87  97]\n",
      "Dist=\n",
      "[1 1 1 1 1 1 1 1 1 1]\n",
      "0 [1.30589482 2.40901211 0.01875927] webcam\n",
      "10 [1.30589482 2.40901211 0.18287291] webcam\n",
      "20 [1.30589482 2.40901211 0.34513013] webcam\n",
      "30 [1.30589482 2.40901211 0.50731776] webcam\n",
      "40 [1.30589482 2.40901211 0.67642744] webcam\n",
      "50 [1.30589482 2.40901211 0.84486603] webcam\n",
      "60 [1.30589482 2.40901211 1.01588763] webcam\n",
      "70 [1.30589482 2.40901211 1.18184878] webcam\n",
      "80 [1.30589482 2.40901211 1.3481297 ] webcam\n",
      "90 [1.30589482 2.40901211 1.52755155] webcam\n",
      "Loading trainer for source domain amazon\n"
     ]
    },
    {
     "name": "stderr",
     "output_type": "stream",
     "text": [
      "caltech: 100%|██████████| 8/8 [00:00<00:00, 50.63it/s]\n"
     ]
    },
    {
     "name": "stdout",
     "output_type": "stream",
     "text": [
      "Loading trainer for source domain dslr\n"
     ]
    },
    {
     "name": "stderr",
     "output_type": "stream",
     "text": [
      "caltech: 100%|██████████| 8/8 [00:00<00:00, 57.75it/s]\n"
     ]
    },
    {
     "name": "stdout",
     "output_type": "stream",
     "text": [
      "Loading trainer for source domain webcam\n"
     ]
    },
    {
     "name": "stderr",
     "output_type": "stream",
     "text": [
      "caltech: 100%|██████████| 8/8 [00:00<00:00, 59.99it/s]\n"
     ]
    },
    {
     "name": "stdout",
     "output_type": "stream",
     "text": [
      "('office-caltech', 'ADW_C', 3, 0.9153297682709447)\n",
      "Loading trainer for source domain amazon\n",
      "Loading trainer for source domain amazon\n",
      "Loading trainer for source domain amazon\n",
      "Loading trainer for source domain amazon\n",
      "Loading trainer for source domain amazon\n",
      "Loading trainer for source domain dslr\n",
      "Loading trainer for source domain dslr\n",
      "Loading trainer for source domain dslr\n",
      "Loading trainer for source domain dslr\n",
      "Loading trainer for source domain dslr\n",
      "Loading trainer for source domain webcam\n",
      "Loading trainer for source domain webcam\n",
      "Loading trainer for source domain webcam\n",
      "Loading trainer for source domain webcam\n",
      "Loading trainer for source domain webcam\n",
      "multiplier = 5\n",
      "\n",
      "\n",
      "\n",
      "Loading trainer for source domain amazon\n"
     ]
    },
    {
     "name": "stderr",
     "output_type": "stream",
     "text": [
      "amazon: 100%|██████████| 59/59 [00:00<00:00, 256.69it/s]\n"
     ]
    },
    {
     "name": "stdout",
     "output_type": "stream",
     "text": [
      "Loading trainer for source domain amazon\n"
     ]
    },
    {
     "name": "stderr",
     "output_type": "stream",
     "text": [
      "caltech: 100%|██████████| 8/8 [00:00<00:00, 50.86it/s]\n"
     ]
    },
    {
     "name": "stdout",
     "output_type": "stream",
     "text": [
      "Source-only accuracy is 0.8787878787878788\n",
      "y__hat counts [158  99 102 135  70 111 159  99  94  95]\n",
      "y_true counts [150 110 100 138  85 128 133  94  87  97]\n",
      "Dist=\n",
      "[1 1 1 1 1 1 1 1 1 1]\n",
      "0 [0.01239005 0.         0.        ] amazon\n",
      "10 [0.14183553 0.         0.        ] amazon\n",
      "20 [0.28345518 0.         0.        ] amazon\n",
      "30 [0.40479324 0.         0.        ] amazon\n",
      "40 [0.53502681 0.         0.        ] amazon\n",
      "50 [0.66097804 0.         0.        ] amazon\n",
      "60 [0.80031657 0.         0.        ] amazon\n",
      "70 [0.92568031 0.         0.        ] amazon\n",
      "80 [1.07732444 0.         0.        ] amazon\n",
      "90 [1.21082389 0.         0.        ] amazon\n",
      "Loading trainer for source domain dslr\n"
     ]
    },
    {
     "name": "stderr",
     "output_type": "stream",
     "text": [
      "dslr: 100%|██████████| 9/9 [00:00<00:00, 72.50it/s]\n"
     ]
    },
    {
     "name": "stdout",
     "output_type": "stream",
     "text": [
      "Loading trainer for source domain dslr\n"
     ]
    },
    {
     "name": "stderr",
     "output_type": "stream",
     "text": [
      "caltech: 100%|██████████| 8/8 [00:00<00:00, 47.83it/s]\n"
     ]
    },
    {
     "name": "stdout",
     "output_type": "stream",
     "text": [
      "Source-only accuracy is 0.8181818181818182\n",
      "y__hat counts [162 108 104 141  40 164 106 125  84  88]\n",
      "y_true counts [150 110 100 138  85 128 133  94  87  97]\n",
      "Dist=\n",
      "[1 1 1 1 1 1 1 1 1 1]\n",
      "0 [1.32518867 0.03040823 0.        ] dslr\n",
      "10 [1.32518867 0.30890076 0.        ] dslr\n",
      "20 [1.32518867 0.55341254 0.        ] dslr\n",
      "30 [1.32518867 0.82776756 0.        ] dslr\n",
      "40 [1.32518867 1.09527733 0.        ] dslr\n",
      "50 [1.32518867 1.3571058  0.        ] dslr\n",
      "60 [1.32518867 1.64065709 0.        ] dslr\n",
      "70 [1.32518867 1.90015606 0.        ] dslr\n",
      "80 [1.32518867 2.1727131  0.        ] dslr\n",
      "90 [1.32518867 2.42463218 0.        ] dslr\n",
      "Loading trainer for source domain webcam\n"
     ]
    },
    {
     "name": "stderr",
     "output_type": "stream",
     "text": [
      "webcam: 100%|██████████| 18/18 [00:00<00:00, 128.95it/s]\n"
     ]
    },
    {
     "name": "stdout",
     "output_type": "stream",
     "text": [
      "Loading trainer for source domain webcam\n"
     ]
    },
    {
     "name": "stderr",
     "output_type": "stream",
     "text": [
      "caltech: 100%|██████████| 8/8 [00:00<00:00, 52.11it/s]\n"
     ]
    },
    {
     "name": "stdout",
     "output_type": "stream",
     "text": [
      "Source-only accuracy is 0.8627450980392157\n",
      "y__hat counts [128 119 104 115  66 181 110 109  88 102]\n",
      "y_true counts [150 110 100 138  85 128 133  94  87  97]\n",
      "Dist=\n",
      "[1 1 1 1 1 1 1 1 1 1]\n",
      "0 [1.32518867 2.6755689  0.01654029] webcam\n",
      "10 [1.32518867 2.6755689  0.19832875] webcam\n",
      "20 [1.32518867 2.6755689  0.36640589] webcam\n",
      "30 [1.32518867 2.6755689  0.54326078] webcam\n",
      "40 [1.32518867 2.6755689  0.70785417] webcam\n",
      "50 [1.32518867 2.6755689  0.88526053] webcam\n",
      "60 [1.32518867 2.6755689  1.07573609] webcam\n",
      "70 [1.32518867 2.6755689  1.24565311] webcam\n",
      "80 [1.32518867 2.6755689  1.42602817] webcam\n",
      "90 [1.32518867 2.6755689  1.62294206] webcam\n",
      "Loading trainer for source domain amazon\n"
     ]
    },
    {
     "name": "stderr",
     "output_type": "stream",
     "text": [
      "caltech: 100%|██████████| 8/8 [00:00<00:00, 52.16it/s]\n"
     ]
    },
    {
     "name": "stdout",
     "output_type": "stream",
     "text": [
      "Loading trainer for source domain dslr\n"
     ]
    },
    {
     "name": "stderr",
     "output_type": "stream",
     "text": [
      "caltech: 100%|██████████| 8/8 [00:00<00:00, 61.20it/s]\n"
     ]
    },
    {
     "name": "stdout",
     "output_type": "stream",
     "text": [
      "Loading trainer for source domain webcam\n"
     ]
    },
    {
     "name": "stderr",
     "output_type": "stream",
     "text": [
      "caltech: 100%|██████████| 8/8 [00:00<00:00, 56.98it/s]\n"
     ]
    },
    {
     "name": "stdout",
     "output_type": "stream",
     "text": [
      "('office-caltech', 'ADW_C', 4, 0.9144385026737968)\n",
      "ACW_D\n",
      "Loading trainer for source domain amazon\n",
      "Loading trainer for source domain amazon\n",
      "Loading trainer for source domain amazon\n",
      "Loading trainer for source domain amazon\n",
      "Multiplier for amazon is 3\n",
      "Loading trainer for source domain caltech\n",
      "Loading trainer for source domain caltech\n",
      "Loading trainer for source domain caltech\n",
      "Loading trainer for source domain caltech\n",
      "Multiplier for caltech is 3\n",
      "Loading trainer for source domain webcam\n",
      "Loading trainer for source domain webcam\n",
      "Loading trainer for source domain webcam\n",
      "Loading trainer for source domain webcam\n",
      "Multiplier for webcam is 3\n",
      "multiplier = 3\n",
      "\n",
      "\n",
      "\n",
      "Loading trainer for source domain amazon\n"
     ]
    },
    {
     "name": "stderr",
     "output_type": "stream",
     "text": [
      "amazon: 100%|██████████| 59/59 [00:00<00:00, 256.22it/s]\n"
     ]
    },
    {
     "name": "stdout",
     "output_type": "stream",
     "text": [
      "Loading trainer for source domain amazon\n"
     ]
    },
    {
     "name": "stderr",
     "output_type": "stream",
     "text": [
      "dslr: 100%|██████████| 1/1 [00:00<00:00,  8.12it/s]\n"
     ]
    },
    {
     "name": "stdout",
     "output_type": "stream",
     "text": [
      "Source-only accuracy is 0.9551282051282052\n",
      "y__hat counts [11 21 11 13 11 20 26 12  8 23]\n",
      "y_true counts [11 21 12 13 10 24 22 12  8 23]\n",
      "Dist=\n",
      "[1 1 1 1 1 1 1 1 1 1]\n",
      "0 [0.01295392 0.         0.        ] amazon\n",
      "10 [0.15192748 0.         0.        ] amazon\n",
      "20 [0.29934708 0.         0.        ] amazon\n",
      "30 [0.43372344 0.         0.        ] amazon\n",
      "40 [0.58181565 0.         0.        ] amazon\n",
      "50 [0.71711478 0.         0.        ] amazon\n",
      "60 [0.85706807 0.         0.        ] amazon\n",
      "70 [1.00209577 0.         0.        ] amazon\n",
      "80 [1.13979847 0.         0.        ] amazon\n",
      "90 [1.28001313 0.         0.        ] amazon\n",
      "Loading trainer for source domain caltech\n"
     ]
    },
    {
     "name": "stderr",
     "output_type": "stream",
     "text": [
      "caltech: 100%|██████████| 70/70 [00:00<00:00, 280.60it/s]\n"
     ]
    },
    {
     "name": "stdout",
     "output_type": "stream",
     "text": [
      "Loading trainer for source domain caltech\n"
     ]
    },
    {
     "name": "stderr",
     "output_type": "stream",
     "text": [
      "dslr: 100%|██████████| 1/1 [00:00<00:00,  7.20it/s]\n"
     ]
    },
    {
     "name": "stdout",
     "output_type": "stream",
     "text": [
      "Source-only accuracy is 0.9294871794871795\n",
      "y__hat counts [13 21 10 13 17 19 19 12  8 24]\n",
      "y_true counts [11 21 12 13 10 24 22 12  8 23]\n",
      "Dist=\n",
      "[12.3395195 21.077936  11.019586  13.698368  17.71862   19.931404\n",
      " 16.934322  12.357293   8.370578  22.552399 ]\n",
      "0 [1.40456632 0.01425154 0.        ] caltech\n",
      "10 [1.40456632 0.20009183 0.        ] caltech\n",
      "20 [1.40456632 0.4029366  0.        ] caltech\n",
      "30 [1.40456632 0.58606219 0.        ] caltech\n",
      "40 [1.40456632 0.77649911 0.        ] caltech\n",
      "50 [1.40456632 0.95930863 0.        ] caltech\n",
      "60 [1.40456632 1.15662575 0.        ] caltech\n",
      "70 [1.40456632 1.34135604 0.        ] caltech\n",
      "80 [1.40456632 1.52840719 0.        ] caltech\n",
      "90 [1.40456632 1.72073771 0.        ] caltech\n",
      "Loading trainer for source domain webcam\n"
     ]
    },
    {
     "name": "stderr",
     "output_type": "stream",
     "text": [
      "webcam: 100%|██████████| 18/18 [00:00<00:00, 133.83it/s]\n"
     ]
    },
    {
     "name": "stdout",
     "output_type": "stream",
     "text": [
      "Loading trainer for source domain webcam\n"
     ]
    },
    {
     "name": "stderr",
     "output_type": "stream",
     "text": [
      "dslr: 100%|██████████| 1/1 [00:00<00:00,  7.01it/s]\n"
     ]
    },
    {
     "name": "stdout",
     "output_type": "stream",
     "text": [
      "Source-only accuracy is 1.0\n",
      "y__hat counts [11 21 12 13 10 24 22 12  8 23]\n",
      "y_true counts [11 21 12 13 10 24 22 12  8 23]\n",
      "Dist=\n",
      "[11.159201 21.529789 11.281844 12.866196 11.189165 22.98351  22.650282\n",
      " 11.907328  8.141003 22.29169 ]\n",
      "0 [1.40456632 1.8905223  0.02226618] webcam\n",
      "10 [1.40456632 1.8905223  0.23339164] webcam\n",
      "20 [1.40456632 1.8905223  0.45473934] webcam\n",
      "30 [1.40456632 1.8905223  0.66640356] webcam\n",
      "40 [1.40456632 1.8905223  0.88879836] webcam\n",
      "50 [1.40456632 1.8905223  1.11716608] webcam\n",
      "60 [1.40456632 1.8905223  1.31323796] webcam\n",
      "70 [1.40456632 1.8905223  1.52695152] webcam\n",
      "80 [1.40456632 1.8905223  1.72732762] webcam\n",
      "90 [1.40456632 1.8905223  1.93167513] webcam\n",
      "Loading trainer for source domain amazon\n"
     ]
    },
    {
     "name": "stderr",
     "output_type": "stream",
     "text": [
      "dslr: 100%|██████████| 1/1 [00:00<00:00,  9.37it/s]\n"
     ]
    },
    {
     "name": "stdout",
     "output_type": "stream",
     "text": [
      "Loading trainer for source domain caltech\n"
     ]
    },
    {
     "name": "stderr",
     "output_type": "stream",
     "text": [
      "dslr: 100%|██████████| 1/1 [00:00<00:00,  8.40it/s]\n"
     ]
    },
    {
     "name": "stdout",
     "output_type": "stream",
     "text": [
      "Loading trainer for source domain webcam\n"
     ]
    },
    {
     "name": "stderr",
     "output_type": "stream",
     "text": [
      "dslr: 100%|██████████| 1/1 [00:00<00:00,  8.63it/s]\n"
     ]
    },
    {
     "name": "stdout",
     "output_type": "stream",
     "text": [
      "('office-caltech', 'ACW_D', 0, 0.967948717948718)\n",
      "Loading trainer for source domain amazon\n",
      "Loading trainer for source domain amazon\n",
      "Loading trainer for source domain amazon\n",
      "Loading trainer for source domain amazon\n",
      "Multiplier for amazon is 3\n",
      "Loading trainer for source domain caltech\n",
      "Loading trainer for source domain caltech\n",
      "Loading trainer for source domain caltech\n",
      "Loading trainer for source domain caltech\n",
      "Multiplier for caltech is 3\n",
      "Loading trainer for source domain webcam\n",
      "Loading trainer for source domain webcam\n",
      "Loading trainer for source domain webcam\n",
      "Loading trainer for source domain webcam\n",
      "Multiplier for webcam is 3\n",
      "multiplier = 3\n",
      "\n",
      "\n",
      "\n",
      "Loading trainer for source domain amazon\n"
     ]
    },
    {
     "name": "stderr",
     "output_type": "stream",
     "text": [
      "amazon: 100%|██████████| 59/59 [00:00<00:00, 261.80it/s]\n"
     ]
    },
    {
     "name": "stdout",
     "output_type": "stream",
     "text": [
      "Loading trainer for source domain amazon\n"
     ]
    },
    {
     "name": "stderr",
     "output_type": "stream",
     "text": [
      "dslr: 100%|██████████| 1/1 [00:00<00:00,  8.16it/s]\n"
     ]
    },
    {
     "name": "stdout",
     "output_type": "stream",
     "text": [
      "Source-only accuracy is 0.9615384615384616\n",
      "y__hat counts [11 21 11 13 13 20 24 12  8 23]\n",
      "y_true counts [11 21 12 13 10 24 22 12  8 23]\n",
      "Dist=\n",
      "[1 1 1 1 1 1 1 1 1 1]\n",
      "0 [0.01526017 0.         0.        ] amazon\n",
      "10 [0.15930329 0.         0.        ] amazon\n",
      "20 [0.29985712 0.         0.        ] amazon\n",
      "30 [0.44020071 0.         0.        ] amazon\n",
      "40 [0.58014807 0.         0.        ] amazon\n",
      "50 [0.71838282 0.         0.        ] amazon\n",
      "60 [0.84902116 0.         0.        ] amazon\n",
      "70 [0.99300242 0.         0.        ] amazon\n",
      "80 [1.13423195 0.         0.        ] amazon\n",
      "90 [1.27736504 0.         0.        ] amazon\n",
      "Loading trainer for source domain caltech\n"
     ]
    },
    {
     "name": "stderr",
     "output_type": "stream",
     "text": [
      "caltech: 100%|██████████| 70/70 [00:00<00:00, 267.18it/s]\n"
     ]
    },
    {
     "name": "stdout",
     "output_type": "stream",
     "text": [
      "Loading trainer for source domain caltech\n"
     ]
    },
    {
     "name": "stderr",
     "output_type": "stream",
     "text": [
      "dslr: 100%|██████████| 1/1 [00:00<00:00,  6.92it/s]\n"
     ]
    },
    {
     "name": "stdout",
     "output_type": "stream",
     "text": [
      "Source-only accuracy is 0.9294871794871795\n",
      "y__hat counts [12 21 10 13 18 16 21 12  8 25]\n",
      "y_true counts [11 21 12 13 10 24 22 12  8 23]\n",
      "Dist=\n",
      "[12.5344925 21.159174  11.044149  13.810983  17.939034  17.57878\n",
      " 19.136381  12.729943   8.375799  21.691275 ]\n",
      "0 [1.40310382 0.02063199 0.        ] caltech\n",
      "10 [1.40310382 0.19690414 0.        ] caltech\n",
      "20 [1.40310382 0.38564952 0.        ] caltech\n",
      "30 [1.40310382 0.57643054 0.        ] caltech\n",
      "40 [1.40310382 0.77012226 0.        ] caltech\n",
      "50 [1.40310382 0.953196   0.        ] caltech\n",
      "60 [1.40310382 1.13719956 0.        ] caltech\n",
      "70 [1.40310382 1.32895301 0.        ] caltech\n",
      "80 [1.40310382 1.51981709 0.        ] caltech\n",
      "90 [1.40310382 1.70767149 0.        ] caltech\n",
      "Loading trainer for source domain webcam\n"
     ]
    },
    {
     "name": "stderr",
     "output_type": "stream",
     "text": [
      "webcam: 100%|██████████| 18/18 [00:00<00:00, 115.48it/s]\n"
     ]
    },
    {
     "name": "stdout",
     "output_type": "stream",
     "text": [
      "Loading trainer for source domain webcam\n"
     ]
    },
    {
     "name": "stderr",
     "output_type": "stream",
     "text": [
      "dslr: 100%|██████████| 1/1 [00:00<00:00,  7.36it/s]\n"
     ]
    },
    {
     "name": "stdout",
     "output_type": "stream",
     "text": [
      "Source-only accuracy is 1.0\n",
      "y__hat counts [11 21 12 13 10 24 22 12  8 23]\n",
      "y_true counts [11 21 12 13 10 24 22 12  8 23]\n",
      "Dist=\n",
      "[11.055726 21.469238 11.287923 12.300268 11.710215 22.872282 22.652077\n",
      " 11.955699  7.942267 22.754314]\n",
      "0 [1.40310382 1.88176944 0.02465048] webcam\n",
      "10 [1.40310382 1.88176944 0.20947035] webcam\n",
      "20 [1.40310382 1.88176944 0.40557025] webcam\n",
      "30 [1.40310382 1.88176944 0.58641512] webcam\n",
      "40 [1.40310382 1.88176944 0.7715159 ] webcam\n",
      "50 [1.40310382 1.88176944 0.97119537] webcam\n",
      "60 [1.40310382 1.88176944 1.15817907] webcam\n",
      "70 [1.40310382 1.88176944 1.3577001 ] webcam\n",
      "80 [1.40310382 1.88176944 1.54630219] webcam\n",
      "90 [1.40310382 1.88176944 1.72546179] webcam\n",
      "Loading trainer for source domain amazon\n"
     ]
    },
    {
     "name": "stderr",
     "output_type": "stream",
     "text": [
      "dslr: 100%|██████████| 1/1 [00:00<00:00,  8.64it/s]\n"
     ]
    },
    {
     "name": "stdout",
     "output_type": "stream",
     "text": [
      "Loading trainer for source domain caltech\n"
     ]
    },
    {
     "name": "stderr",
     "output_type": "stream",
     "text": [
      "dslr: 100%|██████████| 1/1 [00:00<00:00,  8.28it/s]\n"
     ]
    },
    {
     "name": "stdout",
     "output_type": "stream",
     "text": [
      "Loading trainer for source domain webcam\n"
     ]
    },
    {
     "name": "stderr",
     "output_type": "stream",
     "text": [
      "dslr: 100%|██████████| 1/1 [00:00<00:00,  8.50it/s]\n"
     ]
    },
    {
     "name": "stdout",
     "output_type": "stream",
     "text": [
      "('office-caltech', 'ACW_D', 1, 0.9743589743589743)\n",
      "Loading trainer for source domain amazon\n",
      "Loading trainer for source domain amazon\n",
      "Loading trainer for source domain amazon\n",
      "Loading trainer for source domain amazon\n",
      "Multiplier for amazon is 3\n",
      "Loading trainer for source domain caltech\n",
      "Loading trainer for source domain caltech\n",
      "Loading trainer for source domain caltech\n",
      "Loading trainer for source domain caltech\n",
      "Multiplier for caltech is 3\n",
      "Loading trainer for source domain webcam\n",
      "Loading trainer for source domain webcam\n",
      "Loading trainer for source domain webcam\n",
      "Loading trainer for source domain webcam\n",
      "Multiplier for webcam is 3\n",
      "multiplier = 3\n",
      "\n",
      "\n",
      "\n",
      "Loading trainer for source domain amazon\n"
     ]
    },
    {
     "name": "stderr",
     "output_type": "stream",
     "text": [
      "amazon: 100%|██████████| 59/59 [00:00<00:00, 255.85it/s]\n"
     ]
    },
    {
     "name": "stdout",
     "output_type": "stream",
     "text": [
      "Loading trainer for source domain amazon\n"
     ]
    },
    {
     "name": "stderr",
     "output_type": "stream",
     "text": [
      "dslr: 100%|██████████| 1/1 [00:00<00:00,  8.14it/s]\n"
     ]
    },
    {
     "name": "stdout",
     "output_type": "stream",
     "text": [
      "Source-only accuracy is 0.9615384615384616\n",
      "y__hat counts [11 21 10 13 13 20 24 12  8 24]\n",
      "y_true counts [11 21 12 13 10 24 22 12  8 23]\n",
      "Dist=\n",
      "[1 1 1 1 1 1 1 1 1 1]\n",
      "0 [0.01428006 0.         0.        ] amazon\n",
      "10 [0.16233395 0.         0.        ] amazon\n",
      "20 [0.30275038 0.         0.        ] amazon\n",
      "30 [0.44746026 0.         0.        ] amazon\n",
      "40 [0.58615414 0.         0.        ] amazon\n",
      "50 [0.72622605 0.         0.        ] amazon\n",
      "60 [0.87519293 0.         0.        ] amazon\n",
      "70 [1.02399147 0.         0.        ] amazon\n",
      "80 [1.16706864 0.         0.        ] amazon\n",
      "90 [1.31721829 0.         0.        ] amazon\n",
      "Loading trainer for source domain caltech\n"
     ]
    },
    {
     "name": "stderr",
     "output_type": "stream",
     "text": [
      "caltech: 100%|██████████| 70/70 [00:00<00:00, 271.78it/s]\n"
     ]
    },
    {
     "name": "stdout",
     "output_type": "stream",
     "text": [
      "Loading trainer for source domain caltech\n"
     ]
    },
    {
     "name": "stderr",
     "output_type": "stream",
     "text": [
      "dslr: 100%|██████████| 1/1 [00:00<00:00,  7.87it/s]\n"
     ]
    },
    {
     "name": "stdout",
     "output_type": "stream",
     "text": [
      "Source-only accuracy is 0.9358974358974359\n",
      "y__hat counts [12 21 10 13 17 19 20 12  8 24]\n",
      "y_true counts [11 21 12 13 10 24 22 12  8 23]\n",
      "Dist=\n",
      "[12.244135 21.2053   10.918001 14.075724 17.84127  18.571644 18.01004\n",
      " 12.302471  8.409228 22.422182]\n",
      "0 [1.44967332 0.01651972 0.        ] caltech\n",
      "10 [1.44967332 0.19951378 0.        ] caltech\n",
      "20 [1.44967332 0.37636631 0.        ] caltech\n",
      "30 [1.44967332 0.55430624 0.        ] caltech\n",
      "40 [1.44967332 0.73587048 0.        ] caltech\n",
      "50 [1.44967332 0.91069588 0.        ] caltech\n",
      "60 [1.44967332 1.09554284 0.        ] caltech\n",
      "70 [1.44967332 1.28184721 0.        ] caltech\n",
      "80 [1.44967332 1.46126852 0.        ] caltech\n",
      "90 [1.44967332 1.64364157 0.        ] caltech\n",
      "Loading trainer for source domain webcam\n"
     ]
    },
    {
     "name": "stderr",
     "output_type": "stream",
     "text": [
      "webcam: 100%|██████████| 18/18 [00:00<00:00, 132.83it/s]\n"
     ]
    },
    {
     "name": "stdout",
     "output_type": "stream",
     "text": [
      "Loading trainer for source domain webcam\n"
     ]
    },
    {
     "name": "stderr",
     "output_type": "stream",
     "text": [
      "dslr: 100%|██████████| 1/1 [00:00<00:00,  7.45it/s]\n"
     ]
    },
    {
     "name": "stdout",
     "output_type": "stream",
     "text": [
      "Source-only accuracy is 1.0\n",
      "y__hat counts [11 21 12 13 10 24 22 12  8 23]\n",
      "y_true counts [11 21 12 13 10 24 22 12  8 23]\n",
      "Dist=\n",
      "[11.252395 21.468216 11.358399 12.513037 10.990242 23.646082 22.817047\n",
      " 11.723627  8.164444 22.066511]\n",
      "0 [1.44967332 1.81259038 0.01995848] webcam\n",
      "10 [1.44967332 1.81259038 0.21999152] webcam\n",
      "20 [1.44967332 1.81259038 0.41268328] webcam\n",
      "30 [1.44967332 1.81259038 0.61310147] webcam\n",
      "40 [1.44967332 1.81259038 0.81506325] webcam\n",
      "50 [1.44967332 1.81259038 1.01337023] webcam\n",
      "60 [1.44967332 1.81259038 1.21726461] webcam\n",
      "70 [1.44967332 1.81259038 1.42027157] webcam\n",
      "80 [1.44967332 1.81259038 1.61320963] webcam\n",
      "90 [1.44967332 1.81259038 1.81236831] webcam\n",
      "Loading trainer for source domain amazon\n"
     ]
    },
    {
     "name": "stderr",
     "output_type": "stream",
     "text": [
      "dslr: 100%|██████████| 1/1 [00:00<00:00,  8.84it/s]\n"
     ]
    },
    {
     "name": "stdout",
     "output_type": "stream",
     "text": [
      "Loading trainer for source domain caltech\n"
     ]
    },
    {
     "name": "stderr",
     "output_type": "stream",
     "text": [
      "dslr: 100%|██████████| 1/1 [00:00<00:00,  8.13it/s]\n"
     ]
    },
    {
     "name": "stdout",
     "output_type": "stream",
     "text": [
      "Loading trainer for source domain webcam\n"
     ]
    },
    {
     "name": "stderr",
     "output_type": "stream",
     "text": [
      "dslr: 100%|██████████| 1/1 [00:00<00:00,  8.40it/s]\n"
     ]
    },
    {
     "name": "stdout",
     "output_type": "stream",
     "text": [
      "('office-caltech', 'ACW_D', 2, 0.9615384615384616)\n",
      "Loading trainer for source domain amazon\n",
      "Loading trainer for source domain amazon\n",
      "Loading trainer for source domain amazon\n",
      "Loading trainer for source domain amazon\n",
      "Multiplier for amazon is 3\n",
      "Loading trainer for source domain caltech\n",
      "Loading trainer for source domain caltech\n",
      "Loading trainer for source domain caltech\n",
      "Loading trainer for source domain caltech\n",
      "Multiplier for caltech is 3\n",
      "Loading trainer for source domain webcam\n",
      "Loading trainer for source domain webcam\n",
      "Loading trainer for source domain webcam\n",
      "Loading trainer for source domain webcam\n",
      "Multiplier for webcam is 3\n",
      "multiplier = 3\n",
      "\n",
      "\n",
      "\n",
      "Loading trainer for source domain amazon\n"
     ]
    },
    {
     "name": "stderr",
     "output_type": "stream",
     "text": [
      "amazon: 100%|██████████| 59/59 [00:00<00:00, 243.41it/s]\n"
     ]
    },
    {
     "name": "stdout",
     "output_type": "stream",
     "text": [
      "Loading trainer for source domain amazon\n"
     ]
    },
    {
     "name": "stderr",
     "output_type": "stream",
     "text": [
      "dslr: 100%|██████████| 1/1 [00:00<00:00,  7.75it/s]\n"
     ]
    },
    {
     "name": "stdout",
     "output_type": "stream",
     "text": [
      "Source-only accuracy is 0.9551282051282052\n",
      "y__hat counts [11 21 11 13 14 19 24 12  8 23]\n",
      "y_true counts [11 21 12 13 10 24 22 12  8 23]\n",
      "Dist=\n",
      "[1 1 1 1 1 1 1 1 1 1]\n",
      "0 [0.01558465 0.         0.        ] amazon\n",
      "10 [0.15294146 0.         0.        ] amazon\n",
      "20 [0.29924943 0.         0.        ] amazon\n",
      "30 [0.4400204 0.        0.       ] amazon\n",
      "40 [0.57493605 0.         0.        ] amazon\n",
      "50 [0.71661292 0.         0.        ] amazon\n",
      "60 [0.85598834 0.         0.        ] amazon\n",
      "70 [0.99923787 0.         0.        ] amazon\n",
      "80 [1.14058941 0.         0.        ] amazon\n",
      "90 [1.28050255 0.         0.        ] amazon\n",
      "Loading trainer for source domain caltech\n"
     ]
    },
    {
     "name": "stderr",
     "output_type": "stream",
     "text": [
      "caltech: 100%|██████████| 70/70 [00:00<00:00, 275.28it/s]\n"
     ]
    },
    {
     "name": "stdout",
     "output_type": "stream",
     "text": [
      "Loading trainer for source domain caltech\n"
     ]
    },
    {
     "name": "stderr",
     "output_type": "stream",
     "text": [
      "dslr: 100%|██████████| 1/1 [00:00<00:00,  7.73it/s]\n"
     ]
    },
    {
     "name": "stdout",
     "output_type": "stream",
     "text": [
      "Source-only accuracy is 0.9487179487179487\n",
      "y__hat counts [11 21 10 13 18 18 22 12  8 23]\n",
      "y_true counts [11 21 12 13 10 24 22 12  8 23]\n",
      "Dist=\n",
      "[11.643082 20.999355 10.825858 13.564864 17.990942 19.32073  19.099855\n",
      " 12.398027  8.539082 21.618212]\n",
      "0 [1.4089198 0.0192105 0.       ] caltech\n",
      "10 [1.4089198  0.20367529 0.        ] caltech\n",
      "20 [1.4089198  0.38344569 0.        ] caltech\n",
      "30 [1.4089198  0.57402676 0.        ] caltech\n",
      "40 [1.4089198  0.75595089 0.        ] caltech\n",
      "50 [1.4089198  0.94676199 0.        ] caltech\n",
      "60 [1.4089198  1.12347467 0.        ] caltech\n",
      "70 [1.4089198  1.30881117 0.        ] caltech\n",
      "80 [1.4089198  1.49128286 0.        ] caltech\n",
      "90 [1.4089198 1.6894365 0.       ] caltech\n",
      "Loading trainer for source domain webcam\n"
     ]
    },
    {
     "name": "stderr",
     "output_type": "stream",
     "text": [
      "webcam: 100%|██████████| 18/18 [00:00<00:00, 123.79it/s]\n"
     ]
    },
    {
     "name": "stdout",
     "output_type": "stream",
     "text": [
      "Loading trainer for source domain webcam\n"
     ]
    },
    {
     "name": "stderr",
     "output_type": "stream",
     "text": [
      "dslr: 100%|██████████| 1/1 [00:00<00:00,  7.36it/s]\n"
     ]
    },
    {
     "name": "stdout",
     "output_type": "stream",
     "text": [
      "Source-only accuracy is 1.0\n",
      "y__hat counts [11 21 12 13 10 24 22 12  8 23]\n",
      "y_true counts [11 21 12 13 10 24 22 12  8 23]\n",
      "Dist=\n",
      "[11.026981  21.438578  11.666027  12.5384035 10.666414  23.541052\n",
      " 22.335054  12.138867   8.037565  22.611053 ]\n",
      "0 [1.4089198  1.85694939 0.02142335] webcam\n",
      "10 [1.4089198  1.85694939 0.23058397] webcam\n",
      "20 [1.4089198  1.85694939 0.42639955] webcam\n",
      "30 [1.4089198  1.85694939 0.62318535] webcam\n",
      "40 [1.4089198  1.85694939 0.8307784 ] webcam\n",
      "50 [1.4089198  1.85694939 1.05611106] webcam\n",
      "60 [1.4089198  1.85694939 1.26484944] webcam\n",
      "70 [1.4089198  1.85694939 1.47419253] webcam\n",
      "80 [1.4089198  1.85694939 1.67449183] webcam\n",
      "90 [1.4089198  1.85694939 1.86908951] webcam\n",
      "Loading trainer for source domain amazon\n"
     ]
    },
    {
     "name": "stderr",
     "output_type": "stream",
     "text": [
      "dslr: 100%|██████████| 1/1 [00:00<00:00,  7.85it/s]\n"
     ]
    },
    {
     "name": "stdout",
     "output_type": "stream",
     "text": [
      "Loading trainer for source domain caltech\n"
     ]
    },
    {
     "name": "stderr",
     "output_type": "stream",
     "text": [
      "dslr: 100%|██████████| 1/1 [00:00<00:00,  8.29it/s]\n"
     ]
    },
    {
     "name": "stdout",
     "output_type": "stream",
     "text": [
      "Loading trainer for source domain webcam\n"
     ]
    },
    {
     "name": "stderr",
     "output_type": "stream",
     "text": [
      "dslr: 100%|██████████| 1/1 [00:00<00:00,  8.38it/s]\n"
     ]
    },
    {
     "name": "stdout",
     "output_type": "stream",
     "text": [
      "('office-caltech', 'ACW_D', 3, 0.9743589743589743)\n",
      "Loading trainer for source domain amazon\n",
      "Loading trainer for source domain amazon\n",
      "Loading trainer for source domain amazon\n",
      "Loading trainer for source domain amazon\n",
      "Multiplier for amazon is 3\n",
      "Loading trainer for source domain caltech\n",
      "Loading trainer for source domain caltech\n",
      "Loading trainer for source domain caltech\n",
      "Loading trainer for source domain caltech\n",
      "Multiplier for caltech is 3\n",
      "Loading trainer for source domain webcam\n",
      "Loading trainer for source domain webcam\n",
      "Loading trainer for source domain webcam\n",
      "Loading trainer for source domain webcam\n",
      "Multiplier for webcam is 3\n",
      "multiplier = 3\n",
      "\n",
      "\n",
      "\n",
      "Loading trainer for source domain amazon\n"
     ]
    },
    {
     "name": "stderr",
     "output_type": "stream",
     "text": [
      "amazon: 100%|██████████| 59/59 [00:00<00:00, 251.63it/s]\n"
     ]
    },
    {
     "name": "stdout",
     "output_type": "stream",
     "text": [
      "Loading trainer for source domain amazon\n"
     ]
    },
    {
     "name": "stderr",
     "output_type": "stream",
     "text": [
      "dslr: 100%|██████████| 1/1 [00:00<00:00,  8.33it/s]\n"
     ]
    },
    {
     "name": "stdout",
     "output_type": "stream",
     "text": [
      "Source-only accuracy is 0.9294871794871795\n",
      "y__hat counts [11 21  9 13 16 18 25 13  8 22]\n",
      "y_true counts [11 21 12 13 10 24 22 12  8 23]\n",
      "Dist=\n",
      "[1 1 1 1 1 1 1 1 1 1]\n",
      "0 [0.01342325 0.         0.        ] amazon\n",
      "10 [0.15526707 0.         0.        ] amazon\n",
      "20 [0.30261648 0.         0.        ] amazon\n",
      "30 [0.44750354 0.         0.        ] amazon\n",
      "40 [0.59358546 0.         0.        ] amazon\n",
      "50 [0.7335616 0.        0.       ] amazon\n",
      "60 [0.87421127 0.         0.        ] amazon\n",
      "70 [1.01811148 0.         0.        ] amazon\n",
      "80 [1.16306355 0.         0.        ] amazon\n",
      "90 [1.3026692 0.        0.       ] amazon\n",
      "Loading trainer for source domain caltech\n"
     ]
    },
    {
     "name": "stderr",
     "output_type": "stream",
     "text": [
      "caltech: 100%|██████████| 70/70 [00:00<00:00, 271.69it/s]\n"
     ]
    },
    {
     "name": "stdout",
     "output_type": "stream",
     "text": [
      "Loading trainer for source domain caltech\n"
     ]
    },
    {
     "name": "stderr",
     "output_type": "stream",
     "text": [
      "dslr: 100%|██████████| 1/1 [00:00<00:00,  7.64it/s]\n"
     ]
    },
    {
     "name": "stdout",
     "output_type": "stream",
     "text": [
      "Source-only accuracy is 0.9358974358974359\n",
      "y__hat counts [12 21 10 13 18 17 21 12  8 24]\n",
      "y_true counts [11 21 12 13 10 24 22 12  8 23]\n",
      "Dist=\n",
      "[12.026538 21.269087 10.647915 13.602459 18.726574 17.906132 18.40472\n",
      " 12.57588   8.246576 22.594122]\n",
      "0 [1.42935971 0.01855921 0.        ] caltech\n",
      "10 [1.42935971 0.2183689  0.        ] caltech\n",
      "20 [1.42935971 0.41563707 0.        ] caltech\n",
      "30 [1.42935971 0.60730854 0.        ] caltech\n",
      "40 [1.42935971 0.80025036 0.        ] caltech\n",
      "50 [1.42935971 0.98943162 0.        ] caltech\n",
      "60 [1.42935971 1.18991751 0.        ] caltech\n",
      "70 [1.42935971 1.39033092 0.        ] caltech\n",
      "80 [1.42935971 1.58798107 0.        ] caltech\n",
      "90 [1.42935971 1.78819038 0.        ] caltech\n",
      "Loading trainer for source domain webcam\n"
     ]
    },
    {
     "name": "stderr",
     "output_type": "stream",
     "text": [
      "webcam: 100%|██████████| 18/18 [00:00<00:00, 132.52it/s]\n"
     ]
    },
    {
     "name": "stdout",
     "output_type": "stream",
     "text": [
      "Loading trainer for source domain webcam\n"
     ]
    },
    {
     "name": "stderr",
     "output_type": "stream",
     "text": [
      "dslr: 100%|██████████| 1/1 [00:00<00:00,  8.03it/s]\n"
     ]
    },
    {
     "name": "stdout",
     "output_type": "stream",
     "text": [
      "Source-only accuracy is 1.0\n",
      "y__hat counts [11 21 12 13 10 24 22 12  8 23]\n",
      "y_true counts [11 21 12 13 10 24 22 12  8 23]\n",
      "Dist=\n",
      "[11.120282 21.382353 11.668208 12.72229  10.737167 22.80643  23.189966\n",
      " 11.734848  8.086993 22.551455]\n",
      "0 [1.42935971 1.97772784 0.02236057] webcam\n",
      "10 [1.42935971 1.97772784 0.21637289] webcam\n",
      "20 [1.42935971 1.97772784 0.42953912] webcam\n",
      "30 [1.42935971 1.97772784 0.62508903] webcam\n",
      "40 [1.42935971 1.97772784 0.8278687 ] webcam\n",
      "50 [1.42935971 1.97772784 1.03123611] webcam\n",
      "60 [1.42935971 1.97772784 1.23408961] webcam\n",
      "70 [1.42935971 1.97772784 1.42071431] webcam\n",
      "80 [1.42935971 1.97772784 1.62027   ] webcam\n",
      "90 [1.42935971 1.97772784 1.81604419] webcam\n",
      "Loading trainer for source domain amazon\n"
     ]
    },
    {
     "name": "stderr",
     "output_type": "stream",
     "text": [
      "dslr: 100%|██████████| 1/1 [00:00<00:00,  8.31it/s]\n"
     ]
    },
    {
     "name": "stdout",
     "output_type": "stream",
     "text": [
      "Loading trainer for source domain caltech\n"
     ]
    },
    {
     "name": "stderr",
     "output_type": "stream",
     "text": [
      "dslr: 100%|██████████| 1/1 [00:00<00:00,  8.00it/s]\n"
     ]
    },
    {
     "name": "stdout",
     "output_type": "stream",
     "text": [
      "Loading trainer for source domain webcam\n"
     ]
    },
    {
     "name": "stderr",
     "output_type": "stream",
     "text": [
      "dslr: 100%|██████████| 1/1 [00:00<00:00,  9.27it/s]\n"
     ]
    },
    {
     "name": "stdout",
     "output_type": "stream",
     "text": [
      "('office-caltech', 'ACW_D', 4, 0.967948717948718)\n",
      "CDW_A\n",
      "Loading trainer for source domain caltech\n",
      "Loading trainer for source domain caltech\n",
      "Loading trainer for source domain caltech\n",
      "Loading trainer for source domain caltech\n",
      "Loading trainer for source domain caltech\n",
      "Loading trainer for source domain dslr\n",
      "Loading trainer for source domain dslr\n",
      "Loading trainer for source domain dslr\n",
      "Loading trainer for source domain dslr\n",
      "Loading trainer for source domain dslr\n",
      "Loading trainer for source domain webcam\n",
      "Loading trainer for source domain webcam\n",
      "Loading trainer for source domain webcam\n",
      "Loading trainer for source domain webcam\n",
      "Loading trainer for source domain webcam\n",
      "multiplier = 5\n",
      "\n",
      "\n",
      "\n",
      "Loading trainer for source domain caltech\n"
     ]
    },
    {
     "name": "stderr",
     "output_type": "stream",
     "text": [
      "caltech: 100%|██████████| 70/70 [00:00<00:00, 269.69it/s]\n"
     ]
    },
    {
     "name": "stdout",
     "output_type": "stream",
     "text": [
      "Loading trainer for source domain caltech\n"
     ]
    },
    {
     "name": "stderr",
     "output_type": "stream",
     "text": [
      "amazon: 100%|██████████| 6/6 [00:00<00:00, 40.52it/s]\n"
     ]
    },
    {
     "name": "stdout",
     "output_type": "stream",
     "text": [
      "Source-only accuracy is 0.9519331243469175\n",
      "y__hat counts [ 91  80  96 108  94  96 106  95  90 101]\n",
      "y_true counts [ 91  82  94  99 100 100  99 100  94  98]\n",
      "Dist=\n",
      "[ 93.27353   80.92867   97.30446  107.234276  95.2435    92.91184\n",
      " 104.21421   93.36134   89.915085 102.61297 ]\n",
      "0 [0.01324307 0.         0.        ] caltech\n",
      "10 [0.14437209 0.         0.        ] caltech\n",
      "20 [0.28467996 0.         0.        ] caltech\n",
      "30 [0.41804215 0.         0.        ] caltech\n",
      "40 [0.56127918 0.         0.        ] caltech\n",
      "50 [0.69414537 0.         0.        ] caltech\n",
      "60 [0.83161 0.      0.     ] caltech\n",
      "70 [0.97379654 0.         0.        ] caltech\n",
      "80 [1.10725671 0.         0.        ] caltech\n",
      "90 [1.24690142 0.         0.        ] caltech\n",
      "Loading trainer for source domain dslr\n"
     ]
    },
    {
     "name": "stderr",
     "output_type": "stream",
     "text": [
      "dslr: 100%|██████████| 9/9 [00:00<00:00, 79.96it/s]\n"
     ]
    },
    {
     "name": "stdout",
     "output_type": "stream",
     "text": [
      "Loading trainer for source domain dslr\n"
     ]
    },
    {
     "name": "stderr",
     "output_type": "stream",
     "text": [
      "amazon: 100%|██████████| 6/6 [00:00<00:00, 38.80it/s]\n"
     ]
    },
    {
     "name": "stdout",
     "output_type": "stream",
     "text": [
      "Source-only accuracy is 0.9007314524555904\n",
      "y__hat counts [ 93  87 121  95  66 121  90 102  89  93]\n",
      "y_true counts [ 91  82  94  99 100 100  99 100  94  98]\n",
      "Dist=\n",
      "[1 1 1 1 1 1 1 1 1 1]\n",
      "0 [1.36459286 0.02505612 0.        ] dslr\n",
      "10 [1.36459286 0.29911637 0.        ] dslr\n",
      "20 [1.36459286 0.56048358 0.        ] dslr\n",
      "30 [1.36459286 0.80477699 0.        ] dslr\n",
      "40 [1.36459286 1.05388447 0.        ] dslr\n",
      "50 [1.36459286 1.31040329 0.        ] dslr\n",
      "60 [1.36459286 1.53705085 0.        ] dslr\n",
      "70 [1.36459286 1.78781745 0.        ] dslr\n",
      "80 [1.36459286 2.05231702 0.        ] dslr\n",
      "90 [1.36459286 2.30046551 0.        ] dslr\n",
      "Loading trainer for source domain webcam\n"
     ]
    },
    {
     "name": "stderr",
     "output_type": "stream",
     "text": [
      "webcam: 100%|██████████| 18/18 [00:00<00:00, 129.85it/s]\n"
     ]
    },
    {
     "name": "stdout",
     "output_type": "stream",
     "text": [
      "Loading trainer for source domain webcam\n"
     ]
    },
    {
     "name": "stderr",
     "output_type": "stream",
     "text": [
      "amazon: 100%|██████████| 6/6 [00:00<00:00, 35.47it/s]\n"
     ]
    },
    {
     "name": "stdout",
     "output_type": "stream",
     "text": [
      "Source-only accuracy is 0.910135841170324\n",
      "y__hat counts [ 85  79 120  87  69 114 108 106  90  99]\n",
      "y_true counts [ 91  82  94  99 100 100  99 100  94  98]\n",
      "Dist=\n",
      "[1 1 1 1 1 1 1 1 1 1]\n",
      "0 [1.36459286 2.50894757 0.01789485] webcam\n",
      "10 [1.36459286 2.50894757 0.17569112] webcam\n",
      "20 [1.36459286 2.50894757 0.33555782] webcam\n",
      "30 [1.36459286 2.50894757 0.48069805] webcam\n",
      "40 [1.36459286 2.50894757 0.65945916] webcam\n",
      "50 [1.36459286 2.50894757 0.83240234] webcam\n",
      "60 [1.36459286 2.50894757 1.01173151] webcam\n",
      "70 [1.36459286 2.50894757 1.16189459] webcam\n",
      "80 [1.36459286 2.50894757 1.3284072 ] webcam\n",
      "90 [1.36459286 2.50894757 1.49217091] webcam\n",
      "Loading trainer for source domain caltech\n"
     ]
    },
    {
     "name": "stderr",
     "output_type": "stream",
     "text": [
      "amazon: 100%|██████████| 6/6 [00:00<00:00, 41.29it/s]\n"
     ]
    },
    {
     "name": "stdout",
     "output_type": "stream",
     "text": [
      "Loading trainer for source domain dslr\n"
     ]
    },
    {
     "name": "stderr",
     "output_type": "stream",
     "text": [
      "amazon: 100%|██████████| 6/6 [00:00<00:00, 44.36it/s]\n"
     ]
    },
    {
     "name": "stdout",
     "output_type": "stream",
     "text": [
      "Loading trainer for source domain webcam\n"
     ]
    },
    {
     "name": "stderr",
     "output_type": "stream",
     "text": [
      "amazon: 100%|██████████| 6/6 [00:00<00:00, 48.03it/s]\n"
     ]
    },
    {
     "name": "stdout",
     "output_type": "stream",
     "text": [
      "('office-caltech', 'CDW_A', 0, 0.955067920585162)\n",
      "Loading trainer for source domain caltech\n",
      "Loading trainer for source domain caltech\n",
      "Loading trainer for source domain caltech\n",
      "Loading trainer for source domain caltech\n",
      "Loading trainer for source domain caltech\n",
      "Loading trainer for source domain dslr\n",
      "Loading trainer for source domain dslr\n",
      "Loading trainer for source domain dslr\n",
      "Loading trainer for source domain dslr\n",
      "Loading trainer for source domain dslr\n",
      "Loading trainer for source domain webcam\n",
      "Loading trainer for source domain webcam\n",
      "Loading trainer for source domain webcam\n",
      "Loading trainer for source domain webcam\n",
      "Loading trainer for source domain webcam\n",
      "multiplier = 5\n",
      "\n",
      "\n",
      "\n",
      "Loading trainer for source domain caltech\n"
     ]
    },
    {
     "name": "stderr",
     "output_type": "stream",
     "text": [
      "caltech: 100%|██████████| 70/70 [00:00<00:00, 279.14it/s]\n"
     ]
    },
    {
     "name": "stdout",
     "output_type": "stream",
     "text": [
      "Loading trainer for source domain caltech\n"
     ]
    },
    {
     "name": "stderr",
     "output_type": "stream",
     "text": [
      "amazon: 100%|██████████| 6/6 [00:00<00:00, 37.76it/s]\n"
     ]
    },
    {
     "name": "stdout",
     "output_type": "stream",
     "text": [
      "Source-only accuracy is 0.9519331243469175\n",
      "y__hat counts [ 89  79  96 109  93  97 106  96  91 101]\n",
      "y_true counts [ 91  82  94  99 100 100  99 100  94  98]\n",
      "Dist=\n",
      "[ 90.043274  81.206955  98.29611  105.99944   94.679726  96.80704\n",
      " 103.53103   94.96772   90.149155 101.31948 ]\n",
      "0 [0.01174428 0.         0.        ] caltech\n",
      "10 [0.16293165 0.         0.        ] caltech\n",
      "20 [0.30544631 0.         0.        ] caltech\n",
      "30 [0.44655882 0.         0.        ] caltech\n",
      "40 [0.59496393 0.         0.        ] caltech\n",
      "50 [0.73352369 0.         0.        ] caltech\n",
      "60 [0.88621954 0.         0.        ] caltech\n",
      "70 [1.02759314 0.         0.        ] caltech\n",
      "80 [1.16101728 0.         0.        ] caltech\n",
      "90 [1.30609861 0.         0.        ] caltech\n",
      "Loading trainer for source domain dslr\n"
     ]
    },
    {
     "name": "stderr",
     "output_type": "stream",
     "text": [
      "dslr: 100%|██████████| 9/9 [00:00<00:00, 71.52it/s]\n"
     ]
    },
    {
     "name": "stdout",
     "output_type": "stream",
     "text": [
      "Loading trainer for source domain dslr\n"
     ]
    },
    {
     "name": "stderr",
     "output_type": "stream",
     "text": [
      "amazon: 100%|██████████| 6/6 [00:00<00:00, 38.38it/s]\n"
     ]
    },
    {
     "name": "stdout",
     "output_type": "stream",
     "text": [
      "Source-only accuracy is 0.9059561128526645\n",
      "y__hat counts [ 89  82 111 100  79 115 103 104  86  88]\n",
      "y_true counts [ 91  82  94  99 100 100  99 100  94  98]\n",
      "Dist=\n",
      "[1 1 1 1 1 1 1 1 1 1]\n",
      "0 [1.43628858 0.03827988 0.        ] dslr\n",
      "10 [1.43628858 0.32234661 0.        ] dslr\n",
      "20 [1.43628858 0.62483969 0.        ] dslr\n",
      "30 [1.43628858 0.92811252 0.        ] dslr\n",
      "40 [1.43628858 1.216313   0.        ] dslr\n",
      "50 [1.43628858 1.52081946 0.        ] dslr\n",
      "60 [1.43628858 1.81824702 0.        ] dslr\n",
      "70 [1.43628858 2.10488516 0.        ] dslr\n",
      "80 [1.43628858 2.39122534 0.        ] dslr\n",
      "90 [1.43628858 2.65350362 0.        ] dslr\n",
      "Loading trainer for source domain webcam\n"
     ]
    },
    {
     "name": "stderr",
     "output_type": "stream",
     "text": [
      "webcam: 100%|██████████| 18/18 [00:00<00:00, 135.55it/s]\n"
     ]
    },
    {
     "name": "stdout",
     "output_type": "stream",
     "text": [
      "Loading trainer for source domain webcam\n"
     ]
    },
    {
     "name": "stderr",
     "output_type": "stream",
     "text": [
      "amazon: 100%|██████████| 6/6 [00:00<00:00, 39.84it/s]\n"
     ]
    },
    {
     "name": "stdout",
     "output_type": "stream",
     "text": [
      "Source-only accuracy is 0.9059561128526645\n",
      "y__hat counts [ 81  81 119  86  80 110  95 119  86 100]\n",
      "y_true counts [ 91  82  94  99 100 100  99 100  94  98]\n",
      "Dist=\n",
      "[1 1 1 1 1 1 1 1 1 1]\n",
      "0 [1.43628858 2.9277449  0.01521449] webcam\n",
      "10 [1.43628858 2.9277449  0.16968089] webcam\n",
      "20 [1.43628858 2.9277449  0.32450409] webcam\n",
      "30 [1.43628858 2.9277449  0.4864458 ] webcam\n",
      "40 [1.43628858 2.9277449  0.6587457 ] webcam\n",
      "50 [1.43628858 2.9277449  0.80926884] webcam\n",
      "60 [1.43628858 2.9277449  0.95902445] webcam\n",
      "70 [1.43628858 2.9277449  1.12054646] webcam\n",
      "80 [1.43628858 2.9277449  1.2787399 ] webcam\n",
      "90 [1.43628858 2.9277449  1.43555603] webcam\n",
      "Loading trainer for source domain caltech\n"
     ]
    },
    {
     "name": "stderr",
     "output_type": "stream",
     "text": [
      "amazon: 100%|██████████| 6/6 [00:00<00:00, 40.46it/s]\n"
     ]
    },
    {
     "name": "stdout",
     "output_type": "stream",
     "text": [
      "Loading trainer for source domain dslr\n"
     ]
    },
    {
     "name": "stderr",
     "output_type": "stream",
     "text": [
      "amazon: 100%|██████████| 6/6 [00:00<00:00, 43.13it/s]\n"
     ]
    },
    {
     "name": "stdout",
     "output_type": "stream",
     "text": [
      "Loading trainer for source domain webcam\n"
     ]
    },
    {
     "name": "stderr",
     "output_type": "stream",
     "text": [
      "amazon: 100%|██████████| 6/6 [00:00<00:00, 41.84it/s]\n"
     ]
    },
    {
     "name": "stdout",
     "output_type": "stream",
     "text": [
      "('office-caltech', 'CDW_A', 1, 0.9561128526645768)\n",
      "Loading trainer for source domain caltech\n",
      "Loading trainer for source domain caltech\n",
      "Loading trainer for source domain caltech\n",
      "Loading trainer for source domain caltech\n",
      "Loading trainer for source domain caltech\n",
      "Loading trainer for source domain dslr\n",
      "Loading trainer for source domain dslr\n",
      "Loading trainer for source domain dslr\n",
      "Loading trainer for source domain dslr\n",
      "Loading trainer for source domain dslr\n",
      "Loading trainer for source domain webcam\n",
      "Loading trainer for source domain webcam\n",
      "Loading trainer for source domain webcam\n",
      "Loading trainer for source domain webcam\n",
      "Loading trainer for source domain webcam\n",
      "multiplier = 5\n",
      "\n",
      "\n",
      "\n",
      "Loading trainer for source domain caltech\n"
     ]
    },
    {
     "name": "stderr",
     "output_type": "stream",
     "text": [
      "caltech: 100%|██████████| 70/70 [00:00<00:00, 271.35it/s]\n"
     ]
    },
    {
     "name": "stdout",
     "output_type": "stream",
     "text": [
      "Loading trainer for source domain caltech\n"
     ]
    },
    {
     "name": "stderr",
     "output_type": "stream",
     "text": [
      "amazon: 100%|██████████| 6/6 [00:00<00:00, 38.37it/s]\n"
     ]
    },
    {
     "name": "stdout",
     "output_type": "stream",
     "text": [
      "Source-only accuracy is 0.9571577847439916\n",
      "y__hat counts [ 89  80  98 106  94  96 104  98  92 100]\n",
      "y_true counts [ 91  82  94  99 100 100  99 100  94  98]\n",
      "Dist=\n",
      "[ 91.30643   81.55013   99.15177  106.61478   94.97947   94.712006\n",
      " 100.57705   95.59912   91.286865 101.22213 ]\n",
      "0 [0.01538903 0.         0.        ] caltech\n",
      "10 [0.15189868 0.         0.        ] caltech\n",
      "20 [0.28772961 0.         0.        ] caltech\n",
      "30 [0.43237262 0.         0.        ] caltech\n",
      "40 [0.58124821 0.         0.        ] caltech\n",
      "50 [0.72353734 0.         0.        ] caltech\n",
      "60 [0.86663796 0.         0.        ] caltech\n",
      "70 [1.01085076 0.         0.        ] caltech\n",
      "80 [1.16295372 0.         0.        ] caltech\n",
      "90 [1.30845635 0.         0.        ] caltech\n",
      "Loading trainer for source domain dslr\n"
     ]
    },
    {
     "name": "stderr",
     "output_type": "stream",
     "text": [
      "dslr: 100%|██████████| 9/9 [00:00<00:00, 78.84it/s]\n"
     ]
    },
    {
     "name": "stdout",
     "output_type": "stream",
     "text": [
      "Loading trainer for source domain dslr\n"
     ]
    },
    {
     "name": "stderr",
     "output_type": "stream",
     "text": [
      "amazon: 100%|██████████| 6/6 [00:00<00:00, 40.30it/s]\n"
     ]
    },
    {
     "name": "stdout",
     "output_type": "stream",
     "text": [
      "Source-only accuracy is 0.8955067920585162\n",
      "y__hat counts [ 97  80 135 100  63 104  95 109  85  89]\n",
      "y_true counts [ 91  82  94  99 100 100  99 100  94  98]\n",
      "Dist=\n",
      "[1 1 1 1 1 1 1 1 1 1]\n",
      "0 [1.43803808 0.02735394 0.        ] dslr\n",
      "10 [1.43803808 0.26962095 0.        ] dslr\n",
      "20 [1.43803808 0.50893295 0.        ] dslr\n",
      "30 [1.43803808 0.73571835 0.        ] dslr\n",
      "40 [1.43803808 0.97086882 0.        ] dslr\n",
      "50 [1.43803808 1.21798615 0.        ] dslr\n",
      "60 [1.43803808 1.45109219 0.        ] dslr\n",
      "70 [1.43803808 1.68249448 0.        ] dslr\n",
      "80 [1.43803808 1.92234694 0.        ] dslr\n",
      "90 [1.43803808 2.15474551 0.        ] dslr\n",
      "Loading trainer for source domain webcam\n"
     ]
    },
    {
     "name": "stderr",
     "output_type": "stream",
     "text": [
      "webcam: 100%|██████████| 18/18 [00:00<00:00, 126.63it/s]\n"
     ]
    },
    {
     "name": "stdout",
     "output_type": "stream",
     "text": [
      "Loading trainer for source domain webcam\n"
     ]
    },
    {
     "name": "stderr",
     "output_type": "stream",
     "text": [
      "amazon: 100%|██████████| 6/6 [00:00<00:00, 38.88it/s]\n"
     ]
    },
    {
     "name": "stdout",
     "output_type": "stream",
     "text": [
      "Source-only accuracy is 0.9038662486938349\n",
      "y__hat counts [ 79  79 123  91  71 112  99 113  87 103]\n",
      "y_true counts [ 91  82  94  99 100 100  99 100  94  98]\n",
      "Dist=\n",
      "[1 1 1 1 1 1 1 1 1 1]\n",
      "0 [1.43803808 2.38553424 0.01308798] webcam\n",
      "10 [1.43803808 2.38553424 0.16181125] webcam\n",
      "20 [1.43803808 2.38553424 0.31951837] webcam\n",
      "30 [1.43803808 2.38553424 0.4849342 ] webcam\n",
      "40 [1.43803808 2.38553424 0.63832263] webcam\n",
      "50 [1.43803808 2.38553424 0.79573755] webcam\n",
      "60 [1.43803808 2.38553424 0.95118675] webcam\n",
      "70 [1.43803808 2.38553424 1.12299634] webcam\n",
      "80 [1.43803808 2.38553424 1.28304383] webcam\n",
      "90 [1.43803808 2.38553424 1.43912085] webcam\n",
      "Loading trainer for source domain caltech\n"
     ]
    },
    {
     "name": "stderr",
     "output_type": "stream",
     "text": [
      "amazon: 100%|██████████| 6/6 [00:00<00:00, 40.03it/s]\n"
     ]
    },
    {
     "name": "stdout",
     "output_type": "stream",
     "text": [
      "Loading trainer for source domain dslr\n"
     ]
    },
    {
     "name": "stderr",
     "output_type": "stream",
     "text": [
      "amazon: 100%|██████████| 6/6 [00:00<00:00, 47.46it/s]\n"
     ]
    },
    {
     "name": "stdout",
     "output_type": "stream",
     "text": [
      "Loading trainer for source domain webcam\n"
     ]
    },
    {
     "name": "stderr",
     "output_type": "stream",
     "text": [
      "amazon: 100%|██████████| 6/6 [00:00<00:00, 43.99it/s]\n"
     ]
    },
    {
     "name": "stdout",
     "output_type": "stream",
     "text": [
      "('office-caltech', 'CDW_A', 2, 0.9519331243469175)\n",
      "Loading trainer for source domain caltech\n",
      "Loading trainer for source domain caltech\n",
      "Loading trainer for source domain caltech\n",
      "Loading trainer for source domain caltech\n",
      "Loading trainer for source domain caltech\n",
      "Loading trainer for source domain dslr\n",
      "Loading trainer for source domain dslr\n",
      "Loading trainer for source domain dslr\n",
      "Loading trainer for source domain dslr\n",
      "Loading trainer for source domain dslr\n",
      "Loading trainer for source domain webcam\n",
      "Loading trainer for source domain webcam\n",
      "Loading trainer for source domain webcam\n",
      "Loading trainer for source domain webcam\n",
      "Loading trainer for source domain webcam\n",
      "multiplier = 5\n",
      "\n",
      "\n",
      "\n",
      "Loading trainer for source domain caltech\n"
     ]
    },
    {
     "name": "stderr",
     "output_type": "stream",
     "text": [
      "caltech: 100%|██████████| 70/70 [00:00<00:00, 266.55it/s]\n"
     ]
    },
    {
     "name": "stdout",
     "output_type": "stream",
     "text": [
      "Loading trainer for source domain caltech\n"
     ]
    },
    {
     "name": "stderr",
     "output_type": "stream",
     "text": [
      "amazon: 100%|██████████| 6/6 [00:00<00:00, 38.09it/s]\n"
     ]
    },
    {
     "name": "stdout",
     "output_type": "stream",
     "text": [
      "Source-only accuracy is 0.9487983281086729\n",
      "y__hat counts [ 91  80  98 103  95  91 108  99  92 100]\n",
      "y_true counts [ 91  82  94  99 100 100  99 100  94  98]\n",
      "Dist=\n",
      "[ 92.426674  81.24316   98.68349  104.779945  96.77377   89.07973\n",
      " 105.20267   97.13779   89.505875 102.16694 ]\n",
      "0 [0.01574993 0.         0.        ] caltech\n",
      "10 [0.16194465 0.         0.        ] caltech\n",
      "20 [0.30156585 0.         0.        ] caltech\n",
      "30 [0.44462853 0.         0.        ] caltech\n",
      "40 [0.58084262 0.         0.        ] caltech\n",
      "50 [0.72815072 0.         0.        ] caltech\n",
      "60 [0.86570554 0.         0.        ] caltech\n",
      "70 [1.00894185 0.         0.        ] caltech\n",
      "80 [1.16367264 0.         0.        ] caltech\n",
      "90 [1.30734916 0.         0.        ] caltech\n",
      "Loading trainer for source domain dslr\n"
     ]
    },
    {
     "name": "stderr",
     "output_type": "stream",
     "text": [
      "dslr: 100%|██████████| 9/9 [00:00<00:00, 89.72it/s]\n"
     ]
    },
    {
     "name": "stdout",
     "output_type": "stream",
     "text": [
      "Loading trainer for source domain dslr\n"
     ]
    },
    {
     "name": "stderr",
     "output_type": "stream",
     "text": [
      "amazon: 100%|██████████| 6/6 [00:00<00:00, 38.95it/s]\n"
     ]
    },
    {
     "name": "stdout",
     "output_type": "stream",
     "text": [
      "Source-only accuracy is 0.8725182863113897\n",
      "y__hat counts [115  82 115  97  56 115 100 109  77  91]\n",
      "y_true counts [ 91  82  94  99 100 100  99 100  94  98]\n",
      "Dist=\n",
      "[1 1 1 1 1 1 1 1 1 1]\n",
      "0 [1.439471   0.02982718 0.        ] dslr\n",
      "10 [1.439471   0.26141685 0.        ] dslr\n",
      "20 [1.439471   0.49649291 0.        ] dslr\n",
      "30 [1.439471   0.74489451 0.        ] dslr\n",
      "40 [1.439471   0.98939952 0.        ] dslr\n",
      "50 [1.439471   1.22903428 0.        ] dslr\n",
      "60 [1.439471   1.45696261 0.        ] dslr\n",
      "70 [1.439471   1.70639836 0.        ] dslr\n",
      "80 [1.439471   1.95062499 0.        ] dslr\n",
      "90 [1.439471   2.18233948 0.        ] dslr\n",
      "Loading trainer for source domain webcam\n"
     ]
    },
    {
     "name": "stderr",
     "output_type": "stream",
     "text": [
      "webcam: 100%|██████████| 18/18 [00:00<00:00, 145.65it/s]\n"
     ]
    },
    {
     "name": "stdout",
     "output_type": "stream",
     "text": [
      "Loading trainer for source domain webcam\n"
     ]
    },
    {
     "name": "stderr",
     "output_type": "stream",
     "text": [
      "amazon: 100%|██████████| 6/6 [00:00<00:00, 41.98it/s]\n"
     ]
    },
    {
     "name": "stdout",
     "output_type": "stream",
     "text": [
      "Source-only accuracy is 0.9017763845350052\n",
      "y__hat counts [ 78  81 124  87  80 112  92 117  86 100]\n",
      "y_true counts [ 91  82  94  99 100 100  99 100  94  98]\n",
      "Dist=\n",
      "[1 1 1 1 1 1 1 1 1 1]\n",
      "0 [1.439471   2.39896261 0.0169993 ] webcam\n",
      "10 [1.439471   2.39896261 0.17069679] webcam\n",
      "20 [1.439471   2.39896261 0.33955828] webcam\n",
      "30 [1.439471   2.39896261 0.49471653] webcam\n",
      "40 [1.439471   2.39896261 0.64975555] webcam\n",
      "50 [1.439471   2.39896261 0.83178833] webcam\n",
      "60 [1.439471   2.39896261 0.98523578] webcam\n",
      "70 [1.439471   2.39896261 1.14541832] webcam\n",
      "80 [1.439471   2.39896261 1.31599874] webcam\n",
      "90 [1.439471   2.39896261 1.47390554] webcam\n",
      "Loading trainer for source domain caltech\n"
     ]
    },
    {
     "name": "stderr",
     "output_type": "stream",
     "text": [
      "amazon: 100%|██████████| 6/6 [00:00<00:00, 41.25it/s]\n"
     ]
    },
    {
     "name": "stdout",
     "output_type": "stream",
     "text": [
      "Loading trainer for source domain dslr\n"
     ]
    },
    {
     "name": "stderr",
     "output_type": "stream",
     "text": [
      "amazon: 100%|██████████| 6/6 [00:00<00:00, 44.89it/s]\n"
     ]
    },
    {
     "name": "stdout",
     "output_type": "stream",
     "text": [
      "Loading trainer for source domain webcam\n"
     ]
    },
    {
     "name": "stderr",
     "output_type": "stream",
     "text": [
      "amazon: 100%|██████████| 6/6 [00:00<00:00, 44.56it/s]\n"
     ]
    },
    {
     "name": "stdout",
     "output_type": "stream",
     "text": [
      "('office-caltech', 'CDW_A', 3, 0.9508881922675027)\n",
      "Loading trainer for source domain caltech\n",
      "Loading trainer for source domain caltech\n",
      "Loading trainer for source domain caltech\n",
      "Loading trainer for source domain caltech\n",
      "Loading trainer for source domain caltech\n",
      "Loading trainer for source domain dslr\n",
      "Loading trainer for source domain dslr\n",
      "Loading trainer for source domain dslr\n",
      "Loading trainer for source domain dslr\n",
      "Loading trainer for source domain dslr\n",
      "Loading trainer for source domain webcam\n",
      "Loading trainer for source domain webcam\n",
      "Loading trainer for source domain webcam\n",
      "Loading trainer for source domain webcam\n",
      "Loading trainer for source domain webcam\n",
      "multiplier = 5\n",
      "\n",
      "\n",
      "\n",
      "Loading trainer for source domain caltech\n"
     ]
    },
    {
     "name": "stderr",
     "output_type": "stream",
     "text": [
      "caltech: 100%|██████████| 70/70 [00:00<00:00, 277.58it/s]\n"
     ]
    },
    {
     "name": "stdout",
     "output_type": "stream",
     "text": [
      "Loading trainer for source domain caltech\n"
     ]
    },
    {
     "name": "stderr",
     "output_type": "stream",
     "text": [
      "amazon: 100%|██████████| 6/6 [00:00<00:00, 44.82it/s]\n"
     ]
    },
    {
     "name": "stdout",
     "output_type": "stream",
     "text": [
      "Source-only accuracy is 0.9519331243469175\n",
      "y__hat counts [ 91  79  98 102  94  94 110  99  92  98]\n",
      "y_true counts [ 91  82  94  99 100 100  99 100  94  98]\n",
      "Dist=\n",
      "[ 93.47193   81.29973   98.407585 102.866714  94.05031   92.028465\n",
      " 107.56646   94.37448   92.108765 100.82568 ]\n",
      "0 [0.0159184 0.        0.       ] caltech\n",
      "10 [0.15895549 0.         0.        ] caltech\n",
      "20 [0.31181026 0.         0.        ] caltech\n",
      "30 [0.45521833 0.         0.        ] caltech\n",
      "40 [0.61010125 0.         0.        ] caltech\n",
      "50 [0.75867043 0.         0.        ] caltech\n",
      "60 [0.90873193 0.         0.        ] caltech\n",
      "70 [1.04813933 0.         0.        ] caltech\n",
      "80 [1.20380247 0.         0.        ] caltech\n",
      "90 [1.35698115 0.         0.        ] caltech\n",
      "Loading trainer for source domain dslr\n"
     ]
    },
    {
     "name": "stderr",
     "output_type": "stream",
     "text": [
      "dslr: 100%|██████████| 9/9 [00:00<00:00, 87.14it/s]\n"
     ]
    },
    {
     "name": "stdout",
     "output_type": "stream",
     "text": [
      "Loading trainer for source domain dslr\n"
     ]
    },
    {
     "name": "stderr",
     "output_type": "stream",
     "text": [
      "amazon: 100%|██████████| 6/6 [00:00<00:00, 38.78it/s]\n"
     ]
    },
    {
     "name": "stdout",
     "output_type": "stream",
     "text": [
      "Source-only accuracy is 0.896551724137931\n",
      "y__hat counts [ 92  80 109 102  89  88 109 112  88  88]\n",
      "y_true counts [ 91  82  94  99 100 100  99 100  94  98]\n",
      "Dist=\n",
      "[1 1 1 1 1 1 1 1 1 1]\n",
      "0 [1.50078009 0.02396188 0.        ] dslr\n",
      "10 [1.50078009 0.30647245 0.        ] dslr\n",
      "20 [1.50078009 0.55627147 0.        ] dslr\n",
      "30 [1.50078009 0.83588201 0.        ] dslr\n",
      "40 [1.50078009 1.11972306 0.        ] dslr\n",
      "50 [1.50078009 1.40302822 0.        ] dslr\n",
      "60 [1.50078009 1.65925137 0.        ] dslr\n",
      "70 [1.50078009 1.91381232 0.        ] dslr\n",
      "80 [1.50078009 2.19534581 0.        ] dslr\n",
      "90 [1.50078009 2.44933527 0.        ] dslr\n",
      "Loading trainer for source domain webcam\n"
     ]
    },
    {
     "name": "stderr",
     "output_type": "stream",
     "text": [
      "webcam: 100%|██████████| 18/18 [00:00<00:00, 124.67it/s]\n"
     ]
    },
    {
     "name": "stdout",
     "output_type": "stream",
     "text": [
      "Loading trainer for source domain webcam\n"
     ]
    },
    {
     "name": "stderr",
     "output_type": "stream",
     "text": [
      "amazon: 100%|██████████| 6/6 [00:00<00:00, 38.32it/s]\n"
     ]
    },
    {
     "name": "stdout",
     "output_type": "stream",
     "text": [
      "Source-only accuracy is 0.8913270637408568\n",
      "y__hat counts [ 79  82 140  85  69  99  98 118  88  99]\n",
      "y_true counts [ 91  82  94  99 100 100  99 100  94  98]\n",
      "Dist=\n",
      "[1 1 1 1 1 1 1 1 1 1]\n",
      "0 [1.50078009 2.69735673 0.0159319 ] webcam\n",
      "10 [1.50078009 2.69735673 0.17947437] webcam\n",
      "20 [1.50078009 2.69735673 0.33997554] webcam\n",
      "30 [1.50078009 2.69735673 0.50197956] webcam\n",
      "40 [1.50078009 2.69735673 0.66844777] webcam\n",
      "50 [1.50078009 2.69735673 0.83677305] webcam\n",
      "60 [1.50078009 2.69735673 1.00491918] webcam\n",
      "70 [1.50078009 2.69735673 1.1539776 ] webcam\n",
      "80 [1.50078009 2.69735673 1.32718416] webcam\n",
      "90 [1.50078009 2.69735673 1.49080709] webcam\n",
      "Loading trainer for source domain caltech\n"
     ]
    },
    {
     "name": "stderr",
     "output_type": "stream",
     "text": [
      "amazon: 100%|██████████| 6/6 [00:00<00:00, 43.99it/s]\n"
     ]
    },
    {
     "name": "stdout",
     "output_type": "stream",
     "text": [
      "Loading trainer for source domain dslr\n"
     ]
    },
    {
     "name": "stderr",
     "output_type": "stream",
     "text": [
      "amazon: 100%|██████████| 6/6 [00:00<00:00, 44.38it/s]\n"
     ]
    },
    {
     "name": "stdout",
     "output_type": "stream",
     "text": [
      "Loading trainer for source domain webcam\n"
     ]
    },
    {
     "name": "stderr",
     "output_type": "stream",
     "text": [
      "amazon: 100%|██████████| 6/6 [00:00<00:00, 42.83it/s]\n"
     ]
    },
    {
     "name": "stdout",
     "output_type": "stream",
     "text": [
      "('office-caltech', 'CDW_A', 4, 0.9540229885057471)\n",
      "office-home\n",
      "ACP_R\n",
      "Loading trainer for source domain Art\n",
      "Loading trainer for source domain Art\n",
      "Loading trainer for source domain Art\n",
      "Loading trainer for source domain Art\n",
      "Loading trainer for source domain Art\n",
      "Loading trainer for source domain Clipart\n",
      "Loading trainer for source domain Clipart\n",
      "Loading trainer for source domain Clipart\n",
      "Loading trainer for source domain Clipart\n",
      "Loading trainer for source domain Clipart\n",
      "Loading trainer for source domain Product\n",
      "Loading trainer for source domain Product\n",
      "Loading trainer for source domain Product\n",
      "Loading trainer for source domain Product\n",
      "Loading trainer for source domain Product\n",
      "multiplier = 4\n",
      "\n",
      "\n",
      "\n",
      "Loading trainer for source domain Art\n"
     ]
    },
    {
     "name": "stderr",
     "output_type": "stream",
     "text": [
      "Art: 100%|██████████| 15/15 [00:00<00:00, 109.02it/s]\n"
     ]
    },
    {
     "name": "stdout",
     "output_type": "stream",
     "text": [
      "Loading trainer for source domain Art\n"
     ]
    },
    {
     "name": "stderr",
     "output_type": "stream",
     "text": [
      "Real World: 100%|██████████| 2/2 [00:00<00:00,  8.44it/s]\n"
     ]
    },
    {
     "name": "stdout",
     "output_type": "stream",
     "text": [
      "Source-only accuracy is 0.7603305785123967\n",
      "y__hat counts [ 79 104  90  88 101  75 101 108  80  97 110  52  69  78  64  65  40  40\n",
      "  92  58  58  82  82  62  21  59  72  63  57  59  90  66 123  29  93  28\n",
      "  62  69  50  55  35  55  68  58  44  71  48  75 100  41  77  60  49  68\n",
      "  92  95  43  68  25  45  58  81  20  66  43]\n",
      "y_true counts [85 99 64 83 99 78 80 73 68 99 96 65 64 76 73 62 51 43 81 60 58 85 75 57\n",
      " 36 60 52 60 72 75 83 78 67 23 71 46 60 58 68 64 30 68 65 59 67 52 53 66\n",
      " 75 41 77 51 66 77 88 63 81 54 53 59 82 85 67 81 49]\n",
      "Dist=\n",
      "[1 1 1 1 1 1 1 1 1 1 1 1 1 1 1 1 1 1 1 1 1 1 1 1 1 1 1 1 1 1 1 1 1 1 1 1 1\n",
      " 1 1 1 1 1 1 1 1 1 1 1 1 1 1 1 1 1 1 1 1 1 1 1 1 1 1 1 1]\n",
      "0 [0.00841514 0.         0.        ] Art\n",
      "10 [0.09639863 0.         0.        ] Art\n",
      "20 [0.18810503 0.         0.        ] Art\n",
      "30 [0.27894022 0.         0.        ] Art\n",
      "40 [0.36554364 0.         0.        ] Art\n",
      "50 [0.45614246 0.         0.        ] Art\n",
      "60 [0.54551993 0.         0.        ] Art\n",
      "70 [0.63729384 0.         0.        ] Art\n",
      "80 [0.7254604 0.        0.       ] Art\n",
      "90 [0.81452091 0.         0.        ] Art\n",
      "Loading trainer for source domain Clipart\n"
     ]
    },
    {
     "name": "stderr",
     "output_type": "stream",
     "text": [
      "Clipart: 100%|██████████| 27/27 [00:00<00:00, 138.41it/s]\n"
     ]
    },
    {
     "name": "stdout",
     "output_type": "stream",
     "text": [
      "Loading trainer for source domain Clipart\n"
     ]
    },
    {
     "name": "stderr",
     "output_type": "stream",
     "text": [
      "Real World: 100%|██████████| 2/2 [00:00<00:00,  8.03it/s]\n"
     ]
    },
    {
     "name": "stdout",
     "output_type": "stream",
     "text": [
      "Source-only accuracy is 0.6593204775022957\n",
      "y__hat counts [ 72  80  36  69 109  82  94  52  95  97  85  14  66  95  70  49  41  19\n",
      "  60  55  44  59 104  53  59  48  80  82  55 119  78  55  71   7  50  28\n",
      "  50  66  95  78  41  32  89 126  58  57  19  85  43  50  80  63 140  96\n",
      "  85  99  65  56  55 132  86  12  54  67  45]\n",
      "y_true counts [85 99 64 83 99 78 80 73 68 99 96 65 64 76 73 62 51 43 81 60 58 85 75 57\n",
      " 36 60 52 60 72 75 83 78 67 23 71 46 60 58 68 64 30 68 65 59 67 52 53 66\n",
      " 75 41 77 51 66 77 88 63 81 54 53 59 82 85 67 81 49]\n",
      "Dist=\n",
      "[1 1 1 1 1 1 1 1 1 1 1 1 1 1 1 1 1 1 1 1 1 1 1 1 1 1 1 1 1 1 1 1 1 1 1 1 1\n",
      " 1 1 1 1 1 1 1 1 1 1 1 1 1 1 1 1 1 1 1 1 1 1 1 1 1 1 1 1]\n",
      "0 [0.89450242 0.00850165 0.        ] Clipart\n",
      "10 [0.89450242 0.08559654 0.        ] Clipart\n",
      "20 [0.89450242 0.1619502  0.        ] Clipart\n",
      "30 [0.89450242 0.24134719 0.        ] Clipart\n",
      "40 [0.89450242 0.31797762 0.        ] Clipart\n",
      "50 [0.89450242 0.39433505 0.        ] Clipart\n",
      "60 [0.89450242 0.47073781 0.        ] Clipart\n",
      "70 [0.89450242 0.54441532 0.        ] Clipart\n",
      "80 [0.89450242 0.6197377  0.        ] Clipart\n",
      "90 [0.89450242 0.69699818 0.        ] Clipart\n",
      "Loading trainer for source domain Product\n"
     ]
    },
    {
     "name": "stderr",
     "output_type": "stream",
     "text": [
      "Product: 100%|██████████| 27/27 [00:00<00:00, 134.84it/s]\n"
     ]
    },
    {
     "name": "stdout",
     "output_type": "stream",
     "text": [
      "Loading trainer for source domain Product\n"
     ]
    },
    {
     "name": "stderr",
     "output_type": "stream",
     "text": [
      "Real World: 100%|██████████| 2/2 [00:00<00:00,  6.37it/s]\n"
     ]
    },
    {
     "name": "stdout",
     "output_type": "stream",
     "text": [
      "Source-only accuracy is 0.7392102846648301\n",
      "y__hat counts [ 83 103  43 104  96  54  69  83  91 118  82  44 105  55  91 102  33  37\n",
      "  85  35  92  89  87 101  42  55  54  62  62  88  89  63  61  30  34  49\n",
      "  60  61  57  58  37  58 119  56   9  52  64  59  73  39  84  45  63  76\n",
      "  89 104  88  54  49  45  69  36  71  63  47]\n",
      "y_true counts [85 99 64 83 99 78 80 73 68 99 96 65 64 76 73 62 51 43 81 60 58 85 75 57\n",
      " 36 60 52 60 72 75 83 78 67 23 71 46 60 58 68 64 30 68 65 59 67 52 53 66\n",
      " 75 41 77 51 66 77 88 63 81 54 53 59 82 85 67 81 49]\n",
      "Dist=\n",
      "[1 1 1 1 1 1 1 1 1 1 1 1 1 1 1 1 1 1 1 1 1 1 1 1 1 1 1 1 1 1 1 1 1 1 1 1 1\n",
      " 1 1 1 1 1 1 1 1 1 1 1 1 1 1 1 1 1 1 1 1 1 1 1 1 1 1 1 1]\n",
      "0 [0.89450242 0.76353814 0.00609206] Product\n",
      "10 [0.89450242 0.76353814 0.08113377] Product\n",
      "20 [0.89450242 0.76353814 0.15624198] Product\n",
      "30 [0.89450242 0.76353814 0.23144485] Product\n",
      "40 [0.89450242 0.76353814 0.30681576] Product\n",
      "50 [0.89450242 0.76353814 0.38103899] Product\n",
      "60 [0.89450242 0.76353814 0.45630968] Product\n",
      "70 [0.89450242 0.76353814 0.52738382] Product\n",
      "80 [0.89450242 0.76353814 0.59977274] Product\n",
      "90 [0.89450242 0.76353814 0.67419417] Product\n",
      "Loading trainer for source domain Art\n"
     ]
    },
    {
     "name": "stderr",
     "output_type": "stream",
     "text": [
      "Real World: 100%|██████████| 2/2 [00:00<00:00,  9.14it/s]\n"
     ]
    },
    {
     "name": "stdout",
     "output_type": "stream",
     "text": [
      "Loading trainer for source domain Clipart\n"
     ]
    },
    {
     "name": "stderr",
     "output_type": "stream",
     "text": [
      "Real World: 100%|██████████| 2/2 [00:00<00:00,  8.88it/s]\n"
     ]
    },
    {
     "name": "stdout",
     "output_type": "stream",
     "text": [
      "Loading trainer for source domain Product\n"
     ]
    },
    {
     "name": "stderr",
     "output_type": "stream",
     "text": [
      "Real World: 100%|██████████| 2/2 [00:00<00:00,  8.83it/s]\n"
     ]
    },
    {
     "name": "stdout",
     "output_type": "stream",
     "text": [
      "('office-home', 'ACP_R', 0, 0.8264462809917356)\n",
      "Loading trainer for source domain Art\n",
      "Loading trainer for source domain Art\n",
      "Loading trainer for source domain Art\n",
      "Loading trainer for source domain Art\n",
      "Loading trainer for source domain Art\n",
      "Loading trainer for source domain Clipart\n",
      "Loading trainer for source domain Clipart\n",
      "Loading trainer for source domain Clipart\n",
      "Loading trainer for source domain Clipart\n",
      "Loading trainer for source domain Clipart\n",
      "Loading trainer for source domain Product\n",
      "Loading trainer for source domain Product\n",
      "Loading trainer for source domain Product\n",
      "Loading trainer for source domain Product\n",
      "Loading trainer for source domain Product\n",
      "multiplier = 4\n",
      "\n",
      "\n",
      "\n",
      "Loading trainer for source domain Art\n"
     ]
    },
    {
     "name": "stderr",
     "output_type": "stream",
     "text": [
      "Art: 100%|██████████| 15/15 [00:00<00:00, 100.41it/s]\n"
     ]
    },
    {
     "name": "stdout",
     "output_type": "stream",
     "text": [
      "Loading trainer for source domain Art\n"
     ]
    },
    {
     "name": "stderr",
     "output_type": "stream",
     "text": [
      "Real World: 100%|██████████| 2/2 [00:00<00:00,  9.30it/s]\n"
     ]
    },
    {
     "name": "stdout",
     "output_type": "stream",
     "text": [
      "Source-only accuracy is 0.759641873278237\n",
      "y__hat counts [ 79 105  88  96  99  67  98 113  80  99 103  55  66  83  63  63  45  47\n",
      "  92  61  62  76  80  53  26  57  71  58  60  56  94  69 129  28  92  30\n",
      "  66  68  44  52  31  61  69  56  44  68  47  78  94  40  69  61  58  60\n",
      "  98  91  45  70  21  47  58  80  21  73  43]\n",
      "y_true counts [85 99 64 83 99 78 80 73 68 99 96 65 64 76 73 62 51 43 81 60 58 85 75 57\n",
      " 36 60 52 60 72 75 83 78 67 23 71 46 60 58 68 64 30 68 65 59 67 52 53 66\n",
      " 75 41 77 51 66 77 88 63 81 54 53 59 82 85 67 81 49]\n",
      "Dist=\n",
      "[1 1 1 1 1 1 1 1 1 1 1 1 1 1 1 1 1 1 1 1 1 1 1 1 1 1 1 1 1 1 1 1 1 1 1 1 1\n",
      " 1 1 1 1 1 1 1 1 1 1 1 1 1 1 1 1 1 1 1 1 1 1 1 1 1 1 1 1]\n",
      "0 [0.00843555 0.         0.        ] Art\n",
      "10 [0.0940891 0.        0.       ] Art\n",
      "20 [0.17945765 0.         0.        ] Art\n",
      "30 [0.26640626 0.         0.        ] Art\n",
      "40 [0.35411962 0.         0.        ] Art\n",
      "50 [0.43979203 0.         0.        ] Art\n",
      "60 [0.52850374 0.         0.        ] Art\n",
      "70 [0.6134081 0.        0.       ] Art\n",
      "80 [0.6988821 0.        0.       ] Art\n",
      "90 [0.79011638 0.         0.        ] Art\n",
      "Loading trainer for source domain Clipart\n"
     ]
    },
    {
     "name": "stderr",
     "output_type": "stream",
     "text": [
      "Clipart: 100%|██████████| 27/27 [00:00<00:00, 134.88it/s]\n"
     ]
    },
    {
     "name": "stdout",
     "output_type": "stream",
     "text": [
      "Loading trainer for source domain Clipart\n"
     ]
    },
    {
     "name": "stderr",
     "output_type": "stream",
     "text": [
      "Real World: 100%|██████████| 2/2 [00:00<00:00,  6.67it/s]\n"
     ]
    },
    {
     "name": "stdout",
     "output_type": "stream",
     "text": [
      "Source-only accuracy is 0.6593204775022957\n",
      "y__hat counts [ 70  76  39  77 109  75  69  57  99  96  94   6  62  78  66  45  43  23\n",
      "  70  56  42  40 101  59  52  50  72  71  60 119  69  59  73  10  49  26\n",
      "  53  66  78  71  51  30  89 123  48  54  25  93  36  47  87  70 168  82\n",
      "  95 117  69  57  56 126 101  19  66  76  41]\n",
      "y_true counts [85 99 64 83 99 78 80 73 68 99 96 65 64 76 73 62 51 43 81 60 58 85 75 57\n",
      " 36 60 52 60 72 75 83 78 67 23 71 46 60 58 68 64 30 68 65 59 67 52 53 66\n",
      " 75 41 77 51 66 77 88 63 81 54 53 59 82 85 67 81 49]\n",
      "Dist=\n",
      "[1 1 1 1 1 1 1 1 1 1 1 1 1 1 1 1 1 1 1 1 1 1 1 1 1 1 1 1 1 1 1 1 1 1 1 1 1\n",
      " 1 1 1 1 1 1 1 1 1 1 1 1 1 1 1 1 1 1 1 1 1 1 1 1 1 1 1 1]\n",
      "0 [0.8678604  0.00710034 0.        ] Clipart\n",
      "10 [0.8678604  0.08477165 0.        ] Clipart\n",
      "20 [0.8678604  0.15949705 0.        ] Clipart\n",
      "30 [0.8678604 0.2382546 0.       ] Clipart\n",
      "40 [0.8678604  0.31087857 0.        ] Clipart\n",
      "50 [0.8678604  0.38649544 0.        ] Clipart\n",
      "60 [0.8678604  0.46163035 0.        ] Clipart\n",
      "70 [0.8678604  0.53787378 0.        ] Clipart\n",
      "80 [0.8678604  0.61090872 0.        ] Clipart\n",
      "90 [0.8678604  0.68150972 0.        ] Clipart\n",
      "Loading trainer for source domain Product\n"
     ]
    },
    {
     "name": "stderr",
     "output_type": "stream",
     "text": [
      "Product: 100%|██████████| 27/27 [00:00<00:00, 127.71it/s]\n"
     ]
    },
    {
     "name": "stdout",
     "output_type": "stream",
     "text": [
      "Loading trainer for source domain Product\n"
     ]
    },
    {
     "name": "stderr",
     "output_type": "stream",
     "text": [
      "Real World: 100%|██████████| 2/2 [00:00<00:00,  6.57it/s]\n"
     ]
    },
    {
     "name": "stdout",
     "output_type": "stream",
     "text": [
      "Source-only accuracy is 0.7359963269054178\n",
      "y__hat counts [ 83 103  41  96  95  49  72  84  90 133  91  52  98  52  88  95  35  36\n",
      "  87  33  81  82  94 109  34  55  63  61  64  86  85  57  69  35  40  48\n",
      "  56  60  62  54  35  59 116  49   8  55  63  64  70  39  84  47  79  77\n",
      "  94  98  93  55  40  48  67  33  65  63  47]\n",
      "y_true counts [85 99 64 83 99 78 80 73 68 99 96 65 64 76 73 62 51 43 81 60 58 85 75 57\n",
      " 36 60 52 60 72 75 83 78 67 23 71 46 60 58 68 64 30 68 65 59 67 52 53 66\n",
      " 75 41 77 51 66 77 88 63 81 54 53 59 82 85 67 81 49]\n",
      "Dist=\n",
      "[1 1 1 1 1 1 1 1 1 1 1 1 1 1 1 1 1 1 1 1 1 1 1 1 1 1 1 1 1 1 1 1 1 1 1 1 1\n",
      " 1 1 1 1 1 1 1 1 1 1 1 1 1 1 1 1 1 1 1 1 1 1 1 1 1 1 1 1]\n",
      "0 [0.8678604  0.74939142 0.00732509] Product\n",
      "10 [0.8678604  0.74939142 0.08454571] Product\n",
      "20 [0.8678604  0.74939142 0.15920497] Product\n",
      "30 [0.8678604  0.74939142 0.23422696] Product\n",
      "40 [0.8678604  0.74939142 0.31368542] Product\n",
      "50 [0.8678604  0.74939142 0.39347204] Product\n",
      "60 [0.8678604  0.74939142 0.46988355] Product\n",
      "70 [0.8678604  0.74939142 0.54599453] Product\n",
      "80 [0.8678604  0.74939142 0.62166324] Product\n",
      "90 [0.8678604  0.74939142 0.69686291] Product\n",
      "Loading trainer for source domain Art\n"
     ]
    },
    {
     "name": "stderr",
     "output_type": "stream",
     "text": [
      "Real World: 100%|██████████| 2/2 [00:00<00:00,  7.01it/s]\n"
     ]
    },
    {
     "name": "stdout",
     "output_type": "stream",
     "text": [
      "Loading trainer for source domain Clipart\n"
     ]
    },
    {
     "name": "stderr",
     "output_type": "stream",
     "text": [
      "Real World: 100%|██████████| 2/2 [00:00<00:00,  9.06it/s]\n"
     ]
    },
    {
     "name": "stdout",
     "output_type": "stream",
     "text": [
      "Loading trainer for source domain Product\n"
     ]
    },
    {
     "name": "stderr",
     "output_type": "stream",
     "text": [
      "Real World: 100%|██████████| 2/2 [00:00<00:00,  9.56it/s]\n"
     ]
    },
    {
     "name": "stdout",
     "output_type": "stream",
     "text": [
      "('office-home', 'ACP_R', 1, 0.8211662075298439)\n",
      "Loading trainer for source domain Art\n",
      "Loading trainer for source domain Art\n",
      "Loading trainer for source domain Art\n",
      "Loading trainer for source domain Art\n",
      "Loading trainer for source domain Art\n",
      "Loading trainer for source domain Clipart\n",
      "Loading trainer for source domain Clipart\n",
      "Loading trainer for source domain Clipart\n",
      "Loading trainer for source domain Clipart\n",
      "Loading trainer for source domain Clipart\n",
      "Loading trainer for source domain Product\n",
      "Loading trainer for source domain Product\n",
      "Loading trainer for source domain Product\n",
      "Loading trainer for source domain Product\n",
      "Loading trainer for source domain Product\n",
      "multiplier = 4\n",
      "\n",
      "\n",
      "\n",
      "Loading trainer for source domain Art\n"
     ]
    },
    {
     "name": "stderr",
     "output_type": "stream",
     "text": [
      "Art: 100%|██████████| 15/15 [00:00<00:00, 92.07it/s]\n"
     ]
    },
    {
     "name": "stdout",
     "output_type": "stream",
     "text": [
      "Loading trainer for source domain Art\n"
     ]
    },
    {
     "name": "stderr",
     "output_type": "stream",
     "text": [
      "Real World: 100%|██████████| 2/2 [00:00<00:00,  8.16it/s]\n"
     ]
    },
    {
     "name": "stdout",
     "output_type": "stream",
     "text": [
      "Source-only accuracy is 0.7539026629935721\n",
      "y__hat counts [ 83 103  91  87 100  67 104 112  80 103 103  43  69  83  64  68  42  41\n",
      "  87  59  59  81  79  64  23  61  66  61  61  60  97  63 123  33  93  34\n",
      "  62  65  42  56  34  55  68  54  46  69  51  78  97  42  66  68  57  68\n",
      "  92  92  39  68  19  47  55  81  20  71  47]\n",
      "y_true counts [85 99 64 83 99 78 80 73 68 99 96 65 64 76 73 62 51 43 81 60 58 85 75 57\n",
      " 36 60 52 60 72 75 83 78 67 23 71 46 60 58 68 64 30 68 65 59 67 52 53 66\n",
      " 75 41 77 51 66 77 88 63 81 54 53 59 82 85 67 81 49]\n",
      "Dist=\n",
      "[1 1 1 1 1 1 1 1 1 1 1 1 1 1 1 1 1 1 1 1 1 1 1 1 1 1 1 1 1 1 1 1 1 1 1 1 1\n",
      " 1 1 1 1 1 1 1 1 1 1 1 1 1 1 1 1 1 1 1 1 1 1 1 1 1 1 1 1]\n",
      "0 [0.00897512 0.         0.        ] Art\n",
      "10 [0.10023479 0.         0.        ] Art\n",
      "20 [0.18926519 0.         0.        ] Art\n",
      "30 [0.27877206 0.         0.        ] Art\n",
      "40 [0.36591187 0.         0.        ] Art\n",
      "50 [0.45651881 0.         0.        ] Art\n",
      "60 [0.54701033 0.         0.        ] Art\n",
      "70 [0.63633222 0.         0.        ] Art\n",
      "80 [0.72318132 0.         0.        ] Art\n",
      "90 [0.80908302 0.         0.        ] Art\n",
      "Loading trainer for source domain Clipart\n"
     ]
    },
    {
     "name": "stderr",
     "output_type": "stream",
     "text": [
      "Clipart: 100%|██████████| 27/27 [00:00<00:00, 130.01it/s]\n"
     ]
    },
    {
     "name": "stdout",
     "output_type": "stream",
     "text": [
      "Loading trainer for source domain Clipart\n"
     ]
    },
    {
     "name": "stderr",
     "output_type": "stream",
     "text": [
      "Real World: 100%|██████████| 2/2 [00:00<00:00,  7.92it/s]\n"
     ]
    },
    {
     "name": "stdout",
     "output_type": "stream",
     "text": [
      "Source-only accuracy is 0.6597796143250688\n",
      "y__hat counts [ 69  85  59  50 104  84  78  53  97 110  89  11  69 112  68  57  46  25\n",
      "  67  58  41  60  99  62  59  48  76  71  54 116  74  51  73   5  50  34\n",
      "  52  68  90  71  34  33  84 123  56  51  23  99  44  58  83  65 138  95\n",
      "  81 107  54  43  61 100  98  14  61  63  43]\n",
      "y_true counts [85 99 64 83 99 78 80 73 68 99 96 65 64 76 73 62 51 43 81 60 58 85 75 57\n",
      " 36 60 52 60 72 75 83 78 67 23 71 46 60 58 68 64 30 68 65 59 67 52 53 66\n",
      " 75 41 77 51 66 77 88 63 81 54 53 59 82 85 67 81 49]\n",
      "Dist=\n",
      "[1 1 1 1 1 1 1 1 1 1 1 1 1 1 1 1 1 1 1 1 1 1 1 1 1 1 1 1 1 1 1 1 1 1 1 1 1\n",
      " 1 1 1 1 1 1 1 1 1 1 1 1 1 1 1 1 1 1 1 1 1 1 1 1 1 1 1 1]\n",
      "0 [0.89030976 0.00818492 0.        ] Clipart\n",
      "10 [0.89030976 0.08742222 0.        ] Clipart\n",
      "20 [0.89030976 0.16382043 0.        ] Clipart\n",
      "30 [0.89030976 0.23999817 0.        ] Clipart\n",
      "40 [0.89030976 0.3182756  0.        ] Clipart\n",
      "50 [0.89030976 0.39923696 0.        ] Clipart\n",
      "60 [0.89030976 0.47526752 0.        ] Clipart\n",
      "70 [0.89030976 0.55115319 0.        ] Clipart\n",
      "80 [0.89030976 0.62356597 0.        ] Clipart\n",
      "90 [0.89030976 0.70148947 0.        ] Clipart\n",
      "Loading trainer for source domain Product\n"
     ]
    },
    {
     "name": "stderr",
     "output_type": "stream",
     "text": [
      "Product: 100%|██████████| 27/27 [00:00<00:00, 138.61it/s]\n"
     ]
    },
    {
     "name": "stdout",
     "output_type": "stream",
     "text": [
      "Loading trainer for source domain Product\n"
     ]
    },
    {
     "name": "stderr",
     "output_type": "stream",
     "text": [
      "Real World: 100%|██████████| 2/2 [00:00<00:00,  8.31it/s]\n"
     ]
    },
    {
     "name": "stdout",
     "output_type": "stream",
     "text": [
      "Source-only accuracy is 0.7380624426078971\n",
      "y__hat counts [ 81 105  39  91  93  52  66  85  86 130  79  46  99  63  85  95  34  40\n",
      "  92  38  85  86  86  96  34  58  55  61  61  86  90  62  63  32  36  57\n",
      "  58  62  64  56  34  57 119  58   9  54  71  62  70  36  86  47  58  81\n",
      "  86 102  86  56  57  52  67  36  71  66  48]\n",
      "y_true counts [85 99 64 83 99 78 80 73 68 99 96 65 64 76 73 62 51 43 81 60 58 85 75 57\n",
      " 36 60 52 60 72 75 83 78 67 23 71 46 60 58 68 64 30 68 65 59 67 52 53 66\n",
      " 75 41 77 51 66 77 88 63 81 54 53 59 82 85 67 81 49]\n",
      "Dist=\n",
      "[1 1 1 1 1 1 1 1 1 1 1 1 1 1 1 1 1 1 1 1 1 1 1 1 1 1 1 1 1 1 1 1 1 1 1 1 1\n",
      " 1 1 1 1 1 1 1 1 1 1 1 1 1 1 1 1 1 1 1 1 1 1 1 1 1 1 1 1]\n",
      "0 [0.89030976 0.77095109 0.00708224] Product\n",
      "10 [0.89030976 0.77095109 0.08112743] Product\n",
      "20 [0.89030976 0.77095109 0.1554488 ] Product\n",
      "30 [0.89030976 0.77095109 0.23116061] Product\n",
      "40 [0.89030976 0.77095109 0.30552743] Product\n",
      "50 [0.89030976 0.77095109 0.37817709] Product\n",
      "60 [0.89030976 0.77095109 0.45468466] Product\n",
      "70 [0.89030976 0.77095109 0.52936615] Product\n",
      "80 [0.89030976 0.77095109 0.60817063] Product\n",
      "90 [0.89030976 0.77095109 0.68125652] Product\n",
      "Loading trainer for source domain Art\n"
     ]
    },
    {
     "name": "stderr",
     "output_type": "stream",
     "text": [
      "Real World: 100%|██████████| 2/2 [00:00<00:00,  6.70it/s]\n"
     ]
    },
    {
     "name": "stdout",
     "output_type": "stream",
     "text": [
      "Loading trainer for source domain Clipart\n"
     ]
    },
    {
     "name": "stderr",
     "output_type": "stream",
     "text": [
      "Real World: 100%|██████████| 2/2 [00:00<00:00,  9.11it/s]\n"
     ]
    },
    {
     "name": "stdout",
     "output_type": "stream",
     "text": [
      "Loading trainer for source domain Product\n"
     ]
    },
    {
     "name": "stderr",
     "output_type": "stream",
     "text": [
      "Real World: 100%|██████████| 2/2 [00:00<00:00,  8.98it/s]\n"
     ]
    },
    {
     "name": "stdout",
     "output_type": "stream",
     "text": [
      "('office-home', 'ACP_R', 2, 0.8213957759412305)\n",
      "Loading trainer for source domain Art\n",
      "Loading trainer for source domain Art\n",
      "Loading trainer for source domain Art\n",
      "Loading trainer for source domain Art\n",
      "Loading trainer for source domain Art\n",
      "Loading trainer for source domain Clipart\n",
      "Loading trainer for source domain Clipart\n",
      "Loading trainer for source domain Clipart\n",
      "Loading trainer for source domain Clipart\n",
      "Loading trainer for source domain Clipart\n",
      "Loading trainer for source domain Product\n",
      "Loading trainer for source domain Product\n",
      "Loading trainer for source domain Product\n",
      "Loading trainer for source domain Product\n",
      "Loading trainer for source domain Product\n",
      "multiplier = 4\n",
      "\n",
      "\n",
      "\n",
      "Loading trainer for source domain Art\n"
     ]
    },
    {
     "name": "stderr",
     "output_type": "stream",
     "text": [
      "Art: 100%|██████████| 15/15 [00:00<00:00, 92.76it/s]\n"
     ]
    },
    {
     "name": "stdout",
     "output_type": "stream",
     "text": [
      "Loading trainer for source domain Art\n"
     ]
    },
    {
     "name": "stderr",
     "output_type": "stream",
     "text": [
      "Real World: 100%|██████████| 2/2 [00:00<00:00,  8.71it/s]\n"
     ]
    },
    {
     "name": "stdout",
     "output_type": "stream",
     "text": [
      "Source-only accuracy is 0.7552800734618916\n",
      "y__hat counts [ 82 103 100  89 101  71 102 109  81  98 106  38  71  76  67  55  43  43\n",
      "  93  57  60  78  80  49  27  60  71  59  60  58  95  70 117  24  96  30\n",
      "  71  68  47  55  34  56  68  58  50  65  52  91 100  41  73  56  60  70\n",
      "  94  89  37  70  23  41  57  77  23  68  43]\n",
      "y_true counts [85 99 64 83 99 78 80 73 68 99 96 65 64 76 73 62 51 43 81 60 58 85 75 57\n",
      " 36 60 52 60 72 75 83 78 67 23 71 46 60 58 68 64 30 68 65 59 67 52 53 66\n",
      " 75 41 77 51 66 77 88 63 81 54 53 59 82 85 67 81 49]\n",
      "Dist=\n",
      "[1 1 1 1 1 1 1 1 1 1 1 1 1 1 1 1 1 1 1 1 1 1 1 1 1 1 1 1 1 1 1 1 1 1 1 1 1\n",
      " 1 1 1 1 1 1 1 1 1 1 1 1 1 1 1 1 1 1 1 1 1 1 1 1 1 1 1 1]\n",
      "0 [0.0086638 0.        0.       ] Art\n",
      "10 [0.099035 0.       0.      ] Art\n",
      "20 [0.19012168 0.         0.        ] Art\n",
      "30 [0.28197847 0.         0.        ] Art\n",
      "40 [0.37439736 0.         0.        ] Art\n",
      "50 [0.46435678 0.         0.        ] Art\n",
      "60 [0.55500317 0.         0.        ] Art\n",
      "70 [0.64638673 0.         0.        ] Art\n",
      "80 [0.73651271 0.         0.        ] Art\n",
      "90 [0.83113647 0.         0.        ] Art\n",
      "Loading trainer for source domain Clipart\n"
     ]
    },
    {
     "name": "stderr",
     "output_type": "stream",
     "text": [
      "Clipart: 100%|██████████| 27/27 [00:00<00:00, 133.84it/s]\n"
     ]
    },
    {
     "name": "stdout",
     "output_type": "stream",
     "text": [
      "Loading trainer for source domain Clipart\n"
     ]
    },
    {
     "name": "stderr",
     "output_type": "stream",
     "text": [
      "Real World: 100%|██████████| 2/2 [00:00<00:00,  6.41it/s]\n"
     ]
    },
    {
     "name": "stdout",
     "output_type": "stream",
     "text": [
      "Source-only accuracy is 0.6567952249770431\n",
      "y__hat counts [ 74  82  47  68 107  74  74  54 100 104  97   7  63  88  67  46  43  17\n",
      "  62  49  41  47  99  53  57  54  61  74  58 124  66  54  71   7  47  36\n",
      "  50  65  83  73  48  28  84 129  60  52  23 105  58  49  81  72 148 106\n",
      "  87 101  56  52  65 107  94  12  72  79  45]\n",
      "y_true counts [85 99 64 83 99 78 80 73 68 99 96 65 64 76 73 62 51 43 81 60 58 85 75 57\n",
      " 36 60 52 60 72 75 83 78 67 23 71 46 60 58 68 64 30 68 65 59 67 52 53 66\n",
      " 75 41 77 51 66 77 88 63 81 54 53 59 82 85 67 81 49]\n",
      "Dist=\n",
      "[1 1 1 1 1 1 1 1 1 1 1 1 1 1 1 1 1 1 1 1 1 1 1 1 1 1 1 1 1 1 1 1 1 1 1 1 1\n",
      " 1 1 1 1 1 1 1 1 1 1 1 1 1 1 1 1 1 1 1 1 1 1 1 1 1 1 1 1]\n",
      "0 [0.91192515 0.00733864 0.        ] Clipart\n",
      "10 [0.91192515 0.08497102 0.        ] Clipart\n",
      "20 [0.91192515 0.15868526 0.        ] Clipart\n",
      "30 [0.91192515 0.23648433 0.        ] Clipart\n",
      "40 [0.91192515 0.31177976 0.        ] Clipart\n",
      "50 [0.91192515 0.385193   0.        ] Clipart\n",
      "60 [0.91192515 0.45891441 0.        ] Clipart\n",
      "70 [0.91192515 0.53326946 0.        ] Clipart\n",
      "80 [0.91192515 0.61115793 0.        ] Clipart\n",
      "90 [0.91192515 0.68624895 0.        ] Clipart\n",
      "Loading trainer for source domain Product\n"
     ]
    },
    {
     "name": "stderr",
     "output_type": "stream",
     "text": [
      "Product: 100%|██████████| 27/27 [00:00<00:00, 142.42it/s]\n"
     ]
    },
    {
     "name": "stdout",
     "output_type": "stream",
     "text": [
      "Loading trainer for source domain Product\n"
     ]
    },
    {
     "name": "stderr",
     "output_type": "stream",
     "text": [
      "Real World: 100%|██████████| 2/2 [00:00<00:00,  6.55it/s]\n"
     ]
    },
    {
     "name": "stdout",
     "output_type": "stream",
     "text": [
      "Source-only accuracy is 0.7337006427915519\n",
      "y__hat counts [ 80 105  43 102  93  51  71  81  88 127  81  42 101  60  79  97  38  42\n",
      "  88  38  92  83  85  95  37  54  54  60  64  88  90  61  68  42  35  49\n",
      "  54  60  63  52  34  57 112  59  11  57  71  63  65  39  83  45  65  71\n",
      "  91 102  86  66  46  47  70  32  67  70  54]\n",
      "y_true counts [85 99 64 83 99 78 80 73 68 99 96 65 64 76 73 62 51 43 81 60 58 85 75 57\n",
      " 36 60 52 60 72 75 83 78 67 23 71 46 60 58 68 64 30 68 65 59 67 52 53 66\n",
      " 75 41 77 51 66 77 88 63 81 54 53 59 82 85 67 81 49]\n",
      "Dist=\n",
      "[1 1 1 1 1 1 1 1 1 1 1 1 1 1 1 1 1 1 1 1 1 1 1 1 1 1 1 1 1 1 1 1 1 1 1 1 1\n",
      " 1 1 1 1 1 1 1 1 1 1 1 1 1 1 1 1 1 1 1 1 1 1 1 1 1 1 1 1]\n",
      "0 [0.91192515 0.75579365 0.00724177] Product\n",
      "10 [0.91192515 0.75579365 0.0788338 ] Product\n",
      "20 [0.91192515 0.75579365 0.15350498] Product\n",
      "30 [0.91192515 0.75579365 0.22742177] Product\n",
      "40 [0.91192515 0.75579365 0.30069762] Product\n",
      "50 [0.91192515 0.75579365 0.37638091] Product\n",
      "60 [0.91192515 0.75579365 0.45019087] Product\n",
      "70 [0.91192515 0.75579365 0.52397174] Product\n",
      "80 [0.91192515 0.75579365 0.5998052 ] Product\n",
      "90 [0.91192515 0.75579365 0.67678466] Product\n",
      "Loading trainer for source domain Art\n"
     ]
    },
    {
     "name": "stderr",
     "output_type": "stream",
     "text": [
      "Real World: 100%|██████████| 2/2 [00:00<00:00,  8.86it/s]\n"
     ]
    },
    {
     "name": "stdout",
     "output_type": "stream",
     "text": [
      "Loading trainer for source domain Clipart\n"
     ]
    },
    {
     "name": "stderr",
     "output_type": "stream",
     "text": [
      "Real World: 100%|██████████| 2/2 [00:00<00:00,  6.62it/s]\n"
     ]
    },
    {
     "name": "stdout",
     "output_type": "stream",
     "text": [
      "Loading trainer for source domain Product\n"
     ]
    },
    {
     "name": "stderr",
     "output_type": "stream",
     "text": [
      "Real World: 100%|██████████| 2/2 [00:00<00:00,  7.02it/s]\n"
     ]
    },
    {
     "name": "stdout",
     "output_type": "stream",
     "text": [
      "('office-home', 'ACP_R', 3, 0.8209366391184573)\n",
      "Loading trainer for source domain Art\n",
      "Loading trainer for source domain Art\n",
      "Loading trainer for source domain Art\n",
      "Loading trainer for source domain Art\n",
      "Loading trainer for source domain Art\n",
      "Loading trainer for source domain Clipart\n",
      "Loading trainer for source domain Clipart\n",
      "Loading trainer for source domain Clipart\n",
      "Loading trainer for source domain Clipart\n",
      "Loading trainer for source domain Clipart\n",
      "Loading trainer for source domain Product\n",
      "Loading trainer for source domain Product\n",
      "Loading trainer for source domain Product\n",
      "Loading trainer for source domain Product\n",
      "Loading trainer for source domain Product\n",
      "multiplier = 4\n",
      "\n",
      "\n",
      "\n",
      "Loading trainer for source domain Art\n"
     ]
    },
    {
     "name": "stderr",
     "output_type": "stream",
     "text": [
      "Art: 100%|██████████| 15/15 [00:00<00:00, 95.43it/s]\n"
     ]
    },
    {
     "name": "stdout",
     "output_type": "stream",
     "text": [
      "Loading trainer for source domain Art\n"
     ]
    },
    {
     "name": "stderr",
     "output_type": "stream",
     "text": [
      "Real World: 100%|██████████| 2/2 [00:00<00:00,  6.64it/s]\n"
     ]
    },
    {
     "name": "stdout",
     "output_type": "stream",
     "text": [
      "Source-only accuracy is 0.758494031221304\n",
      "y__hat counts [ 82 103  86  87 103  66 104 108  84  98 109  46  69  79  67  71  40  38\n",
      "  94  53  62  85  79  59  26  58  69  63  60  60  92  66 122  33  93  29\n",
      "  65  67  42  49  35  56  67  66  41  66  50  88  99  41  71  57  57  67\n",
      "  91  90  39  65  20  45  59  83  19  69  49]\n",
      "y_true counts [85 99 64 83 99 78 80 73 68 99 96 65 64 76 73 62 51 43 81 60 58 85 75 57\n",
      " 36 60 52 60 72 75 83 78 67 23 71 46 60 58 68 64 30 68 65 59 67 52 53 66\n",
      " 75 41 77 51 66 77 88 63 81 54 53 59 82 85 67 81 49]\n",
      "Dist=\n",
      "[1 1 1 1 1 1 1 1 1 1 1 1 1 1 1 1 1 1 1 1 1 1 1 1 1 1 1 1 1 1 1 1 1 1 1 1 1\n",
      " 1 1 1 1 1 1 1 1 1 1 1 1 1 1 1 1 1 1 1 1 1 1 1 1 1 1 1 1]\n",
      "0 [0.00828584 0.         0.        ] Art\n",
      "10 [0.10347107 0.         0.        ] Art\n",
      "20 [0.18992797 0.         0.        ] Art\n",
      "30 [0.28046105 0.         0.        ] Art\n",
      "40 [0.37361866 0.         0.        ] Art\n",
      "50 [0.46662897 0.         0.        ] Art\n",
      "60 [0.55876938 0.         0.        ] Art\n",
      "70 [0.64925936 0.         0.        ] Art\n",
      "80 [0.73910469 0.         0.        ] Art\n",
      "90 [0.82739699 0.         0.        ] Art\n",
      "Loading trainer for source domain Clipart\n"
     ]
    },
    {
     "name": "stderr",
     "output_type": "stream",
     "text": [
      "Clipart: 100%|██████████| 27/27 [00:00<00:00, 134.77it/s]\n"
     ]
    },
    {
     "name": "stdout",
     "output_type": "stream",
     "text": [
      "Loading trainer for source domain Clipart\n"
     ]
    },
    {
     "name": "stderr",
     "output_type": "stream",
     "text": [
      "Real World: 100%|██████████| 2/2 [00:00<00:00,  8.18it/s]\n"
     ]
    },
    {
     "name": "stdout",
     "output_type": "stream",
     "text": [
      "Source-only accuracy is 0.6554178145087236\n",
      "y__hat counts [ 70  81  38  60 113  82  80  59 106 105  89  15  68  94  62  43  44  17\n",
      "  65  48  46  57  99  59  57  49  88  74  61 119  65  60  74   7  54  30\n",
      "  50  67  69  73  33  34  90 117  52  58  23  98  39  52  76  67 152  94\n",
      "  95 100  59  62  62 108  95  14  54  81  44]\n",
      "y_true counts [85 99 64 83 99 78 80 73 68 99 96 65 64 76 73 62 51 43 81 60 58 85 75 57\n",
      " 36 60 52 60 72 75 83 78 67 23 71 46 60 58 68 64 30 68 65 59 67 52 53 66\n",
      " 75 41 77 51 66 77 88 63 81 54 53 59 82 85 67 81 49]\n",
      "Dist=\n",
      "[1 1 1 1 1 1 1 1 1 1 1 1 1 1 1 1 1 1 1 1 1 1 1 1 1 1 1 1 1 1 1 1 1 1 1 1 1\n",
      " 1 1 1 1 1 1 1 1 1 1 1 1 1 1 1 1 1 1 1 1 1 1 1 1 1 1 1 1]\n",
      "0 [0.90877872 0.00706835 0.        ] Clipart\n",
      "10 [0.90877872 0.08507433 0.        ] Clipart\n",
      "20 [0.90877872 0.16689445 0.        ] Clipart\n",
      "30 [0.90877872 0.24556475 0.        ] Clipart\n",
      "40 [0.90877872 0.32458772 0.        ] Clipart\n",
      "50 [0.90877872 0.39889195 0.        ] Clipart\n",
      "60 [0.90877872 0.47396352 0.        ] Clipart\n",
      "70 [0.90877872 0.55075531 0.        ] Clipart\n",
      "80 [0.90877872 0.62709894 0.        ] Clipart\n",
      "90 [0.90877872 0.70444834 0.        ] Clipart\n",
      "Loading trainer for source domain Product\n"
     ]
    },
    {
     "name": "stderr",
     "output_type": "stream",
     "text": [
      "Product: 100%|██████████| 27/27 [00:00<00:00, 129.04it/s]\n"
     ]
    },
    {
     "name": "stdout",
     "output_type": "stream",
     "text": [
      "Loading trainer for source domain Product\n"
     ]
    },
    {
     "name": "stderr",
     "output_type": "stream",
     "text": [
      "Real World: 100%|██████████| 2/2 [00:00<00:00,  8.37it/s]\n"
     ]
    },
    {
     "name": "stdout",
     "output_type": "stream",
     "text": [
      "Source-only accuracy is 0.7366850321395776\n",
      "y__hat counts [ 80 110  41 103  98  54  66  82  92 119  82  55  97  59  83 104  36  36\n",
      "  91  38  72  86  88 100  37  54  52  60  62  86  93  62  64  32  36  52\n",
      "  59  62  61  55  32  54 112  56   8  51  77  50  72  40  87  45  65  72\n",
      "  87 103  87  67  48  48  67  26  67  78  58]\n",
      "y_true counts [85 99 64 83 99 78 80 73 68 99 96 65 64 76 73 62 51 43 81 60 58 85 75 57\n",
      " 36 60 52 60 72 75 83 78 67 23 71 46 60 58 68 64 30 68 65 59 67 52 53 66\n",
      " 75 41 77 51 66 77 88 63 81 54 53 59 82 85 67 81 49]\n",
      "Dist=\n",
      "[1 1 1 1 1 1 1 1 1 1 1 1 1 1 1 1 1 1 1 1 1 1 1 1 1 1 1 1 1 1 1 1 1 1 1 1 1\n",
      " 1 1 1 1 1 1 1 1 1 1 1 1 1 1 1 1 1 1 1 1 1 1 1 1 1 1 1 1]\n",
      "0 [0.90877872 0.77359871 0.00676438] Product\n",
      "10 [0.90877872 0.77359871 0.08107319] Product\n",
      "20 [0.90877872 0.77359871 0.15437189] Product\n",
      "30 [0.90877872 0.77359871 0.2294064 ] Product\n",
      "40 [0.90877872 0.77359871 0.30504805] Product\n",
      "50 [0.90877872 0.77359871 0.37843327] Product\n",
      "60 [0.90877872 0.77359871 0.45183548] Product\n",
      "70 [0.90877872 0.77359871 0.52647295] Product\n",
      "80 [0.90877872 0.77359871 0.59921029] Product\n",
      "90 [0.90877872 0.77359871 0.67286793] Product\n",
      "Loading trainer for source domain Art\n"
     ]
    },
    {
     "name": "stderr",
     "output_type": "stream",
     "text": [
      "Real World: 100%|██████████| 2/2 [00:00<00:00,  7.12it/s]\n"
     ]
    },
    {
     "name": "stdout",
     "output_type": "stream",
     "text": [
      "Loading trainer for source domain Clipart\n"
     ]
    },
    {
     "name": "stderr",
     "output_type": "stream",
     "text": [
      "Real World: 100%|██████████| 2/2 [00:00<00:00,  6.94it/s]\n"
     ]
    },
    {
     "name": "stdout",
     "output_type": "stream",
     "text": [
      "Loading trainer for source domain Product\n"
     ]
    },
    {
     "name": "stderr",
     "output_type": "stream",
     "text": [
      "Real World: 100%|██████████| 2/2 [00:00<00:00,  9.41it/s]\n"
     ]
    },
    {
     "name": "stdout",
     "output_type": "stream",
     "text": [
      "('office-home', 'ACP_R', 4, 0.8243801652892562)\n",
      "ACR_P\n",
      "Loading trainer for source domain Art\n",
      "Loading trainer for source domain Art\n",
      "Loading trainer for source domain Art\n",
      "Loading trainer for source domain Art\n",
      "Loading trainer for source domain Art\n",
      "Loading trainer for source domain Clipart\n",
      "Loading trainer for source domain Clipart\n",
      "Loading trainer for source domain Clipart\n",
      "Loading trainer for source domain Clipart\n",
      "Loading trainer for source domain Clipart\n",
      "Loading trainer for source domain Real World\n",
      "Loading trainer for source domain Real World\n",
      "Loading trainer for source domain Real World\n",
      "Loading trainer for source domain Real World\n",
      "Loading trainer for source domain Real World\n",
      "multiplier = 4\n",
      "\n",
      "\n",
      "\n",
      "Loading trainer for source domain Art\n"
     ]
    },
    {
     "name": "stderr",
     "output_type": "stream",
     "text": [
      "Art: 100%|██████████| 15/15 [00:00<00:00, 89.56it/s]\n"
     ]
    },
    {
     "name": "stdout",
     "output_type": "stream",
     "text": [
      "Loading trainer for source domain Art\n"
     ]
    },
    {
     "name": "stderr",
     "output_type": "stream",
     "text": [
      "Product: 100%|██████████| 2/2 [00:00<00:00,  6.82it/s]\n"
     ]
    },
    {
     "name": "stdout",
     "output_type": "stream",
     "text": [
      "Source-only accuracy is 0.6980621901757549\n",
      "y__hat counts [ 73 111 113  32  45  48  73 155  80  35  79  38  32 122  62  55  73  14\n",
      "  69  53  95  95  87 137  51  65  93  67  67  78  49  48 149  63 156  38\n",
      " 131  47  98  72  64  47  48  43  25 112  28  40  85  57  65  50  35  47\n",
      "  92  61  42  42   5  69  13  98   7 113 102]\n",
      "y_true counts [78 99 62 43 44 62 47 81 81 56 99 65 96 88 75 83 67 41 67 58 71 99 91 90\n",
      " 41 67 57 90 72 99 41 54 99 56 98 72 96 41 93 68 70 47 60 40 38 99 43 43\n",
      " 59 58 99 40 49 46 99 43 99 47 76 60 58 42 45 93 98]\n",
      "Dist=\n",
      "[1 1 1 1 1 1 1 1 1 1 1 1 1 1 1 1 1 1 1 1 1 1 1 1 1 1 1 1 1 1 1 1 1 1 1 1 1\n",
      " 1 1 1 1 1 1 1 1 1 1 1 1 1 1 1 1 1 1 1 1 1 1 1 1 1 1 1 1]\n",
      "0 [0.0099069 0.        0.       ] Art\n",
      "10 [0.10246452 0.         0.        ] Art\n",
      "20 [0.19232268 0.         0.        ] Art\n",
      "30 [0.28007808 0.         0.        ] Art\n",
      "40 [0.36855081 0.         0.        ] Art\n",
      "50 [0.45464454 0.         0.        ] Art\n",
      "60 [0.54561667 0.         0.        ] Art\n",
      "70 [0.6332581 0.        0.       ] Art\n",
      "80 [0.71836072 0.         0.        ] Art\n",
      "90 [0.80722956 0.         0.        ] Art\n",
      "Loading trainer for source domain Clipart\n"
     ]
    },
    {
     "name": "stderr",
     "output_type": "stream",
     "text": [
      "Clipart: 100%|██████████| 27/27 [00:00<00:00, 139.98it/s]\n"
     ]
    },
    {
     "name": "stdout",
     "output_type": "stream",
     "text": [
      "Loading trainer for source domain Clipart\n"
     ]
    },
    {
     "name": "stderr",
     "output_type": "stream",
     "text": [
      "Product: 100%|██████████| 2/2 [00:00<00:00,  7.70it/s]\n"
     ]
    },
    {
     "name": "stdout",
     "output_type": "stream",
     "text": [
      "Source-only accuracy is 0.64398377647589\n",
      "y__hat counts [ 63 100  59  29  51  76  55  66 138  31 107  16  90 110  63  42  80  12\n",
      "  50  50  73  26 108  87  47  60  67 123  72 141  29  30  73  10  92  48\n",
      "  89  49  96  85  72  27  92 114  79  75  12  69  52  60  80  62  95  68\n",
      "  93  80  63  45  88  81  87  15  62  95  79]\n",
      "y_true counts [78 99 62 43 44 62 47 81 81 56 99 65 96 88 75 83 67 41 67 58 71 99 91 90\n",
      " 41 67 57 90 72 99 41 54 99 56 98 72 96 41 93 68 70 47 60 40 38 99 43 43\n",
      " 59 58 99 40 49 46 99 43 99 47 76 60 58 42 45 93 98]\n",
      "Dist=\n",
      "[1 1 1 1 1 1 1 1 1 1 1 1 1 1 1 1 1 1 1 1 1 1 1 1 1 1 1 1 1 1 1 1 1 1 1 1 1\n",
      " 1 1 1 1 1 1 1 1 1 1 1 1 1 1 1 1 1 1 1 1 1 1 1 1 1 1 1 1]\n",
      "0 [0.88637815 0.00829622 0.        ] Clipart\n",
      "10 [0.88637815 0.08639743 0.        ] Clipart\n",
      "20 [0.88637815 0.16714047 0.        ] Clipart\n",
      "30 [0.88637815 0.24605019 0.        ] Clipart\n",
      "40 [0.88637815 0.32630148 0.        ] Clipart\n",
      "50 [0.88637815 0.40558084 0.        ] Clipart\n",
      "60 [0.88637815 0.48699346 0.        ] Clipart\n",
      "70 [0.88637815 0.56392336 0.        ] Clipart\n",
      "80 [0.88637815 0.64485173 0.        ] Clipart\n",
      "90 [0.88637815 0.72529398 0.        ] Clipart\n",
      "Loading trainer for source domain Real World\n"
     ]
    },
    {
     "name": "stderr",
     "output_type": "stream",
     "text": [
      "Real World: 100%|██████████| 27/27 [00:00<00:00, 136.07it/s]\n"
     ]
    },
    {
     "name": "stdout",
     "output_type": "stream",
     "text": [
      "Loading trainer for source domain Real World\n"
     ]
    },
    {
     "name": "stderr",
     "output_type": "stream",
     "text": [
      "Product: 100%|██████████| 2/2 [00:00<00:00,  8.44it/s]\n"
     ]
    },
    {
     "name": "stdout",
     "output_type": "stream",
     "text": [
      "Source-only accuracy is 0.7850383055430374\n",
      "y__hat counts [ 77 123  90  41  46  29  62 106  83  36 105  41  34  89  75  81  75  16\n",
      "  64  49  71  93  69 111  42  65  52  94 111 102  34  54  86  45 122  69\n",
      "  95  35  95  79  48  62  63  35  72 101  18  36  61  53  84  39  41  48\n",
      "  89  42 167  42  54  62  29  83  57 101 105]\n",
      "y_true counts [78 99 62 43 44 62 47 81 81 56 99 65 96 88 75 83 67 41 67 58 71 99 91 90\n",
      " 41 67 57 90 72 99 41 54 99 56 98 72 96 41 93 68 70 47 60 40 38 99 43 43\n",
      " 59 58 99 40 49 46 99 43 99 47 76 60 58 42 45 93 98]\n",
      "Dist=\n",
      "[1 1 1 1 1 1 1 1 1 1 1 1 1 1 1 1 1 1 1 1 1 1 1 1 1 1 1 1 1 1 1 1 1 1 1 1 1\n",
      " 1 1 1 1 1 1 1 1 1 1 1 1 1 1 1 1 1 1 1 1 1 1 1 1 1 1 1 1]\n",
      "0 [0.88637815 0.798822   0.00642905] Real World\n",
      "10 [0.88637815 0.798822   0.06815742] Real World\n",
      "20 [0.88637815 0.798822   0.13010484] Real World\n",
      "30 [0.88637815 0.798822   0.19018158] Real World\n",
      "40 [0.88637815 0.798822   0.25513886] Real World\n",
      "50 [0.88637815 0.798822   0.31750328] Real World\n",
      "60 [0.88637815 0.798822   0.38046218] Real World\n",
      "70 [0.88637815 0.798822   0.44220927] Real World\n",
      "80 [0.88637815 0.798822   0.50641782] Real World\n",
      "90 [0.88637815 0.798822   0.57157077] Real World\n",
      "Loading trainer for source domain Art\n"
     ]
    },
    {
     "name": "stderr",
     "output_type": "stream",
     "text": [
      "Product: 100%|██████████| 2/2 [00:00<00:00,  6.87it/s]\n"
     ]
    },
    {
     "name": "stdout",
     "output_type": "stream",
     "text": [
      "Loading trainer for source domain Clipart\n"
     ]
    },
    {
     "name": "stderr",
     "output_type": "stream",
     "text": [
      "Product: 100%|██████████| 2/2 [00:00<00:00,  8.67it/s]\n"
     ]
    },
    {
     "name": "stdout",
     "output_type": "stream",
     "text": [
      "Loading trainer for source domain Real World\n"
     ]
    },
    {
     "name": "stderr",
     "output_type": "stream",
     "text": [
      "Product: 100%|██████████| 2/2 [00:00<00:00,  9.51it/s]\n"
     ]
    },
    {
     "name": "stdout",
     "output_type": "stream",
     "text": [
      "('office-home', 'ACR_P', 0, 0.8057683641279856)\n",
      "Loading trainer for source domain Art\n",
      "Loading trainer for source domain Art\n",
      "Loading trainer for source domain Art\n",
      "Loading trainer for source domain Art\n",
      "Loading trainer for source domain Art\n",
      "Loading trainer for source domain Clipart\n",
      "Loading trainer for source domain Clipart\n",
      "Loading trainer for source domain Clipart\n",
      "Loading trainer for source domain Clipart\n",
      "Loading trainer for source domain Clipart\n",
      "Loading trainer for source domain Real World\n",
      "Loading trainer for source domain Real World\n",
      "Loading trainer for source domain Real World\n",
      "Loading trainer for source domain Real World\n",
      "Loading trainer for source domain Real World\n",
      "multiplier = 4\n",
      "\n",
      "\n",
      "\n",
      "Loading trainer for source domain Art\n"
     ]
    },
    {
     "name": "stderr",
     "output_type": "stream",
     "text": [
      "Art: 100%|██████████| 15/15 [00:00<00:00, 94.70it/s]\n"
     ]
    },
    {
     "name": "stdout",
     "output_type": "stream",
     "text": [
      "Loading trainer for source domain Art\n"
     ]
    },
    {
     "name": "stderr",
     "output_type": "stream",
     "text": [
      "Product: 100%|██████████| 2/2 [00:00<00:00,  8.87it/s]\n"
     ]
    },
    {
     "name": "stdout",
     "output_type": "stream",
     "text": [
      "Source-only accuracy is 0.6933303289770166\n",
      "y__hat counts [ 71 115 137  36  46  41  73 158  85  33  84  48  29 110  63  66  75  16\n",
      "  68  49 109  82  88 135  49  62  95  82  62  73  43  49 163  43 156  35\n",
      " 120  49  60  79  63  48  49  40  17 109  31  50  85  59  70  54  38  49\n",
      " 106  55  36  45   6  64  13  96  14 116  88]\n",
      "y_true counts [78 99 62 43 44 62 47 81 81 56 99 65 96 88 75 83 67 41 67 58 71 99 91 90\n",
      " 41 67 57 90 72 99 41 54 99 56 98 72 96 41 93 68 70 47 60 40 38 99 43 43\n",
      " 59 58 99 40 49 46 99 43 99 47 76 60 58 42 45 93 98]\n",
      "Dist=\n",
      "[1 1 1 1 1 1 1 1 1 1 1 1 1 1 1 1 1 1 1 1 1 1 1 1 1 1 1 1 1 1 1 1 1 1 1 1 1\n",
      " 1 1 1 1 1 1 1 1 1 1 1 1 1 1 1 1 1 1 1 1 1 1 1 1 1 1 1 1]\n",
      "0 [0.00905011 0.         0.        ] Art\n",
      "10 [0.10938793 0.         0.        ] Art\n",
      "20 [0.20780138 0.         0.        ] Art\n",
      "30 [0.30724002 0.         0.        ] Art\n",
      "40 [0.41064264 0.         0.        ] Art\n",
      "50 [0.51025996 0.         0.        ] Art\n",
      "60 [0.6141814 0.        0.       ] Art\n",
      "70 [0.71340446 0.         0.        ] Art\n",
      "80 [0.81436833 0.         0.        ] Art\n",
      "90 [0.91740997 0.         0.        ] Art\n",
      "Loading trainer for source domain Clipart\n"
     ]
    },
    {
     "name": "stderr",
     "output_type": "stream",
     "text": [
      "Clipart: 100%|██████████| 27/27 [00:00<00:00, 140.80it/s]\n"
     ]
    },
    {
     "name": "stdout",
     "output_type": "stream",
     "text": [
      "Loading trainer for source domain Clipart\n"
     ]
    },
    {
     "name": "stderr",
     "output_type": "stream",
     "text": [
      "Product: 100%|██████████| 2/2 [00:00<00:00,  8.84it/s]\n"
     ]
    },
    {
     "name": "stdout",
     "output_type": "stream",
     "text": [
      "Source-only accuracy is 0.6433077963046417\n",
      "y__hat counts [ 65 110  57  24  55  79  64  68 114  22  98  18  89 121  65  39  71   6\n",
      "  54  55  70  15 108  73  46  63  65 120  63 129  39  30  78  11 113  43\n",
      "  85  53 104  84  73  32  95 131  76  85   7  71  47  57  95  60  99  62\n",
      " 106  53  73  45  63  88  85  14  74  97  84]\n",
      "y_true counts [78 99 62 43 44 62 47 81 81 56 99 65 96 88 75 83 67 41 67 58 71 99 91 90\n",
      " 41 67 57 90 72 99 41 54 99 56 98 72 96 41 93 68 70 47 60 40 38 99 43 43\n",
      " 59 58 99 40 49 46 99 43 99 47 76 60 58 42 45 93 98]\n",
      "Dist=\n",
      "[1 1 1 1 1 1 1 1 1 1 1 1 1 1 1 1 1 1 1 1 1 1 1 1 1 1 1 1 1 1 1 1 1 1 1 1 1\n",
      " 1 1 1 1 1 1 1 1 1 1 1 1 1 1 1 1 1 1 1 1 1 1 1 1 1 1 1 1]\n",
      "0 [1.00685783 0.00757675 0.        ] Clipart\n",
      "10 [1.00685783 0.08163978 0.        ] Clipart\n",
      "20 [1.00685783 0.16050934 0.        ] Clipart\n",
      "30 [1.00685783 0.23645825 0.        ] Clipart\n",
      "40 [1.00685783 0.31313944 0.        ] Clipart\n",
      "50 [1.00685783 0.39094512 0.        ] Clipart\n",
      "60 [1.00685783 0.47103851 0.        ] Clipart\n",
      "70 [1.00685783 0.5522391  0.        ] Clipart\n",
      "80 [1.00685783 0.62804351 0.        ] Clipart\n",
      "90 [1.00685783 0.70607775 0.        ] Clipart\n",
      "Loading trainer for source domain Real World\n"
     ]
    },
    {
     "name": "stderr",
     "output_type": "stream",
     "text": [
      "Real World: 100%|██████████| 27/27 [00:00<00:00, 132.04it/s]\n"
     ]
    },
    {
     "name": "stdout",
     "output_type": "stream",
     "text": [
      "Loading trainer for source domain Real World\n"
     ]
    },
    {
     "name": "stderr",
     "output_type": "stream",
     "text": [
      "Product: 100%|██████████| 2/2 [00:00<00:00,  7.85it/s]\n"
     ]
    },
    {
     "name": "stdout",
     "output_type": "stream",
     "text": [
      "Source-only accuracy is 0.7821090581342948\n",
      "y__hat counts [ 76 126  89  44  46  35  58 105  91  30 105  33  35  89  74  84  70  19\n",
      "  62  50  72  96  71 114  52  65  53  95 106 100  33  58  81  43 125  69\n",
      "  98  38  92  74  48  63  67  36  69 105  21  44  62  53  79  36  44  51\n",
      "  87  45 159  43  52  63  29  73  46 105 102]\n",
      "y_true counts [78 99 62 43 44 62 47 81 81 56 99 65 96 88 75 83 67 41 67 58 71 99 91 90\n",
      " 41 67 57 90 72 99 41 54 99 56 98 72 96 41 93 68 70 47 60 40 38 99 43 43\n",
      " 59 58 99 40 49 46 99 43 99 47 76 60 58 42 45 93 98]\n",
      "Dist=\n",
      "[1 1 1 1 1 1 1 1 1 1 1 1 1 1 1 1 1 1 1 1 1 1 1 1 1 1 1 1 1 1 1 1 1 1 1 1 1\n",
      " 1 1 1 1 1 1 1 1 1 1 1 1 1 1 1 1 1 1 1 1 1 1 1 1 1 1 1 1]\n",
      "0 [1.00685783 0.77717666 0.00769216] Real World\n",
      "10 [1.00685783 0.77717666 0.07103335] Real World\n",
      "20 [1.00685783 0.77717666 0.13279397] Real World\n",
      "30 [1.00685783 0.77717666 0.19690778] Real World\n",
      "40 [1.00685783 0.77717666 0.26077451] Real World\n",
      "50 [1.00685783 0.77717666 0.32433419] Real World\n",
      "60 [1.00685783 0.77717666 0.38855434] Real World\n",
      "70 [1.00685783 0.77717666 0.45146623] Real World\n",
      "80 [1.00685783 0.77717666 0.51454698] Real World\n",
      "90 [1.00685783 0.77717666 0.57880914] Real World\n",
      "Loading trainer for source domain Art\n"
     ]
    },
    {
     "name": "stderr",
     "output_type": "stream",
     "text": [
      "Product: 100%|██████████| 2/2 [00:00<00:00,  6.85it/s]\n"
     ]
    },
    {
     "name": "stdout",
     "output_type": "stream",
     "text": [
      "Loading trainer for source domain Clipart\n"
     ]
    },
    {
     "name": "stderr",
     "output_type": "stream",
     "text": [
      "Product: 100%|██████████| 2/2 [00:00<00:00,  8.82it/s]\n"
     ]
    },
    {
     "name": "stdout",
     "output_type": "stream",
     "text": [
      "Loading trainer for source domain Real World\n"
     ]
    },
    {
     "name": "stderr",
     "output_type": "stream",
     "text": [
      "Product: 100%|██████████| 2/2 [00:00<00:00,  9.24it/s]\n"
     ]
    },
    {
     "name": "stdout",
     "output_type": "stream",
     "text": [
      "('office-home', 'ACR_P', 1, 0.8053177106804867)\n",
      "Loading trainer for source domain Art\n",
      "Loading trainer for source domain Art\n",
      "Loading trainer for source domain Art\n",
      "Loading trainer for source domain Art\n",
      "Loading trainer for source domain Art\n",
      "Loading trainer for source domain Clipart\n",
      "Loading trainer for source domain Clipart\n",
      "Loading trainer for source domain Clipart\n",
      "Loading trainer for source domain Clipart\n",
      "Loading trainer for source domain Clipart\n",
      "Loading trainer for source domain Real World\n",
      "Loading trainer for source domain Real World\n",
      "Loading trainer for source domain Real World\n",
      "Loading trainer for source domain Real World\n",
      "Loading trainer for source domain Real World\n",
      "multiplier = 4\n",
      "\n",
      "\n",
      "\n",
      "Loading trainer for source domain Art\n"
     ]
    },
    {
     "name": "stderr",
     "output_type": "stream",
     "text": [
      "Art: 100%|██████████| 15/15 [00:00<00:00, 93.05it/s]\n"
     ]
    },
    {
     "name": "stdout",
     "output_type": "stream",
     "text": [
      "Loading trainer for source domain Art\n"
     ]
    },
    {
     "name": "stderr",
     "output_type": "stream",
     "text": [
      "Product: 100%|██████████| 2/2 [00:00<00:00,  9.10it/s]\n"
     ]
    },
    {
     "name": "stdout",
     "output_type": "stream",
     "text": [
      "Source-only accuracy is 0.6949076160432627\n",
      "y__hat counts [ 73 126 125  41  45  52  71 157  80  32 102  48  30 102  57  57  76  13\n",
      "  68  49  86  75  82 138  45  64  85  70  68  74  47  47 166  50 158  40\n",
      " 110  50  87  64  64  45  49  44  27 111  24  79  78  58  69  52  28  48\n",
      " 108  62  45  47   5  71  12  92  15 106  89]\n",
      "y_true counts [78 99 62 43 44 62 47 81 81 56 99 65 96 88 75 83 67 41 67 58 71 99 91 90\n",
      " 41 67 57 90 72 99 41 54 99 56 98 72 96 41 93 68 70 47 60 40 38 99 43 43\n",
      " 59 58 99 40 49 46 99 43 99 47 76 60 58 42 45 93 98]\n",
      "Dist=\n",
      "[1 1 1 1 1 1 1 1 1 1 1 1 1 1 1 1 1 1 1 1 1 1 1 1 1 1 1 1 1 1 1 1 1 1 1 1 1\n",
      " 1 1 1 1 1 1 1 1 1 1 1 1 1 1 1 1 1 1 1 1 1 1 1 1 1 1 1 1]\n",
      "0 [0.00904409 0.         0.        ] Art\n",
      "10 [0.09644569 0.         0.        ] Art\n",
      "20 [0.18817765 0.         0.        ] Art\n",
      "30 [0.28603759 0.         0.        ] Art\n",
      "40 [0.3761022 0.        0.       ] Art\n",
      "50 [0.47208065 0.         0.        ] Art\n",
      "60 [0.5640485 0.        0.       ] Art\n",
      "70 [0.6537115 0.        0.       ] Art\n",
      "80 [0.746098 0.       0.      ] Art\n",
      "90 [0.8377164 0.        0.       ] Art\n",
      "Loading trainer for source domain Clipart\n"
     ]
    },
    {
     "name": "stderr",
     "output_type": "stream",
     "text": [
      "Clipart: 100%|██████████| 27/27 [00:00<00:00, 140.46it/s]\n"
     ]
    },
    {
     "name": "stdout",
     "output_type": "stream",
     "text": [
      "Loading trainer for source domain Clipart\n"
     ]
    },
    {
     "name": "stderr",
     "output_type": "stream",
     "text": [
      "Product: 100%|██████████| 2/2 [00:00<00:00,  6.36it/s]\n"
     ]
    },
    {
     "name": "stdout",
     "output_type": "stream",
     "text": [
      "Source-only accuracy is 0.6426318161333934\n",
      "y__hat counts [ 69 106  53  22  57  87  61  61 133  29  96  22  84 126  65  52  72   7\n",
      "  53  46  65  26  99  81  41  66  60 115  77 138  42  27  70  17  94  54\n",
      "  88  53  85  83  73  35  86 112  77  84  16  72  54  58  83  54  88  61\n",
      "  99  62  72  47  73  88  93  19  80  87  83]\n",
      "y_true counts [78 99 62 43 44 62 47 81 81 56 99 65 96 88 75 83 67 41 67 58 71 99 91 90\n",
      " 41 67 57 90 72 99 41 54 99 56 98 72 96 41 93 68 70 47 60 40 38 99 43 43\n",
      " 59 58 99 40 49 46 99 43 99 47 76 60 58 42 45 93 98]\n",
      "Dist=\n",
      "[1 1 1 1 1 1 1 1 1 1 1 1 1 1 1 1 1 1 1 1 1 1 1 1 1 1 1 1 1 1 1 1 1 1 1 1 1\n",
      " 1 1 1 1 1 1 1 1 1 1 1 1 1 1 1 1 1 1 1 1 1 1 1 1 1 1 1 1]\n",
      "0 [0.92159699 0.00819633 0.        ] Clipart\n",
      "10 [0.92159699 0.09360017 0.        ] Clipart\n",
      "20 [0.92159699 0.17239922 0.        ] Clipart\n",
      "30 [0.92159699 0.25547084 0.        ] Clipart\n",
      "40 [0.92159699 0.33782671 0.        ] Clipart\n",
      "50 [0.92159699 0.41993522 0.        ] Clipart\n",
      "60 [0.92159699 0.50515541 0.        ] Clipart\n",
      "70 [0.92159699 0.5874528  0.        ] Clipart\n",
      "80 [0.92159699 0.67119341 0.        ] Clipart\n",
      "90 [0.92159699 0.75400089 0.        ] Clipart\n",
      "Loading trainer for source domain Real World\n"
     ]
    },
    {
     "name": "stderr",
     "output_type": "stream",
     "text": [
      "Real World: 100%|██████████| 27/27 [00:00<00:00, 140.12it/s]\n"
     ]
    },
    {
     "name": "stdout",
     "output_type": "stream",
     "text": [
      "Loading trainer for source domain Real World\n"
     ]
    },
    {
     "name": "stderr",
     "output_type": "stream",
     "text": [
      "Product: 100%|██████████| 2/2 [00:00<00:00,  6.57it/s]\n"
     ]
    },
    {
     "name": "stdout",
     "output_type": "stream",
     "text": [
      "Source-only accuracy is 0.7854889589905363\n",
      "y__hat counts [ 75 118  92  39  46  34  68 109  83  33 106  34  33  89  76  84  71  18\n",
      "  67  47  71  94  74 115  55  65  52  97 105 102  33  53  82  43 121  66\n",
      "  94  38  92  79  52  63  66  34  69 101  22  39  60  55  89  37  44  49\n",
      "  88  42 161  36  59  62  26  83  46  98 104]\n",
      "y_true counts [78 99 62 43 44 62 47 81 81 56 99 65 96 88 75 83 67 41 67 58 71 99 91 90\n",
      " 41 67 57 90 72 99 41 54 99 56 98 72 96 41 93 68 70 47 60 40 38 99 43 43\n",
      " 59 58 99 40 49 46 99 43 99 47 76 60 58 42 45 93 98]\n",
      "Dist=\n",
      "[1 1 1 1 1 1 1 1 1 1 1 1 1 1 1 1 1 1 1 1 1 1 1 1 1 1 1 1 1 1 1 1 1 1 1 1 1\n",
      " 1 1 1 1 1 1 1 1 1 1 1 1 1 1 1 1 1 1 1 1 1 1 1 1 1 1 1 1]\n",
      "0 [0.92159699 0.82696152 0.00557376] Real World\n",
      "10 [0.92159699 0.82696152 0.06649871] Real World\n",
      "20 [0.92159699 0.82696152 0.12857565] Real World\n",
      "30 [0.92159699 0.82696152 0.18858082] Real World\n",
      "40 [0.92159699 0.82696152 0.2489286 ] Real World\n",
      "50 [0.92159699 0.82696152 0.31019059] Real World\n",
      "60 [0.92159699 0.82696152 0.37054675] Real World\n",
      "70 [0.92159699 0.82696152 0.43265408] Real World\n",
      "80 [0.92159699 0.82696152 0.4949564 ] Real World\n",
      "90 [0.92159699 0.82696152 0.55607638] Real World\n",
      "Loading trainer for source domain Art\n"
     ]
    },
    {
     "name": "stderr",
     "output_type": "stream",
     "text": [
      "Product: 100%|██████████| 2/2 [00:00<00:00,  9.18it/s]\n"
     ]
    },
    {
     "name": "stdout",
     "output_type": "stream",
     "text": [
      "Loading trainer for source domain Clipart\n"
     ]
    },
    {
     "name": "stderr",
     "output_type": "stream",
     "text": [
      "Product: 100%|██████████| 2/2 [00:00<00:00,  7.00it/s]\n"
     ]
    },
    {
     "name": "stdout",
     "output_type": "stream",
     "text": [
      "Loading trainer for source domain Real World\n"
     ]
    },
    {
     "name": "stderr",
     "output_type": "stream",
     "text": [
      "Product: 100%|██████████| 2/2 [00:00<00:00,  6.96it/s]\n"
     ]
    },
    {
     "name": "stdout",
     "output_type": "stream",
     "text": [
      "('office-home', 'ACR_P', 2, 0.8041910770617395)\n",
      "Loading trainer for source domain Art\n",
      "Loading trainer for source domain Art\n",
      "Loading trainer for source domain Art\n",
      "Loading trainer for source domain Art\n",
      "Loading trainer for source domain Art\n",
      "Loading trainer for source domain Clipart\n",
      "Loading trainer for source domain Clipart\n",
      "Loading trainer for source domain Clipart\n",
      "Loading trainer for source domain Clipart\n",
      "Loading trainer for source domain Clipart\n",
      "Loading trainer for source domain Real World\n",
      "Loading trainer for source domain Real World\n",
      "Loading trainer for source domain Real World\n",
      "Loading trainer for source domain Real World\n",
      "Loading trainer for source domain Real World\n",
      "multiplier = 4\n",
      "\n",
      "\n",
      "\n",
      "Loading trainer for source domain Art\n"
     ]
    },
    {
     "name": "stderr",
     "output_type": "stream",
     "text": [
      "Art: 100%|██████████| 15/15 [00:00<00:00, 94.68it/s]\n"
     ]
    },
    {
     "name": "stdout",
     "output_type": "stream",
     "text": [
      "Loading trainer for source domain Art\n"
     ]
    },
    {
     "name": "stderr",
     "output_type": "stream",
     "text": [
      "Product: 100%|██████████| 2/2 [00:00<00:00,  8.80it/s]\n"
     ]
    },
    {
     "name": "stdout",
     "output_type": "stream",
     "text": [
      "Source-only accuracy is 0.6885984677782785\n",
      "y__hat counts [ 71 117 105  35  48  54  74 160  76  32  89  51  33 115  56  52  77  13\n",
      "  69  53  92  87  91 136  42  63 102  63  59  74  46  46 165  50 157  48\n",
      " 123  49 104  60  62  47  44  45  10 102  26  76  95  59  73  47  26  41\n",
      "  98  59  37  49   4  79  11  80  10 118 103]\n",
      "y_true counts [78 99 62 43 44 62 47 81 81 56 99 65 96 88 75 83 67 41 67 58 71 99 91 90\n",
      " 41 67 57 90 72 99 41 54 99 56 98 72 96 41 93 68 70 47 60 40 38 99 43 43\n",
      " 59 58 99 40 49 46 99 43 99 47 76 60 58 42 45 93 98]\n",
      "Dist=\n",
      "[1 1 1 1 1 1 1 1 1 1 1 1 1 1 1 1 1 1 1 1 1 1 1 1 1 1 1 1 1 1 1 1 1 1 1 1 1\n",
      " 1 1 1 1 1 1 1 1 1 1 1 1 1 1 1 1 1 1 1 1 1 1 1 1 1 1 1 1]\n",
      "0 [0.00927605 0.         0.        ] Art\n",
      "10 [0.11269047 0.         0.        ] Art\n",
      "20 [0.21055078 0.         0.        ] Art\n",
      "30 [0.30857252 0.         0.        ] Art\n",
      "40 [0.40334415 0.         0.        ] Art\n",
      "50 [0.49959711 0.         0.        ] Art\n",
      "60 [0.60099139 0.         0.        ] Art\n",
      "70 [0.69978121 0.         0.        ] Art\n",
      "80 [0.79759335 0.         0.        ] Art\n",
      "90 [0.89091344 0.         0.        ] Art\n",
      "Loading trainer for source domain Clipart\n"
     ]
    },
    {
     "name": "stderr",
     "output_type": "stream",
     "text": [
      "Clipart: 100%|██████████| 27/27 [00:00<00:00, 139.37it/s]\n"
     ]
    },
    {
     "name": "stdout",
     "output_type": "stream",
     "text": [
      "Loading trainer for source domain Clipart\n"
     ]
    },
    {
     "name": "stderr",
     "output_type": "stream",
     "text": [
      "Product: 100%|██████████| 2/2 [00:00<00:00,  7.74it/s]\n"
     ]
    },
    {
     "name": "stdout",
     "output_type": "stream",
     "text": [
      "Source-only accuracy is 0.6500675980171249\n",
      "y__hat counts [ 71 113  60  36  58  66  61  65 125  25  95  24  79 118  73  37  73   8\n",
      "  48  49  71  33 105  73  42  64  63 119  70 134  33  28  76   7 103  50\n",
      "  96  56 110  82  71  30  88  99  72  85  10  61  49  55  80  64 112  56\n",
      "  99  57  75  44  73  91  89  19  71 107  82]\n",
      "y_true counts [78 99 62 43 44 62 47 81 81 56 99 65 96 88 75 83 67 41 67 58 71 99 91 90\n",
      " 41 67 57 90 72 99 41 54 99 56 98 72 96 41 93 68 70 47 60 40 38 99 43 43\n",
      " 59 58 99 40 49 46 99 43 99 47 76 60 58 42 45 93 98]\n",
      "Dist=\n",
      "[1 1 1 1 1 1 1 1 1 1 1 1 1 1 1 1 1 1 1 1 1 1 1 1 1 1 1 1 1 1 1 1 1 1 1 1 1\n",
      " 1 1 1 1 1 1 1 1 1 1 1 1 1 1 1 1 1 1 1 1 1 1 1 1 1 1 1 1]\n",
      "0 [0.97400397 0.007281   0.        ] Clipart\n",
      "10 [0.97400397 0.08902488 0.        ] Clipart\n",
      "20 [0.97400397 0.16699714 0.        ] Clipart\n",
      "30 [0.97400397 0.24501974 0.        ] Clipart\n",
      "40 [0.97400397 0.32420996 0.        ] Clipart\n",
      "50 [0.97400397 0.40251432 0.        ] Clipart\n",
      "60 [0.97400397 0.48339027 0.        ] Clipart\n",
      "70 [0.97400397 0.56567754 0.        ] Clipart\n",
      "80 [0.97400397 0.64518678 0.        ] Clipart\n",
      "90 [0.97400397 0.72324015 0.        ] Clipart\n",
      "Loading trainer for source domain Real World\n"
     ]
    },
    {
     "name": "stderr",
     "output_type": "stream",
     "text": [
      "Real World: 100%|██████████| 27/27 [00:00<00:00, 138.00it/s]\n"
     ]
    },
    {
     "name": "stdout",
     "output_type": "stream",
     "text": [
      "Loading trainer for source domain Real World\n"
     ]
    },
    {
     "name": "stderr",
     "output_type": "stream",
     "text": [
      "Product: 100%|██████████| 2/2 [00:00<00:00,  8.39it/s]\n"
     ]
    },
    {
     "name": "stdout",
     "output_type": "stream",
     "text": [
      "Source-only accuracy is 0.7904461469130238\n",
      "y__hat counts [ 77 126  78  41  45  40  60 106  90  35 109  39  36  86  74  80  76  17\n",
      "  63  50  72  94  77 116  48  67  54  94 100  99  34  53  86  47 119  65\n",
      "  96  38  94  75  50  60  64  38  65 103  18  43  65  54  86  37  43  44\n",
      "  89  46 158  43  54  66  30  74  46 101 105]\n",
      "y_true counts [78 99 62 43 44 62 47 81 81 56 99 65 96 88 75 83 67 41 67 58 71 99 91 90\n",
      " 41 67 57 90 72 99 41 54 99 56 98 72 96 41 93 68 70 47 60 40 38 99 43 43\n",
      " 59 58 99 40 49 46 99 43 99 47 76 60 58 42 45 93 98]\n",
      "Dist=\n",
      "[1 1 1 1 1 1 1 1 1 1 1 1 1 1 1 1 1 1 1 1 1 1 1 1 1 1 1 1 1 1 1 1 1 1 1 1 1\n",
      " 1 1 1 1 1 1 1 1 1 1 1 1 1 1 1 1 1 1 1 1 1 1 1 1 1 1 1 1]\n",
      "0 [0.97400397 0.7942432  0.00628257] Real World\n",
      "10 [0.97400397 0.7942432  0.0694912 ] Real World\n",
      "20 [0.97400397 0.7942432  0.13051794] Real World\n",
      "30 [0.97400397 0.7942432  0.19504298] Real World\n",
      "40 [0.97400397 0.7942432  0.25941716] Real World\n",
      "50 [0.97400397 0.7942432  0.32212595] Real World\n",
      "60 [0.97400397 0.7942432  0.38304497] Real World\n",
      "70 [0.97400397 0.7942432  0.44280187] Real World\n",
      "80 [0.97400397 0.7942432  0.506486  ] Real World\n",
      "90 [0.97400397 0.7942432  0.56646625] Real World\n",
      "Loading trainer for source domain Art\n"
     ]
    },
    {
     "name": "stderr",
     "output_type": "stream",
     "text": [
      "Product: 100%|██████████| 2/2 [00:00<00:00,  8.79it/s]\n"
     ]
    },
    {
     "name": "stdout",
     "output_type": "stream",
     "text": [
      "Loading trainer for source domain Clipart\n"
     ]
    },
    {
     "name": "stderr",
     "output_type": "stream",
     "text": [
      "Product: 100%|██████████| 2/2 [00:00<00:00,  9.49it/s]\n"
     ]
    },
    {
     "name": "stdout",
     "output_type": "stream",
     "text": [
      "Loading trainer for source domain Real World\n"
     ]
    },
    {
     "name": "stderr",
     "output_type": "stream",
     "text": [
      "Product: 100%|██████████| 2/2 [00:00<00:00,  9.12it/s]\n"
     ]
    },
    {
     "name": "stdout",
     "output_type": "stream",
     "text": [
      "('office-home', 'ACR_P', 3, 0.8068949977467328)\n",
      "Loading trainer for source domain Art\n",
      "Loading trainer for source domain Art\n",
      "Loading trainer for source domain Art\n",
      "Loading trainer for source domain Art\n",
      "Loading trainer for source domain Art\n",
      "Loading trainer for source domain Clipart\n",
      "Loading trainer for source domain Clipart\n",
      "Loading trainer for source domain Clipart\n",
      "Loading trainer for source domain Clipart\n",
      "Loading trainer for source domain Clipart\n",
      "Loading trainer for source domain Real World\n",
      "Loading trainer for source domain Real World\n",
      "Loading trainer for source domain Real World\n",
      "Loading trainer for source domain Real World\n",
      "Loading trainer for source domain Real World\n",
      "multiplier = 4\n",
      "\n",
      "\n",
      "\n",
      "Loading trainer for source domain Art\n"
     ]
    },
    {
     "name": "stderr",
     "output_type": "stream",
     "text": [
      "Art: 100%|██████████| 15/15 [00:00<00:00, 91.82it/s]\n"
     ]
    },
    {
     "name": "stdout",
     "output_type": "stream",
     "text": [
      "Loading trainer for source domain Art\n"
     ]
    },
    {
     "name": "stderr",
     "output_type": "stream",
     "text": [
      "Product: 100%|██████████| 2/2 [00:00<00:00,  9.13it/s]\n"
     ]
    },
    {
     "name": "stdout",
     "output_type": "stream",
     "text": [
      "Source-only accuracy is 0.6910770617395223\n",
      "y__hat counts [ 73 117 116  36  46  51  74 168  84  32  92  46  25 111  54  55  76  12\n",
      "  65  55  75  85  93 150  40  62  85  87  65  75  46  52 162  50 165  36\n",
      " 119  46  61  63  61  43  45  52  19 113  24  65  94  59  79  56  34  41\n",
      " 106  47  60  45   5  76  10  88  15 107  89]\n",
      "y_true counts [78 99 62 43 44 62 47 81 81 56 99 65 96 88 75 83 67 41 67 58 71 99 91 90\n",
      " 41 67 57 90 72 99 41 54 99 56 98 72 96 41 93 68 70 47 60 40 38 99 43 43\n",
      " 59 58 99 40 49 46 99 43 99 47 76 60 58 42 45 93 98]\n",
      "Dist=\n",
      "[1 1 1 1 1 1 1 1 1 1 1 1 1 1 1 1 1 1 1 1 1 1 1 1 1 1 1 1 1 1 1 1 1 1 1 1 1\n",
      " 1 1 1 1 1 1 1 1 1 1 1 1 1 1 1 1 1 1 1 1 1 1 1 1 1 1 1 1]\n",
      "0 [0.01052158 0.         0.        ] Art\n",
      "10 [0.10493311 0.         0.        ] Art\n",
      "20 [0.19887448 0.         0.        ] Art\n",
      "30 [0.2943176 0.        0.       ] Art\n",
      "40 [0.39382487 0.         0.        ] Art\n",
      "50 [0.4864304 0.        0.       ] Art\n",
      "60 [0.58225792 0.         0.        ] Art\n",
      "70 [0.67873413 0.         0.        ] Art\n",
      "80 [0.77109425 0.         0.        ] Art\n",
      "90 [0.86546167 0.         0.        ] Art\n",
      "Loading trainer for source domain Clipart\n"
     ]
    },
    {
     "name": "stderr",
     "output_type": "stream",
     "text": [
      "Clipart: 100%|██████████| 27/27 [00:00<00:00, 139.89it/s]\n"
     ]
    },
    {
     "name": "stdout",
     "output_type": "stream",
     "text": [
      "Loading trainer for source domain Clipart\n"
     ]
    },
    {
     "name": "stderr",
     "output_type": "stream",
     "text": [
      "Product: 100%|██████████| 2/2 [00:00<00:00,  8.21it/s]\n"
     ]
    },
    {
     "name": "stdout",
     "output_type": "stream",
     "text": [
      "Source-only accuracy is 0.6381252816584047\n",
      "y__hat counts [ 67 102  55  30  59  83  46  64 128  23  99  31  84 119  61  29  77  12\n",
      "  60  54  69  15  99  68  52  64  64 129  69 134  39  31  70  13 101  42\n",
      "  85  57  89  90  63  33  87 122  80  87  15  60  58  68  89  64  70  61\n",
      " 105  71  80  42  77  87  87  11  77  97  84]\n",
      "y_true counts [78 99 62 43 44 62 47 81 81 56 99 65 96 88 75 83 67 41 67 58 71 99 91 90\n",
      " 41 67 57 90 72 99 41 54 99 56 98 72 96 41 93 68 70 47 60 40 38 99 43 43\n",
      " 59 58 99 40 49 46 99 43 99 47 76 60 58 42 45 93 98]\n",
      "Dist=\n",
      "[1 1 1 1 1 1 1 1 1 1 1 1 1 1 1 1 1 1 1 1 1 1 1 1 1 1 1 1 1 1 1 1 1 1 1 1 1\n",
      " 1 1 1 1 1 1 1 1 1 1 1 1 1 1 1 1 1 1 1 1 1 1 1 1 1 1 1 1]\n",
      "0 [0.94878425 0.00755781 0.        ] Clipart\n",
      "10 [0.94878425 0.08642435 0.        ] Clipart\n",
      "20 [0.94878425 0.16529301 0.        ] Clipart\n",
      "30 [0.94878425 0.24204311 0.        ] Clipart\n",
      "40 [0.94878425 0.32096107 0.        ] Clipart\n",
      "50 [0.94878425 0.39833513 0.        ] Clipart\n",
      "60 [0.94878425 0.47922222 0.        ] Clipart\n",
      "70 [0.94878425 0.55808738 0.        ] Clipart\n",
      "80 [0.94878425 0.63565922 0.        ] Clipart\n",
      "90 [0.94878425 0.71570304 0.        ] Clipart\n",
      "Loading trainer for source domain Real World\n"
     ]
    },
    {
     "name": "stderr",
     "output_type": "stream",
     "text": [
      "Real World: 100%|██████████| 27/27 [00:00<00:00, 134.41it/s]\n"
     ]
    },
    {
     "name": "stdout",
     "output_type": "stream",
     "text": [
      "Loading trainer for source domain Real World\n"
     ]
    },
    {
     "name": "stderr",
     "output_type": "stream",
     "text": [
      "Product: 100%|██████████| 2/2 [00:00<00:00,  5.98it/s]\n"
     ]
    },
    {
     "name": "stdout",
     "output_type": "stream",
     "text": [
      "Source-only accuracy is 0.7879675529517801\n",
      "y__hat counts [ 75 131  83  40  45  32  63 104  84  35 103  38  38  92  77  84  71  21\n",
      "  64  53  74  91  71 120  50  66  53  93 106 100  32  54  85  38 122  70\n",
      "  95  37  94  75  48  63  67  39  63 101  20  44  64  52  85  35  49  46\n",
      "  88  43 153  37  57  64  30  82  47  97 105]\n",
      "y_true counts [78 99 62 43 44 62 47 81 81 56 99 65 96 88 75 83 67 41 67 58 71 99 91 90\n",
      " 41 67 57 90 72 99 41 54 99 56 98 72 96 41 93 68 70 47 60 40 38 99 43 43\n",
      " 59 58 99 40 49 46 99 43 99 47 76 60 58 42 45 93 98]\n",
      "Dist=\n",
      "[1 1 1 1 1 1 1 1 1 1 1 1 1 1 1 1 1 1 1 1 1 1 1 1 1 1 1 1 1 1 1 1 1 1 1 1 1\n",
      " 1 1 1 1 1 1 1 1 1 1 1 1 1 1 1 1 1 1 1 1 1 1 1 1 1 1 1 1]\n",
      "0 [0.94878425 0.78622598 0.0055009 ] Real World\n",
      "10 [0.94878425 0.78622598 0.06742423] Real World\n",
      "20 [0.94878425 0.78622598 0.13031048] Real World\n",
      "30 [0.94878425 0.78622598 0.19380722] Real World\n",
      "40 [0.94878425 0.78622598 0.25625248] Real World\n",
      "50 [0.94878425 0.78622598 0.31933125] Real World\n",
      "60 [0.94878425 0.78622598 0.38380206] Real World\n",
      "70 [0.94878425 0.78622598 0.44579341] Real World\n",
      "80 [0.94878425 0.78622598 0.50798286] Real World\n",
      "90 [0.94878425 0.78622598 0.57291129] Real World\n",
      "Loading trainer for source domain Art\n"
     ]
    },
    {
     "name": "stderr",
     "output_type": "stream",
     "text": [
      "Product: 100%|██████████| 2/2 [00:00<00:00,  8.97it/s]\n"
     ]
    },
    {
     "name": "stdout",
     "output_type": "stream",
     "text": [
      "Loading trainer for source domain Clipart\n"
     ]
    },
    {
     "name": "stderr",
     "output_type": "stream",
     "text": [
      "Product: 100%|██████████| 2/2 [00:00<00:00,  8.88it/s]\n"
     ]
    },
    {
     "name": "stdout",
     "output_type": "stream",
     "text": [
      "Loading trainer for source domain Real World\n"
     ]
    },
    {
     "name": "stderr",
     "output_type": "stream",
     "text": [
      "Product: 100%|██████████| 2/2 [00:00<00:00,  9.56it/s]\n"
     ]
    },
    {
     "name": "stdout",
     "output_type": "stream",
     "text": [
      "('office-home', 'ACR_P', 4, 0.8010365029292474)\n",
      "APR_C\n",
      "Loading trainer for source domain Art\n",
      "Loading trainer for source domain Art\n",
      "Loading trainer for source domain Art\n",
      "Loading trainer for source domain Art\n",
      "Loading trainer for source domain Art\n",
      "Loading trainer for source domain Real World\n",
      "Loading trainer for source domain Real World\n",
      "Loading trainer for source domain Real World\n",
      "Loading trainer for source domain Real World\n",
      "Loading trainer for source domain Real World\n",
      "Loading trainer for source domain Product\n",
      "Loading trainer for source domain Product\n",
      "Loading trainer for source domain Product\n",
      "Loading trainer for source domain Product\n",
      "Loading trainer for source domain Product\n",
      "multiplier = 4\n",
      "\n",
      "\n",
      "\n",
      "Loading trainer for source domain Art\n"
     ]
    },
    {
     "name": "stderr",
     "output_type": "stream",
     "text": [
      "Art: 100%|██████████| 15/15 [00:00<00:00, 99.33it/s]\n"
     ]
    },
    {
     "name": "stdout",
     "output_type": "stream",
     "text": [
      "Loading trainer for source domain Art\n"
     ]
    },
    {
     "name": "stderr",
     "output_type": "stream",
     "text": [
      "Clipart: 100%|██████████| 2/2 [00:00<00:00,  9.27it/s]\n"
     ]
    },
    {
     "name": "stdout",
     "output_type": "stream",
     "text": [
      "Source-only accuracy is 0.49587534372135655\n",
      "y__hat counts [ 54  28  56  44  91  44 119 113  37  45  84  58  77  66  50  45  40  64\n",
      " 161  69  56  32  64 270  64  67 136  25  81  65  96  68 148  18 160  27\n",
      "  89  78  31  34  72  73  29  64  22  84  49  46  40  53 112  58  20  16\n",
      "  46  61  87  28  54  98  29 142  22  86  19]\n",
      "y_true counts [59 56 64 98 99 99 73 46 78 99 99 40 99 64 42 41 48 40 41 50 40 40 99 99\n",
      " 61 52 99 69 40 99 53 40 99 71 99 40 76 99 83 40 51 40 99 99 41 87 40 46\n",
      " 40 67 99 75 42 42 43 61 90 60 99 80 99 39 99 53 40]\n",
      "Dist=\n",
      "[1 1 1 1 1 1 1 1 1 1 1 1 1 1 1 1 1 1 1 1 1 1 1 1 1 1 1 1 1 1 1 1 1 1 1 1 1\n",
      " 1 1 1 1 1 1 1 1 1 1 1 1 1 1 1 1 1 1 1 1 1 1 1 1 1 1 1 1]\n",
      "0 [0.01037564 0.         0.        ] Art\n",
      "10 [0.11190402 0.         0.        ] Art\n",
      "20 [0.20615604 0.         0.        ] Art\n",
      "30 [0.30531863 0.         0.        ] Art\n",
      "40 [0.40035504 0.         0.        ] Art\n",
      "50 [0.49465396 0.         0.        ] Art\n",
      "60 [0.59208999 0.         0.        ] Art\n",
      "70 [0.69442272 0.         0.        ] Art\n",
      "80 [0.79347501 0.         0.        ] Art\n",
      "90 [0.88859696 0.         0.        ] Art\n",
      "Loading trainer for source domain Real World\n"
     ]
    },
    {
     "name": "stderr",
     "output_type": "stream",
     "text": [
      "Real World: 100%|██████████| 27/27 [00:00<00:00, 132.14it/s]\n"
     ]
    },
    {
     "name": "stdout",
     "output_type": "stream",
     "text": [
      "Loading trainer for source domain Real World\n"
     ]
    },
    {
     "name": "stderr",
     "output_type": "stream",
     "text": [
      "Clipart: 100%|██████████| 2/2 [00:00<00:00,  8.44it/s]\n"
     ]
    },
    {
     "name": "stdout",
     "output_type": "stream",
     "text": [
      "Source-only accuracy is 0.49450045829514205\n",
      "y__hat counts [ 60  22  24  37  78  56  79  68  57  42 138  18 116  30  40  70  37  22\n",
      "  88  55  57  68  38 699 101 130  75  52  49  55  67  95  48  78 121  28\n",
      "  82  69 100  33  27 148  47  36  69  73  39  22  21  51 101  25  29  20\n",
      "  21  12  70  22  41  70  19  70  66  45  38]\n",
      "y_true counts [59 56 64 98 99 99 73 46 78 99 99 40 99 64 42 41 48 40 41 50 40 40 99 99\n",
      " 61 52 99 69 40 99 53 40 99 71 99 40 76 99 83 40 51 40 99 99 41 87 40 46\n",
      " 40 67 99 75 42 42 43 61 90 60 99 80 99 39 99 53 40]\n",
      "Dist=\n",
      "[1 1 1 1 1 1 1 1 1 1 1 1 1 1 1 1 1 1 1 1 1 1 1 1 1 1 1 1 1 1 1 1 1 1 1 1 1\n",
      " 1 1 1 1 1 1 1 1 1 1 1 1 1 1 1 1 1 1 1 1 1 1 1 1 1 1 1 1]\n",
      "0 [0.97680085 0.00778872 0.        ] Real World\n",
      "10 [0.97680085 0.08336126 0.        ] Real World\n",
      "20 [0.97680085 0.15619614 0.        ] Real World\n",
      "30 [0.97680085 0.23119034 0.        ] Real World\n",
      "40 [0.97680085 0.30497256 0.        ] Real World\n",
      "50 [0.97680085 0.37639286 0.        ] Real World\n",
      "60 [0.97680085 0.452398   0.        ] Real World\n",
      "70 [0.97680085 0.52519699 0.        ] Real World\n",
      "80 [0.97680085 0.59693508 0.        ] Real World\n",
      "90 [0.97680085 0.66932184 0.        ] Real World\n",
      "Loading trainer for source domain Product\n"
     ]
    },
    {
     "name": "stderr",
     "output_type": "stream",
     "text": [
      "Product: 100%|██████████| 27/27 [00:00<00:00, 147.93it/s]\n"
     ]
    },
    {
     "name": "stdout",
     "output_type": "stream",
     "text": [
      "Loading trainer for source domain Product\n"
     ]
    },
    {
     "name": "stderr",
     "output_type": "stream",
     "text": [
      "Clipart: 100%|██████████| 2/2 [00:00<00:00,  6.71it/s]\n"
     ]
    },
    {
     "name": "stdout",
     "output_type": "stream",
     "text": [
      "Source-only accuracy is 0.4342346471127406\n",
      "y__hat counts [ 58  25  23  20  65  67  48  71 111  52 102  46  78  18  46 176  24  51\n",
      " 332  38  60  48  60 272  95  77  66 109  27  52 109  41  97  31 131  29\n",
      "  82  77 188  14  53  89  71  36  19  38  24  28  31  51 138  40  87  16\n",
      "  23  21  70  50  45  61  21   5 116  74  41]\n",
      "y_true counts [59 56 64 98 99 99 73 46 78 99 99 40 99 64 42 41 48 40 41 50 40 40 99 99\n",
      " 61 52 99 69 40 99 53 40 99 71 99 40 76 99 83 40 51 40 99 99 41 87 40 46\n",
      " 40 67 99 75 42 42 43 61 90 60 99 80 99 39 99 53 40]\n",
      "Dist=\n",
      "[1 1 1 1 1 1 1 1 1 1 1 1 1 1 1 1 1 1 1 1 1 1 1 1 1 1 1 1 1 1 1 1 1 1 1 1 1\n",
      " 1 1 1 1 1 1 1 1 1 1 1 1 1 1 1 1 1 1 1 1 1 1 1 1 1 1 1 1]\n",
      "0 [0.97680085 0.73222848 0.00903904] Product\n",
      "10 [0.97680085 0.73222848 0.09978613] Product\n",
      "20 [0.97680085 0.73222848 0.1907017 ] Product\n",
      "30 [0.97680085 0.73222848 0.28186318] Product\n",
      "40 [0.97680085 0.73222848 0.37286788] Product\n",
      "50 [0.97680085 0.73222848 0.45989217] Product\n",
      "60 [0.97680085 0.73222848 0.55378918] Product\n",
      "70 [0.97680085 0.73222848 0.64311176] Product\n",
      "80 [0.97680085 0.73222848 0.73325703] Product\n",
      "90 [0.97680085 0.73222848 0.82670162] Product\n",
      "Loading trainer for source domain Art\n"
     ]
    },
    {
     "name": "stderr",
     "output_type": "stream",
     "text": [
      "Clipart: 100%|██████████| 2/2 [00:00<00:00,  9.01it/s]\n"
     ]
    },
    {
     "name": "stdout",
     "output_type": "stream",
     "text": [
      "Loading trainer for source domain Real World\n"
     ]
    },
    {
     "name": "stderr",
     "output_type": "stream",
     "text": [
      "Clipart: 100%|██████████| 2/2 [00:00<00:00,  9.61it/s]\n"
     ]
    },
    {
     "name": "stdout",
     "output_type": "stream",
     "text": [
      "Loading trainer for source domain Product\n"
     ]
    },
    {
     "name": "stderr",
     "output_type": "stream",
     "text": [
      "Clipart: 100%|██████████| 2/2 [00:00<00:00,  7.02it/s]\n"
     ]
    },
    {
     "name": "stdout",
     "output_type": "stream",
     "text": [
      "('office-home', 'APR_C', 0, 0.5792850595783685)\n",
      "Loading trainer for source domain Art\n",
      "Loading trainer for source domain Art\n",
      "Loading trainer for source domain Art\n",
      "Loading trainer for source domain Art\n",
      "Loading trainer for source domain Art\n",
      "Loading trainer for source domain Real World\n",
      "Loading trainer for source domain Real World\n",
      "Loading trainer for source domain Real World\n",
      "Loading trainer for source domain Real World\n",
      "Loading trainer for source domain Real World\n",
      "Loading trainer for source domain Product\n",
      "Loading trainer for source domain Product\n",
      "Loading trainer for source domain Product\n",
      "Loading trainer for source domain Product\n",
      "Loading trainer for source domain Product\n",
      "multiplier = 4\n",
      "\n",
      "\n",
      "\n",
      "Loading trainer for source domain Art\n"
     ]
    },
    {
     "name": "stderr",
     "output_type": "stream",
     "text": [
      "Art: 100%|██████████| 15/15 [00:00<00:00, 94.86it/s]\n"
     ]
    },
    {
     "name": "stdout",
     "output_type": "stream",
     "text": [
      "Loading trainer for source domain Art\n"
     ]
    },
    {
     "name": "stderr",
     "output_type": "stream",
     "text": [
      "Clipart: 100%|██████████| 2/2 [00:00<00:00,  8.94it/s]\n"
     ]
    },
    {
     "name": "stdout",
     "output_type": "stream",
     "text": [
      "Source-only accuracy is 0.49450045829514205\n",
      "y__hat counts [ 60  34  40  37  89  42  96 116  38  55  89  61  99  90  54  58  33  73\n",
      " 165  56  60  38  63 296  68  68 138  31  60  57  89  72 145  23 152  35\n",
      "  90  86  19  30  68  71  38  57  28  69  39  49  45  53 114  63  18  12\n",
      "  39  73  99  30  36  87  30 112  26  90  13]\n",
      "y_true counts [59 56 64 98 99 99 73 46 78 99 99 40 99 64 42 41 48 40 41 50 40 40 99 99\n",
      " 61 52 99 69 40 99 53 40 99 71 99 40 76 99 83 40 51 40 99 99 41 87 40 46\n",
      " 40 67 99 75 42 42 43 61 90 60 99 80 99 39 99 53 40]\n",
      "Dist=\n",
      "[1 1 1 1 1 1 1 1 1 1 1 1 1 1 1 1 1 1 1 1 1 1 1 1 1 1 1 1 1 1 1 1 1 1 1 1 1\n",
      " 1 1 1 1 1 1 1 1 1 1 1 1 1 1 1 1 1 1 1 1 1 1 1 1 1 1 1 1]\n",
      "0 [0.00966049 0.         0.        ] Art\n",
      "10 [0.10490108 0.         0.        ] Art\n",
      "20 [0.20194894 0.         0.        ] Art\n",
      "30 [0.2989388 0.        0.       ] Art\n",
      "40 [0.39754214 0.         0.        ] Art\n",
      "50 [0.49643365 0.         0.        ] Art\n",
      "60 [0.59426753 0.         0.        ] Art\n",
      "70 [0.69059997 0.         0.        ] Art\n",
      "80 [0.7901138 0.        0.       ] Art\n",
      "90 [0.89033472 0.         0.        ] Art\n",
      "Loading trainer for source domain Real World\n"
     ]
    },
    {
     "name": "stderr",
     "output_type": "stream",
     "text": [
      "Real World: 100%|██████████| 27/27 [00:00<00:00, 143.43it/s]\n"
     ]
    },
    {
     "name": "stdout",
     "output_type": "stream",
     "text": [
      "Loading trainer for source domain Real World\n"
     ]
    },
    {
     "name": "stderr",
     "output_type": "stream",
     "text": [
      "Clipart: 100%|██████████| 2/2 [00:00<00:00,  8.42it/s]\n"
     ]
    },
    {
     "name": "stdout",
     "output_type": "stream",
     "text": [
      "Source-only accuracy is 0.49587534372135655\n",
      "y__hat counts [ 51  26  28  37  76  62  82  69  65  40 133  30 140  27  48  54  36  33\n",
      "  99  51  46  59  46 553 114 117  84  52  48  55  57  85  32  60 129  27\n",
      "  88  66  99  34  32 150  52  46 101  61  51  20  25  51 100  30  18  23\n",
      "  23  27  82  17  40  77  20  88  82  55  55]\n",
      "y_true counts [59 56 64 98 99 99 73 46 78 99 99 40 99 64 42 41 48 40 41 50 40 40 99 99\n",
      " 61 52 99 69 40 99 53 40 99 71 99 40 76 99 83 40 51 40 99 99 41 87 40 46\n",
      " 40 67 99 75 42 42 43 61 90 60 99 80 99 39 99 53 40]\n",
      "Dist=\n",
      "[1 1 1 1 1 1 1 1 1 1 1 1 1 1 1 1 1 1 1 1 1 1 1 1 1 1 1 1 1 1 1 1 1 1 1 1 1\n",
      " 1 1 1 1 1 1 1 1 1 1 1 1 1 1 1 1 1 1 1 1 1 1 1 1 1 1 1 1]\n",
      "0 [0.97777259 0.00719337 0.        ] Real World\n",
      "10 [0.97777259 0.08180688 0.        ] Real World\n",
      "20 [0.97777259 0.15598323 0.        ] Real World\n",
      "30 [0.97777259 0.22999242 0.        ] Real World\n",
      "40 [0.97777259 0.30404381 0.        ] Real World\n",
      "50 [0.97777259 0.37847906 0.        ] Real World\n",
      "60 [0.97777259 0.45115547 0.        ] Real World\n",
      "70 [0.97777259 0.52429286 0.        ] Real World\n",
      "80 [0.97777259 0.59611705 0.        ] Real World\n",
      "90 [0.97777259 0.66838241 0.        ] Real World\n",
      "Loading trainer for source domain Product\n"
     ]
    },
    {
     "name": "stderr",
     "output_type": "stream",
     "text": [
      "Product: 100%|██████████| 27/27 [00:00<00:00, 147.93it/s]\n"
     ]
    },
    {
     "name": "stdout",
     "output_type": "stream",
     "text": [
      "Loading trainer for source domain Product\n"
     ]
    },
    {
     "name": "stderr",
     "output_type": "stream",
     "text": [
      "Clipart: 100%|██████████| 2/2 [00:00<00:00,  8.24it/s]\n"
     ]
    },
    {
     "name": "stdout",
     "output_type": "stream",
     "text": [
      "Source-only accuracy is 0.43538038496791936\n",
      "y__hat counts [ 56  21  25  18  65  76  43  62 112  40 113  32  89  23  51 160  21  24\n",
      " 296  27  57  58  54 307  82  75  62 107  25  50 118  44  86  58  98  32\n",
      "  83  77 216  13  43 124  98  42  39  39  21  27  35  53 133  29  77  16\n",
      "  14  39  60  52  48  65  20   8 119  61  46]\n",
      "y_true counts [59 56 64 98 99 99 73 46 78 99 99 40 99 64 42 41 48 40 41 50 40 40 99 99\n",
      " 61 52 99 69 40 99 53 40 99 71 99 40 76 99 83 40 51 40 99 99 41 87 40 46\n",
      " 40 67 99 75 42 42 43 61 90 60 99 80 99 39 99 53 40]\n",
      "Dist=\n",
      "[1 1 1 1 1 1 1 1 1 1 1 1 1 1 1 1 1 1 1 1 1 1 1 1 1 1 1 1 1 1 1 1 1 1 1 1 1\n",
      " 1 1 1 1 1 1 1 1 1 1 1 1 1 1 1 1 1 1 1 1 1 1 1 1 1 1 1 1]\n",
      "0 [0.97777259 0.7349691  0.00964755] Product\n",
      "10 [0.97777259 0.7349691  0.10015499] Product\n",
      "20 [0.97777259 0.7349691  0.18765812] Product\n",
      "30 [0.97777259 0.7349691  0.27846255] Product\n",
      "40 [0.97777259 0.7349691  0.37289068] Product\n",
      "50 [0.97777259 0.7349691  0.4608141 ] Product\n",
      "60 [0.97777259 0.7349691  0.55084543] Product\n",
      "70 [0.97777259 0.7349691  0.64179004] Product\n",
      "80 [0.97777259 0.7349691  0.73348791] Product\n",
      "90 [0.97777259 0.7349691  0.8242239 ] Product\n",
      "Loading trainer for source domain Art\n"
     ]
    },
    {
     "name": "stderr",
     "output_type": "stream",
     "text": [
      "Clipart: 100%|██████████| 2/2 [00:00<00:00,  9.03it/s]\n"
     ]
    },
    {
     "name": "stdout",
     "output_type": "stream",
     "text": [
      "Loading trainer for source domain Real World\n"
     ]
    },
    {
     "name": "stderr",
     "output_type": "stream",
     "text": [
      "Clipart: 100%|██████████| 2/2 [00:00<00:00,  9.43it/s]\n"
     ]
    },
    {
     "name": "stdout",
     "output_type": "stream",
     "text": [
      "Loading trainer for source domain Product\n"
     ]
    },
    {
     "name": "stderr",
     "output_type": "stream",
     "text": [
      "Clipart: 100%|██████████| 2/2 [00:00<00:00,  9.16it/s]\n"
     ]
    },
    {
     "name": "stdout",
     "output_type": "stream",
     "text": [
      "('office-home', 'APR_C', 1, 0.5751604032997251)\n",
      "Loading trainer for source domain Art\n",
      "Loading trainer for source domain Art\n",
      "Loading trainer for source domain Art\n",
      "Loading trainer for source domain Art\n",
      "Loading trainer for source domain Art\n",
      "Loading trainer for source domain Real World\n",
      "Loading trainer for source domain Real World\n",
      "Loading trainer for source domain Real World\n",
      "Loading trainer for source domain Real World\n",
      "Loading trainer for source domain Real World\n",
      "Loading trainer for source domain Product\n",
      "Loading trainer for source domain Product\n",
      "Loading trainer for source domain Product\n",
      "Loading trainer for source domain Product\n",
      "Loading trainer for source domain Product\n",
      "multiplier = 4\n",
      "\n",
      "\n",
      "\n",
      "Loading trainer for source domain Art\n"
     ]
    },
    {
     "name": "stderr",
     "output_type": "stream",
     "text": [
      "Art: 100%|██████████| 15/15 [00:00<00:00, 90.17it/s]\n"
     ]
    },
    {
     "name": "stdout",
     "output_type": "stream",
     "text": [
      "Loading trainer for source domain Art\n"
     ]
    },
    {
     "name": "stderr",
     "output_type": "stream",
     "text": [
      "Clipart: 100%|██████████| 2/2 [00:00<00:00,  9.00it/s]\n"
     ]
    },
    {
     "name": "stdout",
     "output_type": "stream",
     "text": [
      "Source-only accuracy is 0.49518790100824933\n",
      "y__hat counts [ 60  31  33  36  87  53 112 107  43  60  94  53  73  67  53  49  28  72\n",
      " 170  70  62  38  61 260  55  69 155  33  47  58  72  74 163  29 188  40\n",
      "  87  88  24  36  67  76  35  57  25  77  46  59  25  52 105  58  16  18\n",
      "  37  75  89  42  46  93  28 131  32  70  15]\n",
      "y_true counts [59 56 64 98 99 99 73 46 78 99 99 40 99 64 42 41 48 40 41 50 40 40 99 99\n",
      " 61 52 99 69 40 99 53 40 99 71 99 40 76 99 83 40 51 40 99 99 41 87 40 46\n",
      " 40 67 99 75 42 42 43 61 90 60 99 80 99 39 99 53 40]\n",
      "Dist=\n",
      "[1 1 1 1 1 1 1 1 1 1 1 1 1 1 1 1 1 1 1 1 1 1 1 1 1 1 1 1 1 1 1 1 1 1 1 1 1\n",
      " 1 1 1 1 1 1 1 1 1 1 1 1 1 1 1 1 1 1 1 1 1 1 1 1 1 1 1 1]\n",
      "0 [0.00801899 0.         0.        ] Art\n",
      "10 [0.10858053 0.         0.        ] Art\n",
      "20 [0.20650532 0.         0.        ] Art\n",
      "30 [0.30623406 0.         0.        ] Art\n",
      "40 [0.40559443 0.         0.        ] Art\n",
      "50 [0.50490674 0.         0.        ] Art\n",
      "60 [0.60317707 0.         0.        ] Art\n",
      "70 [0.69958417 0.         0.        ] Art\n",
      "80 [0.79306781 0.         0.        ] Art\n",
      "90 [0.89222327 0.         0.        ] Art\n",
      "Loading trainer for source domain Real World\n"
     ]
    },
    {
     "name": "stderr",
     "output_type": "stream",
     "text": [
      "Real World: 100%|██████████| 27/27 [00:00<00:00, 136.07it/s]\n"
     ]
    },
    {
     "name": "stdout",
     "output_type": "stream",
     "text": [
      "Loading trainer for source domain Real World\n"
     ]
    },
    {
     "name": "stderr",
     "output_type": "stream",
     "text": [
      "Clipart: 100%|██████████| 2/2 [00:00<00:00,  6.68it/s]\n"
     ]
    },
    {
     "name": "stdout",
     "output_type": "stream",
     "text": [
      "Source-only accuracy is 0.4922089825847846\n",
      "y__hat counts [ 56  25  25  38  73  60  79  69  60  34 159  11 137  24  41  45  29  22\n",
      "  81  52  47  71  46 685 109 111  84  51  49  51  61  95  30  57 121  29\n",
      "  80  69  86  45  26 151  54  45 101  67  46  33  22  48  95  29  28  17\n",
      "  22  13  83  24  42  66  21  88  65  41  40]\n",
      "y_true counts [59 56 64 98 99 99 73 46 78 99 99 40 99 64 42 41 48 40 41 50 40 40 99 99\n",
      " 61 52 99 69 40 99 53 40 99 71 99 40 76 99 83 40 51 40 99 99 41 87 40 46\n",
      " 40 67 99 75 42 42 43 61 90 60 99 80 99 39 99 53 40]\n",
      "Dist=\n",
      "[1 1 1 1 1 1 1 1 1 1 1 1 1 1 1 1 1 1 1 1 1 1 1 1 1 1 1 1 1 1 1 1 1 1 1 1 1\n",
      " 1 1 1 1 1 1 1 1 1 1 1 1 1 1 1 1 1 1 1 1 1 1 1 1 1 1 1 1]\n",
      "0 [0.98248344 0.00739763 0.        ] Real World\n",
      "10 [0.98248344 0.08142535 0.        ] Real World\n",
      "20 [0.98248344 0.15267226 0.        ] Real World\n",
      "30 [0.98248344 0.22473893 0.        ] Real World\n",
      "40 [0.98248344 0.29711522 0.        ] Real World\n",
      "50 [0.98248344 0.36933992 0.        ] Real World\n",
      "60 [0.98248344 0.44318645 0.        ] Real World\n",
      "70 [0.98248344 0.51525323 0.        ] Real World\n",
      "80 [0.98248344 0.58680263 0.        ] Real World\n",
      "90 [0.98248344 0.65762491 0.        ] Real World\n",
      "Loading trainer for source domain Product\n"
     ]
    },
    {
     "name": "stderr",
     "output_type": "stream",
     "text": [
      "Product: 100%|██████████| 27/27 [00:00<00:00, 149.50it/s]\n"
     ]
    },
    {
     "name": "stdout",
     "output_type": "stream",
     "text": [
      "Loading trainer for source domain Product\n"
     ]
    },
    {
     "name": "stderr",
     "output_type": "stream",
     "text": [
      "Clipart: 100%|██████████| 2/2 [00:00<00:00,  8.22it/s]\n"
     ]
    },
    {
     "name": "stdout",
     "output_type": "stream",
     "text": [
      "Source-only accuracy is 0.441109074243813\n",
      "y__hat counts [ 55  15  16  21  68  82  51  69 116  57 130  30  79  27  40 204  19  39\n",
      " 299  29  56  57  59 251  66  81  63 108  26  46 112  50  93  49 131  29\n",
      "  75  73 186  14  42 110  71  38  22  32  24  30  36  52 143  43  59  21\n",
      "  21  24  79  73  45  72  25   6 120  64  41]\n",
      "y_true counts [59 56 64 98 99 99 73 46 78 99 99 40 99 64 42 41 48 40 41 50 40 40 99 99\n",
      " 61 52 99 69 40 99 53 40 99 71 99 40 76 99 83 40 51 40 99 99 41 87 40 46\n",
      " 40 67 99 75 42 42 43 61 90 60 99 80 99 39 99 53 40]\n",
      "Dist=\n",
      "[1 1 1 1 1 1 1 1 1 1 1 1 1 1 1 1 1 1 1 1 1 1 1 1 1 1 1 1 1 1 1 1 1 1 1 1 1\n",
      " 1 1 1 1 1 1 1 1 1 1 1 1 1 1 1 1 1 1 1 1 1 1 1 1 1 1 1 1]\n",
      "0 [0.98248344 0.72148045 0.00943367] Product\n",
      "10 [0.98248344 0.72148045 0.10224167] Product\n",
      "20 [0.98248344 0.72148045 0.19570834] Product\n",
      "30 [0.98248344 0.72148045 0.29427195] Product\n",
      "40 [0.98248344 0.72148045 0.38462048] Product\n",
      "50 [0.98248344 0.72148045 0.47688813] Product\n",
      "60 [0.98248344 0.72148045 0.56835312] Product\n",
      "70 [0.98248344 0.72148045 0.65886592] Product\n",
      "80 [0.98248344 0.72148045 0.74990721] Product\n",
      "90 [0.98248344 0.72148045 0.84172271] Product\n",
      "Loading trainer for source domain Art\n"
     ]
    },
    {
     "name": "stderr",
     "output_type": "stream",
     "text": [
      "Clipart: 100%|██████████| 2/2 [00:00<00:00,  9.48it/s]\n"
     ]
    },
    {
     "name": "stdout",
     "output_type": "stream",
     "text": [
      "Loading trainer for source domain Real World\n"
     ]
    },
    {
     "name": "stderr",
     "output_type": "stream",
     "text": [
      "Clipart: 100%|██████████| 2/2 [00:00<00:00,  9.10it/s]\n"
     ]
    },
    {
     "name": "stdout",
     "output_type": "stream",
     "text": [
      "Loading trainer for source domain Product\n"
     ]
    },
    {
     "name": "stderr",
     "output_type": "stream",
     "text": [
      "Clipart: 100%|██████████| 2/2 [00:00<00:00,  9.54it/s]\n"
     ]
    },
    {
     "name": "stdout",
     "output_type": "stream",
     "text": [
      "('office-home', 'APR_C', 2, 0.5797433547204399)\n",
      "Loading trainer for source domain Art\n",
      "Loading trainer for source domain Art\n",
      "Loading trainer for source domain Art\n",
      "Loading trainer for source domain Art\n",
      "Loading trainer for source domain Art\n",
      "Loading trainer for source domain Real World\n",
      "Loading trainer for source domain Real World\n",
      "Loading trainer for source domain Real World\n",
      "Loading trainer for source domain Real World\n",
      "Loading trainer for source domain Real World\n",
      "Loading trainer for source domain Product\n",
      "Loading trainer for source domain Product\n",
      "Loading trainer for source domain Product\n",
      "Loading trainer for source domain Product\n",
      "Loading trainer for source domain Product\n",
      "multiplier = 4\n",
      "\n",
      "\n",
      "\n",
      "Loading trainer for source domain Art\n"
     ]
    },
    {
     "name": "stderr",
     "output_type": "stream",
     "text": [
      "Art: 100%|██████████| 15/15 [00:00<00:00, 94.31it/s]\n"
     ]
    },
    {
     "name": "stdout",
     "output_type": "stream",
     "text": [
      "Loading trainer for source domain Art\n"
     ]
    },
    {
     "name": "stderr",
     "output_type": "stream",
     "text": [
      "Clipart: 100%|██████████| 2/2 [00:00<00:00,  9.05it/s]\n"
     ]
    },
    {
     "name": "stdout",
     "output_type": "stream",
     "text": [
      "Source-only accuracy is 0.49381301558203483\n",
      "y__hat counts [ 67  28  38  34  84  41  99 113  31  41  86  54  90  69  53  71  21  55\n",
      " 171  68  55  31  57 273  72  70 134  35  64  57  67  64 138  30 162  35\n",
      "  82  91  34  38  73  75  29  84  22  82  48  41  38  50 105  58  24  13\n",
      "  44  90  89  32  65  98  28 153  28  78  14]\n",
      "y_true counts [59 56 64 98 99 99 73 46 78 99 99 40 99 64 42 41 48 40 41 50 40 40 99 99\n",
      " 61 52 99 69 40 99 53 40 99 71 99 40 76 99 83 40 51 40 99 99 41 87 40 46\n",
      " 40 67 99 75 42 42 43 61 90 60 99 80 99 39 99 53 40]\n",
      "Dist=\n",
      "[1 1 1 1 1 1 1 1 1 1 1 1 1 1 1 1 1 1 1 1 1 1 1 1 1 1 1 1 1 1 1 1 1 1 1 1 1\n",
      " 1 1 1 1 1 1 1 1 1 1 1 1 1 1 1 1 1 1 1 1 1 1 1 1 1 1 1 1]\n",
      "0 [0.01045795 0.         0.        ] Art\n",
      "10 [0.11222241 0.         0.        ] Art\n",
      "20 [0.21229012 0.         0.        ] Art\n",
      "30 [0.31429132 0.         0.        ] Art\n",
      "40 [0.42286011 0.         0.        ] Art\n",
      "50 [0.5211516 0.        0.       ] Art\n",
      "60 [0.62398928 0.         0.        ] Art\n",
      "70 [0.73049472 0.         0.        ] Art\n",
      "80 [0.83564084 0.         0.        ] Art\n",
      "90 [0.9394925 0.        0.       ] Art\n",
      "Loading trainer for source domain Real World\n"
     ]
    },
    {
     "name": "stderr",
     "output_type": "stream",
     "text": [
      "Real World: 100%|██████████| 27/27 [00:00<00:00, 135.05it/s]\n"
     ]
    },
    {
     "name": "stdout",
     "output_type": "stream",
     "text": [
      "Loading trainer for source domain Real World\n"
     ]
    },
    {
     "name": "stderr",
     "output_type": "stream",
     "text": [
      "Clipart: 100%|██████████| 2/2 [00:00<00:00,  8.10it/s]\n"
     ]
    },
    {
     "name": "stdout",
     "output_type": "stream",
     "text": [
      "Source-only accuracy is 0.499083409715857\n",
      "y__hat counts [ 48  28  28  34  73  54  77  68  65  42 156  17 135  29  43  56  42  27\n",
      "  98  58  51  90  39 652 101  99  78  48  50  53  53  95  37  52 128  25\n",
      "  79  72 117  32  30 110  48  55  66  73  40  25  24  51 111  35  28  17\n",
      "  20  14  81  22  45  82  22  86  66  46  38]\n",
      "y_true counts [59 56 64 98 99 99 73 46 78 99 99 40 99 64 42 41 48 40 41 50 40 40 99 99\n",
      " 61 52 99 69 40 99 53 40 99 71 99 40 76 99 83 40 51 40 99 99 41 87 40 46\n",
      " 40 67 99 75 42 42 43 61 90 60 99 80 99 39 99 53 40]\n",
      "Dist=\n",
      "[1 1 1 1 1 1 1 1 1 1 1 1 1 1 1 1 1 1 1 1 1 1 1 1 1 1 1 1 1 1 1 1 1 1 1 1 1\n",
      " 1 1 1 1 1 1 1 1 1 1 1 1 1 1 1 1 1 1 1 1 1 1 1 1 1 1 1 1]\n",
      "0 [1.030476   0.00842183 0.        ] Real World\n",
      "10 [1.030476   0.08057204 0.        ] Real World\n",
      "20 [1.030476   0.15613036 0.        ] Real World\n",
      "30 [1.030476   0.22790152 0.        ] Real World\n",
      "40 [1.030476  0.3014976 0.       ] Real World\n",
      "50 [1.030476   0.37304909 0.        ] Real World\n",
      "60 [1.030476   0.44827943 0.        ] Real World\n",
      "70 [1.030476   0.51932919 0.        ] Real World\n",
      "80 [1.030476   0.59111441 0.        ] Real World\n",
      "90 [1.030476   0.66509413 0.        ] Real World\n",
      "Loading trainer for source domain Product\n"
     ]
    },
    {
     "name": "stderr",
     "output_type": "stream",
     "text": [
      "Product: 100%|██████████| 27/27 [00:00<00:00, 140.42it/s]\n"
     ]
    },
    {
     "name": "stdout",
     "output_type": "stream",
     "text": [
      "Loading trainer for source domain Product\n"
     ]
    },
    {
     "name": "stderr",
     "output_type": "stream",
     "text": [
      "Clipart: 100%|██████████| 2/2 [00:00<00:00,  8.06it/s]\n"
     ]
    },
    {
     "name": "stdout",
     "output_type": "stream",
     "text": [
      "Source-only accuracy is 0.4374427131072411\n",
      "y__hat counts [ 48  28  17  20  67  70  50  68  97  48 122  30  91  16  40 168  20  32\n",
      " 289  33  62  50  61 311  57  76  64 107  22  50 118  59  87  51 112  19\n",
      "  78  79 215  17  41 107  88  60  26  39  16  34  39  51 158  47  71  16\n",
      "  12  28  64  64  53  72  19   4 125  52  29]\n",
      "y_true counts [59 56 64 98 99 99 73 46 78 99 99 40 99 64 42 41 48 40 41 50 40 40 99 99\n",
      " 61 52 99 69 40 99 53 40 99 71 99 40 76 99 83 40 51 40 99 99 41 87 40 46\n",
      " 40 67 99 75 42 42 43 61 90 60 99 80 99 39 99 53 40]\n",
      "Dist=\n",
      "[1 1 1 1 1 1 1 1 1 1 1 1 1 1 1 1 1 1 1 1 1 1 1 1 1 1 1 1 1 1 1 1 1 1 1 1 1\n",
      " 1 1 1 1 1 1 1 1 1 1 1 1 1 1 1 1 1 1 1 1 1 1 1 1 1 1 1 1]\n",
      "0 [1.030476   0.73011755 0.00956545] Product\n",
      "10 [1.030476   0.73011755 0.10459477] Product\n",
      "20 [1.030476   0.73011755 0.19622545] Product\n",
      "30 [1.030476   0.73011755 0.28787117] Product\n",
      "40 [1.030476   0.73011755 0.37822092] Product\n",
      "50 [1.030476   0.73011755 0.47266395] Product\n",
      "60 [1.030476   0.73011755 0.56434617] Product\n",
      "70 [1.030476   0.73011755 0.65707145] Product\n",
      "80 [1.030476   0.73011755 0.74711646] Product\n",
      "90 [1.030476   0.73011755 0.83905981] Product\n",
      "Loading trainer for source domain Art\n"
     ]
    },
    {
     "name": "stderr",
     "output_type": "stream",
     "text": [
      "Clipart: 100%|██████████| 2/2 [00:00<00:00,  7.49it/s]\n"
     ]
    },
    {
     "name": "stdout",
     "output_type": "stream",
     "text": [
      "Loading trainer for source domain Real World\n"
     ]
    },
    {
     "name": "stderr",
     "output_type": "stream",
     "text": [
      "Clipart: 100%|██████████| 2/2 [00:00<00:00,  9.32it/s]\n"
     ]
    },
    {
     "name": "stdout",
     "output_type": "stream",
     "text": [
      "Loading trainer for source domain Product\n"
     ]
    },
    {
     "name": "stderr",
     "output_type": "stream",
     "text": [
      "Clipart: 100%|██████████| 2/2 [00:00<00:00,  9.71it/s]\n"
     ]
    },
    {
     "name": "stdout",
     "output_type": "stream",
     "text": [
      "('office-home', 'APR_C', 3, 0.5776810265811182)\n",
      "Loading trainer for source domain Art\n",
      "Loading trainer for source domain Art\n",
      "Loading trainer for source domain Art\n",
      "Loading trainer for source domain Art\n",
      "Loading trainer for source domain Art\n",
      "Loading trainer for source domain Real World\n",
      "Loading trainer for source domain Real World\n",
      "Loading trainer for source domain Real World\n",
      "Loading trainer for source domain Real World\n",
      "Loading trainer for source domain Real World\n",
      "Loading trainer for source domain Product\n",
      "Loading trainer for source domain Product\n",
      "Loading trainer for source domain Product\n",
      "Loading trainer for source domain Product\n",
      "Loading trainer for source domain Product\n",
      "multiplier = 4\n",
      "\n",
      "\n",
      "\n",
      "Loading trainer for source domain Art\n"
     ]
    },
    {
     "name": "stderr",
     "output_type": "stream",
     "text": [
      "Art: 100%|██████████| 15/15 [00:00<00:00, 93.06it/s]\n"
     ]
    },
    {
     "name": "stdout",
     "output_type": "stream",
     "text": [
      "Loading trainer for source domain Art\n"
     ]
    },
    {
     "name": "stderr",
     "output_type": "stream",
     "text": [
      "Clipart: 100%|██████████| 2/2 [00:00<00:00,  7.22it/s]\n"
     ]
    },
    {
     "name": "stdout",
     "output_type": "stream",
     "text": [
      "Source-only accuracy is 0.5016040329972502\n",
      "y__hat counts [ 69  39  45  38  87  45 111 109  35  42  73  47  89  72  49  79  39  56\n",
      " 170  64  53  33  67 242  58  78 152  32  58  60  82  73 143  37 165  32\n",
      "  85  87  38  40  77  64  25  76  26  76  41  47  37  49 117  66  25  19\n",
      "  46  63  87  25  34  97  26 133  27  89  19]\n",
      "y_true counts [59 56 64 98 99 99 73 46 78 99 99 40 99 64 42 41 48 40 41 50 40 40 99 99\n",
      " 61 52 99 69 40 99 53 40 99 71 99 40 76 99 83 40 51 40 99 99 41 87 40 46\n",
      " 40 67 99 75 42 42 43 61 90 60 99 80 99 39 99 53 40]\n",
      "Dist=\n",
      "[1 1 1 1 1 1 1 1 1 1 1 1 1 1 1 1 1 1 1 1 1 1 1 1 1 1 1 1 1 1 1 1 1 1 1 1 1\n",
      " 1 1 1 1 1 1 1 1 1 1 1 1 1 1 1 1 1 1 1 1 1 1 1 1 1 1 1 1]\n",
      "0 [0.00853618 0.         0.        ] Art\n",
      "10 [0.1033248 0.        0.       ] Art\n",
      "20 [0.19844954 0.         0.        ] Art\n",
      "30 [0.29113098 0.         0.        ] Art\n",
      "40 [0.38830684 0.         0.        ] Art\n",
      "50 [0.48000208 0.         0.        ] Art\n",
      "60 [0.57303043 0.         0.        ] Art\n",
      "70 [0.66765887 0.         0.        ] Art\n",
      "80 [0.76462814 0.         0.        ] Art\n",
      "90 [0.85937618 0.         0.        ] Art\n",
      "Loading trainer for source domain Real World\n"
     ]
    },
    {
     "name": "stderr",
     "output_type": "stream",
     "text": [
      "Real World: 100%|██████████| 27/27 [00:00<00:00, 138.69it/s]\n"
     ]
    },
    {
     "name": "stdout",
     "output_type": "stream",
     "text": [
      "Loading trainer for source domain Real World\n"
     ]
    },
    {
     "name": "stderr",
     "output_type": "stream",
     "text": [
      "Clipart: 100%|██████████| 2/2 [00:00<00:00,  8.39it/s]\n"
     ]
    },
    {
     "name": "stdout",
     "output_type": "stream",
     "text": [
      "Source-only accuracy is 0.4931255728689276\n",
      "y__hat counts [ 56  22  26  35  74  48  80  69  60  38 138  30 125  15  47  46  32  30\n",
      "  84  50  52  65  43 728  87 117  86  48  53  49  65  90  50  60 123  22\n",
      "  78  70  80  26  33 146  53  48  83  68  45  21  22  52  98  27  33  23\n",
      "  19   7  82  28  40  75  23  71  78  51  41]\n",
      "y_true counts [59 56 64 98 99 99 73 46 78 99 99 40 99 64 42 41 48 40 41 50 40 40 99 99\n",
      " 61 52 99 69 40 99 53 40 99 71 99 40 76 99 83 40 51 40 99 99 41 87 40 46\n",
      " 40 67 99 75 42 42 43 61 90 60 99 80 99 39 99 53 40]\n",
      "Dist=\n",
      "[1 1 1 1 1 1 1 1 1 1 1 1 1 1 1 1 1 1 1 1 1 1 1 1 1 1 1 1 1 1 1 1 1 1 1 1 1\n",
      " 1 1 1 1 1 1 1 1 1 1 1 1 1 1 1 1 1 1 1 1 1 1 1 1 1 1 1 1]\n",
      "0 [0.94479314 0.00780526 0.        ] Real World\n",
      "10 [0.94479314 0.07965537 0.        ] Real World\n",
      "20 [0.94479314 0.15082375 0.        ] Real World\n",
      "30 [0.94479314 0.2235447  0.        ] Real World\n",
      "40 [0.94479314 0.30015897 0.        ] Real World\n",
      "50 [0.94479314 0.37358066 0.        ] Real World\n",
      "60 [0.94479314 0.44622377 0.        ] Real World\n",
      "70 [0.94479314 0.51806335 0.        ] Real World\n",
      "80 [0.94479314 0.59304126 0.        ] Real World\n",
      "90 [0.94479314 0.66590938 0.        ] Real World\n",
      "Loading trainer for source domain Product\n"
     ]
    },
    {
     "name": "stderr",
     "output_type": "stream",
     "text": [
      "Product: 100%|██████████| 27/27 [00:00<00:00, 130.12it/s]\n"
     ]
    },
    {
     "name": "stdout",
     "output_type": "stream",
     "text": [
      "Loading trainer for source domain Product\n"
     ]
    },
    {
     "name": "stderr",
     "output_type": "stream",
     "text": [
      "Clipart: 100%|██████████| 2/2 [00:00<00:00,  8.22it/s]\n"
     ]
    },
    {
     "name": "stdout",
     "output_type": "stream",
     "text": [
      "Source-only accuracy is 0.4314848762603116\n",
      "y__hat counts [ 48  21  24  23  67  55  45  64 115  49 109  20  71  16  40 193  18  39\n",
      " 347  40  54  46  66 282  64  69  60  76  34  43 123  65  88  43 137  27\n",
      "  92  75 202  16  44  92  78  46  34  52  17  37  34  52 142  39  80  21\n",
      "  22  25  51  62  27  64  21  12 126  75  45]\n",
      "y_true counts [59 56 64 98 99 99 73 46 78 99 99 40 99 64 42 41 48 40 41 50 40 40 99 99\n",
      " 61 52 99 69 40 99 53 40 99 71 99 40 76 99 83 40 51 40 99 99 41 87 40 46\n",
      " 40 67 99 75 42 42 43 61 90 60 99 80 99 39 99 53 40]\n",
      "Dist=\n",
      "[1 1 1 1 1 1 1 1 1 1 1 1 1 1 1 1 1 1 1 1 1 1 1 1 1 1 1 1 1 1 1 1 1 1 1 1 1\n",
      " 1 1 1 1 1 1 1 1 1 1 1 1 1 1 1 1 1 1 1 1 1 1 1 1 1 1 1 1]\n",
      "0 [0.94479314 0.73286759 0.01033452] Product\n",
      "10 [0.94479314 0.73286759 0.09705664] Product\n",
      "20 [0.94479314 0.73286759 0.18683923] Product\n",
      "30 [0.94479314 0.73286759 0.27547466] Product\n",
      "40 [0.94479314 0.73286759 0.35921716] Product\n",
      "50 [0.94479314 0.73286759 0.44798672] Product\n",
      "60 [0.94479314 0.73286759 0.53735896] Product\n",
      "70 [0.94479314 0.73286759 0.62459938] Product\n",
      "80 [0.94479314 0.73286759 0.70882478] Product\n",
      "90 [0.94479314 0.73286759 0.79832079] Product\n",
      "Loading trainer for source domain Art\n"
     ]
    },
    {
     "name": "stderr",
     "output_type": "stream",
     "text": [
      "Clipart: 100%|██████████| 2/2 [00:00<00:00,  7.05it/s]\n"
     ]
    },
    {
     "name": "stdout",
     "output_type": "stream",
     "text": [
      "Loading trainer for source domain Real World\n"
     ]
    },
    {
     "name": "stderr",
     "output_type": "stream",
     "text": [
      "Clipart: 100%|██████████| 2/2 [00:00<00:00,  6.93it/s]\n"
     ]
    },
    {
     "name": "stdout",
     "output_type": "stream",
     "text": [
      "Loading trainer for source domain Product\n"
     ]
    },
    {
     "name": "stderr",
     "output_type": "stream",
     "text": [
      "Clipart: 100%|██████████| 2/2 [00:00<00:00,  9.16it/s]\n"
     ]
    },
    {
     "name": "stdout",
     "output_type": "stream",
     "text": [
      "('office-home', 'APR_C', 4, 0.5776810265811182)\n",
      "CPR_A\n",
      "Loading trainer for source domain Real World\n",
      "Loading trainer for source domain Real World\n",
      "Loading trainer for source domain Real World\n",
      "Loading trainer for source domain Real World\n",
      "Loading trainer for source domain Real World\n",
      "Loading trainer for source domain Clipart\n",
      "Loading trainer for source domain Clipart\n",
      "Loading trainer for source domain Clipart\n",
      "Loading trainer for source domain Clipart\n",
      "Loading trainer for source domain Clipart\n",
      "Loading trainer for source domain Product\n",
      "Loading trainer for source domain Product\n",
      "Loading trainer for source domain Product\n",
      "Loading trainer for source domain Product\n",
      "Loading trainer for source domain Product\n",
      "multiplier = 4\n",
      "\n",
      "\n",
      "\n",
      "Loading trainer for source domain Real World\n"
     ]
    },
    {
     "name": "stderr",
     "output_type": "stream",
     "text": [
      "Real World: 100%|██████████| 27/27 [00:00<00:00, 135.73it/s]\n"
     ]
    },
    {
     "name": "stdout",
     "output_type": "stream",
     "text": [
      "Loading trainer for source domain Real World\n"
     ]
    },
    {
     "name": "stderr",
     "output_type": "stream",
     "text": [
      "Art: 100%|██████████| 1/1 [00:00<00:00,  4.91it/s]\n"
     ]
    },
    {
     "name": "stdout",
     "output_type": "stream",
     "text": [
      "Source-only accuracy is 0.6417971970321517\n",
      "y__hat counts [ 65  32  22  54  74  71  46  30  24  80  51  72  28  54  40  21  16  14\n",
      "  26  46  23  71  80  35  33  42   7  70  44  21  65  53  38   1  21  23\n",
      "  14  48  30  22  15  47  17  19  29  10  35  35  26  14  11  27  36  38\n",
      "  38  21  16  49  36  13  38  61 137  25  26]\n",
      "y_true counts [73 41 27 40 75 99 40 33 20 76 69 25 44 40 40 23 15 18 21 45 22 46 90 20\n",
      " 46 40 40 79 46 18 72 49 51 20 42 32 18 49 21 20 19 19 20 26 19 18 24 47\n",
      " 49 15 20 30 42 41 46 40 20 46 40 16 44 43 20 21 16]\n",
      "Dist=\n",
      "[1 1 1 1 1 1 1 1 1 1 1 1 1 1 1 1 1 1 1 1 1 1 1 1 1 1 1 1 1 1 1 1 1 1 1 1 1\n",
      " 1 1 1 1 1 1 1 1 1 1 1 1 1 1 1 1 1 1 1 1 1 1 1 1 1 1 1 1]\n",
      "0 [0.00706302 0.         0.        ] Real World\n",
      "10 [0.07250194 0.         0.        ] Real World\n",
      "20 [0.13674864 0.         0.        ] Real World\n",
      "30 [0.20131658 0.         0.        ] Real World\n",
      "40 [0.26555461 0.         0.        ] Real World\n",
      "50 [0.3297647 0.        0.       ] Real World\n",
      "60 [0.39355164 0.         0.        ] Real World\n",
      "70 [0.45847265 0.         0.        ] Real World\n",
      "80 [0.52264815 0.         0.        ] Real World\n",
      "90 [0.58839089 0.         0.        ] Real World\n",
      "Loading trainer for source domain Clipart\n"
     ]
    },
    {
     "name": "stderr",
     "output_type": "stream",
     "text": [
      "Clipart: 100%|██████████| 27/27 [00:00<00:00, 137.74it/s]\n"
     ]
    },
    {
     "name": "stdout",
     "output_type": "stream",
     "text": [
      "Loading trainer for source domain Clipart\n"
     ]
    },
    {
     "name": "stderr",
     "output_type": "stream",
     "text": [
      "Art: 100%|██████████| 1/1 [00:00<00:00,  4.48it/s]\n"
     ]
    },
    {
     "name": "stdout",
     "output_type": "stream",
     "text": [
      "Source-only accuracy is 0.5309150865622424\n",
      "y__hat counts [ 62  23  26  54  91  66  36  19  33  86  51  12  37  51  41  43  22   9\n",
      "  15  29  21  27 111  33  35  39  27  39  59  35  56  37  33   3  18  23\n",
      "  15  47  22  15   9   4  47  38  33   9  14  54  23  24  17  27  95  73\n",
      "  29  38  37  49  51  44  51  19  99  20  21]\n",
      "y_true counts [73 41 27 40 75 99 40 33 20 76 69 25 44 40 40 23 15 18 21 45 22 46 90 20\n",
      " 46 40 40 79 46 18 72 49 51 20 42 32 18 49 21 20 19 19 20 26 19 18 24 47\n",
      " 49 15 20 30 42 41 46 40 20 46 40 16 44 43 20 21 16]\n",
      "Dist=\n",
      "[1 1 1 1 1 1 1 1 1 1 1 1 1 1 1 1 1 1 1 1 1 1 1 1 1 1 1 1 1 1 1 1 1 1 1 1 1\n",
      " 1 1 1 1 1 1 1 1 1 1 1 1 1 1 1 1 1 1 1 1 1 1 1 1 1 1 1 1]\n",
      "0 [0.64575265 0.00797622 0.        ] Clipart\n",
      "10 [0.64575265 0.08553609 0.        ] Clipart\n",
      "20 [0.64575265 0.16122223 0.        ] Clipart\n",
      "30 [0.64575265 0.24088733 0.        ] Clipart\n",
      "40 [0.64575265 0.32121349 0.        ] Clipart\n",
      "50 [0.64575265 0.39957104 0.        ] Clipart\n",
      "60 [0.64575265 0.47706586 0.        ] Clipart\n",
      "70 [0.64575265 0.55714982 0.        ] Clipart\n",
      "80 [0.64575265 0.635004   0.        ] Clipart\n",
      "90 [0.64575265 0.71523169 0.        ] Clipart\n",
      "Loading trainer for source domain Product\n"
     ]
    },
    {
     "name": "stderr",
     "output_type": "stream",
     "text": [
      "Product: 100%|██████████| 27/27 [00:00<00:00, 142.47it/s]\n"
     ]
    },
    {
     "name": "stdout",
     "output_type": "stream",
     "text": [
      "Loading trainer for source domain Product\n"
     ]
    },
    {
     "name": "stderr",
     "output_type": "stream",
     "text": [
      "Art: 100%|██████████| 1/1 [00:00<00:00,  3.45it/s]\n"
     ]
    },
    {
     "name": "stdout",
     "output_type": "stream",
     "text": [
      "Source-only accuracy is 0.5255564715581204\n",
      "y__hat counts [ 63  90  12  38  57  66  25  28  36 103  55  22  79  28  77  70  14   5\n",
      "  34  12  37  65 124  62  39  23  11  54  35  23  75  22  15  11  10  24\n",
      "  20  52  32   9  10  36  52  30   5  11  60  31  27  13  36  27  35  22\n",
      "  32  37  30  52  35  11  22  14 100  24  17]\n",
      "y_true counts [73 41 27 40 75 99 40 33 20 76 69 25 44 40 40 23 15 18 21 45 22 46 90 20\n",
      " 46 40 40 79 46 18 72 49 51 20 42 32 18 49 21 20 19 19 20 26 19 18 24 47\n",
      " 49 15 20 30 42 41 46 40 20 46 40 16 44 43 20 21 16]\n",
      "Dist=\n",
      "[1 1 1 1 1 1 1 1 1 1 1 1 1 1 1 1 1 1 1 1 1 1 1 1 1 1 1 1 1 1 1 1 1 1 1 1 1\n",
      " 1 1 1 1 1 1 1 1 1 1 1 1 1 1 1 1 1 1 1 1 1 1 1 1 1 1 1 1]\n",
      "0 [0.64575265 0.78381535 0.00891401] Product\n",
      "10 [0.64575265 0.78381535 0.09419681] Product\n",
      "20 [0.64575265 0.78381535 0.18097077] Product\n",
      "30 [0.64575265 0.78381535 0.26601978] Product\n",
      "40 [0.64575265 0.78381535 0.35401667] Product\n",
      "50 [0.64575265 0.78381535 0.4436762 ] Product\n",
      "60 [0.64575265 0.78381535 0.52837731] Product\n",
      "70 [0.64575265 0.78381535 0.61850139] Product\n",
      "80 [0.64575265 0.78381535 0.70329429] Product\n",
      "90 [0.64575265 0.78381535 0.78816909] Product\n",
      "Loading trainer for source domain Real World\n"
     ]
    },
    {
     "name": "stderr",
     "output_type": "stream",
     "text": [
      "Art: 100%|██████████| 1/1 [00:00<00:00,  5.00it/s]\n"
     ]
    },
    {
     "name": "stdout",
     "output_type": "stream",
     "text": [
      "Loading trainer for source domain Clipart\n"
     ]
    },
    {
     "name": "stderr",
     "output_type": "stream",
     "text": [
      "Art: 100%|██████████| 1/1 [00:00<00:00,  5.10it/s]\n"
     ]
    },
    {
     "name": "stdout",
     "output_type": "stream",
     "text": [
      "Loading trainer for source domain Product\n"
     ]
    },
    {
     "name": "stderr",
     "output_type": "stream",
     "text": [
      "Art: 100%|██████████| 1/1 [00:00<00:00,  3.85it/s]\n"
     ]
    },
    {
     "name": "stdout",
     "output_type": "stream",
     "text": [
      "('office-home', 'CPR_A', 0, 0.6702390766694146)\n",
      "Loading trainer for source domain Real World\n",
      "Loading trainer for source domain Real World\n",
      "Loading trainer for source domain Real World\n",
      "Loading trainer for source domain Real World\n",
      "Loading trainer for source domain Real World\n",
      "Loading trainer for source domain Clipart\n",
      "Loading trainer for source domain Clipart\n",
      "Loading trainer for source domain Clipart\n",
      "Loading trainer for source domain Clipart\n",
      "Loading trainer for source domain Clipart\n",
      "Loading trainer for source domain Product\n",
      "Loading trainer for source domain Product\n",
      "Loading trainer for source domain Product\n",
      "Loading trainer for source domain Product\n",
      "Loading trainer for source domain Product\n",
      "multiplier = 4\n",
      "\n",
      "\n",
      "\n",
      "Loading trainer for source domain Real World\n"
     ]
    },
    {
     "name": "stderr",
     "output_type": "stream",
     "text": [
      "Real World: 100%|██████████| 27/27 [00:00<00:00, 150.77it/s]\n"
     ]
    },
    {
     "name": "stdout",
     "output_type": "stream",
     "text": [
      "Loading trainer for source domain Real World\n"
     ]
    },
    {
     "name": "stderr",
     "output_type": "stream",
     "text": [
      "Art: 100%|██████████| 1/1 [00:00<00:00,  3.72it/s]\n"
     ]
    },
    {
     "name": "stdout",
     "output_type": "stream",
     "text": [
      "Source-only accuracy is 0.6475680131904369\n",
      "y__hat counts [ 65  36  24  55  68  74  45  30  24  78  46  67  17  51  40  17  16  17\n",
      "  31  46  27  75  81  33  38  42  12  69  44  23  68  50  37  21  19  16\n",
      "  45  29  22  12  51  17  22  25  10  32  44  28  14  13  26  34  33  40\n",
      "  28  16  54  42  15  28  63 137  19  25]\n",
      "y_true counts [73 41 27 40 75 99 40 33 20 76 69 25 44 40 40 23 15 18 21 45 22 46 90 20\n",
      " 46 40 40 79 46 18 72 49 51 20 42 32 18 49 21 20 19 19 20 26 19 18 24 47\n",
      " 49 15 20 30 42 41 46 40 20 46 40 16 44 43 20 21 16]\n",
      "Dist=\n",
      "[1 1 1 1 1 1 1 1 1 1 1 1 1 1 1 1 1 1 1 1 1 1 1 1 1 1 1 1 1 1 1 1 1 1 1 1 1\n",
      " 1 1 1 1 1 1 1 1 1 1 1 1 1 1 1 1 1 1 1 1 1 1 1 1 1 1 1 1]\n",
      "0 [0.00631222 0.         0.        ] Real World\n",
      "10 [0.07575182 0.         0.        ] Real World\n",
      "20 [0.14046662 0.         0.        ] Real World\n",
      "30 [0.20724288 0.         0.        ] Real World\n",
      "40 [0.27304535 0.         0.        ] Real World\n",
      "50 [0.33989118 0.         0.        ] Real World\n",
      "60 [0.40690838 0.         0.        ] Real World\n",
      "70 [0.47182943 0.         0.        ] Real World\n",
      "80 [0.53723402 0.         0.        ] Real World\n",
      "90 [0.60469658 0.         0.        ] Real World\n",
      "Loading trainer for source domain Clipart\n"
     ]
    },
    {
     "name": "stderr",
     "output_type": "stream",
     "text": [
      "Clipart: 100%|██████████| 27/27 [00:00<00:00, 137.20it/s]\n"
     ]
    },
    {
     "name": "stdout",
     "output_type": "stream",
     "text": [
      "Loading trainer for source domain Clipart\n"
     ]
    },
    {
     "name": "stderr",
     "output_type": "stream",
     "text": [
      "Art: 100%|██████████| 1/1 [00:00<00:00,  4.54it/s]\n"
     ]
    },
    {
     "name": "stdout",
     "output_type": "stream",
     "text": [
      "Source-only accuracy is 0.5313272877164056\n",
      "y__hat counts [ 70  16  27  52  84  70  41  15  44  80  43  14  42  46  53  25  18   5\n",
      "  17  31  18  25 110  19  34  34  27  57  48  39  52  43  28   3  12  23\n",
      "  16  44  34  20  10   6  59  38  25  11  19  45  29  16  32  28  92  63\n",
      "  31  45  41  61  50  37  46  13 102  28  20]\n",
      "y_true counts [73 41 27 40 75 99 40 33 20 76 69 25 44 40 40 23 15 18 21 45 22 46 90 20\n",
      " 46 40 40 79 46 18 72 49 51 20 42 32 18 49 21 20 19 19 20 26 19 18 24 47\n",
      " 49 15 20 30 42 41 46 40 20 46 40 16 44 43 20 21 16]\n",
      "Dist=\n",
      "[1 1 1 1 1 1 1 1 1 1 1 1 1 1 1 1 1 1 1 1 1 1 1 1 1 1 1 1 1 1 1 1 1 1 1 1 1\n",
      " 1 1 1 1 1 1 1 1 1 1 1 1 1 1 1 1 1 1 1 1 1 1 1 1 1 1 1 1]\n",
      "0 [0.66414076 0.008401   0.        ] Clipart\n",
      "10 [0.66414076 0.08770672 0.        ] Clipart\n",
      "20 [0.66414076 0.16849667 0.        ] Clipart\n",
      "30 [0.66414076 0.25137839 0.        ] Clipart\n",
      "40 [0.66414076 0.33125111 0.        ] Clipart\n",
      "50 [0.66414076 0.41186485 0.        ] Clipart\n",
      "60 [0.66414076 0.49217796 0.        ] Clipart\n",
      "70 [0.66414076 0.57076657 0.        ] Clipart\n",
      "80 [0.66414076 0.65323013 0.        ] Clipart\n",
      "90 [0.66414076 0.73350053 0.        ] Clipart\n",
      "Loading trainer for source domain Product\n"
     ]
    },
    {
     "name": "stderr",
     "output_type": "stream",
     "text": [
      "Product: 100%|██████████| 27/27 [00:00<00:00, 145.32it/s]\n"
     ]
    },
    {
     "name": "stdout",
     "output_type": "stream",
     "text": [
      "Loading trainer for source domain Product\n"
     ]
    },
    {
     "name": "stderr",
     "output_type": "stream",
     "text": [
      "Art: 100%|██████████| 1/1 [00:00<00:00,  4.33it/s]\n"
     ]
    },
    {
     "name": "stdout",
     "output_type": "stream",
     "text": [
      "Source-only accuracy is 0.5243198680956307\n",
      "y__hat counts [ 60  78  11  50  60  60  20  24  38 116  50  28  85  22  71  66  13   5\n",
      "  35  16  40  68 134  62  32  24   6  52  36  18  81  31  13  17  15  13\n",
      "  17  53  48  10  13  28  49  32   4   9  60  27  20  15  34  29  35  18\n",
      "  32  37  26  43  38  10  25  18  94  33  19]\n",
      "y_true counts [73 41 27 40 75 99 40 33 20 76 69 25 44 40 40 23 15 18 21 45 22 46 90 20\n",
      " 46 40 40 79 46 18 72 49 51 20 42 32 18 49 21 20 19 19 20 26 19 18 24 47\n",
      " 49 15 20 30 42 41 46 40 20 46 40 16 44 43 20 21 16]\n",
      "Dist=\n",
      "[1 1 1 1 1 1 1 1 1 1 1 1 1 1 1 1 1 1 1 1 1 1 1 1 1 1 1 1 1 1 1 1 1 1 1 1 1\n",
      " 1 1 1 1 1 1 1 1 1 1 1 1 1 1 1 1 1 1 1 1 1 1 1 1 1 1 1 1]\n",
      "0 [0.66414076 0.80581632 0.00953068] Product\n",
      "10 [0.66414076 0.80581632 0.09821353] Product\n",
      "20 [0.66414076 0.80581632 0.185458  ] Product\n",
      "30 [0.66414076 0.80581632 0.27528366] Product\n",
      "40 [0.66414076 0.80581632 0.36138772] Product\n",
      "50 [0.66414076 0.80581632 0.44708709] Product\n",
      "60 [0.66414076 0.80581632 0.532671  ] Product\n",
      "70 [0.66414076 0.80581632 0.61771879] Product\n",
      "80 [0.66414076 0.80581632 0.70531107] Product\n",
      "90 [0.66414076 0.80581632 0.79414485] Product\n",
      "Loading trainer for source domain Real World\n"
     ]
    },
    {
     "name": "stderr",
     "output_type": "stream",
     "text": [
      "Art: 100%|██████████| 1/1 [00:00<00:00,  5.03it/s]\n"
     ]
    },
    {
     "name": "stdout",
     "output_type": "stream",
     "text": [
      "Loading trainer for source domain Clipart\n"
     ]
    },
    {
     "name": "stderr",
     "output_type": "stream",
     "text": [
      "Art: 100%|██████████| 1/1 [00:00<00:00,  4.96it/s]\n"
     ]
    },
    {
     "name": "stdout",
     "output_type": "stream",
     "text": [
      "Loading trainer for source domain Product\n"
     ]
    },
    {
     "name": "stderr",
     "output_type": "stream",
     "text": [
      "Art: 100%|██████████| 1/1 [00:00<00:00,  4.92it/s]\n"
     ]
    },
    {
     "name": "stdout",
     "output_type": "stream",
     "text": [
      "('office-home', 'CPR_A', 1, 0.6751854905193735)\n",
      "Loading trainer for source domain Real World\n",
      "Loading trainer for source domain Real World\n",
      "Loading trainer for source domain Real World\n",
      "Loading trainer for source domain Real World\n",
      "Loading trainer for source domain Real World\n",
      "Loading trainer for source domain Clipart\n",
      "Loading trainer for source domain Clipart\n",
      "Loading trainer for source domain Clipart\n",
      "Loading trainer for source domain Clipart\n",
      "Loading trainer for source domain Clipart\n",
      "Loading trainer for source domain Product\n",
      "Loading trainer for source domain Product\n",
      "Loading trainer for source domain Product\n",
      "Loading trainer for source domain Product\n",
      "Loading trainer for source domain Product\n",
      "multiplier = 4\n",
      "\n",
      "\n",
      "\n",
      "Loading trainer for source domain Real World\n"
     ]
    },
    {
     "name": "stderr",
     "output_type": "stream",
     "text": [
      "Real World: 100%|██████████| 27/27 [00:00<00:00, 141.60it/s]\n"
     ]
    },
    {
     "name": "stdout",
     "output_type": "stream",
     "text": [
      "Loading trainer for source domain Real World\n"
     ]
    },
    {
     "name": "stderr",
     "output_type": "stream",
     "text": [
      "Art: 100%|██████████| 1/1 [00:00<00:00,  5.03it/s]\n"
     ]
    },
    {
     "name": "stdout",
     "output_type": "stream",
     "text": [
      "Source-only accuracy is 0.6430338004946414\n",
      "y__hat counts [ 66  31  21  51  68  76  41  29  22  75  48  68  19  53  44  20  15  13\n",
      "  28  51  21  68  82  30  46  41  11  74  43  22  64  53  32   2  27  21\n",
      "  17  52  30  25  12  39  16  21  26  13  40  49  30  14  14  26  32  32\n",
      "  42  26  16  52  40  20  35  59 129  17  26]\n",
      "y_true counts [73 41 27 40 75 99 40 33 20 76 69 25 44 40 40 23 15 18 21 45 22 46 90 20\n",
      " 46 40 40 79 46 18 72 49 51 20 42 32 18 49 21 20 19 19 20 26 19 18 24 47\n",
      " 49 15 20 30 42 41 46 40 20 46 40 16 44 43 20 21 16]\n",
      "Dist=\n",
      "[1 1 1 1 1 1 1 1 1 1 1 1 1 1 1 1 1 1 1 1 1 1 1 1 1 1 1 1 1 1 1 1 1 1 1 1 1\n",
      " 1 1 1 1 1 1 1 1 1 1 1 1 1 1 1 1 1 1 1 1 1 1 1 1 1 1 1 1]\n",
      "0 [0.00639653 0.         0.        ] Real World\n",
      "10 [0.06906866 0.         0.        ] Real World\n",
      "20 [0.13372445 0.         0.        ] Real World\n",
      "30 [0.19996878 0.         0.        ] Real World\n",
      "40 [0.26634834 0.         0.        ] Real World\n",
      "50 [0.33453841 0.         0.        ] Real World\n",
      "60 [0.39903824 0.         0.        ] Real World\n",
      "70 [0.46592356 0.         0.        ] Real World\n",
      "80 [0.53036114 0.         0.        ] Real World\n",
      "90 [0.59509669 0.         0.        ] Real World\n",
      "Loading trainer for source domain Clipart\n"
     ]
    },
    {
     "name": "stderr",
     "output_type": "stream",
     "text": [
      "Clipart: 100%|██████████| 27/27 [00:00<00:00, 146.67it/s]\n"
     ]
    },
    {
     "name": "stdout",
     "output_type": "stream",
     "text": [
      "Loading trainer for source domain Clipart\n"
     ]
    },
    {
     "name": "stderr",
     "output_type": "stream",
     "text": [
      "Art: 100%|██████████| 1/1 [00:00<00:00,  4.47it/s]\n"
     ]
    },
    {
     "name": "stdout",
     "output_type": "stream",
     "text": [
      "Source-only accuracy is 0.5300906842539159\n",
      "y__hat counts [ 64  17  20  46 101  72  29  16  35  85  43  19  37  45  48  29  17   7\n",
      "  13  31  18  27 121  16  29  29  22  48  47  40  61  35  28   1   8  24\n",
      "  17  47  18  15   9   7  39  37  30  11  28  63  32  20  16  30  98  84\n",
      "  28  42  43  60  53  59  53  15 100  22  22]\n",
      "y_true counts [73 41 27 40 75 99 40 33 20 76 69 25 44 40 40 23 15 18 21 45 22 46 90 20\n",
      " 46 40 40 79 46 18 72 49 51 20 42 32 18 49 21 20 19 19 20 26 19 18 24 47\n",
      " 49 15 20 30 42 41 46 40 20 46 40 16 44 43 20 21 16]\n",
      "Dist=\n",
      "[1 1 1 1 1 1 1 1 1 1 1 1 1 1 1 1 1 1 1 1 1 1 1 1 1 1 1 1 1 1 1 1 1 1 1 1 1\n",
      " 1 1 1 1 1 1 1 1 1 1 1 1 1 1 1 1 1 1 1 1 1 1 1 1 1 1 1 1]\n",
      "0 [0.65591461 0.00724249 0.        ] Clipart\n",
      "10 [0.65591461 0.0866602  0.        ] Clipart\n",
      "20 [0.65591461 0.16526723 0.        ] Clipart\n",
      "30 [0.65591461 0.24295846 0.        ] Clipart\n",
      "40 [0.65591461 0.31736661 0.        ] Clipart\n",
      "50 [0.65591461 0.39800967 0.        ] Clipart\n",
      "60 [0.65591461 0.47354662 0.        ] Clipart\n",
      "70 [0.65591461 0.55386652 0.        ] Clipart\n",
      "80 [0.65591461 0.6315681  0.        ] Clipart\n",
      "90 [0.65591461 0.71223266 0.        ] Clipart\n",
      "Loading trainer for source domain Product\n"
     ]
    },
    {
     "name": "stderr",
     "output_type": "stream",
     "text": [
      "Product: 100%|██████████| 27/27 [00:00<00:00, 134.59it/s]\n"
     ]
    },
    {
     "name": "stdout",
     "output_type": "stream",
     "text": [
      "Loading trainer for source domain Product\n"
     ]
    },
    {
     "name": "stderr",
     "output_type": "stream",
     "text": [
      "Art: 100%|██████████| 1/1 [00:00<00:00,  4.27it/s]\n"
     ]
    },
    {
     "name": "stdout",
     "output_type": "stream",
     "text": [
      "Source-only accuracy is 0.5300906842539159\n",
      "y__hat counts [ 59  70  11  42  52  65  22  32  35  98  62  40  95  27  54  60   9   6\n",
      "  31  16  30  69 127  75  25  24  12  53  42  19  76  34  17  17  13  22\n",
      "  18  52  42   4  10  25  55  34   5  10  55  31  22  12  39  32  32  19\n",
      "  47  35  24  54  40   6  21  15  95  28  23]\n",
      "y_true counts [73 41 27 40 75 99 40 33 20 76 69 25 44 40 40 23 15 18 21 45 22 46 90 20\n",
      " 46 40 40 79 46 18 72 49 51 20 42 32 18 49 21 20 19 19 20 26 19 18 24 47\n",
      " 49 15 20 30 42 41 46 40 20 46 40 16 44 43 20 21 16]\n",
      "Dist=\n",
      "[1 1 1 1 1 1 1 1 1 1 1 1 1 1 1 1 1 1 1 1 1 1 1 1 1 1 1 1 1 1 1 1 1 1 1 1 1\n",
      " 1 1 1 1 1 1 1 1 1 1 1 1 1 1 1 1 1 1 1 1 1 1 1 1 1 1 1 1]\n",
      "0 [0.65591461 0.78398538 0.00942045] Product\n",
      "10 [0.65591461 0.78398538 0.09437499] Product\n",
      "20 [0.65591461 0.78398538 0.17685709] Product\n",
      "30 [0.65591461 0.78398538 0.26100511] Product\n",
      "40 [0.65591461 0.78398538 0.34857132] Product\n",
      "50 [0.65591461 0.78398538 0.43175988] Product\n",
      "60 [0.65591461 0.78398538 0.51775481] Product\n",
      "70 [0.65591461 0.78398538 0.6004151 ] Product\n",
      "80 [0.65591461 0.78398538 0.68360089] Product\n",
      "90 [0.65591461 0.78398538 0.76915998] Product\n",
      "Loading trainer for source domain Real World\n"
     ]
    },
    {
     "name": "stderr",
     "output_type": "stream",
     "text": [
      "Art: 100%|██████████| 1/1 [00:00<00:00,  4.96it/s]\n"
     ]
    },
    {
     "name": "stdout",
     "output_type": "stream",
     "text": [
      "Loading trainer for source domain Clipart\n"
     ]
    },
    {
     "name": "stderr",
     "output_type": "stream",
     "text": [
      "Art: 100%|██████████| 1/1 [00:00<00:00,  5.28it/s]\n"
     ]
    },
    {
     "name": "stdout",
     "output_type": "stream",
     "text": [
      "Loading trainer for source domain Product\n"
     ]
    },
    {
     "name": "stderr",
     "output_type": "stream",
     "text": [
      "Art: 100%|██████████| 1/1 [00:00<00:00,  3.81it/s]\n"
     ]
    },
    {
     "name": "stdout",
     "output_type": "stream",
     "text": [
      "('office-home', 'CPR_A', 2, 0.6702390766694146)\n",
      "Loading trainer for source domain Real World\n",
      "Loading trainer for source domain Real World\n",
      "Loading trainer for source domain Real World\n",
      "Loading trainer for source domain Real World\n",
      "Loading trainer for source domain Real World\n",
      "Loading trainer for source domain Clipart\n",
      "Loading trainer for source domain Clipart\n",
      "Loading trainer for source domain Clipart\n",
      "Loading trainer for source domain Clipart\n",
      "Loading trainer for source domain Clipart\n",
      "Loading trainer for source domain Product\n",
      "Loading trainer for source domain Product\n",
      "Loading trainer for source domain Product\n",
      "Loading trainer for source domain Product\n",
      "Loading trainer for source domain Product\n",
      "multiplier = 4\n",
      "\n",
      "\n",
      "\n",
      "Loading trainer for source domain Real World\n"
     ]
    },
    {
     "name": "stderr",
     "output_type": "stream",
     "text": [
      "Real World: 100%|██████████| 27/27 [00:00<00:00, 128.21it/s]\n"
     ]
    },
    {
     "name": "stdout",
     "output_type": "stream",
     "text": [
      "Loading trainer for source domain Real World\n"
     ]
    },
    {
     "name": "stderr",
     "output_type": "stream",
     "text": [
      "Art: 100%|██████████| 1/1 [00:00<00:00,  3.67it/s]\n"
     ]
    },
    {
     "name": "stdout",
     "output_type": "stream",
     "text": [
      "Source-only accuracy is 0.6327287716405606\n",
      "y__hat counts [ 66  30  23  51  68  67  46  25  24  71  49  73  26  46  42  23  15  18\n",
      "  26  45  30  72  80  36  29  41  12  70  45  22  63  49  32   1  28  21\n",
      "  16  48  28  31  13  51  16  24  28  11  34  40  26  15  12  26  40  27\n",
      "  41  30  14  48  39  12  38  65 133  27  28]\n",
      "y_true counts [73 41 27 40 75 99 40 33 20 76 69 25 44 40 40 23 15 18 21 45 22 46 90 20\n",
      " 46 40 40 79 46 18 72 49 51 20 42 32 18 49 21 20 19 19 20 26 19 18 24 47\n",
      " 49 15 20 30 42 41 46 40 20 46 40 16 44 43 20 21 16]\n",
      "Dist=\n",
      "[1 1 1 1 1 1 1 1 1 1 1 1 1 1 1 1 1 1 1 1 1 1 1 1 1 1 1 1 1 1 1 1 1 1 1 1 1\n",
      " 1 1 1 1 1 1 1 1 1 1 1 1 1 1 1 1 1 1 1 1 1 1 1 1 1 1 1 1]\n",
      "0 [0.00631615 0.         0.        ] Real World\n",
      "10 [0.06931337 0.         0.        ] Real World\n",
      "20 [0.13831188 0.         0.        ] Real World\n",
      "30 [0.20682353 0.         0.        ] Real World\n",
      "40 [0.27267916 0.         0.        ] Real World\n",
      "50 [0.33847023 0.         0.        ] Real World\n",
      "60 [0.40566927 0.         0.        ] Real World\n",
      "70 [0.47024955 0.         0.        ] Real World\n",
      "80 [0.53789091 0.         0.        ] Real World\n",
      "90 [0.60283211 0.         0.        ] Real World\n",
      "Loading trainer for source domain Clipart\n"
     ]
    },
    {
     "name": "stderr",
     "output_type": "stream",
     "text": [
      "Clipart: 100%|██████████| 27/27 [00:00<00:00, 140.94it/s]\n"
     ]
    },
    {
     "name": "stdout",
     "output_type": "stream",
     "text": [
      "Loading trainer for source domain Clipart\n"
     ]
    },
    {
     "name": "stderr",
     "output_type": "stream",
     "text": [
      "Art: 100%|██████████| 1/1 [00:00<00:00,  4.51it/s]\n"
     ]
    },
    {
     "name": "stdout",
     "output_type": "stream",
     "text": [
      "Source-only accuracy is 0.5317394888705689\n",
      "y__hat counts [ 65  21  21  51  99  78  30  16  39  79  40  11  43  46  49  29  23   6\n",
      "  13  23  18  24 115  19  27  27  20  48  51  32  64  44  30   4  15  27\n",
      "  15  42  24  19  11   5  37  42  35  10  22  49  38  22  12  27 121  85\n",
      "  32  46  36  59  45  46  52  19  82  25  21]\n",
      "y_true counts [73 41 27 40 75 99 40 33 20 76 69 25 44 40 40 23 15 18 21 45 22 46 90 20\n",
      " 46 40 40 79 46 18 72 49 51 20 42 32 18 49 21 20 19 19 20 26 19 18 24 47\n",
      " 49 15 20 30 42 41 46 40 20 46 40 16 44 43 20 21 16]\n",
      "Dist=\n",
      "[1 1 1 1 1 1 1 1 1 1 1 1 1 1 1 1 1 1 1 1 1 1 1 1 1 1 1 1 1 1 1 1 1 1 1 1 1\n",
      " 1 1 1 1 1 1 1 1 1 1 1 1 1 1 1 1 1 1 1 1 1 1 1 1 1 1 1 1]\n",
      "0 [0.66272737 0.00674733 0.        ] Clipart\n",
      "10 [0.66272737 0.08461305 0.        ] Clipart\n",
      "20 [0.66272737 0.16427105 0.        ] Clipart\n",
      "30 [0.66272737 0.24336304 0.        ] Clipart\n",
      "40 [0.66272737 0.32225864 0.        ] Clipart\n",
      "50 [0.66272737 0.4030329  0.        ] Clipart\n",
      "60 [0.66272737 0.48283771 0.        ] Clipart\n",
      "70 [0.66272737 0.56201306 0.        ] Clipart\n",
      "80 [0.66272737 0.64012332 0.        ] Clipart\n",
      "90 [0.66272737 0.7230995  0.        ] Clipart\n",
      "Loading trainer for source domain Product\n"
     ]
    },
    {
     "name": "stderr",
     "output_type": "stream",
     "text": [
      "Product: 100%|██████████| 27/27 [00:00<00:00, 138.25it/s]\n"
     ]
    },
    {
     "name": "stdout",
     "output_type": "stream",
     "text": [
      "Loading trainer for source domain Product\n"
     ]
    },
    {
     "name": "stderr",
     "output_type": "stream",
     "text": [
      "Art: 100%|██████████| 1/1 [00:00<00:00,  4.70it/s]\n"
     ]
    },
    {
     "name": "stdout",
     "output_type": "stream",
     "text": [
      "Source-only accuracy is 0.5247320692497939\n",
      "y__hat counts [ 56  69  10  49  57  66  22  29  34 110  61  32  78  20  64  71  14   7\n",
      "  32  22  33  54 132  62  32  23   3  52  38  22  90  29  19  17  12  15\n",
      "  16  51  38  10  17  30  45  33   1   8  53  31  23  14  41  29  46  21\n",
      "  39  34  20  53  28  10  22  21 100  34  22]\n",
      "y_true counts [73 41 27 40 75 99 40 33 20 76 69 25 44 40 40 23 15 18 21 45 22 46 90 20\n",
      " 46 40 40 79 46 18 72 49 51 20 42 32 18 49 21 20 19 19 20 26 19 18 24 47\n",
      " 49 15 20 30 42 41 46 40 20 46 40 16 44 43 20 21 16]\n",
      "Dist=\n",
      "[1 1 1 1 1 1 1 1 1 1 1 1 1 1 1 1 1 1 1 1 1 1 1 1 1 1 1 1 1 1 1 1 1 1 1 1 1\n",
      " 1 1 1 1 1 1 1 1 1 1 1 1 1 1 1 1 1 1 1 1 1 1 1 1 1 1 1 1]\n",
      "0 [0.66272737 0.79139958 0.00902679] Product\n",
      "10 [0.66272737 0.79139958 0.09408463] Product\n",
      "20 [0.66272737 0.79139958 0.17785774] Product\n",
      "30 [0.66272737 0.79139958 0.26279845] Product\n",
      "40 [0.66272737 0.79139958 0.34670425] Product\n",
      "50 [0.66272737 0.79139958 0.43359824] Product\n",
      "60 [0.66272737 0.79139958 0.51652481] Product\n",
      "70 [0.66272737 0.79139958 0.60638098] Product\n",
      "80 [0.66272737 0.79139958 0.68919309] Product\n",
      "90 [0.66272737 0.79139958 0.77434204] Product\n",
      "Loading trainer for source domain Real World\n"
     ]
    },
    {
     "name": "stderr",
     "output_type": "stream",
     "text": [
      "Art: 100%|██████████| 1/1 [00:00<00:00,  4.99it/s]\n"
     ]
    },
    {
     "name": "stdout",
     "output_type": "stream",
     "text": [
      "Loading trainer for source domain Clipart\n"
     ]
    },
    {
     "name": "stderr",
     "output_type": "stream",
     "text": [
      "Art: 100%|██████████| 1/1 [00:00<00:00,  5.13it/s]\n"
     ]
    },
    {
     "name": "stdout",
     "output_type": "stream",
     "text": [
      "Loading trainer for source domain Product\n"
     ]
    },
    {
     "name": "stderr",
     "output_type": "stream",
     "text": [
      "Art: 100%|██████████| 1/1 [00:00<00:00,  4.96it/s]\n"
     ]
    },
    {
     "name": "stdout",
     "output_type": "stream",
     "text": [
      "('office-home', 'CPR_A', 3, 0.6698268755152514)\n",
      "Loading trainer for source domain Real World\n",
      "Loading trainer for source domain Real World\n",
      "Loading trainer for source domain Real World\n",
      "Loading trainer for source domain Real World\n",
      "Loading trainer for source domain Real World\n",
      "Loading trainer for source domain Clipart\n",
      "Loading trainer for source domain Clipart\n",
      "Loading trainer for source domain Clipart\n",
      "Loading trainer for source domain Clipart\n",
      "Loading trainer for source domain Clipart\n",
      "Loading trainer for source domain Product\n",
      "Loading trainer for source domain Product\n",
      "Loading trainer for source domain Product\n",
      "Loading trainer for source domain Product\n",
      "Loading trainer for source domain Product\n",
      "multiplier = 4\n",
      "\n",
      "\n",
      "\n",
      "Loading trainer for source domain Real World\n"
     ]
    },
    {
     "name": "stderr",
     "output_type": "stream",
     "text": [
      "Real World: 100%|██████████| 27/27 [00:00<00:00, 132.22it/s]\n"
     ]
    },
    {
     "name": "stdout",
     "output_type": "stream",
     "text": [
      "Loading trainer for source domain Real World\n"
     ]
    },
    {
     "name": "stderr",
     "output_type": "stream",
     "text": [
      "Art: 100%|██████████| 1/1 [00:00<00:00,  4.87it/s]\n"
     ]
    },
    {
     "name": "stdout",
     "output_type": "stream",
     "text": [
      "Source-only accuracy is 0.6434460016488046\n",
      "y__hat counts [ 71  34  26  55  65  74  46  29  23  74  55  66  23  54  41  22  15  17\n",
      "  23  43  29  68  81  42  29  37  10  69  39  23  67  47  31   2  28  23\n",
      "  16  51  20  21  12  45  17  20  31  10  34  40  28  14  14  27  39  35\n",
      "  42  23  16  58  36  20  38  57 125  25  31]\n",
      "y_true counts [73 41 27 40 75 99 40 33 20 76 69 25 44 40 40 23 15 18 21 45 22 46 90 20\n",
      " 46 40 40 79 46 18 72 49 51 20 42 32 18 49 21 20 19 19 20 26 19 18 24 47\n",
      " 49 15 20 30 42 41 46 40 20 46 40 16 44 43 20 21 16]\n",
      "Dist=\n",
      "[1 1 1 1 1 1 1 1 1 1 1 1 1 1 1 1 1 1 1 1 1 1 1 1 1 1 1 1 1 1 1 1 1 1 1 1 1\n",
      " 1 1 1 1 1 1 1 1 1 1 1 1 1 1 1 1 1 1 1 1 1 1 1 1 1 1 1 1]\n",
      "0 [0.00689915 0.         0.        ] Real World\n",
      "10 [0.07132425 0.         0.        ] Real World\n",
      "20 [0.13964372 0.         0.        ] Real World\n",
      "30 [0.20549187 0.         0.        ] Real World\n",
      "40 [0.27143117 0.         0.        ] Real World\n",
      "50 [0.33562125 0.         0.        ] Real World\n",
      "60 [0.39941073 0.         0.        ] Real World\n",
      "70 [0.46236065 0.         0.        ] Real World\n",
      "80 [0.52677169 0.         0.        ] Real World\n",
      "90 [0.58935713 0.         0.        ] Real World\n",
      "Loading trainer for source domain Clipart\n"
     ]
    },
    {
     "name": "stderr",
     "output_type": "stream",
     "text": [
      "Clipart: 100%|██████████| 27/27 [00:00<00:00, 138.82it/s]\n"
     ]
    },
    {
     "name": "stdout",
     "output_type": "stream",
     "text": [
      "Loading trainer for source domain Clipart\n"
     ]
    },
    {
     "name": "stderr",
     "output_type": "stream",
     "text": [
      "Art: 100%|██████████| 1/1 [00:00<00:00,  4.60it/s]\n"
     ]
    },
    {
     "name": "stdout",
     "output_type": "stream",
     "text": [
      "Source-only accuracy is 0.5288540807914263\n",
      "y__hat counts [ 66  18  26  62 107  59  42  15  41  81  44  11  45  44  41  45  22   7\n",
      "  15  31  15  24 127  22  26  32  27  40  51  31  65  39  32   1  13  23\n",
      "  12  49  30  13   8   7  44  38  18  12  14  49  35  19  22  26  92  56\n",
      "  33  47  51  57  46  54  47  18  97  20  22]\n",
      "y_true counts [73 41 27 40 75 99 40 33 20 76 69 25 44 40 40 23 15 18 21 45 22 46 90 20\n",
      " 46 40 40 79 46 18 72 49 51 20 42 32 18 49 21 20 19 19 20 26 19 18 24 47\n",
      " 49 15 20 30 42 41 46 40 20 46 40 16 44 43 20 21 16]\n",
      "Dist=\n",
      "[1 1 1 1 1 1 1 1 1 1 1 1 1 1 1 1 1 1 1 1 1 1 1 1 1 1 1 1 1 1 1 1 1 1 1 1 1\n",
      " 1 1 1 1 1 1 1 1 1 1 1 1 1 1 1 1 1 1 1 1 1 1 1 1 1 1 1 1]\n",
      "0 [0.64595947 0.00738707 0.        ] Clipart\n",
      "10 [0.64595947 0.08785335 0.        ] Clipart\n",
      "20 [0.64595947 0.16849444 0.        ] Clipart\n",
      "30 [0.64595947 0.24814448 0.        ] Clipart\n",
      "40 [0.64595947 0.3317386  0.        ] Clipart\n",
      "50 [0.64595947 0.41210124 0.        ] Clipart\n",
      "60 [0.64595947 0.48916267 0.        ] Clipart\n",
      "70 [0.64595947 0.5697444  0.        ] Clipart\n",
      "80 [0.64595947 0.64895691 0.        ] Clipart\n",
      "90 [0.64595947 0.73019342 0.        ] Clipart\n",
      "Loading trainer for source domain Product\n"
     ]
    },
    {
     "name": "stderr",
     "output_type": "stream",
     "text": [
      "Product: 100%|██████████| 27/27 [00:00<00:00, 139.16it/s]\n"
     ]
    },
    {
     "name": "stdout",
     "output_type": "stream",
     "text": [
      "Loading trainer for source domain Product\n"
     ]
    },
    {
     "name": "stderr",
     "output_type": "stream",
     "text": [
      "Art: 100%|██████████| 1/1 [00:00<00:00,  3.54it/s]\n"
     ]
    },
    {
     "name": "stdout",
     "output_type": "stream",
     "text": [
      "Source-only accuracy is 0.5280296784830998\n",
      "y__hat counts [ 61  79  13  58  60  54  23  27  44 100  46  25  75  26  51  81   9   5\n",
      "  32  13  35  57 136  58  26  24  12  61  39  23  90  23  17  14  23  17\n",
      "  18  52  44  10  14  31  36  35   5  10  50  37  22  14  34  31  46  22\n",
      "  43  35  18  55  39   7  28  23  86  24  20]\n",
      "y_true counts [73 41 27 40 75 99 40 33 20 76 69 25 44 40 40 23 15 18 21 45 22 46 90 20\n",
      " 46 40 40 79 46 18 72 49 51 20 42 32 18 49 21 20 19 19 20 26 19 18 24 47\n",
      " 49 15 20 30 42 41 46 40 20 46 40 16 44 43 20 21 16]\n",
      "Dist=\n",
      "[1 1 1 1 1 1 1 1 1 1 1 1 1 1 1 1 1 1 1 1 1 1 1 1 1 1 1 1 1 1 1 1 1 1 1 1 1\n",
      " 1 1 1 1 1 1 1 1 1 1 1 1 1 1 1 1 1 1 1 1 1 1 1 1 1 1 1 1]\n",
      "0 [0.64595947 0.80250785 0.00733555] Product\n",
      "10 [0.64595947 0.80250785 0.09798317] Product\n",
      "20 [0.64595947 0.80250785 0.18588653] Product\n",
      "30 [0.64595947 0.80250785 0.27289386] Product\n",
      "40 [0.64595947 0.80250785 0.36168649] Product\n",
      "50 [0.64595947 0.80250785 0.45252947] Product\n",
      "60 [0.64595947 0.80250785 0.54042062] Product\n",
      "70 [0.64595947 0.80250785 0.62652042] Product\n",
      "80 [0.64595947 0.80250785 0.71356871] Product\n",
      "90 [0.64595947 0.80250785 0.79903688] Product\n",
      "Loading trainer for source domain Real World\n"
     ]
    },
    {
     "name": "stderr",
     "output_type": "stream",
     "text": [
      "Art: 100%|██████████| 1/1 [00:00<00:00,  4.87it/s]\n"
     ]
    },
    {
     "name": "stdout",
     "output_type": "stream",
     "text": [
      "Loading trainer for source domain Clipart\n"
     ]
    },
    {
     "name": "stderr",
     "output_type": "stream",
     "text": [
      "Art: 100%|██████████| 1/1 [00:00<00:00,  4.94it/s]\n"
     ]
    },
    {
     "name": "stdout",
     "output_type": "stream",
     "text": [
      "Loading trainer for source domain Product\n"
     ]
    },
    {
     "name": "stderr",
     "output_type": "stream",
     "text": [
      "Art: 100%|██████████| 1/1 [00:00<00:00,  5.41it/s]\n"
     ]
    },
    {
     "name": "stdout",
     "output_type": "stream",
     "text": [
      "('office-home', 'CPR_A', 4, 0.6714756801319044)\n"
     ]
    }
   ],
   "source": [
    "res_store = []\n",
    "\n",
    "for dataset in ['office-31', 'image-clef', 'office-caltech', 'office-home']:\n",
    "    tasks = config.settings['expt_dict'][dataset].keys()\n",
    "    \n",
    "    print(dataset)\n",
    "    \n",
    "    \n",
    "    for task in tasks:\n",
    "        print(task)\n",
    "\n",
    "        for exp in range(5):\n",
    "            change_config(dataset, task, exp)\n",
    "            \n",
    "            w_hat_w2 = learn_w_w2()\n",
    "            res_store.append((dataset, task, exp, get_target_accuracy(w_hat_w2, 'max_iter')[0]))\n",
    "            print(res_store[-1])"
   ]
  },
  {
   "cell_type": "code",
   "execution_count": 13,
   "metadata": {},
   "outputs": [
    {
     "name": "stdout",
     "output_type": "stream",
     "text": [
      "office-31 AD_W 94.3 0.35\n",
      "office-31 DW_A 73.0 0.23\n",
      "office-31 AW_D 97.5 0.43\n",
      "office-31 88.3\n",
      "\n",
      "image-clef PC_I 91.2 0.44\n",
      "image-clef IC_P 79.0 0.17\n",
      "image-clef IP_C 95.2 0.45\n",
      "image-clef 88.4\n",
      "\n",
      "office-caltech ACD_W 97.9 0.62\n",
      "office-caltech ADW_C 91.3 0.04\n",
      "office-caltech ACW_D 96.9 0.23\n",
      "office-caltech CDW_A 95.4 0.04\n",
      "office-caltech 95.4\n",
      "\n",
      "office-home ACP_R 82.3 0.05\n",
      "office-home ACR_P 80.5 0.04\n",
      "office-home APR_C 57.8 0.03\n",
      "office-home CPR_A 67.1 0.04\n",
      "office-home 71.9\n",
      "\n"
     ]
    }
   ],
   "source": [
    "for dataset in ['office-31', 'image-clef', 'office-caltech', 'office-home']:\n",
    "    tasks = config.settings['expt_dict'][dataset].keys()\n",
    "    \n",
    "    dataset_avg = []\n",
    "    \n",
    "    for t in tasks:\n",
    "#         print(dataset, t)\n",
    "        avg = []\n",
    "        for r in res_store:\n",
    "            if r[0] == dataset and r[1] == t:\n",
    "                dataset_avg.append(r[3] * 100)\n",
    "                avg.append(r[3] * 100)\n",
    "#         avg = np.asarray(avg)\n",
    "        \n",
    "        print(dataset, t, np.mean(avg).round(1), np.var(avg).round(2))\n",
    "    print(dataset, np.mean(dataset_avg).round(1))\n",
    "    print()"
   ]
  },
  {
   "cell_type": "code",
   "execution_count": 28,
   "metadata": {},
   "outputs": [],
   "source": [
    "# for r in res_store:\n",
    "#     print(r)\n",
    "    \n",
    "# Writing to file\n",
    "with open(\"../../run_benchmarks/updated_w2_scores.txt\", \"w\") as save_file:\n",
    "    for dataset in ['office-31', 'image-clef', 'office-caltech', 'office-home']:\n",
    "        tasks = config.settings['expt_dict'][dataset].keys()\n",
    "\n",
    "        dataset_avg = []\n",
    "\n",
    "        for t in tasks:\n",
    "    #         print(dataset, t)\n",
    "            avg = []\n",
    "            for r in res_store:\n",
    "                if r[0] == dataset and r[1] == t:\n",
    "                    dataset_avg.append(r[3] * 100)\n",
    "                    avg.append(r[3] * 100)\n",
    "    #         avg = np.asarray(avg)\n",
    "\n",
    "            save_file.write(\"{} {} {} {}\\n\".format(dataset, t, np.mean(avg).round(1), np.var(avg).round(2)))\n",
    "        save_file.write(\"{} {}\\n\".format(dataset, np.mean(dataset_avg).round(1)))\n",
    "        save_file.write(\"\\n\")\n",
    "    \n",
    "    # Writing data to a file\n",
    "    for r in res_store:\n",
    "        save_file.write(str(r) + \"\\n\")"
   ]
  },
  {
   "cell_type": "code",
   "execution_count": null,
   "metadata": {},
   "outputs": [],
   "source": []
  }
 ],
 "metadata": {
  "kernelspec": {
   "display_name": "Python 3",
   "language": "python",
   "name": "python3"
  },
  "language_info": {
   "codemirror_mode": {
    "name": "ipython",
    "version": 3
   },
   "file_extension": ".py",
   "mimetype": "text/x-python",
   "name": "python",
   "nbconvert_exporter": "python",
   "pygments_lexer": "ipython3",
   "version": "3.8.5"
  }
 },
 "nbformat": 4,
 "nbformat_minor": 4
}
