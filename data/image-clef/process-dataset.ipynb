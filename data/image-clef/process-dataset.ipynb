{
 "cells": [
  {
   "cell_type": "code",
   "execution_count": 1,
   "metadata": {},
   "outputs": [],
   "source": [
    "# Parse the dataset from the original folder into 'c', 'i' and 'p' folders with sub-folders for each class,\n",
    "# similar to the office datasets. This standaradization helps with pytorch inputation."
   ]
  },
  {
   "cell_type": "code",
   "execution_count": 2,
   "metadata": {},
   "outputs": [],
   "source": [
    "import numpy as np\n",
    "import os"
   ]
  },
  {
   "cell_type": "code",
   "execution_count": 23,
   "metadata": {},
   "outputs": [],
   "source": [
    "domains = ['c', 'i', 'p']\n",
    "for d in domains:\n",
    "    if not os.path.exists(\"./\" + d):\n",
    "        os.mkdir(\"./\" + d)\n",
    "\n",
    "list_folder = \"./original/list/\"\n",
    "\n",
    "class_dict = {\n",
    "    0:'airplane',\n",
    "    1:'bicycle',\n",
    "    2:'bird',\n",
    "    3:'boat',\n",
    "    4:'bottle',\n",
    "    5:'bus',\n",
    "    6:'car',\n",
    "    7:'dog',\n",
    "    8:'horse',\n",
    "    9:'monitor',\n",
    "    10:'motorcycle',\n",
    "    11:'person',\n",
    "}\n",
    "\n",
    "for d in domains:\n",
    "    for c in class_dict.values():\n",
    "        if not os.path.exists(\"./{}/{}\".format(d, c)):\n",
    "            os.mkdir(\"./{}/{}\".format(d, c))"
   ]
  },
  {
   "cell_type": "code",
   "execution_count": 27,
   "metadata": {},
   "outputs": [],
   "source": [
    "for d in domains:\n",
    "    list_file = list_folder + \"{}List.txt\".format(d)\n",
    "    \n",
    "    with open(list_file) as f:\n",
    "        content = f.readlines()\n",
    "        content = [x.strip() for x in content]\n",
    "        \n",
    "    for curr_im in content:\n",
    "        curr_im = curr_im.split(\" \")\n",
    "        \n",
    "        c = class_dict[int(curr_im[1])]\n",
    "        im_file = curr_im[0].rsplit(\"/\")[-1]\n",
    "        \n",
    "        os.system(\"cp ./original/{}/{} ./{}/{}/{}\".format(d, im_file, d, c, im_file))"
   ]
  },
  {
   "cell_type": "code",
   "execution_count": null,
   "metadata": {},
   "outputs": [],
   "source": []
  }
 ],
 "metadata": {
  "kernelspec": {
   "display_name": "Python 3",
   "language": "python",
   "name": "python3"
  },
  "language_info": {
   "codemirror_mode": {
    "name": "ipython",
    "version": 3
   },
   "file_extension": ".py",
   "mimetype": "text/x-python",
   "name": "python",
   "nbconvert_exporter": "python",
   "pygments_lexer": "ipython3",
   "version": "3.8.5"
  }
 },
 "nbformat": 4,
 "nbformat_minor": 4
}
